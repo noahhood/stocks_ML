{
 "cells": [
  {
   "cell_type": "code",
   "execution_count": 1,
   "id": "0",
   "metadata": {},
   "outputs": [
    {
     "name": "stderr",
     "output_type": "stream",
     "text": [
      "2024-07-22 07:25:03.506657: I tensorflow/core/platform/cpu_feature_guard.cc:182] This TensorFlow binary is optimized to use available CPU instructions in performance-critical operations.\n",
      "To enable the following instructions: AVX2 FMA, in other operations, rebuild TensorFlow with the appropriate compiler flags.\n"
     ]
    }
   ],
   "source": [
    "from tqdm import tqdm\n",
    "import tensorflow as tf\n",
    "from tensorflow.keras.models import Sequential\n",
    "from tensorflow.keras.layers import LSTM, Flatten, Dense, Dropout, Conv1D, MaxPooling1D\n",
    "from sklearn.utils.class_weight import compute_class_weight\n",
    "import numpy as np\n",
    "import pandas as pd\n",
    "import yfinance as yf\n",
    "from datetime import datetime, timedelta\n",
    "import random\n",
    "from matplotlib import pyplot as plt\n",
    "import matplotlib as mpl"
   ]
  },
  {
   "cell_type": "code",
   "execution_count": 2,
   "id": "f4cf5930-0f03-41e4-ab7f-6a336d286295",
   "metadata": {},
   "outputs": [
    {
     "data": {
      "text/plain": [
       "['/Users/noahhood/Desktop/stonks',\n",
       " '/Users/noahhood/miniforge3/lib/python39.zip',\n",
       " '/Users/noahhood/miniforge3/lib/python3.9',\n",
       " '/Users/noahhood/miniforge3/lib/python3.9/lib-dynload',\n",
       " '',\n",
       " '/Users/noahhood/miniforge3/lib/python3.9/site-packages',\n",
       " '/Users/noahhood/miniforge3/lib/python3.9/site-packages/IPython/extensions',\n",
       " '/Users/noahhood/.ipython']"
      ]
     },
     "execution_count": 2,
     "metadata": {},
     "output_type": "execute_result"
    }
   ],
   "source": [
    "import sys\n",
    "sys.path"
   ]
  },
  {
   "cell_type": "code",
   "execution_count": 3,
   "id": "1",
   "metadata": {},
   "outputs": [
    {
     "name": "stdout",
     "output_type": "stream",
     "text": [
      "     Symbol                                               Name Last Sale  \\\n",
      "0         A             Agilent Technologies Inc. Common Stock   $131.16   \n",
      "1        AA                    Alcoa Corporation Common Stock     $31.49   \n",
      "2      AACG   ATA Creativity Global American Depositary Shares     $1.04   \n",
      "3      AACI            Armada Acquisition Corp. I Common Stock    $10.83   \n",
      "4     AACIW                 Armada Acquisition Corp. I Warrant    $0.025   \n",
      "...     ...                                                ...       ...   \n",
      "7259   ZVRA               Zevra Therapeutics Inc. Common Stock     $6.42   \n",
      "7260   ZVSA             ZyVersa Therapeutics Inc. Common Stock   $0.9181   \n",
      "7261    ZWS  Zurn Elkay Water Solutions Corporation Common ...    $28.18   \n",
      "7262   ZYME                        Zymeworks Inc. Common Stock    $10.67   \n",
      "7263   ZYXI                            Zynex Inc. Common Stock    $10.61   \n",
      "\n",
      "      Net Change % Change    Market Cap        Country  IPO Year   Volume  \\\n",
      "0        -7.5900   -5.47%  3.843042e+10  United States    1999.0  2074460   \n",
      "1        -1.8200  -5.464%  5.620080e+09  United States    2016.0  8244681   \n",
      "2         0.0659   6.765%  3.288706e+07          China    2008.0     2460   \n",
      "3         0.0100   0.092%  0.000000e+00  United States    2021.0    13059   \n",
      "4         0.0070  38.889%  0.000000e+00  United States    2021.0     3968   \n",
      "...          ...      ...           ...            ...       ...      ...   \n",
      "7259     -0.4100  -6.003%  2.325206e+08  United States       NaN   439083   \n",
      "7260      0.0381    4.33%  1.141471e+06  United States    2022.0   452493   \n",
      "7261     -0.9300  -3.195%  4.869801e+09  United States    2012.0   960091   \n",
      "7262      0.2900   2.794%  7.469212e+08  United States       NaN   764717   \n",
      "7263     -0.2800  -2.571%  3.597191e+08  United States       NaN   439243   \n",
      "\n",
      "           Sector                                           Industry  \n",
      "0     Industrials                                Electrical Products  \n",
      "1     Industrials                                           Aluminum  \n",
      "2     Real Estate                            Other Consumer Services  \n",
      "3         Finance                                       Blank Checks  \n",
      "4         Finance                                       Blank Checks  \n",
      "...           ...                                                ...  \n",
      "7259  Health Care         Biotechnology: Pharmaceutical Preparations  \n",
      "7260  Health Care         Biotechnology: Pharmaceutical Preparations  \n",
      "7261  Industrials                    Industrial Machinery/Components  \n",
      "7262  Health Care         Biotechnology: Pharmaceutical Preparations  \n",
      "7263  Health Care  Biotechnology: Electromedical & Electrotherape...  \n",
      "\n",
      "[7264 rows x 11 columns]\n"
     ]
    }
   ],
   "source": [
    "# Replace 'your_file.csv' with the actual filename\n",
    "filename = 'nasdaq_screener_1704330957680.csv'\n",
    "\n",
    "# Load the CSV file using pandas\n",
    "stocks = pd.read_csv(filename)\n",
    "\n",
    "# Print the loaded data\n",
    "print(stocks)\n"
   ]
  },
  {
   "cell_type": "code",
   "execution_count": 4,
   "id": "2",
   "metadata": {},
   "outputs": [
    {
     "data": {
      "text/plain": [
       "7"
      ]
     },
     "execution_count": 4,
     "metadata": {},
     "output_type": "execute_result"
    }
   ],
   "source": [
    "datetime.now().hour"
   ]
  },
  {
   "cell_type": "code",
   "execution_count": 5,
   "id": "3",
   "metadata": {},
   "outputs": [],
   "source": [
    "def get_weekday_dates(start_date, end_date):\n",
    "    weekdays = []\n",
    "    current_date = start_date\n",
    "    while current_date <= end_date:\n",
    "        if current_date.weekday() < 5:  # Monday to Friday (0 to 4)\n",
    "            weekdays.append(current_date.strftime(\"%Y-%m-%d\"))\n",
    "        current_date += timedelta(days=1)\n",
    "    return weekdays"
   ]
  },
  {
   "cell_type": "code",
   "execution_count": 6,
   "id": "4",
   "metadata": {},
   "outputs": [],
   "source": [
    "def get_weekday_dates_after(start_date, end_date):\n",
    "    weekdays = []\n",
    "    current_date = start_date\n",
    "    while current_date <= end_date:\n",
    "        if current_date.weekday() < 5:  # Monday to Friday (0 to 4)\n",
    "            weekdays.append((current_date+timedelta(days=1)).strftime(\"%Y-%m-%d\"))\n",
    "        current_date += timedelta(days=1)\n",
    "    return weekdays"
   ]
  },
  {
   "cell_type": "code",
   "execution_count": 7,
   "id": "5",
   "metadata": {},
   "outputs": [],
   "source": [
    "start_date = datetime(2024, 5, 15)  # Start date\n",
    "end_date = datetime(2024, 6, 30)    # End date\n",
    "weekday_dates = get_weekday_dates(start_date, end_date)\n",
    "weekday_dates_after = get_weekday_dates_after(start_date, end_date)\n"
   ]
  },
  {
   "cell_type": "code",
   "execution_count": 8,
   "id": "6",
   "metadata": {},
   "outputs": [
    {
     "data": {
      "text/plain": [
       "(33, 33)"
      ]
     },
     "execution_count": 8,
     "metadata": {},
     "output_type": "execute_result"
    }
   ],
   "source": [
    "len(weekday_dates), len(weekday_dates_after)"
   ]
  },
  {
   "cell_type": "code",
   "execution_count": 9,
   "id": "8",
   "metadata": {},
   "outputs": [
    {
     "name": "stdout",
     "output_type": "stream",
     "text": [
      "[*********************100%%**********************]  1 of 1 completed"
     ]
    },
    {
     "name": "stderr",
     "output_type": "stream",
     "text": [
      "\n",
      "1 Failed download:\n",
      "['AACG']: Exception('%ticker%: 15m data not available for startTime=1715832000 and endTime=1715918400. The requested range must be within the last 60 days.')\n"
     ]
    },
    {
     "name": "stdout",
     "output_type": "stream",
     "text": [
      "\n"
     ]
    },
    {
     "data": {
      "text/plain": [
       "(Empty DataFrame\n",
       " Columns: [Open, High, Low, Close, Adj Close, Volume]\n",
       " Index: [],\n",
       " ['Open', 'High', 'Low', 'Close', 'Adj Close', 'Volume'])"
      ]
     },
     "execution_count": 9,
     "metadata": {},
     "output_type": "execute_result"
    }
   ],
   "source": [
    "test = yf.download(stocks['Symbol'].iloc[2], start=weekday_dates[1], end=weekday_dates[2], interval='15m')\n",
    "dtypes = [name for name in test]\n",
    "test, dtypes"
   ]
  },
  {
   "cell_type": "code",
   "execution_count": 10,
   "id": "734b0d96-f455-4cc3-b418-27786c37d658",
   "metadata": {},
   "outputs": [
    {
     "name": "stderr",
     "output_type": "stream",
     "text": [
      "  0%|          | 0/3 [00:00<?, ?it/s]"
     ]
    },
    {
     "name": "stdout",
     "output_type": "stream",
     "text": [
      "[****                   9%%                      ]  166 of 1871 completed"
     ]
    },
    {
     "name": "stderr",
     "output_type": "stream",
     "text": [
      "Failed to get ticker 'BRK/B' reason: Expecting value: line 1 column 1 (char 0)\n"
     ]
    },
    {
     "name": "stdout",
     "output_type": "stream",
     "text": [
      "[***********           23%%                      ]  433 of 1871 completed"
     ]
    },
    {
     "name": "stderr",
     "output_type": "stream",
     "text": [
      "Failed to get ticker 'BRK/A' reason: Expecting value: line 1 column 1 (char 0)\n"
     ]
    },
    {
     "name": "stdout",
     "output_type": "stream",
     "text": [
      "[*************         27%%                      ]  499 of 1871 completed"
     ]
    },
    {
     "name": "stderr",
     "output_type": "stream",
     "text": [
      "Failed to get ticker 'CRD/B' reason: Expecting value: line 1 column 1 (char 0)\n"
     ]
    },
    {
     "name": "stdout",
     "output_type": "stream",
     "text": [
      "[**********************54%%                      ]  1006 of 1871 completed"
     ]
    },
    {
     "name": "stderr",
     "output_type": "stream",
     "text": [
      "Failed to get ticker 'CRD/A' reason: Expecting value: line 1 column 1 (char 0)\n"
     ]
    },
    {
     "name": "stdout",
     "output_type": "stream",
     "text": [
      "[**********************59%%**                    ]  1097 of 1871 completed"
     ]
    },
    {
     "name": "stderr",
     "output_type": "stream",
     "text": [
      "Failed to get ticker 'BF/A' reason: Expecting value: line 1 column 1 (char 0)\n"
     ]
    },
    {
     "name": "stdout",
     "output_type": "stream",
     "text": [
      "[**********************69%%*******               ]  1283 of 1871 completed"
     ]
    },
    {
     "name": "stderr",
     "output_type": "stream",
     "text": [
      "Failed to get ticker 'BF/B' reason: Expecting value: line 1 column 1 (char 0)\n"
     ]
    },
    {
     "name": "stdout",
     "output_type": "stream",
     "text": [
      "[**********************81%%*************         ]  1509 of 1871 completed"
     ]
    },
    {
     "name": "stderr",
     "output_type": "stream",
     "text": [
      "Failed to get ticker 'BIO/B' reason: Expecting value: line 1 column 1 (char 0)\n"
     ]
    },
    {
     "name": "stdout",
     "output_type": "stream",
     "text": [
      "[*********************100%%**********************]  1871 of 1871 completed"
     ]
    },
    {
     "name": "stderr",
     "output_type": "stream",
     "text": [
      "\n",
      "1871 Failed downloads:\n",
      "['AGYS', 'CHCO', 'ERNA', 'CRIS', 'BKYI', 'AVXL', 'APPS', 'EW', 'CWST', 'AVNW', 'ATNFW', 'AAOI', 'ARMP', 'AEP', 'ECCV', 'CSL', 'BRACR', 'ATLX', 'ANSCU', 'BTA', 'BEEM', 'CRMD', 'AWRE', 'CNFRZ', 'CTRE', 'ACI', 'AWI', 'AMBA', 'ENS', 'BDJ', 'CHX', 'ACTG', 'BPOPM', 'DDT', 'CETXP', 'ENSV', 'CONXU', 'AOGO', 'EXPE', 'AZO', 'CFBK', 'BHFAO', 'BURL', 'CAT', 'AONCW', 'EVA', 'ARE', 'CRDF', 'CRVS', 'ADUS', 'ELYM', 'ALT', 'CHCI', 'COUR', 'ADBE', 'BFZ', 'EMO', 'ATMV', 'BR', 'DZSI', 'CDZI', 'ADT', 'DXYN', 'CBU', 'CR', 'BHFAL', 'BACK', 'EMCG', 'ACR', 'EME', 'ETON', 'BAFN', 'EVGOW', 'ATLCP', 'BKT', 'CABA', 'BHAC', 'AMRK', 'ESCA', 'ETY', 'EAST', 'CASI', 'AMCX', 'AL', 'AVNT', 'CWT', 'ARRW', 'EB', 'AIN', 'ADTHW', 'BELFA', 'DC', 'CARA', 'EQT', 'BIOR', 'EDR', 'DSGN', 'BHK', 'ESLA', 'CDXS', 'ARC', 'CNK', 'ANGO', 'BAERW', 'COFS', 'CTCX', 'BOCN', 'AE', 'AIZN', 'CXH', 'AMR', 'ANIX', 'DDS', 'BKU', 'DAKT', 'ENVX', 'DEA', 'BOF', 'CDW', 'AIRC', 'A', 'BX', 'COLM', 'DNLI', 'ACXP', 'CNDT', 'CXDO', 'ENPH', 'BRTX', 'ASUR', 'BOWL', 'EQR', 'AVB', 'DIOD', 'ALLR', 'DNB', 'AITRU', 'EHTH', 'AVIR', 'CNOBP', 'EDBLW', 'AFRM', 'AMS', 'CSSEN', 'BCLI', 'CSSEP', 'ASIX', 'BLEU', 'AVTX', 'EIX', 'ARES', 'DBGIW', 'ARTNA', 'CSLMW', 'CALB', 'BDN', 'ATEX', 'ALOT', 'AMP', 'ATRI', 'ARKR', 'CW', 'CKX', 'CMCSA', 'DCPH', 'COMSP', 'CVNA', 'AAMC', 'ASNS', 'AMH', 'BIO', 'ATRC', 'DVA', 'FAT', 'BYFC', 'CYCC', 'DMO', 'CEADW', 'BME', 'ALB', 'AQNB', 'EHC', 'CINF', 'DYNT', 'ANDE', 'ETG', 'ASPI', 'CMA', 'CHWY', 'CMPX', 'AYI', 'DBRG', 'CLH', 'DFLI', 'AQU', 'AEF', 'ASTC', 'CAF', 'CVGW', 'CTRN', 'BCO', 'ASTR', 'CARM', 'DNP', 'DJCO', 'ADSK', 'CBRE', 'AINC', 'ALX', 'EBF', 'EP', 'BFC', 'CHSCP', 'BATL', 'APYX', 'BBY', 'ALG', 'ADP', 'AZPN', 'ELVN', 'CHH', 'CAMP', 'ESSA', 'AWH', 'CBH', 'BCV', 'AEFC', 'CEAD', 'AFCG', 'ETW', 'CPS', 'ARHS', 'BHB', 'CBRL', 'BREZR', 'AKBA', 'EHI', 'DGX', 'AWX', 'BERY', 'ACLX', 'ALSN', 'ECDAW', 'CMP', 'BLEUR', 'AIV', 'BSM', 'DBL', 'CEV', 'ABLLL', 'CDIO', 'APLMW', 'CLDT', 'BYD', 'BREZ', 'CHSCO', 'DRMA', 'AEYE', 'EGRX', 'AVK', 'BTCS', 'EOI', 'BTZ', 'ETRN', 'EVR', 'AGNCP', 'CENTA', 'CATX', 'AIM', 'BCDAW', 'AFIB', 'ACONW', 'BALY', 'ACVA', 'CMSA', 'EU', 'BAYAU', 'BRC', 'DYN', 'AHCO', 'ACAD', 'ENVA', 'BSX', 'DMF', 'ANET', 'BRX', 'CDNS', 'BH', 'AES', 'BARK', 'BKSY', 'ADPT', 'EVF', 'DTM', 'ATOM', 'BSVN', 'EXC', 'ECDA', 'CMAXW', 'AFGD', 'BTM', 'EQS', 'FBNC', 'DHACW', 'BSGM', 'COOL', 'ARCB', 'ENJ', 'ADEA', 'DINO', 'AVGO', 'CAPL', 'DCI', 'CMPOW', 'EBC', 'CRCT', 'DRI', 'CNSL', 'EBAY', 'ASBA', 'CNXN', 'EXAS', 'DENN', 'DPG', 'AVY', 'BFRGW', 'COIN', 'AMTX', 'ACNT', 'APLM', 'AMKR', 'DFLIW', 'AUMN', 'EMCGR', 'ACT', 'CFFSW', 'CRK', 'CNS', 'CUBA', 'AACI', 'AJX', 'CISO', 'CWEN', 'CSCO', 'AULT', 'CEM', 'AHH', 'EFC', 'CHEF', 'DELL', 'COSM', 'CIK', 'DMAC', 'EA', 'ACET', 'BOWN', 'BIGC', 'CSGP', 'ASB', 'ACP', 'ASTS', 'CHSCM', 'ARMK', 'CARV', 'BSL', 'CSWCZ', 'AXGN', 'ATOS', 'CBAN', 'DLY', 'CHK', 'AVGR', 'EBS', 'CSQ', 'CVLY', 'EIM', 'COMS', 'CERS', 'APDN', 'CLAR', 'CMSC', 'AMED', 'AB', 'ENFN', 'CNXC', 'EXPI', 'ATLO', 'ESPR', 'DCOM', 'BATRK', 'ELC', 'ABM', 'BEPC', 'ALEC', 'ASRT', 'CUTR', 'BHVN', 'COST', 'CDMO', 'CMI', 'AMSF', 'BWA', 'AX', 'AOS', 'CFFI', 'CNFR', 'BKR', 'BNZI', 'BNGO', 'ELAN', 'CASS', 'CIA', 'COHU', 'BGSF', 'ARLO', 'AHT', 'CGBDL', 'CLMT', 'BLK', 'CPHC', 'BWAQ', 'EVOK', 'AFGE', 'CRNX', 'AVAH', 'ASO', 'AIR', 'CEE', 'ACMR', 'ELAB', 'AMAL', 'BCAL', 'BFK', 'BOXL', 'ABLLW', 'BILL', 'DECAW', 'AN', 'AISP', 'AAGR', 'ATXS', 'BKN', 'CRC', 'DX', 'EXFY', 'CAH', 'BXMT', 'CFFN', 'CRSR', 'ABIO', 'DHCNI', 'DYAI', 'ALGS', 'EWBC', 'AMWL', 'ALTG', 'DRRX', 'BC', 'APOG', 'ELSE', 'CTSH', 'COOLW', 'DHF', 'AIB', 'ESE', 'CPTN', 'CCK', 'AYRO', 'AWR', 'CUBB', 'CRDO', 'AFJKU', 'APCXW', 'COCH', 'ACON', 'AXNX', 'CI', 'ENSG', 'ATEC', 'EGAN', 'AGEN', 'BYSI', 'ECPG', 'AMC', 'DHI', 'CCB', 'COLB', 'CWD', 'BHFAN', 'AENTW', 'AIRG', 'DECA', 'AVRO', 'AUUD', 'ASTE', 'EPD', 'ACHV', 'BBCP', 'COMSW', 'ENO', 'EMR', 'CRUS', 'BTAI', 'ALBT', 'AXTI', 'DV', 'AMK', 'ADVM', 'CERE', 'EIG', 'ALKT', 'BCOW', 'CFB', 'BXP', 'EVV', 'ASG', 'AON', 'CEVA', 'BRAC', 'CLX', 'DAWN', 'FATBW', 'AMLX', 'BGFV', 'DKS', 'ANGI', 'EEFT', 'DG', 'DM', 'CXM', 'AGCO', 'BXMX', 'ARKO', 'AJG', 'EIGR', 'BFS', 'BAX', 'CMT', 'ERAS', 'CBL', 'ERIE', 'CXAIW', 'ALEX', 'BUSE', 'FBRX', 'ACAC', 'ACRE', 'EPSN', 'BBN', 'ANVS', 'CZFS', 'BDC', 'BAND', 'DGLY', 'EFTR', 'AEHR', 'DNMR', 'EMD', 'CACC', 'AEMD', 'CTO', 'BNIX', 'APOS', 'DY', 'CTS', 'CRBG', 'FA', 'DUOT', 'DMK', 'EXG', 'BRLT', 'ASTSW', 'AMZN', 'ELA', 'CET', 'BOX', 'ACM', 'AIT', 'AREN', 'ABNB', 'CSGS', 'EML', 'AISPW', 'CMU', 'EOT', 'FATBP', 'ALSAR', 'CSX', 'CFLT', 'CVR', 'CHGG', 'DRH', 'DFS', 'DOCS', 'DAN', 'COHR', 'CNX', 'DATSW', 'ANAB', 'CMG', 'BMY', 'ALXO', 'AMPY', 'ALCY', 'BWMN', 'CGBD', 'ANSCW', 'CTXR', 'ELME', 'EOSEW', 'CARG', 'ASH', 'BHR', 'DUKB', 'AWP', 'AMN', 'BCPC', 'EARN', 'AUBN', 'BWXT', 'BOC', 'EPC', 'COOP', 'CSSE', 'DMLP', 'BFST', 'APLD', 'ATRA', 'BBLGW', 'BST', 'AOD', 'AQNU', 'EXTR', 'BKTI', 'EOD', 'FBRT', 'CCD', 'EMBC', 'CHKEL', 'CZWI', 'DXLG', 'BAYA', 'BAH', 'DDOG', 'CPZ', 'FARM', 'CREX', 'AMPE', 'FATBB', 'ESI', 'ALSA', 'EFX', 'CTKB', 'BOLT', 'BANX', 'ALGT', 'ETSY', 'AURA', 'CLRB', 'BSBK', 'EMF', 'CTBB', 'ADC', 'EYEN', 'DAL', 'DTSTW', 'CNNE', 'DOW', 'BCEL', 'AUROW', 'BLZE', 'BV', 'CCAP', 'CAL', 'ELF', 'BANC', 'DOV', 'AAT', 'ETJ', 'CUK', 'BCBP', 'ATGE', 'ANSS', 'BKE', 'CUBI', 'EL', 'EVM', 'CPSS', 'ANNX', 'COR', 'EPAM', 'CCS', 'CARE', 'EFT', 'CROX', 'CETY', 'CAR', 'CBT', 'ECCX', 'CRAI', 'AMSC', 'COYA', 'ABVC', 'AVO', 'ANIK', 'BA', 'CTVA', 'CLOV', 'AEIS', 'DPCS', 'ES', 'CRVO', 'ELV', 'AEVA', 'ESAB', 'ARR', 'CYN', 'ACHR', 'AXTA', 'BENFW', 'BRKHW', 'DT', 'EQH', 'ADTN', 'ARIZR', 'AREC', 'DGII', 'BHLB', 'BYM', 'DORM', 'BOE', 'CIVB', 'APGE', 'ASXC', 'BPTH', 'AROW', 'CLIR', 'FAF', 'BJ', 'ANIP', 'EMKR', 'AOMR', 'DTIL', 'AAME', 'CATY', 'AAL', 'COEP', 'FBIOP', 'AGL', 'BCAT', 'CTAS', 'AIRI', 'DSU', 'DLB', 'ATO', 'CMSD', 'BRKL', 'ETV', 'EGHT', 'CPNG', 'BSY', 'ALIT', 'DPZ', 'AXR', 'AXDX', 'CDE', 'FAM', 'DHC', 'CXT', 'CPIX', 'ADX', 'CCRN', 'CABO', 'ADIL', 'ATKR', 'AFGC', 'ETNB', 'BYON', 'CMCA', 'CATC', 'CALC', 'CHPT', 'BCML', 'AMPL', 'DAVE', 'BOOM', 'BLE', 'AIRT', 'BRW', 'BMBL', 'AUID', 'CMAX', 'CSLMR', 'BALL', 'ECCC', 'BWFG', 'CENT', 'BEAT', 'BSRR', 'BTBD', 'ESOA', 'BKDT', 'CDT', 'ATEN', 'DRCT', 'AYTU', 'EVLVW', 'EKSO', 'CART', 'CLOE', 'DVAX', 'AACIW', 'AGX', 'ARTW', 'AGNC', 'AEE', 'CPTNW', 'CHD', 'AMBC', 'DAR', 'DCTH', 'ACEL', 'CIFR', 'AR', 'BIAF', 'FBIO', 'EVT', 'CBZ', 'AFL', 'CYCN', 'ACLS', 'BBWI', 'ATHA', 'DERM', 'CLM', 'APRE', 'DHIL', 'CNMD', 'AM', 'BFAM', 'FAX', 'CFR', 'DMTK', 'AMPX', 'ETD', 'BLEUW', 'BUI', 'CTNT', 'AFGB', 'ALCE', 'AMPH', 'BHACW', 'CHW', 'BK', 'DEI', 'AAPL', 'BRKH', 'FAST', 'CSSEL', 'ALK', 'ATRO', 'EWCZ', 'ARKOW', 'CENX', 'CADE', 'AGFY', 'CDTTW', 'BRCC', 'ARDC', 'ATXI', 'EDBL', 'DWSN', 'BZFD', 'COEPW', 'DDD', 'EE', 'ESP', 'DIBS', 'DLA', 'ECBK', 'DXC', 'AXON', 'APPN', 'EXLS', 'BAER', 'CGO', 'EPM', 'BATRA', 'ELUT', 'BLNK', 'EBTC', 'BLBX', 'BFRI', 'AIMBU', 'EQBK', 'AZTA', 'AMPG', 'AMST', 'DRVN', 'EPAC', 'DVN', 'ABT', 'EGF', 'BANR', 'CVV', 'AIMAW', 'BTMWW', 'CULP', 'CYTH', 'FBK', 'APAM', 'DCO', 'CIX', 'CIVI', 'ALLY', 'ADTX', 'DNA', 'BOH', 'COCHW', 'ALLK', 'BBGI', 'FARO', 'ALRN', 'ABCB', 'CHSCN', 'AMWD', 'CRWS', 'CTDD', 'BLDR', 'EZFL', 'BLD', 'CELUW', 'ARAY', 'CCI', 'CORT', 'EQIX', 'APCX', 'DOCU', 'DOC', 'ACABW', 'ALL', 'BIOL', 'BLUE', 'CPRT', 'AFG', 'APD', 'CIEN', 'BGS', 'BEAM', 'DKL', 'ARI', 'CGEM', 'DAIO', 'ECL', 'DHCNL', 'CE', 'ALE', 'ESHAR', 'BDTX', 'BGY', 'ATMU', 'ARDX', 'AVPTW', 'ALRM', 'AKAM', 'CPSH', 'CHI', 'DXCM', 'ALRS', 'BMI', 'ACIC', 'ED', 'BZFDW', 'DPCSW', 'F', 'BKD', 'COLL', 'AKLI', 'EYE', 'APEI', 'CULL', 'CLST', 'BIIB', 'BLMN', 'AORT', 'EVRG', 'BPRN', 'CIFRW', 'EVC', 'CCOI', 'CARS', 'ECF', 'CCSI', 'DE', 'B', 'APH', 'DOUG', 'BGC', 'BWB', 'ERC', 'ACV', 'CLSD', 'BIG', 'CTGO', 'COKE', 'EVI', 'CODX', 'CSWI', 'ALNT', 'CIF', 'CVS', 'BMRA', 'ADVWW', 'CDAQ', 'BRSP', 'ADM', 'DIT', 'CRBU', 'DLTR', 'ALCYW', 'EVGO', 'CAKE', 'CACI', 'EFOI', 'DGICA', 'DFH', 'CTRA', 'BOKF', 'CGTX', 'EFSC', 'DHAC', 'BFLY', 'BAYAR', 'CNM', 'CZR', 'CWH', 'BGXX', 'CVLG', 'AMPS', 'ARWR', 'BCC', 'CLDX', 'CNTX', 'ARCH', 'BRO', 'COHN', 'CELC', 'BBAI', 'ACHC', 'EYPT', 'CNTY', 'CNA', 'CMPO', 'BFIN', 'ASRV', 'ADTH', 'BMEA', 'AITR', 'DSGR', 'BNIXW', 'DARE', 'CCRD', 'CASY', 'ALPP', 'ARTL', 'BLIN', 'BDX', 'CMC', 'ALGN', 'CHTR', 'DTG', 'ASPN', 'BKH', 'CHRS', 'CMTL', 'CURI', 'CDP', 'CF', 'CUZ', 'DSP', 'BRBR', 'ADNWW', 'BLFS', 'EDSA', 'BGH', 'EAT', 'BLND', 'CSTL', 'CHN', 'ASAN', 'DAVEW', 'DLTH', 'CELH', 'AZZ', 'AAP', 'BHIL', 'CLSK', 'DXPE', 'ACNB', 'CGABL', 'CSBR', 'EAF', 'DHX', 'ENG', 'ENR', 'BWG', 'AP', 'ASTI', 'ETB', 'CSLM', 'CLF', 'CHDN', 'CKPT', 'EMN', 'BYND', 'CTR', 'BHF', 'ENSC', 'EMLD', 'CRNC', 'ECCW', 'CAPR', 'ALHC', 'CEI', 'CGNX', 'EEA', 'CXW', 'BCAB', 'FATE', 'AEO', 'AIRTP', 'BANFP', 'BEATW', 'CONN', 'DBX', 'AIMAU', 'FAZEW', 'ATUS', 'COO', 'CADL', 'CVKD', 'DBI', 'DUK', 'CEG', 'BVS', 'AQB', 'CCNE', 'CME', 'CPT', 'ERII', 'EOSE', 'DLR', 'ETWO', 'ALGM', 'CURIW', 'DO', 'CRWD', 'DHY', 'DASH', 'BLKB', 'DSM', 'CATO', 'AA', 'BROS', 'CMLS', 'CITE', 'ATNF', 'ATMVR', 'ALVR', 'CRT', 'CTBI', 'CYH', 'FBIZ', 'ADMA', 'CRVL', 'ASST', 'CDZIP', 'CUE', 'AGNCN', 'CAVA', 'BRID', 'D', 'ECVT', 'BBW', 'BCDA', 'CETX', 'ADNT', 'ADN', 'ACRV', 'CNVS', 'DLHC', 'BJDX', 'CMCO', 'AI', 'CRMT', 'BNOX', 'AAN', 'ATER', 'CVCO', 'BW', 'ET', 'CBNK', 'APLT', 'CWBC', 'DBD', 'CYRX', 'CRBP', 'AGR', 'EDF', 'ATI', 'BNY', 'BTBT', 'CLW', 'CRL', 'AGIO', 'BENF', 'BEN', 'AIMDW', 'BRKR', 'COTY', 'ENVB', 'EXP', 'BPMC', 'ALTI', 'CRF', 'APO', 'ASYS', 'CMS', 'EGBN', 'BRY', 'CHCT', 'CYTHW', 'AIRE', 'BLTE', 'BWEN', 'CING', 'ANF', 'CDRE', 'ELS', 'CVLT', 'ELEV', 'BFRIW', 'CL', 'EFR', 'DALN', 'CCLDP', 'CASH', 'ELTX', 'ENTG', 'DECK', 'EAD', 'DOMA', 'ENX', 'BZH', 'CAG', 'CVGI', 'CXE', 'ARYD', 'ELDN', 'DNUT', 'BPT', 'CION', 'AREBW', 'EGY', 'ARQT', 'AVAV', 'BXC', 'CNOB', 'CBFV', 'EXEL', 'BCSF', 'EVH', 'AKTS', 'AGNCL', 'ACRS', 'ASA', 'AVTR', 'BCX', 'COF', 'CVM', 'EDIT', 'EGP', 'BL', 'AMRX', 'AVPT', 'APG', 'AENT', 'BNL', 'DFIN', 'BIVI', 'AREB', 'ACIW', 'ATR', 'APPF', 'APVO', 'EPRT', 'EVER', 'CLPR', 'EHAB', 'ADI', 'CSV', 'CECO', 'DGICB', 'AESI', 'COCO', 'DATS', 'DOCN', 'BNTC', 'DLPN', 'BANF', 'EFSCP', 'COLD', 'BDL', 'AUVIP', 'CWAN', 'BKKT', 'BRZE', 'CIM', 'DTC', 'BHRB', 'AMTB', 'BHFAM', 'CNSP', 'ARCC', 'CVX', 'CLFD', 'AMRC', 'BMRN', 'CEIX', 'CCLD', 'COMM', 'ARW', 'AKR', 'AGRX', 'ABEO', 'BRN', 'AGD', 'AUB', 'BSFC', 'AOUT', 'CHE', 'ATSG', 'ANSC', 'BWSN', 'ALZN', 'ESRT', 'BRDG', 'AME', 'BDSX', 'ADV', 'AMD', 'BCRX', 'EMP', 'DRMAW', 'ATLCL', 'AFBI', 'AKYA', 'CVRX', 'ACU', 'CII', 'ANTX', 'EVBN', 'CPBI', 'CZNC', 'ASGN', 'BRBS', 'DTST', 'AMAT', 'CYTK', 'EEX', 'EOLS', 'ATNI', 'DTB', 'BPOP', 'ALIM', 'AMG', 'CPRX', 'ETR', 'DIN', 'CARR', 'EVCM', 'CHSCL', 'BECN', 'AUR', 'DSS', 'ACCO', 'DHR', 'AVT', 'AMT', 'CLNNW', 'AVDX', 'CLRO', 'AAGRW', 'CELU', 'AEAE', 'BNED', 'CLNE', 'CELZ', 'ATMC', 'BMRC', 'CSPI', 'EVRI', 'APA', 'CFFS', 'CRGX', 'BBLG', 'AGNCO', 'EVBG', 'CSLR', 'ABG', 'BSET', 'CHKEZ', 'AQST', 'CDIOW', 'DCOMP', 'CLNN', 'BWNB', 'COOK', 'CC', 'EVLV', 'AZEK', 'CVU', 'BTU', 'BREZW', 'AMPGW', 'DXR', 'CYAN', 'DNOW', 'ARIS', 'CCCS', 'CPF', 'CNP', 'ELMD', 'CUBE', 'BLFY', 'AIMD', 'CCO', 'ESTC', 'ETO', 'EXPD', 'AXL', 'CBUS', 'BIRD', 'AWK', 'AITRR', 'AXSM', 'COGT', 'CCCC', 'CCBG', 'ALCYU', 'CLMB', 'EZPW', 'CFSB', 'DH', 'ENV', 'BCOV', 'CLBK', 'BFH', 'ECOR', 'ALTR', 'BAC', 'ACCD', 'BURU', 'CVBF', 'CMRX', 'CCZ', 'CBRG', 'ALCO', 'ALLO', 'BTOG', 'CRI', 'ALDX', 'CPK', 'CHY', 'AFB', 'AQMS', 'AIRS', 'DBGI', 'CODA', 'CDNA', 'APLE', 'DTI', 'AKRO', 'EXPO', 'AUGX', 'DTF', 'BOTJ', 'BBSI', 'DRQ', 'CMTG', 'AEI', 'AWF', 'AVD', 'AGS', 'CCLDO', 'CHRD', 'EGIO', 'CCNEP', 'ABL', 'BOOT', 'CTSO', 'COMP', 'CALM', 'EVN', 'CG', 'BOWNR', 'ENTA', 'C', 'EOG', 'BHFAP', 'CRGY', 'ENLC', 'CRS', 'BVFL', 'BNZIW', 'ACAHW', 'AIZ', 'BBIO', 'CFG', 'BKNG', 'CTCXW', 'FBMS', 'CQP', 'AUUDW', 'BTCY', 'BBDC', 'ACAB', 'AADI', 'ARL', 'CRM', 'BWAQW', 'CTHR', 'DKNG', 'CLOER', 'BELFB', 'DTE', 'ATNM', 'DOMH', 'BLDE', 'DLX', 'BTTX', 'BLAC', 'BYRN', 'ESS', 'CCL', 'COP', 'AAON', 'CCEL', 'BGR', 'CINGW', 'EAI', 'EVTV', 'EWTX', 'ARTLW', 'AC', 'AEON', 'CSR', 'DK', 'ANEB', 'DIS', 'BHE', 'CXAI', 'BGT', 'CODI', 'CSWC', 'APP', 'BHV', 'EQC', 'BY', 'AGAE', 'AMGN', 'CHRW', 'BRFH', 'CERT', 'CNGL', 'FANG', 'CDXC', 'CALX', 'EBMT', 'BFRG', 'ADD', 'BG', 'AERT', 'ESHA', 'CTLT', 'CMCT', 'DD', 'CAC', 'ASLE', 'DSL', 'ALNY', 'CYCCP', 'CPB', 'AXP', 'CTLP', 'BASE', 'AGM', 'CLPT', 'APLS', 'ASMB', 'AROC', 'CBSH', 'BLW', 'ESQ', 'BJRI', 'AQN', 'EQ', 'AIG', 'COCP', 'BTO', 'EMLDW', 'BWBBP', 'ABBV', 'DOMO', 'EPR', 'EDUC', 'DUOL', 'CDLX', 'ACA', 'DTW', 'ALTO', 'CNC', 'ENOV', 'ABOS', 'EDD', 'ARRY', 'FBIN', 'CRKN', 'AVNS', 'DMRC', 'BTT', 'AMSWA', 'AVA', 'DCGO', 'EEIQ', 'ACDC', 'CTMX', 'ABR', 'EVG', 'ENZ', 'EFTRW', 'ATLC', 'AGNCM', 'BLBD', 'ABSI', 'EXR', 'CHUY', 'CVI', 'ABAT', 'ARLP', 'BLDEW', 'CNO', 'BE', 'BRT', 'CAUD', 'AVTE', 'DNTH', 'BGB', 'AUVI', 'AIP', 'CDTX', 'ALLE', 'BTMD', 'ARVN', 'CHMG']: Exception('%ticker%: 15m data not available for startTime=1715745600 and endTime=1719720000. The requested range must be within the last 60 days.')\n",
      "['ATAKR', 'CCLP', 'DWAC', 'AMEH', 'ACAHU', 'BEEMW', 'APTMW', 'ETAO', 'BFX', 'CURO', 'ESMT', 'BKCC', 'ARRWW', 'CHS', 'ADES', 'APACU', 'CPE', 'BHG', 'ARIZ', 'DMAQR', 'AESC', 'ACRX', 'DWACW', 'AMAM', 'CASA', 'DMAQ', 'DSKE', 'CYT', 'ACAXR', 'CONX', 'AEY', 'APAC', 'BODY', 'CONXW', 'EACPW', 'FAZE', 'EXPR', 'AYX', 'AAIN', 'CDAY', 'AEL', 'AJXA', 'AMNB', 'ALPN', 'ARAV', 'AIC', 'CRGE', 'DWACU', 'CVCY', 'EGLE', 'ACAH', 'CSTR', 'ALTU', 'ESAC', 'ATAK', 'ADOCW', 'EAC', 'ADOCR', 'ADOC', 'CNXA', 'CPSI', 'CBAY', 'APTM', 'DHCAU', 'CANO', 'AGTI', 'ACOR', 'APACW', 'ALTUW', 'BRP', 'DHCA', 'BVH', 'ARIZW', 'ACAX', 'EAR']: Exception('%ticker%: No data found, symbol may be delisted')\n",
      "['C^J', 'BAC^P', 'BML^H', 'ET^C', 'CNO^A', 'BAC^L', 'BFS^D', 'CTO^A', 'AGM^C', 'AL^A', 'BAC^M', 'BRK/B', 'F^B', 'ET^E', 'CTA^B', 'CDR^B', 'ACP^A', 'ABR^F', 'AIG^A', 'EQH^C', 'CMS^C', 'BML^G', 'ECC^D', 'CIM^B', 'ARR^C', 'ETI^', 'DBRG^H', 'C^N', 'BOH^A', 'ABR^E', 'F^C', 'AGM^G', 'BRK/A', 'EFC^E', 'DLR^L', 'BC^C', 'CRD/B', 'BAC^Q', 'AHH^A', 'CFG^E', 'EPR^C', 'ASB^F', 'BHR^D', 'ACR^C', 'ALL^H', 'AGM^E', 'CADE^A', 'AEL^A', 'BFS^E', 'CUBI^E', 'EPR^E', 'AUB^A', 'CSR^C', 'CODI^B', 'AMH^G', 'CUBI^F', 'BML^J', 'BCV^A', 'ALTG^A', 'CFG^D', 'AGM^F', 'AEL^B', 'BANC^F', 'ASB^E', 'CRD/A', 'BAC^K', 'ALL^B', 'EP^C', 'CMS^B', 'DLR^K', 'COF^J', 'DBRG^J', 'EFC^A', 'BF/A', 'ADC^A', 'ET^D', 'BHR^B', 'CODI^A', 'COF^N', 'CIM^A', 'BAC^B', 'ALL^J', 'AHT^H', 'BC^B', 'AGM^D', 'CIM^C', 'BAC^O', 'CLDT^A', 'AHT^I', 'BF/B', 'COF^K', 'ABR^D', 'FBRT^E', 'AHT^G', 'EFC^D', 'CTA^A', 'CDR^C', 'AMH^H', 'AHT^D', 'EQC^D', 'ECC           ', 'APO^A', 'EFC^C', 'COF^I', 'BAC^N', 'ECF^A', 'ET^I', 'BAC^S', 'BW^A', 'BC^A', 'CODI^C', 'BIO/B', 'DLR^J', 'BAC^E', 'ACR^D', 'ALL^I', 'COF^L', 'EFC^B', 'AHT^F', 'DBRG^I', 'CIM^D', 'CFR^B', 'EPR^G', 'EQH^A', 'DUK^A', 'F^D', 'DRH^A', 'AULT^D', 'BML^L', 'DX^C']: Exception('%ticker%: No timezone found, symbol may be delisted')\n",
      "['AONC']: Exception(\"%ticker%: Data doesn't exist for startDate = 1715745600, endDate = 1719720000\")\n"
     ]
    },
    {
     "name": "stdout",
     "output_type": "stream",
     "text": [
      "\n"
     ]
    },
    {
     "name": "stderr",
     "output_type": "stream",
     "text": [
      " 33%|███▎      | 1/3 [04:08<08:17, 248.59s/it]"
     ]
    },
    {
     "name": "stdout",
     "output_type": "stream",
     "text": [
      "[******                13%%                      ]  238 of 1871 completed"
     ]
    },
    {
     "name": "stderr",
     "output_type": "stream",
     "text": [
      "Failed to get ticker 'HEI/A' reason: Expecting value: line 1 column 1 (char 0)\n"
     ]
    },
    {
     "name": "stdout",
     "output_type": "stream",
     "text": [
      "[**********************61%%***                   ]  1147 of 1871 completed"
     ]
    },
    {
     "name": "stderr",
     "output_type": "stream",
     "text": [
      "Failed to get ticker 'HVT/A' reason: Expecting value: line 1 column 1 (char 0)\n"
     ]
    },
    {
     "name": "stdout",
     "output_type": "stream",
     "text": [
      "[*********************100%%**********************]  1871 of 1871 completed"
     ]
    },
    {
     "name": "stderr",
     "output_type": "stream",
     "text": [
      "\n",
      "1870 Failed downloads:\n",
      "['GOOG', 'GECC', 'MEG', 'FGB', 'GSHD', 'LEU', 'KAI', 'MTZ', 'MSBI', 'HESM', 'LCID', 'OGN', 'MEI', 'FR', 'FPAY', 'FLUX', 'FSCO', 'IOT', 'GDO', 'LWLG', 'IDT', 'NTRA', 'JSPRW', 'OLPX', 'HIW', 'IONS', 'LIFWZ', 'LPSN', 'KKRS', 'LBBBR', 'HBNC', 'GNRC', 'GHIXU', 'GFS', 'KTH', 'IROQ', 'LUCY', 'HWKN', 'OLB', 'MRTN', 'IGC', 'GNT', 'FDMT', 'GLV', 'HTIBP', 'GLSTW', 'ISSC', 'GNW', 'HGTY', 'GBAB', 'KRC', 'NRBO', 'LVWR', 'MYN', 'LTRN', 'LGL', 'LEO', 'MMLP', 'LRCX', 'FMBH', 'NPK', 'GERN', 'LANDM', 'LIFWW', 'MCACR', 'FTV', 'ODFL', 'HTLD', 'MTTR', 'NCPLW', 'FMNB', 'NUW', 'HNNA', 'OFLX', 'IBOC', 'IP', 'HYMC', 'HSPOW', 'HUMA', 'LNTH', 'HOWL', 'MBINO', 'LVO', 'IPX', 'HPP', 'MAQC', 'GRF', 'HZO', 'KITTW', 'LGMK', 'GIII', 'HFRO', 'NUV', 'IVAC', 'KMPB', 'INFU', 'HXL', 'MBCN', 'HEPA', 'MPC', 'HUBB', 'FULC', 'NDSN', 'NUTX', 'MEDP', 'GCO', 'FVCB', 'GWRE', 'HURN', 'MYRG', 'IDA', 'NYMT', 'MMU', 'ODP', 'LKQ', 'NZF', 'JNPR', 'MSGS', 'ISRG', 'IIM', 'MLR', 'FHTX', 'LFVN', 'GATO', 'IIIV', 'LEN', 'MINM', 'GCV', 'MDLZ', 'GENK', 'NXT', 'NTIC', 'LCUT', 'FEXD', 'HPK', 'MYD', 'HOPE', 'NINE', 'HOUR', 'FMAO', 'GLP', 'GDYN', 'NRO', 'MU', 'MCFT', 'O', 'NMFCZ', 'ISPOW', 'NOM', 'GPRO', 'NRK', 'KIDS', 'GDEN', 'NDP', 'HMN', 'HSPO', 'NBIX', 'INTZ', 'IESC', 'KEY', 'LBAI', 'ISPC', 'JAGX', 'GOLF', 'GDOT', 'OBT', 'MWA', 'NBTB', 'FEMY', 'FI', 'HOLX', 'NUZE', 'ODC', 'LIND', 'NSS', 'NBBK', 'JSPR', 'KTCC', 'OLP', 'GM', 'INGR', 'ICAD', 'LNC', 'HUDA', 'IR', 'LABP', 'NYT', 'HRB', 'LIPO', 'FWRG', 'MAIN', 'HOG', 'HHH', 'MNKD', 'OESX', 'GAM', 'GMS', 'GCBC', 'MOD', 'LPTV', 'MP', 'KF', 'NATR', 'FISI', 'HY', 'KIRK', 'FOX', 'HUYA', 'MCAAW', 'NWPX', 'LEVI', 'NYMTM', 'NOV', 'GOSS', 'GJR', 'HOFVW', 'NGS', 'IRM', 'GRTS', 'INKT', 'ICMB', 'MAX', 'HEI', 'NAD', 'MKTX', 'NCZ', 'GLBZ', 'NEOVW', 'HTD', 'IIPR', 'MMS', 'FSBW', 'HBANL', 'OII', 'IBTX', 'HAYN', 'NXU', 'LUNG', 'INCY', 'MFD', 'MAQCW', 'MGR', 'HAIN', 'IH', 'LOAN', 'LLYVK', 'GAINN', 'FSFG', 'MAMA', 'MYGN', 'LECO', 'JRI', 'HTBI', 'MIN', 'FCNCP', 'MED', 'FULTP', 'MGY', 'OC', 'HLLY', 'HWC', 'OABIW', 'IPW', 'HUMAW', 'KOP', 'NARI', 'MBNKP', 'NEP', 'GBX', 'IDE', 'NMRK', 'NOTE', 'NTCT', 'NAPA', 'MTN', 'KPRX', 'INFA', 'IONQ', 'ISD', 'GNPX', 'KYCH', 'MSS', 'MXC', 'FTHY', 'IPXXW', 'M', 'LLY', 'HUN', 'MCBS', 'MXF', 'KLAC', 'NRDS', 'MLKN', 'INTA', 'MQT', 'ICCH', 'HON', 'FOUR', 'GTIM', 'GPACU', 'HTLF', 'NRC', 'JQC', 'GSAT', 'NXGLW', 'FLIC', 'GIFI', 'GOOD', 'LADR', 'FTAIN', 'NXP', 'FCNCO', 'HPF', 'MBIN', 'GPMT', 'IT', 'FFWM', 'HR', 'OIA', 'HOFV', 'OCFCP', 'NVEE', 'NVAC', 'HCVIW', 'OIS', 'NAOV', 'NNAGU', 'HRT', 'GBIO', 'IHD', 'HBANM', 'OLO', 'MQ', 'IVR', 'GMFIW', 'NSA', 'LOB', 'HDSN', 'NERV', 'NTRS', 'FSBC', 'FOF', 'MNTK', 'HGAS', 'MASS', 'NNVC', 'HTH', 'MHK', 'FNCH', 'OLLI', 'JBL', 'MSM', 'INFN', 'FFIN', 'IRWD', 'HAE', 'MRIN', 'NVTS', 'MLYS', 'HD', 'OBIO', 'NAZ', 'NTAP', 'HRI', 'FHI', 'KTF', 'MS', 'MCB', 'MMD', 'MCN', 'LUMN', 'GOEVW', 'MAPS', 'HQH', 'OCUL', 'LUXHP', 'KIND', 'MXCT', 'JOF', 'ICCC', 'KMT', 'MTSI', 'KAVL', 'HYLN', 'HSCSW', 'GLW', 'MPW', 'JBT', 'HBT', 'LMAT', 'MQY', 'KBH', 'KDP', 'FRST', 'FCUV', 'FDX', 'HAFC', 'MEDS', 'MODD', 'IIIN', 'NXC', 'FROG', 'LAND', 'NSTS', 'LTRY', 'MAT', 'GIPR', 'MPV', 'HWBK', 'GETY', 'HP', 'HOTH', 'III', 'NHI', 'NECB', 'FDUS', 'MHO', 'HRMY', 'INSW', 'MIRA', 'OKE', 'NCLH', 'HAS', 'GOODN', 'LIDRW', 'FTAIM', 'LBPH', 'OGE', 'HIFS', 'HIMS', 'FRAF', 'LTH', 'NEU', 'MODG', 'FGFPP', 'NVEC', 'KVAC', 'FT', 'MYMD', 'GES', 'MESA', 'FE', 'KOD', 'LDTC', 'MAYS', 'FINW', 'NETDW', 'HTFB', 'FFIE', 'ITIC', 'JBSS', 'MVIS', 'IHT', 'LEE', 'J', 'MCI', 'LFCR', 'FYBR', 'GOVXW', 'LPTH', 'MCHX', 'INAQW', 'L', 'OCEA', 'NHC', 'MGAM', 'HCSG', 'NVACW', 'HE', 'HCVI', 'OLMA', 'INDI', 'LFLYW', 'LSXMK', 'NBB', 'GJP', 'MCW', 'GTBP', 'GNLX', 'FICO', 'GHIX', 'LNN', 'FSEA', 'MLSS', 'KGEI', 'FG', 'HEQ', 'HOOD', 'GECCO', 'NVFY', 'MKTW', 'HRZN', 'MTH', 'IPGP', 'HURC', 'NCNO', 'FLNC', 'NGVT', 'JANX', 'KVHI', 'LAUR', 'METCL', 'OFSSH', 'ISPR', 'MTCH', 'MLNK', 'FC', 'MUR', 'MANH', 'FL', 'MCY', 'INTT', 'KURA', 'HPKEW', 'NWSA', 'MMSI', 'KFRC', 'GSBC', 'MDB', 'NETDU', 'MTDR', 'FCEL', 'MKSI', 'MACA', 'LINK', 'ICFI', 'MPAA', 'GTHX', 'IKNA', 'K', 'MIR', 'HYPR', 'GYRE', 'JFR', 'FNLC', 'MNPR', 'MRCC', 'KO', 'MBINM', 'GO', 'OI', 'NFG', 'NXPLW', 'KPLTW', 'ICUCW', 'GDST', 'JSM', 'MVT', 'FXNC', 'GRX', 'FCRX', 'JHS', 'FBYD', 'MTRX', 'NAII', 'GLO', 'IRDM', 'HQL', 'NEXT', 'NYCB', 'OCN', 'IPXXU', 'MOBXW', 'GPS', 'HCP', 'GAIN', 'FHN', 'NMT', 'NEA', 'LSEA', 'GATE', 'MARA', 'MNTX', 'IPDN', 'LGVN', 'HUDAR', 'LIXT', 'LSBK', 'GTAC', 'LOGI', 'IAS', 'KPTI', 'NB', 'HHS', 'OLN', 'FCX', 'GANX', 'HLVX', 'GBBK', 'MDRX', 'HSPOR', 'NET', 'IVT', 'LSEAW', 'FCF', 'MGYR', 'MSAI', 'JAMF', 'LFMD', 'LVLU', 'HCMAW', 'FEXDR', 'LASE', 'KRP', 'GRNT', 'MVF', 'OFS', 'LUNR', 'GLSTR', 'LFLY', 'FICVW', 'LIXTW', 'MAS', 'IROHU', 'MCO', 'METC', 'NLY', 'MC', 'FRPT', 'LRN', 'HCXY', 'FOXA', 'ITI', 'ISTR', 'NOW', 'MRNA', 'MTEM', 'LUCD', 'MCVT', 'LYEL', 'LBRT', 'IRT', 'NVG', 'LITE', 'MUSA', 'NHTC', 'FORL', 'FCT', 'GRWG', 'LIAN', 'NUE', 'KRT', 'MG', 'MTNB', 'LCII', 'MGPI', 'KRRO', 'LAZR', 'NATL', 'MORN', 'FGBI', 'HNI', 'HSTM', 'MTR', 'INSE', 'NXST', 'FORR', 'FKWL', 'IDYA', 'GRC', 'GL', 'IMKTA', 'MVST', 'IOVA', 'FTNT', 'LIBYW', 'LKFN', 'NWFL', 'IDEX', 'LYV', 'MYO', 'HBCP', 'HLNE', 'HIE', 'GVA', 'GGN', 'FITBO', 'HWM', 'GKOS', 'KTB', 'GTN', 'HTFC', 'FF', 'NMRA', 'NURO', 'INOD', 'IBRX', 'FNWD', 'FWRD', 'NPV', 'HPS', 'FGF', 'NXLIW', 'LNKB', 'LAMR', 'HONE', 'NWBI', 'LTC', 'HCKT', 'FLS', 'IMNN', 'FPF', 'INTEW', 'MFICL', 'LMFA', 'NRT', 'LEGN', 'FLYW', 'IDCC', 'HQI', 'LUV', 'LGIH', 'IEP', 'KZR', 'IGMS', 'LMNR', 'GLSI', 'GGT', 'LHX', 'FUNC', 'NVNO', 'MGNI', 'NRXP', 'HCAT', 'HCTI', 'FRGT', 'OABI', 'HPI', 'OHI', 'GATEW', 'IRTC', 'GPACW', 'MFIN', 'NCV', 'GEG', 'IVP', 'GDDY', 'MICS', 'LDTCW', 'MNST', 'MIND', 'FORM', 'INVO', 'FBYDW', 'KNSA', 'GUG', 'IPG', 'OCFC', 'FGI', 'FSS', 'GLT', 'KTTA', 'IBP', 'JMSB', 'LYTS', 'NWLI', 'OBK', 'NEWTL', 'NCSM', 'IOSP', 'GNTY', 'ITW', 'HCA', 'IRAA', 'LAD', 'GJO', 'INSG', 'NEWTI', 'LYRA', 'MEGI', 'GBNY', 'NXDT', 'MLGO', 'IDAI', 'FDBC', 'FORLW', 'KWR', 'HBI', 'LINC', 'FIX', 'NXL', 'JKHY', 'LAW', 'FUV', 'NMFC', 'KA', 'JEQ', 'NCA', 'INUV', 'INBS', 'MDXG', 'FREEW', 'INTE', 'MAN', 'IMAQ', 'MTW', 'NVR', 'MBC', 'IMRX', 'NMTC', 'MNSBP', 'HEES', 'MSB', 'HOMB', 'IMAQR', 'MKFG', 'NYMTN', 'MOS', 'HMST', 'LPCN', 'IMVT', 'NAUT', 'HFFG', 'NUVB', 'GWRS', 'NN', 'NNI', 'HUBG', 'MMT', 'MHH', 'MMM', 'INHD', 'KMB', 'KEX', 'MRAI', 'MSBIP', 'MLAB', 'MCRI', 'GDRX', 'HROWM', 'KVUE', 'ISRLW', 'MAV', 'KREF', 'HYZN', 'IMXI', 'NIC', 'LIFE', 'LZB', 'HALO', 'KNSL', 'IQI', 'JAKK', 'HSIC', 'KRUS', 'GBCI', 'FTLF', 'LVS', 'LFT', 'IAC', 'GPAK', 'KAR', 'FET', 'LANDP', 'NSP', 'HROWL', 'HOV', 'MPLN', 'JNJ', 'FCBC', 'GILD', 'LOW', 'LQDT', 'HBAN', 'HCWB', 'LDI', 'MUI', 'HTLFP', 'FITBI', 'GE', 'GBTG', 'ML', 'MEC', 'MMAT', 'FLNT', 'LYFT', 'NXJ', 'LANDO', 'MBUU', 'NUVL', 'FNB', 'MVLA', 'HSON', 'GOEV', 'INBKZ', 'HNRG', 'KW', 'MYPSW', 'HOUS', 'FITBP', 'INVH', 'LIFW', 'HNVR', 'MRKR', 'FEXDU', 'OCAXW', 'KRNLW', 'JACK', 'LTRYW', 'JILL', 'NVRI', 'NKTX', 'HLIO', 'FELE', 'INSM', 'MUE', 'LRMR', 'INSI', 'MIRM', 'IPI', 'GPN', 'FTAI', 'GECCZ', 'LSXMB', 'FEIM', 'HI', 'LTRX', 'HST', 'MFIC', 'KOSS', 'INTU', 'NRGV', 'KE', 'JBGS', 'IGTAU', 'MPB', 'LL', 'HNW', 'MUA', 'KVACU', 'GATX', 'MRVI', 'HII', 'ICE', 'HUT', 'FFBC', 'OCTO', 'LH', 'LBBBW', 'IRBT', 'GEO', 'JXN', 'NTIP', 'HOFT', 'NEOV', 'HSY', 'GHSI', 'MCBC', 'JOBY', 'FUND', 'INDB', 'LNG', 'KRMD', 'GAMCU', 'HNST', 'INNV', 'HYB', 'FTS', 'HTIA', 'GMGI', 'KMX', 'HSII', 'OCSL', 'NWL', 'MUJ', 'KTRA', 'ICUI', 'NFBK', 'HOLOW', 'FNF', 'HOOK', 'HCVIU', 'MNSB', 'MA', 'FFA', 'IAE', 'ITRI', 'GODN', 'FITB', 'GUT', 'NEO', 'GHC', 'NTWK', 'IGD', 'FLXS', 'HLTH', 'NTGR', 'NMS', 'NL', 'LZ', 'INDP', 'FTEK', 'HYMCL', 'NAVI', 'FLO', 'MDU', 'LEA', 'MITK', 'FRGE', 'FFC', 'GNL', 'JGH', 'NMZ', 'JBI', 'MYPS', 'FOXF', 'KFY', 'FLC', 'NTLA', 'NODK', 'HIG', 'FDS', 'IBCP', 'LFUS', 'FNKO', 'NEPH', 'LASR', 'MRK', 'FEAM', 'MRDB', 'MLM', 'GVP', 'GNLN', 'FUSB', 'LDWY', 'MRO', 'GLPI', 'NNAG', 'FREE', 'HIPO', 'HSDT', 'MSFT', 'IBKR', 'JWN', 'MXE', 'FCNCA', 'META', 'METCB', 'IRAAU', 'LILAK', 'HFBL', 'MRC', 'HVT', 'NWE', 'MDT', 'GMED', 'NNBR', 'FLL', 'IPAR', 'GHY', 'NOC', 'MGRC', 'OM', 'MDRR', 'MYFW', 'NMI', 'KRG', 'LRHC', 'KTN', 'INAQ', 'MINDP', 'NNAVW', 'IGA', 'GDV', 'HA', 'HYT', 'FRPH', 'LMT', 'IRMD', 'NDLS', 'MSD', 'LODE', 'JELD', 'NCMI', 'MITQ', 'GTLS', 'GLDD', 'KORE', 'IPSC', 'MRBK', 'FCFS', 'LTBR', 'MCAGR', 'MLP', 'GWW', 'KALA', 'NJR', 'MVO', 'NPCE', 'IVDAW', 'FIZZ', 'IONM', 'IMUX', 'HCC', 'MSEX', 'MSGM', 'NSIT', 'HAL', 'JPM', 'NNN', 'OGS', 'MNTS', 'MULN', 'LOPE', 'LLAP', 'JRS', 'GEGGL', 'KERNW', 'NKGN', 'MCRB', 'FRBA', 'OCCIO', 'LAB', 'KRO', 'GREE', 'ITCI', 'FFIC', 'NNAGR', 'ISDR', 'FMC', 'HLMN', 'INVE', 'MSSAR', 'NE', 'HL', 'NOG', 'NSTG', 'FOLD', 'MOND', 'GPK', 'IFN', 'HUBS', 'JOUT', 'NUS', 'JCTCF', 'INVA', 'HALL', 'KR', 'HYFM', 'OGEN', 'FTCI', 'IQV', 'FNCB', 'HWCPZ', 'FSP', 'NXGL', 'MUC', 'GAMC', 'KELYB', 'FIACW', 'INTC', 'JEF', 'NFJ', 'MSCI', 'LDP', 'MGEE', 'GORO', 'MAR', 'KBR', 'LEGH', 'IHRT', 'GLADZ', 'MOVE', 'FGEN', 'MSI', 'FSTR', 'MHF', 'MVBF', 'NFLX', 'GJT', 'JOE', 'LII', 'KITT', 'MHI', 'NRDY', 'FIGS', 'MARX', 'FLGT', 'HBANP', 'IMNM', 'IMMX', 'FGBIP', 'MGF', 'FMN', 'NRUC', 'MACAW', 'NVRO', 'NRP', 'JLL', 'GT', 'H', 'MITT', 'MAQCU', 'MCR', 'MSA', 'JBLU', 'GCI', 'LPX', 'ICHR', 'JVA', 'KNX', 'GROM', 'MGRM', 'FWONA', 'IART', 'GWAV', 'NVOS', 'HLT', 'FRZA', 'GPCR', 'FRSH', 'KNF', 'LXU', 'ILMN', 'GRI', 'INN', 'FCPT', 'IGI', 'FUN', 'KRNL', 'LC', 'FRMEP', 'GPRE', 'NOVA', 'HGBL', 'GTY', 'NWS', 'MASI', 'FHLT', 'NLOP', 'MCS', 'FIAC', 'MPWR', 'OLED', 'MXL', 'FRLA', 'MMI', 'OCAX', 'MEIP', 'GOCO', 'MNOV', 'FIS', 'GJH', 'IDN', 'KSM', 'NRG', 'INO', 'ISRL', 'NTRB', 'LWAY', 'LXP', 'IPXX', 'FLWS', 'FGIWW', 'MTG', 'FIP', 'FLFV', 'MARXR', 'IVDA', 'JHI', 'NGVC', 'NSSC', 'GOGO', 'HPCO', 'NRIM', 'NR', 'GAINZ', 'GPI', 'HROW', 'KPLT', 'NRIX', 'NATH', 'LBRDK', 'LCNB', 'LNZA', 'FIBK', 'IEX', 'HLI', 'FTAIP', 'HTZ', 'FCO', 'NGL', 'GBBKR', 'IVZ', 'MRNS', 'GHIXW', 'KLXE', 'ISPO', 'GJS', 'IBM', 'GXO', 'FTHM', 'HQY', 'MSGE', 'OBLG', 'MKC', 'GEN', 'MHN', 'MFA', 'KHC', 'KTOS', 'HPQ', 'NNAGW', 'HOVNP', 'MODV', 'IKT', 'LILA', 'IMMR', 'INBK', 'JRSH', 'HIBB', 'ILPT', 'GBR', 'JBHT', 'MBWM', 'GABC', 'NHS', 'INGN', 'LBRDP', 'KELYA', 'KALU', 'FFIEW', 'NC', 'KKR', 'GSIT', 'IIF', 'OCX', 'NX', 'NI', 'MNTSW', 'HRL', 'NSYS', 'FTII', 'GALT', 'NTST', 'MRSN', 'FRD', 'LGND', 'KMI', 'ITT', 'INAB', 'MOBX', 'NIE', 'MDRRP', 'JPC', 'NXRT', 'MDBH', 'FPH', 'GCMG', 'GD', 'HTBK', 'MNRO', 'JLS', 'NICK', 'LFMDP', 'MCD', 'NBY', 'MCAA', 'MRAM', 'FWONK', 'LFST', 'KEYS', 'HES', 'OKTA', 'LMB', 'KRNY', 'INTS', 'LSTA', 'LBRDA', 'MODN', 'FCCO', 'MOFG', 'MGRX', 'FOSLL', 'MOV', 'HSCS', 'LSCC', 'GAINL', 'MKL', 'FHB', 'FOSL', 'MDAIW', 'NTNX', 'KEQU', 'NXPL', 'FOA', 'MARK', 'IAF', 'FOR', 'MPA', 'GHI', 'MFM', 'IVVD', 'OCCIN', 'GLOB', 'GNTX', 'NBHC', 'NMIH', 'JNVR', 'LXEO', 'FUBO', 'FIACU', 'LSXMA', 'NOVT', 'MO', 'NYMTZ', 'KROS', 'HGV', 'NIO', 'GPOR', 'MATX', 'GPC', 'MOH', 'HUM', 'MAC', 'MTEX', 'JCE', 'MGOL', 'LXRX', 'ME', 'MGNX', 'GTLB', 'NAC', 'JYNT', 'FTF', 'KLTR', 'JMM', 'OCGN', 'NEN', 'MMC', 'HUSA', 'FGN', 'GRBK', 'NCPL', 'MGRD', 'GAIA', 'LIN', 'MPX', 'LIVE', 'FTDR', 'MCK', 'HTZWW', 'OB', 'NDAQ', 'GAMCW', 'GNSS', 'KYMR', 'NQP', 'LPG', 'GOVX', 'LUXH', 'GOF', 'LLYVA', 'LPLA', 'MGRB', 'NBH', 'FSLR', 'NREF', 'HBIO', 'INMB', 'FIVN', 'MITAW', 'MPLX', 'NOTV', 'KSS', 'KODK', 'FENC', 'GOOGL', 'MLI', 'GREEL', 'NEWT', 'JAN', 'NVDA', 'KINS', 'GIC', 'JOB', 'NYMTL', 'NVAX', 'MHD', 'IDXX', 'FSK', 'KFFB', 'GEOS', 'GEVO', 'LRFC', 'FTK', 'IFF', 'NIM', 'MSAIW', 'IGTA', 'HTGC', 'FSLY', 'MDAI', 'NAN', 'GLU', 'GLQ', 'NEWTZ', 'NKGNW', 'FORA', 'KSCP', 'FCN', 'GNE', 'LQR', 'MATV', 'LSTR', 'LIDR', 'FINV', 'HOLO', 'GEL', 'OCC', 'MIDD', 'HNNAZ', 'HYZNW', 'NDRA', 'LNT', 'MIY', 'LQDA', 'KULR', 'GEHC', 'LIBY', 'LNW', 'GLAD', 'LAKE', 'FNA', 'HPE', 'GPJA', 'NNY', 'NKX', 'NABL', 'FIVE', 'NXN', 'MVSTW', 'NTRSO', 'KRON', 'FCAP', 'MBRX', 'MACAU', 'KMPR', 'IOR', 'ITOS', 'NTRBW', 'LOCO', 'HIX', 'MRVL', 'GNK', 'INZY', 'FUL', 'MBIO', 'MGTX', 'MDIA', 'GLUE', 'HLIT', 'INAQU', 'JEWL', 'OCCI', 'GEF', 'MD', 'KIM', 'GLYC', 'NEE', 'HGASW', 'GAB', 'GSBD', 'IPWR', 'HFWA', 'MET', 'FMY', 'LNSR', 'LUCYW', 'GHM', 'NEM', 'NVACR', 'GLLI', 'IRIX', 'IGT', 'OMC', 'MARPS', 'ICCT', 'GYRO', 'INSP', 'KNTK', 'MPU', 'MORF', 'FRA', 'HRTX', 'KN', 'INTG', 'LARK', 'ITGR', 'KD', 'GOODO', 'LCTX', 'FTRE', 'GBDC', 'LMND', 'NBN', 'GRPN', 'NUWE', 'OCEAW', 'GH', 'NKSH', 'FRT', 'LPTX', 'MYI', 'GMRE', 'ISUN', 'LEG', 'HMNF', 'NPO', 'KLG', 'FFNW', 'MDGL', 'GFF', 'HCI', 'HIO', 'MAPSW', 'HLX', 'LW', 'MNMD', 'NVST', 'LPRO', 'GLST', 'LANC', 'NEOG', 'MCHP', 'FNWB', 'MTRN', 'NVCT', 'NBSTW', 'HASI', 'LUNA', 'GF', 'IZEA', 'IRON', 'FORD', 'GODNR', 'NRXPW', 'NXTP', 'OCUP', 'GECCM', 'MATW', 'GPAC', 'MGM', 'MSN', 'HEAR', 'FNGR', 'NKLA', 'LE', 'IGR', 'GENC', 'MAA', 'LDOS', 'FONR', 'FTAIO', 'MTX', 'MTB', 'MRCY', 'IBIO', 'NFE', 'MBINN', 'FND', 'GGG', 'KVACW', 'NWN', 'KYN', 'LGI', 'MBI', 'MLTX', 'MSTR', 'FFIV', 'GME', 'GDL', 'FLR', 'GWH', 'GCMGW', 'KOPN', 'NSC', 'NIOBW', 'HAYW', 'ICU', 'LUNRW', 'LOVE', 'FRME', 'LAZY', 'NKTR', 'LUMO', 'JJSF', 'LESL', 'FPI', 'NKE', 'NEXI', 'LNZAW', 'KRYS', 'MYE', 'GIS', 'NBST', 'NXTC', 'FULT', 'NETD', 'HYMCW', 'GROW', 'GRTX', 'GS']: Exception('%ticker%: 15m data not available for startTime=1715745600 and endTime=1719720000. The requested range must be within the last 60 days.')\n",
      "['NGM', 'NRACU', 'KYCHR', 'MDVL', 'LCAHW', 'NBSE', 'GRPH', 'IMGN', 'FWBI', 'IMACW', 'NRAC', 'MBTCR', 'LTHM', 'LBBB', 'INPX', 'KAMN', 'FSR', 'NRACW', 'FICV', 'FEN', 'LGVC', 'MCAF', 'ICVX', 'NUBIU', 'FLT', 'GSD', 'MRTX', 'FICVU', 'NVIV', 'JOAN', 'NUBI', 'FGH', 'HCMA', 'HTY', 'HARP', 'MCAFR', 'KERN', 'MIMO', 'LGVCW', 'FIF', 'MDC', 'MBTCU', 'NCAC', 'GPP', 'NS', 'KRTX', 'MVLAW', 'MACK', 'NCACW', 'LBC', 'NHWK', 'LGSTW', 'FIXX', 'NFTG', 'MBINP', 'GSDWW', 'MCAFU', 'MFV', 'NCACU', 'KNTE', 'MBTC', 'GIA', 'LGST', 'NVTA']: Exception('%ticker%: No data found, symbol may be delisted')\n",
      "['MS^F', 'GGT^G', 'LNC^D', 'NS^C', 'GDL^C', 'GAB^G', 'MFA^B', 'NCV^A', 'FHN^F', 'MS^L', 'NYCB^U', 'GAM^B', 'NS^B', 'HEI/A', 'KEY^I', 'NGL^B', 'GAB^K', 'GRBK^A', 'FHN^D', 'JPM^J', 'MET^E', 'IIPR^A', 'MER^K', 'GMRE^A', 'NLY^G', 'GAB^H', 'GUT^C', 'MS^O', 'FHN^C', 'NXDT^A', 'GNL^D', 'MS^I', 'NCZ^A', 'IVR^C', 'NEE^N', 'GGT^E', 'GGN^B', 'KEY^K', 'KIM^L', 'FNB^E', 'HPP^C', 'KEY^J', 'GS^C', 'HFRO^A', 'NS^A', 'GDV^K', 'KIM^M', 'GLP^A', 'GNL^E', 'NREF^A', 'GS^D', 'JPM^C', 'GNL^A', 'NI^B', 'OAK^A', 'MET^A', 'IVR^B', 'FRT^C', 'MS^K', 'KEY^L', 'MS^A', 'NLY^I', 'JPM^K', 'GNT^A', 'HVT/A', 'GLP^B', 'NEE^R', 'GS^A', 'MITT^C', 'LXP^C', 'GTLS^B', 'MFA^C', 'JPM^L', 'FHN^E', 'KREF^A', 'GLU^A', 'JPM^D', 'MTB^H', 'NSA^A', 'GNL^B', 'MITT^B', 'JXN^A', 'NYCB^A', 'FHN^B', 'NGL^C', 'GDV^H', 'HL^B', 'GPMT^A', 'HWM^', 'INN^F', 'INN^E', 'MS^P', 'GS^K', 'MET^F', 'LFT^A', 'HIG^G', 'MS^E', 'OAK^B', 'GL^D', 'JPM^M', 'MAA^I', 'NLY^F', 'MITT^A']: Exception('%ticker%: No timezone found, symbol may be delisted')\n"
     ]
    },
    {
     "name": "stdout",
     "output_type": "stream",
     "text": [
      "\n"
     ]
    },
    {
     "name": "stderr",
     "output_type": "stream",
     "text": [
      " 67%|██████▋   | 2/3 [08:19<04:09, 249.98s/it]"
     ]
    },
    {
     "name": "stdout",
     "output_type": "stream",
     "text": [
      "[**********************62%%****                  ]  1153 of 1870 completed"
     ]
    },
    {
     "name": "stderr",
     "output_type": "stream",
     "text": [
      "Failed to get ticker 'WSO/B' reason: Expecting value: line 1 column 1 (char 0)\n"
     ]
    },
    {
     "name": "stdout",
     "output_type": "stream",
     "text": [
      "[*********************100%%**********************]  1870 of 1870 completed"
     ]
    },
    {
     "name": "stderr",
     "output_type": "stream",
     "text": [
      "\n",
      "1870 Failed downloads:\n",
      "['WINVR', 'SBUX', 'PAYO', 'SKIN', 'SCOR', 'XPRO', 'PFC', 'WGO', 'TCI', 'PD', 'SRM', 'PUMP', 'UBX', 'RILYP', 'OTLK', 'XLO', 'XMTR', 'PAY', 'SM', 'PINE', 'VTR', 'ZTS', 'RDZN', 'PTGX', 'VCSA', 'SNPO', 'TLYS', 'SRZNW', 'PLPC', 'VLT', 'PIK', 'TNGX', 'PWUPU', 'PFD', 'ZIMV', 'TGI', 'RGTI', 'SNES', 'SUPN', 'STE', 'VSACW', 'SFM', 'PKST', 'WMS', 'RWAY', 'SEER', 'WHG', 'YUM', 'PBH', 'QVCC', 'PINC', 'VECO', 'TRI', 'QOMO', 'RENB', 'TDG', 'SHPWW', 'PTWO', 'PNNT', 'TBBK', 'TRONU', 'YOTAW', 'WTRG', 'RNA', 'SRRK', 'VRCA', 'PDM', 'WRBY', 'TGNA', 'SMHI', 'OXLCM', 'RVMDW', 'UMBF', 'SPRY', 'PSMT', 'RDZNW', 'VLY', 'PCYO', 'SEB', 'SEEL', 'OMIC', 'ORIC', 'SCI', 'UHG', 'SFNC', 'SOFI', 'WELL', 'OPY', 'VERY', 'PEBO', 'SWN', 'SSIC', 'VEEE', 'STRT', 'PHT', 'OUT', 'PRPO', 'RUSHA', 'UNFI', 'STIXW', 'POST', 'TURN', 'POLA', 'TUP', 'TWN', 'PTWOU', 'VLD', 'SCLXW', 'TMTCR', 'TRDA', 'WSBF', 'VRPX', 'VGZ', 'VSTS', 'PLAY', 'RILY', 'USGO', 'SEMR', 'RNXT', 'TPST', 'PANW', 'W', 'SHBI', 'VVOS', 'VRNT', 'RXT', 'SWKS', 'SLCA', 'PNFPP', 'RPRX', 'PRST', 'UWMC', 'THR', 'ON', 'RDW', 'PARAA', 'PRDO', 'QLYS', 'TCBI', 'WAFD', 'TRS', 'STEW', 'PFH', 'ZCARW', 'TNXP', 'TWOU', 'SPKL', 'SWTX', 'WHLRD', 'QTRX', 'PALT', 'PFTA', 'WFC', 'TCPC', 'TBLD', 'VRRM', 'TRMB', 'SWKH', 'WORX', 'REAL', 'PSEC', 'PCRX', 'TMDX', 'TY', 'THG', 'UKOMW', 'SACC', 'QDEL', 'PBF', 'TUSK', 'UGI', 'TWST', 'OSCR', 'OSK', 'RKT', 'SJT', 'PRS', 'XPON', 'SVIIW', 'YEXT', 'TBIO', 'SAFT', 'RLJ', 'VBF', 'TRT', 'YCBD', 'QCRH', 'TTC', 'RMBL', 'SND', 'PROK', 'SEAT', 'RANI', 'SEZL', 'TPB', 'ORN', 'SIEB', 'RMBI', 'VBIV', 'PLUS', 'RMBS', 'XOSWW', 'UFI', 'TSCO', 'PL', 'SKYX', 'RCACU', 'POAI', 'TWI', 'ORRF', 'REVBW', 'SUI', 'USAC', 'SAGE', 'WTI', 'PIII', 'SSTI', 'PIPR', 'SYBT', 'VNO', 'STXS', 'TRUP', 'TWKS', 'TENB', 'PTCT', 'ZOM', 'TALK', 'S', 'WALDW', 'PEG', 'VTLE', 'WERN', 'SHEN', 'ROL', 'SGMT', 'RMCO', 'SSD', 'RARE', 'PHX', 'SST', 'SUP', 'VZIO', 'RRBI', 'OSPN', 'SIX', 'WAL', 'UZE', 'VMO', 'RH', 'UAL', 'SEIC', 'WT', 'SANA', 'UPS', 'SCVL', 'SNX', 'TGAN', 'SN', 'PFGC', 'TME', 'SOR', 'RDVT', 'PBLA', 'SXI', 'TVE', 'WHLM', 'PLYM', 'SOUNW', 'PRIM', 'THRM', 'PARA', 'SAJ', 'THO', 'SPT', 'THRY', 'RES', 'TPL', 'TRVN', 'UDMY', 'PTPI', 'PTY', 'TR', 'PYPL', 'TELL', 'SOHOB', 'VIAV', 'RFIL', 'SO', 'WWR', 'SKYW', 'SCD', 'SIGA', 'OSUR', 'TMP', 'VRTS', 'OZK', 'VIRX', 'ORA', 'RCKY', 'STAG', 'UNM', 'XPL', 'ONEW', 'UBFO', 'SPGC', 'SHCR', 'SDGR', 'USIO', 'SSKN', 'SLACW', 'OSG', 'UCTT', 'SMG', 'OXM', 'WFCF', 'SCSC', 'QTWO', 'URI', 'SLAMU', 'PEP', 'STZ', 'OOMA', 'WM', 'RLAY', 'TLF', 'SATS', 'VRTX', 'ZM', 'SWSSW', 'SPOK', 'RCEL', 'PRA', 'RVPHW', 'PAYC', 'SSSS', 'SASR', 'WHF', 'POWL', 'SGHT', 'PLTR', 'TTGT', 'UDR', 'RNP', 'WALD', 'VMI', 'RYI', 'SBH', 'RCL', 'UTZ', 'RYAN', 'OXLC', 'SIGIP', 'ONL', 'QETAR', 'XXII', 'ZTR', 'SENEB', 'OSS', 'THCP', 'QS', 'WVVI', 'WISH', 'PIXY', 'RELL', 'SMSI', 'VIA', 'TCBIO', 'PNTG', 'TTSH', 'UNTY', 'RGCO', 'PTWOW', 'RCKTW', 'SVII', 'THFF', 'SMP', 'SPE', 'WES', 'RWAYL', 'WD', 'STLD', 'TNDM', 'SHPH', 'PODC', 'RIVN', 'PCVX', 'XELA', 'VYNE', 'RZLT', 'PLUG', 'PLTN', 'PLXS', 'RGS', 'SSSSL', 'WEST', 'QOMOR', 'RICK', 'SABA', 'RIGL', 'VMEO', 'WST', 'SMBC', 'PML', 'RLGT', 'VSTM', 'SBFG', 'PBBK', 'ULBI', 'SAMG', 'WOR', 'SSNC', 'SRDX', 'WH', 'SHO', 'SRV', 'VRDN', 'WRK', 'VOC', 'PET', 'VGM', 'UUU', 'UTL', 'SRE', 'THQ', 'ORCL', 'SPCE', 'WTTR', 'SAVE', 'SEM', 'WEN', 'QNST', 'SHOT', 'QQQX', 'SSNT', 'OWL', 'WFRD', 'UBCP', 'RBC', 'OXSQZ', 'XGN', 'TSI', 'ONBPP', 'OPCH', 'SGC', 'TAYD', 'TWLV', 'PAYS', 'RNAZ', 'VERX', 'PLCE', 'WESTW', 'PCTTW', 'TCBX', 'SBI', 'PHM', 'PAXS', 'XELB', 'USAU', 'WTFC', 'VTSI', 'ROAD', 'VGAS', 'PDT', 'UVV', 'VKQ', 'STT', 'PDCO', 'TMTC', 'RVLV', 'SYPR', 'SRCE', 'SABR', 'WAVD', 'XPEL', 'PDO', 'WIW', 'SMFL', 'ONBPO', 'ZVSA', 'ONB', 'QUAD', 'SWX', 'PODD', 'OUST', 'STC', 'SHLS', 'SCYX', 'SQFTW', 'PCH', 'PSA', 'RSI', 'TWO', 'ONDS', 'SFB', 'OPK', 'VERV', 'PGP', 'PLMR', 'TOMZ', 'PCT', 'WRAP', 'VPV', 'WSBC', 'UVSP', 'SGRY', 'TMUS', 'TRML', 'OPRT', 'SPLP', 'WMT', 'SQFTP', 'VTYX', 'VTOL', 'SNAL', 'SHFSW', 'VRE', 'WIRE', 'SE', 'SCCB', 'TCBC', 'SNPS', 'VRM', 'VLTO', 'UAA', 'VISL', 'WTM', 'WSO', 'TRTX', 'SGU', 'WBS', 'VEEV', 'UONE', 'TELA', 'SPSC', 'TGL', 'PWR', 'VWEWW', 'USPH', 'SCLX', 'SGH', 'RM', 'STRS', 'TRIP', 'TXRH', 'VAXX', 'SGMO', 'ZNTL', 'SNCRL', 'VC', 'WSC', 'QVCD', 'WSBCP', 'PCTY', 'SMMT', 'SLM', 'SCPH', 'USB', 'WDFC', 'WHR', 'TRUE', 'STEP', 'OTRK', 'SVRA', 'SCCD', 'USCTW', 'QETA', 'SKLZ', 'ORI', 'TTNP', 'UNIT', 'THRD', 'TSQ', 'TVC', 'TTEK', 'YHGJ', 'PAVMZ', 'SLNH', 'PCN', 'TASK', 'WLDN', 'UPLD', 'PROV', 'OPBK', 'PBI', 'OPRX', 'SNCY', 'RILYG', 'SHYF', 'ONYX', 'SNOA', 'PAVM', 'OPTN', 'RLI', 'SPHR', 'PEN', 'PAYX', 'TOI', 'UCBIO', 'TPG', 'SIBN', 'PR', 'OPAL', 'XERS', 'UIS', 'PNI', 'SXT', 'ROST', 'OMER', 'RELIW', 'VVI', 'SPG', 'TNET', 'SR', 'OPAD', 'VOXX', 'SLNG', 'SURG', 'SNA', 'RWOD', 'TCBS', 'QRTEB', 'UHS', 'WIA', 'RSSS', 'PATK', 'WMK', 'SMCI', 'UFPI', 'SBOW', 'WLY', 'VBTX', 'WEYS', 'SCCE', 'PHD', 'SEVN', 'TFIN', 'PCQ', 'SOUN', 'PGR', 'ONYXW', 'SGRP', 'SG', 'SJW', 'STSS', 'RXST', 'VHI', 'VCV', 'PDSB', 'STOK', 'RGEN', 'PTC', 'PWOD', 'PACK', 'QSIAW', 'SMID', 'TPCS', 'SNDX', 'SWI', 'SNAX', 'PSX', 'TRINL', 'ZETA', 'SMBK', 'THC', 'ZUMZ', 'SLAM', 'RDI', 'SFBC', 'SILO', 'SLVM', 'TERN', 'SRBK', 'VTGN', 'PHIN', 'SRCL', 'WYNN', 'PH', 'RPID', 'SMLP', 'PDEX', 'SWKHL', 'SMPL', 'TEX', 'PLTNR', 'PYN', 'OPEN', 'TXMD', 'REGCO', 'WBD', 'PLMI', 'SES', 'SOTK', 'TRGP', 'UHGWW', 'SWZ', 'REYN', 'PHK', 'VITL', 'WULF', 'STTK', 'UPBD', 'PBT', 'XTNT', 'RVPH', 'RAIL', 'RGA', 'RITM', 'RWAYZ', 'TROX', 'SOND', 'PPT', 'PDI', 'PEB', 'WTBA', 'VRA', 'RWT', 'SHIM', 'XFIN', 'VSAC', 'SCM', 'PWFL', 'TER', 'TWLO', 'PYXS', 'VWE', 'PRVA', 'PG', 'VICI', 'TTP', 'SPECW', 'SLS', 'SQ', 'UHAL', 'ZS', 'TSE', 'USEG', 'OPXS', 'PKOH', 'STRR', 'OVLY', 'SMTI', 'RCKT', 'SKY', 'VLGEA', 'UTMD', 'OTECU', 'PEO', 'PNC', 'QRVO', 'PCK', 'SAR', 'WINA', 'PRT', 'VMC', 'SOHON', 'RBCAA', 'XBIT', 'PRAX', 'RRC', 'RCUS', 'TSBK', 'OXLCN', 'SYF', 'SPXC', 'TSRI', 'PPSI', 'TPC', 'XBIOW', 'QNCX', 'UGRO', 'UNH', 'SLDP', 'VOR', 'RILYL', 'PCB', 'RLMD', 'RPHM', 'TPVG', 'TACT', 'TYGO', 'RMAX', 'SIF', 'SMAR', 'PBYI', 'UGIC', 'POCI', 'XPO', 'XHR', 'PM', 'WLKP', 'PCF', 'PTON', 'PPYAW', 'XOMAP', 'TRV', 'SILK', 'OMI', 'XRAY', 'THWWW', 'OXLCP', 'YMAB', 'TOWN', 'UTHR', 'RHP', 'RILYT', 'WY', 'TPZ', 'PSTG', 'SYBX', 'PNFP', 'VRME', 'SHFS', 'PRU', 'VTVT', 'VGI', 'OTIS', 'VICR', 'REBN', 'TLSI', 'OXY', 'SLRC', 'PRFT', 'PLRX', 'SNFCA', 'SNV', 'PRLH', 'VLYPP', 'PLBC', 'WEC', 'PFN', 'RENT', 'RF', 'SPWH', 'SNAP', 'SKX', 'SRTS', 'WPC', 'OVID', 'TOL', 'QIPT', 'PFX', 'SAY', 'TECH', 'OTECW', 'PCOR', 'WEX', 'VIASP', 'WAB', 'SIRI', 'WSM', 'SAM', 'STRO', 'SLMBP', 'SWAV', 'RUM', 'XPOF', 'RNST', 'SPEC', 'RKDA', 'WNEB', 'VFL', 'SANW', 'VTS', 'PPIH', 'TG', 'TRMK', 'SSYS', 'RMD', 'PNF', 'SCCC', 'RBLX', 'TRNR', 'PNBK', 'TDS', 'RGTIW', 'SPWR', 'SBSI', 'SQSP', 'WYY', 'PHAT', 'TCON', 'TBMCR', 'RILYM', 'RLYB', 'REG', 'RUN', 'V', 'PLSE', 'SSB', 'PNW', 'OXLCZ', 'TFINP', 'REVG', 'WGSWW', 'USAP', 'VVV', 'PARR', 'SPB', 'SBT', 'RUSHB', 'TLGYW', 'STRM', 'OPTX', 'TALO', 'PWUP', 'SAIC', 'PRGO', 'SERA', 'SPH', 'PAYOW', 'PW', 'PXLW', 'VERB', 'TZOO', 'PTMN', 'TDY', 'ULY', 'VERI', 'TW', 'VZ', 'RKLB', 'VVX', 'RDUS', 'STKS', 'ZEUS', 'WAT', 'WOOF', 'USFD', 'RGF', 'WW', 'QRTEP', 'SMTC', 'PLAB', 'PZC', 'SOJE', 'SFIX', 'TENKR', 'VKI', 'VSCO', 'XOMA', 'SRG', 'SLG', 'TBMC', 'RDFN', 'TNON', 'RNGR', 'POR', 'UONEK', 'SURGW', 'SKWD', 'U', 'RRR', 'USNA', 'PFL', 'RSVR', 'SCCF', 'PTLO', 'SBCF', 'TENX', 'REFI', 'PWSC', 'REXR', 'SYRA', 'SKIL', 'TBLT', 'PFXNZ', 'SCCO', 'WMPN', 'SMLR', 'WU', 'YORW', 'SPR', 'PROP', 'PMD', 'PI', 'PKG', 'VHC', 'WAVSW', 'UG', 'SREA', 'OPTXW', 'TRN', 'RUMBW', 'UTF', 'TGT', 'SONDW', 'RCMT', 'SONO', 'UNCY', 'PMX', 'SSTK', 'SEATW', 'RELY', 'PSTX', 'XEL', 'PFG', 'VRSN', 'SON', 'TNC', 'TCS', 'UAN', 'XAIR', 'ZVRA', 'UAVS', 'XRX', 'ONCO', 'RCS', 'VIRC', 'TCRT', 'STAA', 'SNDA', 'SALM', 'VIRI', 'TVTX', 'VSEC', 'VVR', 'X', 'RQI', 'RVYL', 'STAF', 'TREX', 'WMG', 'QLGN', 'PLMIW', 'PEGR', 'SD', 'RMCOW', 'RWODR', 'OMF', 'PDLB', 'SLDPW', 'VCTR', 'PMTU', 'UFCS', 'TSLA', 'WISA', 'OSIS', 'SGMA', 'RS', 'RVTY', 'SMR', 'SVT', 'USM', 'SLRX', 'PRTA', 'PMTS', 'XNCR', 'VFC', 'TBNK', 'SGLY', 'OPGN', 'VRT', 'SLE', 'OSBC', 'WLYB', 'PZG', 'PGNY', 'UNF', 'XBIO', 'ZVIA', 'REGN', 'TREE', 'WTFCM', 'TPH', 'THS', 'TISI', 'SFST', 'PETV', 'TIL', 'PVBC', 'RJF', 'PULM', 'TDUP', 'UFPT', 'STCN', 'TMCI', 'YOTA', 'ZUO', 'PRLD', 'OPHC', 'SLNO', 'SFBS', 'SBRA', 'OMEX', 'VTN', 'SPRU', 'STBA', 'SCKT', 'TSN', 'SLGCW', 'XOS', 'SDOT', 'USCB', 'UZF', 'SITC', 'VANI', 'QETAU', 'SUM', 'SCWO', 'ROK', 'VIVK', 'VSTO', 'TLS', 'SAZ', 'SNBR', 'TIPT', 'PBFS', 'WHLR', 'TYG', 'SYRE', 'UBSI', 'XFOR', 'SCS', 'VCEL', 'PSTV', 'SYY', 'WCC', 'TWIN', 'UNP', 'SAH', 'PZZA', 'REX', 'TTOO', 'SDIG', 'PETQ', 'TRAK', 'SLAB', 'STEM', 'REPX', 'SLP', 'PEV', 'SPIR', 'UK', 'RZB', 'TYRA', 'TEI', 'SENEA', 'QRTEA', 'ULCC', 'VLYPO', 'OSA', 'QUBT', 'PTVE', 'PMT', 'PLBY', 'TENK', 'PFMT', 'WDC', 'SABSW', 'RMTI', 'OTTR', 'RYAM', 'OPOF', 'PMCB', 'WDAY', 'ONCT', 'UA', 'UCBI', 'RAVE', 'PFIE', 'POWI', 'ZIONO', 'TFFP', 'SXTP', 'OXSQG', 'REGCP', 'TTD', 'VCYT', 'RMT', 'SYK', 'PPL', 'QDROW', 'SLND', 'PLOW', 'PAR', 'OPTT', 'UNB', 'TDC', 'SGA', 'PAI', 'VATE', 'SRI', 'SITM', 'SNTI', 'PMVP', 'RVP', 'VAL', 'SBGI', 'TRU', 'TLRY', 'WTFCP', 'ZBH', 'UI', 'SLAMW', 'ROKU', 'WLK', 'TITN', 'PKE', 'PENN', 'ONTF', 'VMCA', 'SONN', 'REKR', 'ROCL', 'SUN', 'RNG', 'ULH', 'PAHC', 'PRSO', 'RBB', 'TTEC', 'PK', 'VNOM', 'PGEN', 'YETI', 'PRME', 'RSG', 'TOVX', 'QMCO', 'VBFC', 'SCWX', 'WHD', 'SJM', 'SHC', 'WAFDP', 'SVIIR', 'PEGY', 'RXRX', 'TNONW', 'SENS', 'PLD', 'PTIXW', 'VXRT', 'RZC', 'TYL', 'USCT', 'RFI', 'ONTO', 'ZION', 'VIR', 'VPG', 'SCX', 'ROP', 'TAIT', 'PESI', 'RBBN', 'RCG', 'PTEN', 'TELZ', 'PWUPW', 'PFE', 'RCRTW', 'SHCRW', 'WEAV', 'TKNO', 'SOI', 'TROW', 'WRB', 'YUMC', 'PACB', 'STRL', 'VSH', 'PVL', 'SNGX', 'VSAT', 'PECO', 'VNT', 'VLO', 'RAND', 'SPXX', 'WVVIP', 'RAMP', 'UVE', 'ORGN', 'TALKW', 'THCPW', 'WHFCL', 'UHT', 'THW', 'STSSW', 'OXSQ', 'XELAP', 'TXT', 'POWWP', 'TILE', 'TRNO', 'VAC', 'TNYA', 'WEA', 'PMO', 'UPWK', 'VEL', 'ZBRA', 'TXN', 'TGTX', 'RCC', 'VGASW', 'ROCK', 'RTO', 'TPR', 'XPER', 'XBP', 'PPG', 'UPXI', 'TDW', 'TRC', 'R', 'RPM', 'XCUR', 'VIEW', 'TWLVW', 'POWW', 'VUZI', 'TARS', 'ZG', 'SLNHP', 'RGP', 'VRSK', 'SCCG', 'ORGNW', 'RDIB', 'PLNT', 'PIM', 'SSY', 'UMH', 'STRRP', 'TBI', 'PBPB', 'PEPG', 'SHPW', 'TCRX', 'UBER', 'PMF', 'PRGS', 'RMNI', 'TLSIW', 'TBC', 'SPKLW', 'SLRN', 'PFBC', 'PRTS', 'PFSI', 'PFTAU', 'XOM', 'WTS', 'SANM', 'PFLT', 'PRK', 'RILYN', 'PLL', 'SMRT', 'VYX', 'XBPEW', 'TFSL', 'VGR', 'WSR', 'SNCR', 'VERU', 'PGRE', 'WLFC', 'RC', 'UZD', 'ROIC', 'PRCT', 'SSBK', 'ZIP', 'XFLT', 'SGD', 'YOU', 'YOTAR', 'WAVS', 'RGLS', 'PCM', 'ZIONP', 'PRPL', 'PETWW', 'SSBI', 'REPL', 'PHR', 'REZI', 'SAVA', 'SXTPW', 'UTG', 'SWK', 'VTNR', 'VTRS', 'SHAK', 'THAR', 'PRAA', 'POOL', 'WINT', 'RENE', 'SKGRW', 'SABS', 'SLQT', 'SHOO', 'RCM', 'VIRT', 'PMGM', 'TRIN', 'RTX', 'TOON', 'PVH', 'RMR', 'SOPA', 'SBAC', 'PYT', 'SIDU', 'VOYA', 'RCB', 'TRON', 'PCG', 'ZCAR', 'ORGO', 'USLM', 'SIGI', 'Z', 'UNMA', 'PHIO', 'XWEL', 'ZI', 'PPYA', 'UTI', 'PKBK', 'TMO', 'WRLD', 'PXMD', 'VINO', 'REI', 'SPKLU', 'WWD', 'TTWO', 'ZWS', 'STRA', 'PRTH', 'WBA', 'URBN', 'VREX', 'WING', 'TMHC', 'RGR', 'UPST', 'SACH', 'RVMD', 'ONVO', 'RMCF', 'SKGR', 'QUIK', 'ROOT', 'STHO', 'PTA', 'PUBM', 'PANL', 'PUCKW', 'SWAG', 'SELF', 'TXG', 'PAGP', 'STK', 'ROG', 'RR', 'STR', 'THCPU', 'RDNT', 'VMD', 'ROCLW', 'TDF', 'RILYO', 'SNSE', 'PFO', 'SEPA', 'TDOC', 'RSLS', 'RPD', 'ORLY', 'TIVC', 'SCHL', 'VYGR', 'PEBK', 'PRTC', 'SWBI', 'RCRT', 'OPINL', 'TECTP', 'SOBR', 'YOSH', 'RDN', 'RNAC', 'RVT', 'PRPH', 'PRI', 'RGNX', 'SOHO', 'OZKAP', 'SBR', 'TBB', 'RAPT', 'PCAR', 'SEE', 'PMM', 'RILYZ', 'OPP', 'PETVW', 'VINC', 'YTEN', 'ONFO', 'PRSTW', 'TFC', 'PNRG', 'TLIS', 'RYN', 'PGC', 'RFL', 'WOLF', 'SQFT', 'THMO', 'RVNC', 'SHW', 'PATH', 'WKC', 'PTHRU', 'UAMY', 'PRO', 'OMQS', 'REVB', 'QSI', 'SOJC', 'PRCH', 'SGBX', 'WGS', 'XOMAO', 'SXC', 'PEGA', 'TCMD', 'TPX', 'STER', 'PFIS', 'PJT', 'WNC', 'QRHC', 'RIOT', 'ORC', 'RRX', 'USA', 'PPBI', 'OVBC', 'PTIX', 'SWIM', 'WS', 'TPIC', 'SOHOO', 'PYCR', 'SKYT', 'PEPLW', 'WATT', 'SWAGW', 'RXO', 'SPGI', 'WASH', 'RVSB', 'SYM', 'OXLCL', 'TNL', 'PCSA', 'VCNX', 'VLCN', 'PSTL', 'TSHA', 'PSN', 'VERO', 'WTMAR', 'RELI', 'OPI', 'RRGB', 'SPTN', 'WKHS', 'WWW', 'SAIA', 'PX', 'PFS', 'PETS', 'WMB', 'TOST', 'PNM', 'TRNS', 'TRVI', 'TARA', 'SF', 'TSBX', 'RL', 'SPRO', 'WABC', 'PB', 'USGOW', 'XYL', 'PPYAU', 'PALI', 'VRAR', 'TH', 'SSP', 'PRH', 'SNOW', 'RGLD', 'SNPX', 'PRLB', 'SOJD', 'SVC', 'WOW', 'SHOTW', 'ORGS', 'OMGA', 'UE', 'RYTM', 'WK', 'SPFI', 'SPRB', 'RPAY', 'TCBK', 'SCL', 'RBCP', 'TRST', 'SNAXW', 'PDFS', 'QCOM', 'PIIIW', 'PCTTU', 'RBKB', 'ZIONL', 'PASG', 'ZD', 'SCHW', 'PBHC', 'YELP', 'RHI', 'WTER', 'VALU', 'RILYK', 'PED', 'STIM', 'VNDA', 'RCAT', 'VIGL', 'TFX', 'VERA', 'STEL', 'WHLRP', 'SNDR', 'SYNA', 'TTI', 'SONM', 'SKT', 'PAG', 'ULTA', 'VERBW', 'VABK', 'TTMI', 'VKTX', 'REFR', 'PRG', 'SAT', 'RSVRW', 'TKR', 'PTSI', 'SYRS', 'TSVT', 'SRZN', 'STWD', 'SITE', 'ZLS', 'PIRS', 'OXLCO', 'SNEX', 'PII', 'PWP', 'PSNL', 'PPC', 'PTN', 'SINT', 'PAA', 'WDI', 'PLTNW', 'SLGN', 'TJX', 'PINS', 'SRPT', 'PFTAW', 'UEIC', 'SAFE', 'WSFS', 'VRNS', 'SLDB']: Exception('%ticker%: 15m data not available for startTime=1715745600 and endTime=1719720000. The requested range must be within the last 60 days.')\n",
      "['WBS^G', 'WBS^F', 'RITM^B', 'TDS^U', 'TRTN^A', 'VNO^L', 'RC^E', 'SF^B', 'SR^A', 'RWT^A', 'PSA^O', 'SCE^K', 'WFC^Y', 'WRB^E', 'WAL^A', 'TWO^C', 'VOYA^B', 'USB^Q', 'TRTN^B', 'USB^P', 'USB^A', 'PCG^G', 'WCC^A', 'TRTN^E', 'SACH^A', 'PEB^E', 'SF^C', 'PEB^F', 'SCE^H', 'SPLP^A', 'TWO^B', 'PCG^D', 'SCHW^D', 'SITC^A', 'PCG^A', 'WRB^G', 'PSA^M', 'TFC^O', 'TFC^R', 'SNV^D', 'STT^G', 'T^A', 'PSA^R', 'UMH^D', 'TDS^V', 'XFLT^A', 'SYF^A', 'PSA^H', 'SPG^J', 'STT^D', 'WRB^H', 'PSA^S', 'WFC^R', 'VNO^N', 'YCBD^A', 'SCE^J', 'USB^S', 'SHO^H', 'RJF^B', 'PCG^B', 'SCE^M', 'WFC^D', 'RITM^C', 'SCE^G', 'SPE^C', 'VNO^M', 'RF^E', 'SF^D', 'PSA^P', 'PSA^G', 'SRC^A', 'SLG^I', 'USB^R', 'SCE^L', 'PSA^N', 'RC^C', 'RITM^A', 'SRG^A', 'PMT^B', 'T^C', 'RLJ^A', 'SCHW^J', 'WSO/B', 'PCG^C', 'REXR^B', 'PSA^Q', 'WFC^A', 'PSA^F', 'WFC^Z', 'TRTN^C', 'PCG^I', 'PMT^A', 'SNV^E', 'PW^A', 'PMT^C', 'WFC^L', 'PSEC^A', 'WFC^C', 'PSA^K', 'TRTN^D', 'SHO^I', 'TFC^I', 'PBI^B', 'PCG^E', 'PSA^I', 'PSA^J', 'PEB^G', 'RF^B', 'WRB^F', 'PSA^L', 'TWO^A', 'TY^', 'REXR^C', 'RF^C', 'TRTX^C', 'OPP^A', 'PCG^H', 'USB^H', 'OPP^B', 'PEB^H', 'VNO^O', 'RITM^D']: Exception('%ticker%: No timezone found, symbol may be delisted')\n",
      "['RMGCU', 'SRT', 'SLGC', 'XPDB', 'SZZLW', 'ZFOX', 'TMST', 'PGTI', 'SUNW', 'ZFOXW', 'RCAC', 'SCTL', 'RMGC', 'SZZL', 'RAIN', 'SNCE', 'PBAX', 'PBAXU', 'ROI', 'SPLK', 'PXD', 'SCRMW', 'PARAP', 'SAGAR', 'TAST', 'PEAK', 'RYZB', 'RCACW', 'SP', 'ROVR', 'PBAXW', 'SFE', 'ONTX', 'SIEN', 'PTHRW', 'OSAAW', 'PTHR', 'SLACU', 'SLAC', 'SOVO', 'SAGA', 'SRC', 'STRC', 'TSP', 'SEAS', 'STRCW', 'XPDBW', 'STIX', 'OTEC', 'POL', 'SCRMU', 'SMMF', 'SASI', 'SCRM', 'VIEWW', 'THRX']: Exception('%ticker%: No data found, symbol may be delisted')\n",
      "['T']: Exception('%ticker%: 15m data not available for start%ticker%ime=1715745600 and end%ticker%ime=1719720000. %ticker%he requested range must be within the last 60 days.')\n"
     ]
    },
    {
     "name": "stdout",
     "output_type": "stream",
     "text": [
      "\n"
     ]
    },
    {
     "name": "stderr",
     "output_type": "stream",
     "text": [
      "100%|██████████| 3/3 [12:36<00:00, 252.13s/it]\n"
     ]
    }
   ],
   "source": [
    "# symbols = list(stocks[stocks['Country'] == 'United States']['Symbol'].values[:500])\n",
    "symbols = list(stocks[stocks['Country'] == 'United States']['Symbol'].values)\n",
    "intervals = 3\n",
    "for i in tqdm(range(intervals)):\n",
    "    if i == 0:\n",
    "        data = yf.download(symbols[:(i+1)*(len(symbols)//intervals)], start_date, end_date, interval='15m')        \n",
    "    elif (i+1)*(len(symbols)//intervals) < len(symbols):\n",
    "        data = pd.concat([data, yf.download(symbols[i*len(symbols)//intervals:(i+1)*(len(symbols)//intervals)], start_date, end_date, interval='15m')], axis=1).sort_index(axis=1)\n",
    "    else:\n",
    "        data = pd.concat([data, yf.download(symbols[i*len(symbols)//intervals:], start_date, end_date, interval='15m')], axis=1).sort_index(axis=1)"
   ]
  },
  {
   "cell_type": "code",
   "execution_count": 11,
   "id": "ea3b8831",
   "metadata": {},
   "outputs": [
    {
     "data": {
      "text/html": [
       "<div>\n",
       "<style scoped>\n",
       "    .dataframe tbody tr th:only-of-type {\n",
       "        vertical-align: middle;\n",
       "    }\n",
       "\n",
       "    .dataframe tbody tr th {\n",
       "        vertical-align: top;\n",
       "    }\n",
       "\n",
       "    .dataframe thead tr th {\n",
       "        text-align: left;\n",
       "    }\n",
       "</style>\n",
       "<table border=\"1\" class=\"dataframe\">\n",
       "  <thead>\n",
       "    <tr>\n",
       "      <th></th>\n",
       "      <th colspan=\"10\" halign=\"left\">Adj Close</th>\n",
       "      <th>...</th>\n",
       "      <th colspan=\"10\" halign=\"left\">Volume</th>\n",
       "    </tr>\n",
       "    <tr>\n",
       "      <th></th>\n",
       "      <th>A</th>\n",
       "      <th>AA</th>\n",
       "      <th>AACI</th>\n",
       "      <th>AACIW</th>\n",
       "      <th>AADI</th>\n",
       "      <th>AAGR</th>\n",
       "      <th>AAGRW</th>\n",
       "      <th>AAIN</th>\n",
       "      <th>AAL</th>\n",
       "      <th>AAMC</th>\n",
       "      <th>...</th>\n",
       "      <th>ZOM</th>\n",
       "      <th>ZS</th>\n",
       "      <th>ZTR</th>\n",
       "      <th>ZTS</th>\n",
       "      <th>ZUMZ</th>\n",
       "      <th>ZUO</th>\n",
       "      <th>ZVIA</th>\n",
       "      <th>ZVRA</th>\n",
       "      <th>ZVSA</th>\n",
       "      <th>ZWS</th>\n",
       "    </tr>\n",
       "  </thead>\n",
       "  <tbody>\n",
       "    <tr>\n",
       "      <th>2024-05-29 09:30:00</th>\n",
       "      <td>NaN</td>\n",
       "      <td>NaN</td>\n",
       "      <td>NaN</td>\n",
       "      <td>NaN</td>\n",
       "      <td>NaN</td>\n",
       "      <td>NaN</td>\n",
       "      <td>NaN</td>\n",
       "      <td>NaN</td>\n",
       "      <td>NaN</td>\n",
       "      <td>NaN</td>\n",
       "      <td>...</td>\n",
       "      <td>NaN</td>\n",
       "      <td>NaN</td>\n",
       "      <td>NaN</td>\n",
       "      <td>NaN</td>\n",
       "      <td>NaN</td>\n",
       "      <td>NaN</td>\n",
       "      <td>NaN</td>\n",
       "      <td>NaN</td>\n",
       "      <td>NaN</td>\n",
       "      <td>NaN</td>\n",
       "    </tr>\n",
       "    <tr>\n",
       "      <th>2024-05-29 09:45:00</th>\n",
       "      <td>NaN</td>\n",
       "      <td>NaN</td>\n",
       "      <td>NaN</td>\n",
       "      <td>NaN</td>\n",
       "      <td>NaN</td>\n",
       "      <td>NaN</td>\n",
       "      <td>NaN</td>\n",
       "      <td>NaN</td>\n",
       "      <td>NaN</td>\n",
       "      <td>NaN</td>\n",
       "      <td>...</td>\n",
       "      <td>NaN</td>\n",
       "      <td>NaN</td>\n",
       "      <td>NaN</td>\n",
       "      <td>NaN</td>\n",
       "      <td>NaN</td>\n",
       "      <td>NaN</td>\n",
       "      <td>NaN</td>\n",
       "      <td>NaN</td>\n",
       "      <td>NaN</td>\n",
       "      <td>NaN</td>\n",
       "    </tr>\n",
       "    <tr>\n",
       "      <th>2024-05-29 10:00:00</th>\n",
       "      <td>NaN</td>\n",
       "      <td>NaN</td>\n",
       "      <td>NaN</td>\n",
       "      <td>NaN</td>\n",
       "      <td>NaN</td>\n",
       "      <td>NaN</td>\n",
       "      <td>NaN</td>\n",
       "      <td>NaN</td>\n",
       "      <td>NaN</td>\n",
       "      <td>NaN</td>\n",
       "      <td>...</td>\n",
       "      <td>NaN</td>\n",
       "      <td>NaN</td>\n",
       "      <td>NaN</td>\n",
       "      <td>NaN</td>\n",
       "      <td>NaN</td>\n",
       "      <td>NaN</td>\n",
       "      <td>NaN</td>\n",
       "      <td>NaN</td>\n",
       "      <td>NaN</td>\n",
       "      <td>NaN</td>\n",
       "    </tr>\n",
       "    <tr>\n",
       "      <th>2024-05-29 10:15:00</th>\n",
       "      <td>NaN</td>\n",
       "      <td>NaN</td>\n",
       "      <td>NaN</td>\n",
       "      <td>NaN</td>\n",
       "      <td>NaN</td>\n",
       "      <td>NaN</td>\n",
       "      <td>NaN</td>\n",
       "      <td>NaN</td>\n",
       "      <td>NaN</td>\n",
       "      <td>NaN</td>\n",
       "      <td>...</td>\n",
       "      <td>NaN</td>\n",
       "      <td>NaN</td>\n",
       "      <td>NaN</td>\n",
       "      <td>NaN</td>\n",
       "      <td>NaN</td>\n",
       "      <td>NaN</td>\n",
       "      <td>NaN</td>\n",
       "      <td>NaN</td>\n",
       "      <td>NaN</td>\n",
       "      <td>NaN</td>\n",
       "    </tr>\n",
       "    <tr>\n",
       "      <th>2024-05-29 10:30:00</th>\n",
       "      <td>NaN</td>\n",
       "      <td>NaN</td>\n",
       "      <td>NaN</td>\n",
       "      <td>NaN</td>\n",
       "      <td>NaN</td>\n",
       "      <td>NaN</td>\n",
       "      <td>NaN</td>\n",
       "      <td>NaN</td>\n",
       "      <td>NaN</td>\n",
       "      <td>NaN</td>\n",
       "      <td>...</td>\n",
       "      <td>NaN</td>\n",
       "      <td>NaN</td>\n",
       "      <td>NaN</td>\n",
       "      <td>NaN</td>\n",
       "      <td>NaN</td>\n",
       "      <td>NaN</td>\n",
       "      <td>NaN</td>\n",
       "      <td>NaN</td>\n",
       "      <td>NaN</td>\n",
       "      <td>NaN</td>\n",
       "    </tr>\n",
       "    <tr>\n",
       "      <th>...</th>\n",
       "      <td>...</td>\n",
       "      <td>...</td>\n",
       "      <td>...</td>\n",
       "      <td>...</td>\n",
       "      <td>...</td>\n",
       "      <td>...</td>\n",
       "      <td>...</td>\n",
       "      <td>...</td>\n",
       "      <td>...</td>\n",
       "      <td>...</td>\n",
       "      <td>...</td>\n",
       "      <td>...</td>\n",
       "      <td>...</td>\n",
       "      <td>...</td>\n",
       "      <td>...</td>\n",
       "      <td>...</td>\n",
       "      <td>...</td>\n",
       "      <td>...</td>\n",
       "      <td>...</td>\n",
       "      <td>...</td>\n",
       "      <td>...</td>\n",
       "    </tr>\n",
       "    <tr>\n",
       "      <th>2024-06-28 14:45:00</th>\n",
       "      <td>NaN</td>\n",
       "      <td>NaN</td>\n",
       "      <td>NaN</td>\n",
       "      <td>NaN</td>\n",
       "      <td>NaN</td>\n",
       "      <td>NaN</td>\n",
       "      <td>NaN</td>\n",
       "      <td>NaN</td>\n",
       "      <td>NaN</td>\n",
       "      <td>NaN</td>\n",
       "      <td>...</td>\n",
       "      <td>NaN</td>\n",
       "      <td>NaN</td>\n",
       "      <td>NaN</td>\n",
       "      <td>NaN</td>\n",
       "      <td>NaN</td>\n",
       "      <td>NaN</td>\n",
       "      <td>NaN</td>\n",
       "      <td>NaN</td>\n",
       "      <td>NaN</td>\n",
       "      <td>NaN</td>\n",
       "    </tr>\n",
       "    <tr>\n",
       "      <th>2024-06-28 15:00:00</th>\n",
       "      <td>NaN</td>\n",
       "      <td>NaN</td>\n",
       "      <td>NaN</td>\n",
       "      <td>NaN</td>\n",
       "      <td>NaN</td>\n",
       "      <td>NaN</td>\n",
       "      <td>NaN</td>\n",
       "      <td>NaN</td>\n",
       "      <td>NaN</td>\n",
       "      <td>NaN</td>\n",
       "      <td>...</td>\n",
       "      <td>NaN</td>\n",
       "      <td>NaN</td>\n",
       "      <td>NaN</td>\n",
       "      <td>NaN</td>\n",
       "      <td>NaN</td>\n",
       "      <td>NaN</td>\n",
       "      <td>NaN</td>\n",
       "      <td>NaN</td>\n",
       "      <td>NaN</td>\n",
       "      <td>NaN</td>\n",
       "    </tr>\n",
       "    <tr>\n",
       "      <th>2024-06-28 15:15:00</th>\n",
       "      <td>NaN</td>\n",
       "      <td>NaN</td>\n",
       "      <td>NaN</td>\n",
       "      <td>NaN</td>\n",
       "      <td>NaN</td>\n",
       "      <td>NaN</td>\n",
       "      <td>NaN</td>\n",
       "      <td>NaN</td>\n",
       "      <td>NaN</td>\n",
       "      <td>NaN</td>\n",
       "      <td>...</td>\n",
       "      <td>NaN</td>\n",
       "      <td>NaN</td>\n",
       "      <td>NaN</td>\n",
       "      <td>NaN</td>\n",
       "      <td>NaN</td>\n",
       "      <td>NaN</td>\n",
       "      <td>NaN</td>\n",
       "      <td>NaN</td>\n",
       "      <td>NaN</td>\n",
       "      <td>NaN</td>\n",
       "    </tr>\n",
       "    <tr>\n",
       "      <th>2024-06-28 15:30:00</th>\n",
       "      <td>NaN</td>\n",
       "      <td>NaN</td>\n",
       "      <td>NaN</td>\n",
       "      <td>NaN</td>\n",
       "      <td>NaN</td>\n",
       "      <td>NaN</td>\n",
       "      <td>NaN</td>\n",
       "      <td>NaN</td>\n",
       "      <td>NaN</td>\n",
       "      <td>NaN</td>\n",
       "      <td>...</td>\n",
       "      <td>NaN</td>\n",
       "      <td>NaN</td>\n",
       "      <td>NaN</td>\n",
       "      <td>NaN</td>\n",
       "      <td>NaN</td>\n",
       "      <td>NaN</td>\n",
       "      <td>NaN</td>\n",
       "      <td>NaN</td>\n",
       "      <td>NaN</td>\n",
       "      <td>NaN</td>\n",
       "    </tr>\n",
       "    <tr>\n",
       "      <th>2024-06-28 15:45:00</th>\n",
       "      <td>NaN</td>\n",
       "      <td>NaN</td>\n",
       "      <td>NaN</td>\n",
       "      <td>NaN</td>\n",
       "      <td>NaN</td>\n",
       "      <td>NaN</td>\n",
       "      <td>NaN</td>\n",
       "      <td>NaN</td>\n",
       "      <td>NaN</td>\n",
       "      <td>NaN</td>\n",
       "      <td>...</td>\n",
       "      <td>NaN</td>\n",
       "      <td>NaN</td>\n",
       "      <td>NaN</td>\n",
       "      <td>NaN</td>\n",
       "      <td>NaN</td>\n",
       "      <td>NaN</td>\n",
       "      <td>NaN</td>\n",
       "      <td>NaN</td>\n",
       "      <td>NaN</td>\n",
       "      <td>NaN</td>\n",
       "    </tr>\n",
       "  </tbody>\n",
       "</table>\n",
       "<p>513 rows × 33672 columns</p>\n",
       "</div>"
      ],
      "text/plain": [
       "                    Adj Close                                               \\\n",
       "                            A  AA AACI AACIW AADI AAGR AAGRW AAIN AAL AAMC   \n",
       "2024-05-29 09:30:00       NaN NaN  NaN   NaN  NaN  NaN   NaN  NaN NaN  NaN   \n",
       "2024-05-29 09:45:00       NaN NaN  NaN   NaN  NaN  NaN   NaN  NaN NaN  NaN   \n",
       "2024-05-29 10:00:00       NaN NaN  NaN   NaN  NaN  NaN   NaN  NaN NaN  NaN   \n",
       "2024-05-29 10:15:00       NaN NaN  NaN   NaN  NaN  NaN   NaN  NaN NaN  NaN   \n",
       "2024-05-29 10:30:00       NaN NaN  NaN   NaN  NaN  NaN   NaN  NaN NaN  NaN   \n",
       "...                       ...  ..  ...   ...  ...  ...   ...  ...  ..  ...   \n",
       "2024-06-28 14:45:00       NaN NaN  NaN   NaN  NaN  NaN   NaN  NaN NaN  NaN   \n",
       "2024-06-28 15:00:00       NaN NaN  NaN   NaN  NaN  NaN   NaN  NaN NaN  NaN   \n",
       "2024-06-28 15:15:00       NaN NaN  NaN   NaN  NaN  NaN   NaN  NaN NaN  NaN   \n",
       "2024-06-28 15:30:00       NaN NaN  NaN   NaN  NaN  NaN   NaN  NaN NaN  NaN   \n",
       "2024-06-28 15:45:00       NaN NaN  NaN   NaN  NaN  NaN   NaN  NaN NaN  NaN   \n",
       "\n",
       "                     ... Volume                                          \n",
       "                     ...    ZOM  ZS ZTR ZTS ZUMZ ZUO ZVIA ZVRA ZVSA ZWS  \n",
       "2024-05-29 09:30:00  ...    NaN NaN NaN NaN  NaN NaN  NaN  NaN  NaN NaN  \n",
       "2024-05-29 09:45:00  ...    NaN NaN NaN NaN  NaN NaN  NaN  NaN  NaN NaN  \n",
       "2024-05-29 10:00:00  ...    NaN NaN NaN NaN  NaN NaN  NaN  NaN  NaN NaN  \n",
       "2024-05-29 10:15:00  ...    NaN NaN NaN NaN  NaN NaN  NaN  NaN  NaN NaN  \n",
       "2024-05-29 10:30:00  ...    NaN NaN NaN NaN  NaN NaN  NaN  NaN  NaN NaN  \n",
       "...                  ...    ...  ..  ..  ..  ...  ..  ...  ...  ...  ..  \n",
       "2024-06-28 14:45:00  ...    NaN NaN NaN NaN  NaN NaN  NaN  NaN  NaN NaN  \n",
       "2024-06-28 15:00:00  ...    NaN NaN NaN NaN  NaN NaN  NaN  NaN  NaN NaN  \n",
       "2024-06-28 15:15:00  ...    NaN NaN NaN NaN  NaN NaN  NaN  NaN  NaN NaN  \n",
       "2024-06-28 15:30:00  ...    NaN NaN NaN NaN  NaN NaN  NaN  NaN  NaN NaN  \n",
       "2024-06-28 15:45:00  ...    NaN NaN NaN NaN  NaN NaN  NaN  NaN  NaN NaN  \n",
       "\n",
       "[513 rows x 33672 columns]"
      ]
     },
     "execution_count": 11,
     "metadata": {},
     "output_type": "execute_result"
    }
   ],
   "source": [
    "data"
   ]
  },
  {
   "cell_type": "code",
   "execution_count": 12,
   "id": "4d68cec2",
   "metadata": {},
   "outputs": [
    {
     "data": {
      "text/plain": [
       "(806, 33672)"
      ]
     },
     "execution_count": 12,
     "metadata": {},
     "output_type": "execute_result"
    }
   ],
   "source": [
    "data.shape"
   ]
  },
  {
   "cell_type": "code",
   "execution_count": 12,
   "id": "c379802a",
   "metadata": {},
   "outputs": [
    {
     "data": {
      "text/plain": [
       "(513, 33672)"
      ]
     },
     "execution_count": 12,
     "metadata": {},
     "output_type": "execute_result"
    }
   ],
   "source": [
    "data.shape"
   ]
  },
  {
   "cell_type": "code",
   "execution_count": 13,
   "id": "40023458",
   "metadata": {},
   "outputs": [],
   "source": [
    "dates = np.unique([i.date() for i in data['Open'].index])"
   ]
  },
  {
   "cell_type": "code",
   "execution_count": 14,
   "id": "ddcfe017-00a4-4c9a-819c-5eadb66001ea",
   "metadata": {},
   "outputs": [],
   "source": [
    "# data = data['Open']"
   ]
  },
  {
   "cell_type": "code",
   "execution_count": 15,
   "id": "6b372964",
   "metadata": {},
   "outputs": [],
   "source": [
    "# dates = np.unique([i.date() for i in data.index])"
   ]
  },
  {
   "cell_type": "code",
   "execution_count": 16,
   "id": "b84776e9-77bb-4e61-a1dc-6f277d18daf6",
   "metadata": {},
   "outputs": [
    {
     "data": {
      "text/plain": [
       "((513, 33672), 19.73076923076923)"
      ]
     },
     "execution_count": 16,
     "metadata": {},
     "output_type": "execute_result"
    }
   ],
   "source": [
    "data.shape, data.shape[0]/26"
   ]
  },
  {
   "cell_type": "code",
   "execution_count": 17,
   "id": "b5ed0584",
   "metadata": {},
   "outputs": [],
   "source": [
    "full_dataset = [True if np.isnan(data[name]).sum() == 0 else False for name in data.columns]"
   ]
  },
  {
   "cell_type": "code",
   "execution_count": 18,
   "id": "fa20c62a",
   "metadata": {},
   "outputs": [
    {
     "data": {
      "text/plain": [
       "MultiIndex([('Adj Close', 'INBX'),\n",
       "            (    'Close', 'INBX'),\n",
       "            (     'High', 'INBX'),\n",
       "            (      'Low', 'INBX'),\n",
       "            (     'Open', 'INBX'),\n",
       "            (   'Volume', 'INBX')],\n",
       "           )"
      ]
     },
     "execution_count": 18,
     "metadata": {},
     "output_type": "execute_result"
    }
   ],
   "source": [
    "data.columns[full_dataset]"
   ]
  },
  {
   "cell_type": "code",
   "execution_count": 19,
   "id": "58e16cfb",
   "metadata": {},
   "outputs": [],
   "source": [
    "data = data[data.columns[full_dataset]]"
   ]
  },
  {
   "cell_type": "code",
   "execution_count": 20,
   "id": "66bfcff8",
   "metadata": {},
   "outputs": [
    {
     "data": {
      "text/html": [
       "<div>\n",
       "<style scoped>\n",
       "    .dataframe tbody tr th:only-of-type {\n",
       "        vertical-align: middle;\n",
       "    }\n",
       "\n",
       "    .dataframe tbody tr th {\n",
       "        vertical-align: top;\n",
       "    }\n",
       "\n",
       "    .dataframe thead tr th {\n",
       "        text-align: left;\n",
       "    }\n",
       "</style>\n",
       "<table border=\"1\" class=\"dataframe\">\n",
       "  <thead>\n",
       "    <tr>\n",
       "      <th></th>\n",
       "      <th>Adj Close</th>\n",
       "      <th>Close</th>\n",
       "      <th>High</th>\n",
       "      <th>Low</th>\n",
       "      <th>Open</th>\n",
       "      <th>Volume</th>\n",
       "    </tr>\n",
       "    <tr>\n",
       "      <th></th>\n",
       "      <th>INBX</th>\n",
       "      <th>INBX</th>\n",
       "      <th>INBX</th>\n",
       "      <th>INBX</th>\n",
       "      <th>INBX</th>\n",
       "      <th>INBX</th>\n",
       "    </tr>\n",
       "  </thead>\n",
       "  <tbody>\n",
       "    <tr>\n",
       "      <th>2024-05-29 09:30:00</th>\n",
       "      <td>34.455002</td>\n",
       "      <td>34.455002</td>\n",
       "      <td>34.490002</td>\n",
       "      <td>34.250000</td>\n",
       "      <td>34.345001</td>\n",
       "      <td>2543</td>\n",
       "    </tr>\n",
       "    <tr>\n",
       "      <th>2024-05-29 09:45:00</th>\n",
       "      <td>34.395000</td>\n",
       "      <td>34.395000</td>\n",
       "      <td>34.450001</td>\n",
       "      <td>34.395000</td>\n",
       "      <td>34.450001</td>\n",
       "      <td>4161</td>\n",
       "    </tr>\n",
       "    <tr>\n",
       "      <th>2024-05-29 10:00:00</th>\n",
       "      <td>34.330002</td>\n",
       "      <td>34.330002</td>\n",
       "      <td>34.397999</td>\n",
       "      <td>34.320000</td>\n",
       "      <td>34.369999</td>\n",
       "      <td>28554</td>\n",
       "    </tr>\n",
       "    <tr>\n",
       "      <th>2024-05-29 10:15:00</th>\n",
       "      <td>34.345001</td>\n",
       "      <td>34.345001</td>\n",
       "      <td>34.360001</td>\n",
       "      <td>34.314999</td>\n",
       "      <td>34.349998</td>\n",
       "      <td>17330</td>\n",
       "    </tr>\n",
       "    <tr>\n",
       "      <th>2024-05-29 10:30:00</th>\n",
       "      <td>34.299999</td>\n",
       "      <td>34.299999</td>\n",
       "      <td>34.359001</td>\n",
       "      <td>34.299999</td>\n",
       "      <td>34.340000</td>\n",
       "      <td>14960</td>\n",
       "    </tr>\n",
       "    <tr>\n",
       "      <th>...</th>\n",
       "      <td>...</td>\n",
       "      <td>...</td>\n",
       "      <td>...</td>\n",
       "      <td>...</td>\n",
       "      <td>...</td>\n",
       "      <td>...</td>\n",
       "    </tr>\n",
       "    <tr>\n",
       "      <th>2024-06-28 14:45:00</th>\n",
       "      <td>14.160000</td>\n",
       "      <td>14.160000</td>\n",
       "      <td>14.160000</td>\n",
       "      <td>14.080000</td>\n",
       "      <td>14.080000</td>\n",
       "      <td>1321</td>\n",
       "    </tr>\n",
       "    <tr>\n",
       "      <th>2024-06-28 15:00:00</th>\n",
       "      <td>14.100000</td>\n",
       "      <td>14.100000</td>\n",
       "      <td>14.160000</td>\n",
       "      <td>14.070000</td>\n",
       "      <td>14.150000</td>\n",
       "      <td>5919</td>\n",
       "    </tr>\n",
       "    <tr>\n",
       "      <th>2024-06-28 15:15:00</th>\n",
       "      <td>14.150000</td>\n",
       "      <td>14.150000</td>\n",
       "      <td>14.150000</td>\n",
       "      <td>13.980000</td>\n",
       "      <td>13.995000</td>\n",
       "      <td>6235</td>\n",
       "    </tr>\n",
       "    <tr>\n",
       "      <th>2024-06-28 15:30:00</th>\n",
       "      <td>14.170000</td>\n",
       "      <td>14.170000</td>\n",
       "      <td>14.170000</td>\n",
       "      <td>14.075000</td>\n",
       "      <td>14.140000</td>\n",
       "      <td>13639</td>\n",
       "    </tr>\n",
       "    <tr>\n",
       "      <th>2024-06-28 15:45:00</th>\n",
       "      <td>14.180000</td>\n",
       "      <td>14.180000</td>\n",
       "      <td>14.780000</td>\n",
       "      <td>14.040000</td>\n",
       "      <td>14.200000</td>\n",
       "      <td>217733</td>\n",
       "    </tr>\n",
       "  </tbody>\n",
       "</table>\n",
       "<p>513 rows × 6 columns</p>\n",
       "</div>"
      ],
      "text/plain": [
       "                     Adj Close      Close       High        Low       Open  \\\n",
       "                          INBX       INBX       INBX       INBX       INBX   \n",
       "2024-05-29 09:30:00  34.455002  34.455002  34.490002  34.250000  34.345001   \n",
       "2024-05-29 09:45:00  34.395000  34.395000  34.450001  34.395000  34.450001   \n",
       "2024-05-29 10:00:00  34.330002  34.330002  34.397999  34.320000  34.369999   \n",
       "2024-05-29 10:15:00  34.345001  34.345001  34.360001  34.314999  34.349998   \n",
       "2024-05-29 10:30:00  34.299999  34.299999  34.359001  34.299999  34.340000   \n",
       "...                        ...        ...        ...        ...        ...   \n",
       "2024-06-28 14:45:00  14.160000  14.160000  14.160000  14.080000  14.080000   \n",
       "2024-06-28 15:00:00  14.100000  14.100000  14.160000  14.070000  14.150000   \n",
       "2024-06-28 15:15:00  14.150000  14.150000  14.150000  13.980000  13.995000   \n",
       "2024-06-28 15:30:00  14.170000  14.170000  14.170000  14.075000  14.140000   \n",
       "2024-06-28 15:45:00  14.180000  14.180000  14.780000  14.040000  14.200000   \n",
       "\n",
       "                     Volume  \n",
       "                       INBX  \n",
       "2024-05-29 09:30:00    2543  \n",
       "2024-05-29 09:45:00    4161  \n",
       "2024-05-29 10:00:00   28554  \n",
       "2024-05-29 10:15:00   17330  \n",
       "2024-05-29 10:30:00   14960  \n",
       "...                     ...  \n",
       "2024-06-28 14:45:00    1321  \n",
       "2024-06-28 15:00:00    5919  \n",
       "2024-06-28 15:15:00    6235  \n",
       "2024-06-28 15:30:00   13639  \n",
       "2024-06-28 15:45:00  217733  \n",
       "\n",
       "[513 rows x 6 columns]"
      ]
     },
     "execution_count": 20,
     "metadata": {},
     "output_type": "execute_result"
    }
   ],
   "source": [
    "data"
   ]
  },
  {
   "cell_type": "code",
   "execution_count": 21,
   "id": "5f9b2c5d",
   "metadata": {},
   "outputs": [
    {
     "data": {
      "text/plain": [
       "(513, 6)"
      ]
     },
     "execution_count": 21,
     "metadata": {},
     "output_type": "execute_result"
    }
   ],
   "source": [
    "data.shape"
   ]
  },
  {
   "cell_type": "code",
   "execution_count": 22,
   "metadata": {},
   "outputs": [],
   "source": [
    "input_length = test.shape[0]\n",
    "n_features = 6\n",
    "model = Sequential()\n",
    "\n",
    "# First convolutional layer\n",
    "model.add(Conv1D(filters=32, kernel_size=3, activation='relu', input_shape=(int(data.shape[0]/dates.size), n_features)))\n",
    "model.add(MaxPooling1D(pool_size=2))\n",
    "\n",
    "# Second convolutional layer\n",
    "model.add(Conv1D(filters=64, kernel_size=3, activation='relu'))\n",
    "model.add(MaxPooling1D(pool_size=2))\n",
    "\n",
    "# Third convolutional layer\n",
    "model.add(Conv1D(filters=128, kernel_size=3, activation='relu'))\n",
    "model.add(MaxPooling1D(pool_size=2))\n",
    "\n",
    "# Flatten the output\n",
    "model.add(Flatten())\n",
    "\n",
    "# Add a fully connected layer (optional, depending on what you want as the final output)\n",
    "model.add(Dense(128, activation='relu'))\n",
    "\n",
    "# The output layer can be a Dense layer or simply return the output from the last layer (for feature extraction)\n",
    "# For feature extraction, you may not need a final Dense layer, just return the flattened layer output\n",
    "# model.add(layers.Dense(number_of_classes, activation='softmax'))  # If classification is needed\n",
    "\n",
    "# Compile the model (for training purposes, you can skip this step if only feature extraction is needed)\n",
    "model.compile(optimizer='adam', loss='sparse_categorical_crossentropy', metrics=['accuracy'])\n"
   ]
  },
  {
   "cell_type": "code",
   "execution_count": 23,
   "id": "25",
   "metadata": {},
   "outputs": [
    {
     "name": "stdout",
     "output_type": "stream",
     "text": [
      "Model: \"sequential_1\"\n",
      "_________________________________________________________________\n",
      " Layer (type)                Output Shape              Param #   \n",
      "=================================================================\n",
      " conv1d_3 (Conv1D)           (None, 24, 64)            1216      \n",
      "                                                                 \n",
      " max_pooling1d_3 (MaxPoolin  (None, 12, 64)            0         \n",
      " g1D)                                                            \n",
      "                                                                 \n",
      " dropout (Dropout)           (None, 12, 64)            0         \n",
      "                                                                 \n",
      " conv1d_4 (Conv1D)           (None, 10, 128)           24704     \n",
      "                                                                 \n",
      " max_pooling1d_4 (MaxPoolin  (None, 5, 128)            0         \n",
      " g1D)                                                            \n",
      "                                                                 \n",
      " dropout_1 (Dropout)         (None, 5, 128)            0         \n",
      "                                                                 \n",
      " flatten_1 (Flatten)         (None, 640)               0         \n",
      "                                                                 \n",
      " reshape (Reshape)           (None, 5, 128)            0         \n",
      "                                                                 \n",
      " lstm (LSTM)                 (None, 50)                35800     \n",
      "                                                                 \n",
      " dense_1 (Dense)             (None, 1)                 51        \n",
      "                                                                 \n",
      "=================================================================\n",
      "Total params: 61771 (241.29 KB)\n",
      "Trainable params: 61771 (241.29 KB)\n",
      "Non-trainable params: 0 (0.00 Byte)\n",
      "_________________________________________________________________\n"
     ]
    }
   ],
   "source": [
    "# Assuming your data is named 'data' with shape (10, 5, 6)\n",
    "# 10 samples, each with a sequence of length 5, and each element having a feature vector of length 6\n",
    "\n",
    "binary_model = Sequential()\n",
    "\n",
    "# binary_model.add(Conv1D(filters=64, kernel_size=3, activation='relu', input_shape=(int(data.shape[0]/dates.size), n_features)))\n",
    "binary_model.add(Conv1D(filters=64, kernel_size=3, activation='relu', input_shape=(int(data.shape[0]/dates.size), n_features)))\n",
    "binary_model.add(MaxPooling1D(pool_size=2))\n",
    "binary_model.add(Dropout(0.2))\n",
    "\n",
    "# You can add more CNN layers if needed\n",
    "binary_model.add(Conv1D(filters=128, kernel_size=3, activation='relu'))\n",
    "binary_model.add(MaxPooling1D(pool_size=2))\n",
    "binary_model.add(Dropout(0.2))\n",
    "\n",
    "# Flatten the output of the CNN\n",
    "binary_model.add(Flatten())\n",
    "\n",
    "# Add the LSTM layer\n",
    "binary_model.add(tf.keras.layers.Reshape((-1, 128)))\n",
    "\n",
    "\n",
    "# binary_model.add(LSTM(50, input_shape=(int(data.shape[0]/dates.size), n_features)))\n",
    "binary_model.add(LSTM(50))\n",
    "# model.add(Dropout(rate=0.2))\n",
    "# model.add(Dense(units=64, activation='relu'))\n",
    "# model.add(Dropout(rate=0.2))\n",
    "# model.add(Dense(units=32, activation='relu'))\n",
    "# model.add(Dropout(rate=0.2))\n",
    "# model.add(Dense(units=16, activation='relu'))\n",
    "# model.add(Dropout(rate=0.2))\n",
    "\n",
    "# Output layer with a single unit (assuming a regression problem)\n",
    "binary_model.add(Dense(1, activation='sigmoid'))\n",
    "# binary_model.add(Dense(1, activation='softmax'))\n",
    "\n",
    "# lr_schedule = tf.keras.optimizers.schedules.ExponentialDecay(\n",
    "#     initial_learning_rate=1e-1,\n",
    "#     decay_steps=10000,\n",
    "#     decay_rate=0.9)\n",
    "# optimizer = tf.keras.optimizers.Adam(learning_rate=lr_schedule)\n",
    "# # Compile the model with an appropriate loss function and optimizer\n",
    "# binary_model.compile(optimizer=optimizer, loss='binary_crossentropy', metrics=['accuracy'])\n",
    "binary_model.compile(optimizer='adam', loss='binary_crossentropy', metrics=['accuracy'])\n",
    "# binary_model.compile(optimizer='adam', loss='categorical_crossentropy', metrics=['accuracy'])\n",
    "\n",
    "# Print a summary of the model's architecture\n",
    "binary_model.summary()"
   ]
  },
  {
   "cell_type": "code",
   "execution_count": 24,
   "id": "27",
   "metadata": {},
   "outputs": [
    {
     "name": "stdout",
     "output_type": "stream",
     "text": [
      "Model: \"sequential_2\"\n",
      "_________________________________________________________________\n",
      " Layer (type)                Output Shape              Param #   \n",
      "=================================================================\n",
      " conv1d_5 (Conv1D)           (None, 24, 64)            1216      \n",
      "                                                                 \n",
      " max_pooling1d_5 (MaxPoolin  (None, 12, 64)            0         \n",
      " g1D)                                                            \n",
      "                                                                 \n",
      " dropout_2 (Dropout)         (None, 12, 64)            0         \n",
      "                                                                 \n",
      " conv1d_6 (Conv1D)           (None, 10, 128)           24704     \n",
      "                                                                 \n",
      " max_pooling1d_6 (MaxPoolin  (None, 5, 128)            0         \n",
      " g1D)                                                            \n",
      "                                                                 \n",
      " dropout_3 (Dropout)         (None, 5, 128)            0         \n",
      "                                                                 \n",
      " reshape_1 (Reshape)         (None, 5, 128)            0         \n",
      "                                                                 \n",
      " lstm_1 (LSTM)               (None, 50)                35800     \n",
      "                                                                 \n",
      " dense_2 (Dense)             (None, 1)                 51        \n",
      "                                                                 \n",
      "=================================================================\n",
      "Total params: 61771 (241.29 KB)\n",
      "Trainable params: 61771 (241.29 KB)\n",
      "Non-trainable params: 0 (0.00 Byte)\n",
      "_________________________________________________________________\n"
     ]
    }
   ],
   "source": [
    "pred_model = Sequential()\n",
    "\n",
    "pred_model.add(Conv1D(filters=64, kernel_size=3, activation='relu', input_shape=(int(data.shape[0]/dates.size), n_features)))\n",
    "pred_model.add(MaxPooling1D(pool_size=2))\n",
    "pred_model.add(Dropout(0.2))\n",
    "\n",
    "# You can add more CNN layers if needed\n",
    "pred_model.add(Conv1D(filters=128, kernel_size=3, activation='relu'))\n",
    "pred_model.add(MaxPooling1D(pool_size=2))\n",
    "pred_model.add(Dropout(0.2))\n",
    "\n",
    "# Flatten the output of the CNN\n",
    "pred_model.add(tf.keras.layers.Reshape((-1, 128)))\n",
    "\n",
    "# pred_model.add(LSTM(50, input_shape=(int(data.shape[0]/dates.size), n_features)))\n",
    "pred_model.add(LSTM(50))\n",
    "\n",
    "# Output layer with a single unit (assuming a regression problem)\n",
    "pred_model.add(Dense(1))\n",
    "\n",
    "# lr_schedule = tf.keras.optimizers.schedules.ExponentialDecay(\n",
    "#     initial_learning_rate=1e-1,\n",
    "#     decay_steps=10000,\n",
    "#     decay_rate=0.9)\n",
    "# optimizer = tf.keras.optimizers.Adam(learning_rate=lr_schedule)\n",
    "# # Compile the model with an appropriate loss function and optimizer\n",
    "# pred_model.compile(optimizer=optimizer, loss='mean_squared_error')\n",
    "pred_model.compile(optimizer='adam', loss='mean_squared_error')\n",
    "\n",
    "# Print a summary of the model's architecture\n",
    "pred_model.summary()"
   ]
  },
  {
   "cell_type": "code",
   "execution_count": 25,
   "id": "2eea16b9",
   "metadata": {},
   "outputs": [],
   "source": [
    "dates_mask = [[True if i.date() == date else False for i in data.index] for date in dates]"
   ]
  },
  {
   "cell_type": "code",
   "execution_count": 26,
   "id": "787453ca",
   "metadata": {},
   "outputs": [],
   "source": [
    "# raw_data = [[data[name][dates_mask[i]] for name in data.columns] for i in range(len(dates))]"
   ]
  },
  {
   "cell_type": "code",
   "execution_count": 27,
   "id": "28bd37ff",
   "metadata": {},
   "outputs": [],
   "source": [
    "# raw_data = [[data[name][dates_mask[i]].values for name in data.columns] for i in range(len(dates))]"
   ]
  },
  {
   "cell_type": "code",
   "execution_count": 28,
   "id": "7903d7a1",
   "metadata": {},
   "outputs": [
    {
     "data": {
      "text/plain": [
       "array(['Adj Close', 'Close', 'High', 'Low', 'Open', 'Volume'], dtype='<U9')"
      ]
     },
     "execution_count": 28,
     "metadata": {},
     "output_type": "execute_result"
    }
   ],
   "source": [
    "features = np.unique([i[0] for i in data.columns])\n",
    "features"
   ]
  },
  {
   "cell_type": "code",
   "execution_count": 29,
   "id": "d6aa2522",
   "metadata": {},
   "outputs": [
    {
     "data": {
      "text/plain": [
       "array(['A', 'AA', 'AAL', ..., 'ZM', 'ZOM', 'ZS'], dtype='<U5')"
      ]
     },
     "execution_count": 29,
     "metadata": {},
     "output_type": "execute_result"
    }
   ],
   "source": [
    "symbols = np.unique([i[1] for i in data.columns])\n",
    "symbols"
   ]
  },
  {
   "cell_type": "code",
   "execution_count": 30,
   "id": "a797655e",
   "metadata": {},
   "outputs": [
    {
     "data": {
      "text/plain": [
       "2024-05-15 09:30:00    153.000000\n",
       "2024-05-15 09:45:00    153.649994\n",
       "2024-05-15 10:00:00    152.740005\n",
       "2024-05-15 10:15:00    153.046005\n",
       "2024-05-15 10:30:00    152.720001\n",
       "                          ...    \n",
       "2024-06-28 14:45:00    129.699997\n",
       "2024-06-28 15:00:00    129.479996\n",
       "2024-06-28 15:15:00    129.080002\n",
       "2024-06-28 15:30:00    129.009995\n",
       "2024-06-28 15:45:00    128.729996\n",
       "Name: (Open, A), Length: 806, dtype: float64"
      ]
     },
     "execution_count": 30,
     "metadata": {},
     "output_type": "execute_result"
    }
   ],
   "source": [
    "data[('Open', 'A')]"
   ]
  },
  {
   "cell_type": "code",
   "execution_count": 31,
   "id": "71af1871",
   "metadata": {},
   "outputs": [],
   "source": [
    "raw_data = [[[data[(feature, symbol)][dates_mask[i]].values for symbol in symbols] for feature in features] for i in range(len(dates))]"
   ]
  },
  {
   "cell_type": "code",
   "execution_count": 32,
   "id": "3ea35a73",
   "metadata": {},
   "outputs": [],
   "source": [
    "raw_data = np.array(raw_data)"
   ]
  },
  {
   "cell_type": "code",
   "execution_count": 33,
   "id": "ae79dd65",
   "metadata": {},
   "outputs": [
    {
     "data": {
      "text/plain": [
       "array([[[[1.53634995e+02, 1.52755005e+02, 1.52970001e+02, ...,\n",
       "          1.53710007e+02, 1.54199997e+02, 1.54100006e+02],\n",
       "         [3.97700005e+01, 3.97000008e+01, 3.93800011e+01, ...,\n",
       "          3.97999992e+01, 3.99700012e+01, 4.00400009e+01],\n",
       "         [1.51204996e+01, 1.50950003e+01, 1.51650000e+01, ...,\n",
       "          1.49600000e+01, 1.49499998e+01, 1.49399996e+01],\n",
       "         ...,\n",
       "         [6.36344986e+01, 6.34300003e+01, 6.30000000e+01, ...,\n",
       "          6.38699989e+01, 6.37599983e+01, 6.38300018e+01],\n",
       "         [1.56000003e-01, 1.62200004e-01, 1.65000007e-01, ...,\n",
       "          1.67649999e-01, 1.68500006e-01, 1.69000000e-01],\n",
       "         [1.79800797e+02, 1.78585007e+02, 1.79839996e+02, ...,\n",
       "          1.82664993e+02, 1.82080002e+02, 1.81149994e+02]],\n",
       "\n",
       "        [[1.53634995e+02, 1.52755005e+02, 1.52970001e+02, ...,\n",
       "          1.53710007e+02, 1.54199997e+02, 1.54100006e+02],\n",
       "         [3.97700005e+01, 3.97000008e+01, 3.93800011e+01, ...,\n",
       "          3.97999992e+01, 3.99700012e+01, 4.00400009e+01],\n",
       "         [1.51204996e+01, 1.50950003e+01, 1.51650000e+01, ...,\n",
       "          1.49600000e+01, 1.49499998e+01, 1.49399996e+01],\n",
       "         ...,\n",
       "         [6.36344986e+01, 6.34300003e+01, 6.30000000e+01, ...,\n",
       "          6.38699989e+01, 6.37599983e+01, 6.38300018e+01],\n",
       "         [1.56000003e-01, 1.62200004e-01, 1.65000007e-01, ...,\n",
       "          1.67649999e-01, 1.68500006e-01, 1.69000000e-01],\n",
       "         [1.79800797e+02, 1.78585007e+02, 1.79839996e+02, ...,\n",
       "          1.82664993e+02, 1.82080002e+02, 1.81149994e+02]],\n",
       "\n",
       "        [[1.54550003e+02, 1.53649994e+02, 1.53369904e+02, ...,\n",
       "          1.54065002e+02, 1.54199997e+02, 1.54410004e+02],\n",
       "         [4.05000000e+01, 3.99300003e+01, 3.97700005e+01, ...,\n",
       "          3.98300018e+01, 3.99900017e+01, 4.01300011e+01],\n",
       "         [1.52500000e+01, 1.51999998e+01, 1.51750002e+01, ...,\n",
       "          1.49799995e+01, 1.49700003e+01, 1.49799995e+01],\n",
       "         ...,\n",
       "         [6.41940002e+01, 6.36250000e+01, 6.34000015e+01, ...,\n",
       "          6.38899994e+01, 6.39199982e+01, 6.38300018e+01],\n",
       "         [1.56900004e-01, 1.67199999e-01, 1.69000000e-01, ...,\n",
       "          1.67999998e-01, 1.69000000e-01, 1.69200003e-01],\n",
       "         [1.80345001e+02, 1.80130005e+02, 1.79889999e+02, ...,\n",
       "          1.82860001e+02, 1.82610001e+02, 1.82210007e+02]],\n",
       "\n",
       "        [[1.52710007e+02, 1.52615005e+02, 1.52654999e+02, ...,\n",
       "          1.53710007e+02, 1.53544998e+02, 1.53955002e+02],\n",
       "         [3.96500015e+01, 3.97000008e+01, 3.93100014e+01, ...,\n",
       "          3.96399994e+01, 3.97900009e+01, 3.99449997e+01],\n",
       "         [1.50900002e+01, 1.50544004e+01, 1.50699997e+01, ...,\n",
       "          1.49399996e+01, 1.49399996e+01, 1.49399996e+01],\n",
       "         ...,\n",
       "         [6.35200005e+01, 6.32200012e+01, 6.29799995e+01, ...,\n",
       "          6.37599983e+01, 6.37400017e+01, 6.36749992e+01],\n",
       "         [1.51199996e-01, 1.53500006e-01, 1.60099998e-01, ...,\n",
       "          1.67600006e-01, 1.67699993e-01, 1.67500004e-01],\n",
       "         [1.78699997e+02, 1.78585007e+02, 1.78425003e+02, ...,\n",
       "          1.82585007e+02, 1.81929993e+02, 1.81000000e+02]],\n",
       "\n",
       "        [[1.53000000e+02, 1.53649994e+02, 1.52740005e+02, ...,\n",
       "          1.53979996e+02, 1.53710007e+02, 1.54190002e+02],\n",
       "         [4.04000015e+01, 3.97900009e+01, 3.97000008e+01, ...,\n",
       "          3.96500015e+01, 3.97900009e+01, 3.99599991e+01],\n",
       "         [1.51999998e+01, 1.51199999e+01, 1.50901003e+01, ...,\n",
       "          1.49449997e+01, 1.49576998e+01, 1.49549999e+01],\n",
       "         ...,\n",
       "         [6.41500015e+01, 6.36250000e+01, 6.33800011e+01, ...,\n",
       "          6.37799988e+01, 6.38600006e+01, 6.37690010e+01],\n",
       "         [1.55499995e-01, 1.56099007e-01, 1.61148995e-01, ...,\n",
       "          1.67899996e-01, 1.67699993e-01, 1.68449998e-01],\n",
       "         [1.80000000e+02, 1.79450104e+02, 1.78585007e+02, ...,\n",
       "          1.82804993e+02, 1.82610001e+02, 1.82039993e+02]],\n",
       "\n",
       "        [[1.04928000e+05, 3.77410000e+04, 4.95480000e+04, ...,\n",
       "          3.38540000e+04, 4.50040000e+04, 1.88966000e+05],\n",
       "         [3.81570000e+05, 2.79870000e+05, 3.77922000e+05, ...,\n",
       "          2.10380000e+05, 2.68692000e+05, 1.08342300e+06],\n",
       "         [2.27194500e+06, 1.35203300e+06, 1.50450300e+06, ...,\n",
       "          9.50539000e+05, 1.12095100e+06, 1.59062300e+06],\n",
       "         ...,\n",
       "         [1.00295000e+05, 6.39560000e+04, 5.74870000e+04, ...,\n",
       "          8.97080000e+04, 1.24041000e+05, 3.89610000e+05],\n",
       "         [1.02334600e+06, 1.99112900e+06, 2.46921100e+06, ...,\n",
       "          1.70072000e+05, 3.30602000e+05, 8.22551000e+05],\n",
       "         [1.04885000e+05, 5.80330000e+04, 4.94890000e+04, ...,\n",
       "          4.02530000e+04, 7.04440000e+04, 2.47235000e+05]]],\n",
       "\n",
       "\n",
       "       [[[1.54300003e+02, 1.54074997e+02, 1.54020004e+02, ...,\n",
       "          1.54505005e+02, 1.54339996e+02, 1.54259995e+02],\n",
       "         [3.99399986e+01, 4.00299988e+01, 4.02599983e+01, ...,\n",
       "          4.05050011e+01, 4.04700012e+01, 4.01500015e+01],\n",
       "         [1.48050003e+01, 1.47430000e+01, 1.47299995e+01, ...,\n",
       "          1.47900000e+01, 1.47875004e+01, 1.48000002e+01],\n",
       "         ...,\n",
       "         [6.32449989e+01, 6.38300018e+01, 6.37350006e+01, ...,\n",
       "          6.38699989e+01, 6.39900017e+01, 6.39650002e+01],\n",
       "         [1.78499997e-01, 1.79600000e-01, 1.85299993e-01, ...,\n",
       "          1.83200002e-01, 1.83300003e-01, 1.84000000e-01],\n",
       "         [1.81470001e+02, 1.81244995e+02, 1.80539993e+02, ...,\n",
       "          1.80419998e+02, 1.79660004e+02, 1.79440002e+02]],\n",
       "\n",
       "        [[1.54300003e+02, 1.54074997e+02, 1.54020004e+02, ...,\n",
       "          1.54505005e+02, 1.54339996e+02, 1.54259995e+02],\n",
       "         [3.99399986e+01, 4.00299988e+01, 4.02599983e+01, ...,\n",
       "          4.05050011e+01, 4.04700012e+01, 4.01500015e+01],\n",
       "         [1.48050003e+01, 1.47430000e+01, 1.47299995e+01, ...,\n",
       "          1.47900000e+01, 1.47875004e+01, 1.48000002e+01],\n",
       "         ...,\n",
       "         [6.32449989e+01, 6.38300018e+01, 6.37350006e+01, ...,\n",
       "          6.38699989e+01, 6.39900017e+01, 6.39650002e+01],\n",
       "         [1.78499997e-01, 1.79600000e-01, 1.85299993e-01, ...,\n",
       "          1.83200002e-01, 1.83300003e-01, 1.84000000e-01],\n",
       "         [1.81470001e+02, 1.81244995e+02, 1.80539993e+02, ...,\n",
       "          1.80419998e+02, 1.79660004e+02, 1.79440002e+02]],\n",
       "\n",
       "        [[1.54639999e+02, 1.54389999e+02, 1.54059998e+02, ...,\n",
       "          1.54600006e+02, 1.54559998e+02, 1.54679993e+02],\n",
       "         [4.03199997e+01, 4.02400017e+01, 4.04000015e+01, ...,\n",
       "          4.05978012e+01, 4.05800018e+01, 4.05000000e+01],\n",
       "         [1.50798998e+01, 1.48100004e+01, 1.47900000e+01, ...,\n",
       "          1.48100004e+01, 1.48100004e+01, 1.48500004e+01],\n",
       "         ...,\n",
       "         [6.37000008e+01, 6.38499985e+01, 6.39968987e+01, ...,\n",
       "          6.39399986e+01, 6.40400009e+01, 6.41399994e+01],\n",
       "         [1.79000005e-01, 1.80000007e-01, 1.87700003e-01, ...,\n",
       "          1.83200002e-01, 1.85000002e-01, 1.85000002e-01],\n",
       "         [1.81990005e+02, 1.81470001e+02, 1.81255005e+02, ...,\n",
       "          1.80682495e+02, 1.80464996e+02, 1.79889999e+02]],\n",
       "\n",
       "        [[1.52570007e+02, 1.53800003e+02, 1.53600006e+02, ...,\n",
       "          1.54369995e+02, 1.54220001e+02, 1.54080002e+02],\n",
       "         [3.97999992e+01, 4.00089989e+01, 4.00200005e+01, ...,\n",
       "          4.04949989e+01, 4.04150009e+01, 4.01500015e+01],\n",
       "         [1.47900000e+01, 1.46899996e+01, 1.47146997e+01, ...,\n",
       "          1.47700005e+01, 1.47799997e+01, 1.47700005e+01],\n",
       "         ...,\n",
       "         [6.30900002e+01, 6.32018013e+01, 6.36399994e+01, ...,\n",
       "          6.38209991e+01, 6.38600006e+01, 6.38800011e+01],\n",
       "         [1.66899994e-01, 1.74999997e-01, 1.77699998e-01, ...,\n",
       "          1.80000007e-01, 1.83200002e-01, 1.83200002e-01],\n",
       "         [1.79770004e+02, 1.80600006e+02, 1.80539993e+02, ...,\n",
       "          1.80300095e+02, 1.79500000e+02, 1.78929993e+02]],\n",
       "\n",
       "        [[1.52570007e+02, 1.54145004e+02, 1.53830002e+02, ...,\n",
       "          1.54589996e+02, 1.54514999e+02, 1.54365005e+02],\n",
       "         [4.00000000e+01, 4.00900002e+01, 4.00400009e+01, ...,\n",
       "          4.05825005e+01, 4.05099983e+01, 4.04650002e+01],\n",
       "         [1.50000000e+01, 1.48000002e+01, 1.47299995e+01, ...,\n",
       "          1.48048000e+01, 1.47877998e+01, 1.47799997e+01],\n",
       "         ...,\n",
       "         [6.36300011e+01, 6.32700005e+01, 6.38750000e+01, ...,\n",
       "          6.38800011e+01, 6.38709984e+01, 6.39900017e+01],\n",
       "         [1.69000000e-01, 1.78700000e-01, 1.79499999e-01, ...,\n",
       "          1.81600004e-01, 1.83200002e-01, 1.83249995e-01],\n",
       "         [1.79770004e+02, 1.81315094e+02, 1.81255005e+02, ...,\n",
       "          1.80419998e+02, 1.80410004e+02, 1.79860001e+02]],\n",
       "\n",
       "        [[5.62240000e+04, 4.57050000e+04, 3.31130000e+04, ...,\n",
       "          2.82040000e+04, 4.35850000e+04, 3.01628000e+05],\n",
       "         [2.82638000e+05, 1.57986000e+05, 1.98976000e+05, ...,\n",
       "          1.19562000e+05, 1.81421000e+05, 5.30165000e+05],\n",
       "         [1.44452400e+06, 1.85744100e+06, 1.11402700e+06, ...,\n",
       "          4.63100000e+05, 8.66412000e+05, 2.78617700e+06],\n",
       "         ...,\n",
       "         [1.08894000e+05, 7.40510000e+04, 8.70380000e+04, ...,\n",
       "          6.32930000e+04, 1.45709000e+05, 6.61505000e+05],\n",
       "         [2.97991500e+06, 2.06823700e+06, 3.37306200e+06, ...,\n",
       "          5.64500000e+05, 2.51940000e+05, 6.27295000e+05],\n",
       "         [1.43862000e+05, 6.03440000e+04, 3.77510000e+04, ...,\n",
       "          3.78400000e+04, 8.92540000e+04, 3.98261000e+05]]],\n",
       "\n",
       "\n",
       "       [[[1.54380005e+02, 1.54470001e+02, 1.53589996e+02, ...,\n",
       "          1.54910004e+02, 1.54789993e+02, 1.54250000e+02],\n",
       "         [4.07999992e+01, 4.08050003e+01, 4.11399994e+01, ...,\n",
       "          4.11519012e+01, 4.11483002e+01, 4.12500000e+01],\n",
       "         [1.49092999e+01, 1.48999996e+01, 1.48699999e+01, ...,\n",
       "          1.48199997e+01, 1.47749996e+01, 1.47399998e+01],\n",
       "         ...,\n",
       "         [6.37000008e+01, 6.38549995e+01, 6.38450012e+01, ...,\n",
       "          6.39900017e+01, 6.39700012e+01, 6.41699982e+01],\n",
       "         [1.85599998e-01, 1.77499995e-01, 1.82999998e-01, ...,\n",
       "          1.75150007e-01, 1.75400004e-01, 1.75300002e-01],\n",
       "         [1.79190002e+02, 1.79440002e+02, 1.79404297e+02, ...,\n",
       "          1.78945007e+02, 1.78570007e+02, 1.78884995e+02]],\n",
       "\n",
       "        [[1.54380005e+02, 1.54470001e+02, 1.53589996e+02, ...,\n",
       "          1.54910004e+02, 1.54789993e+02, 1.54250000e+02],\n",
       "         [4.07999992e+01, 4.08050003e+01, 4.11399994e+01, ...,\n",
       "          4.11519012e+01, 4.11483002e+01, 4.12500000e+01],\n",
       "         [1.49092999e+01, 1.48999996e+01, 1.48699999e+01, ...,\n",
       "          1.48199997e+01, 1.47749996e+01, 1.47399998e+01],\n",
       "         ...,\n",
       "         [6.37000008e+01, 6.38549995e+01, 6.38450012e+01, ...,\n",
       "          6.39900017e+01, 6.39700012e+01, 6.41699982e+01],\n",
       "         [1.85599998e-01, 1.77499995e-01, 1.82999998e-01, ...,\n",
       "          1.75150007e-01, 1.75400004e-01, 1.75300002e-01],\n",
       "         [1.79190002e+02, 1.79440002e+02, 1.79404297e+02, ...,\n",
       "          1.78945007e+02, 1.78570007e+02, 1.78884995e+02]],\n",
       "\n",
       "        [[1.54649994e+02, 1.54570007e+02, 1.54485001e+02, ...,\n",
       "          1.55350006e+02, 1.54919998e+02, 1.54860001e+02],\n",
       "         [4.12000008e+01, 4.09698982e+01, 4.11699982e+01, ...,\n",
       "          4.11701012e+01, 4.11899986e+01, 4.12500000e+01],\n",
       "         [1.49099998e+01, 1.49399996e+01, 1.48999996e+01, ...,\n",
       "          1.48299999e+01, 1.48199997e+01, 1.47799997e+01],\n",
       "         ...,\n",
       "         [6.40800018e+01, 6.39599991e+01, 6.39199982e+01, ...,\n",
       "          6.40199966e+01, 6.40198975e+01, 6.41800003e+01],\n",
       "         [1.93000004e-01, 1.85800001e-01, 1.87600002e-01, ...,\n",
       "          1.75799996e-01, 1.75699994e-01, 1.75999999e-01],\n",
       "         [1.80419998e+02, 1.79827103e+02, 1.79699997e+02, ...,\n",
       "          1.78960007e+02, 1.78949997e+02, 1.79350006e+02]],\n",
       "\n",
       "        [[1.53710007e+02, 1.54065002e+02, 1.53570007e+02, ...,\n",
       "          1.54679993e+02, 1.54667892e+02, 1.54179993e+02],\n",
       "         [4.06599998e+01, 4.07500000e+01, 4.07318993e+01, ...,\n",
       "          4.10499992e+01, 4.10750008e+01, 4.10900002e+01],\n",
       "         [1.47799997e+01, 1.48699999e+01, 1.48500004e+01, ...,\n",
       "          1.47799997e+01, 1.47700005e+01, 1.47200003e+01],\n",
       "         ...,\n",
       "         [6.35800018e+01, 6.36500015e+01, 6.37799988e+01, ...,\n",
       "          6.39300003e+01, 6.38899994e+01, 6.39399986e+01],\n",
       "         [1.85000002e-01, 1.77499995e-01, 1.77500993e-01, ...,\n",
       "          1.72399998e-01, 1.74600005e-01, 1.74600005e-01],\n",
       "         [1.78460007e+02, 1.79065002e+02, 1.79000000e+02, ...,\n",
       "          1.78479996e+02, 1.78479996e+02, 1.78595001e+02]],\n",
       "\n",
       "        [[1.54509995e+02, 1.54220001e+02, 1.54380005e+02, ...,\n",
       "          1.55050003e+02, 1.54889999e+02, 1.54789993e+02],\n",
       "         [4.07400017e+01, 4.08100014e+01, 4.08199997e+01, ...,\n",
       "          4.10499992e+01, 4.11599998e+01, 4.11500015e+01],\n",
       "         [1.48500004e+01, 1.48999996e+01, 1.48916998e+01, ...,\n",
       "          1.48249998e+01, 1.48149996e+01, 1.47749996e+01],\n",
       "         ...,\n",
       "         [6.36100006e+01, 6.37099991e+01, 6.38499985e+01, ...,\n",
       "          6.39300003e+01, 6.39900017e+01, 6.39700012e+01],\n",
       "         [1.90899998e-01, 1.85800001e-01, 1.77500993e-01, ...,\n",
       "          1.74500003e-01, 1.75150007e-01, 1.75400004e-01],\n",
       "         [1.79929993e+02, 1.79350006e+02, 1.79410004e+02, ...,\n",
       "          1.78520004e+02, 1.78940002e+02, 1.78669998e+02]],\n",
       "\n",
       "        [[6.94510000e+04, 3.05560000e+04, 3.05590000e+04, ...,\n",
       "          1.15745000e+05, 6.68430000e+04, 2.40967000e+05],\n",
       "         [5.28317000e+05, 1.53447000e+05, 1.63063000e+05, ...,\n",
       "          1.55403000e+05, 1.11598000e+05, 5.45867000e+05],\n",
       "         [1.07053100e+06, 9.35080000e+05, 7.89671000e+05, ...,\n",
       "          9.82409000e+05, 8.27908000e+05, 2.63423400e+06],\n",
       "         ...,\n",
       "         [1.73018000e+05, 1.06319000e+05, 6.31350000e+04, ...,\n",
       "          8.43480000e+04, 1.16181000e+05, 4.47439000e+05],\n",
       "         [1.92369900e+06, 1.17721000e+06, 8.81576000e+05, ...,\n",
       "          2.16502000e+05, 1.45788000e+05, 3.59324000e+05],\n",
       "         [1.11416000e+05, 3.45560000e+04, 2.97990000e+04, ...,\n",
       "          3.64580000e+04, 6.89440000e+04, 1.92292000e+05]]],\n",
       "\n",
       "\n",
       "       ...,\n",
       "\n",
       "\n",
       "       [[[1.34500000e+02, 1.34119995e+02, 1.34169998e+02, ...,\n",
       "          1.32970001e+02, 1.32839996e+02, 1.33029999e+02],\n",
       "         [3.95200005e+01, 3.94626999e+01, 3.94399986e+01, ...,\n",
       "          3.89700012e+01, 3.91300011e+01, 3.94300003e+01],\n",
       "         [1.10349998e+01, 1.11650000e+01, 1.12440996e+01, ...,\n",
       "          1.11324997e+01, 1.11250000e+01, 1.11300001e+01],\n",
       "         ...,\n",
       "         [5.75900002e+01, 5.75400009e+01, 5.74700012e+01, ...,\n",
       "          5.74850006e+01, 5.74049988e+01, 5.75200005e+01],\n",
       "         [1.43101007e-01, 1.44500002e-01, 1.43900007e-01, ...,\n",
       "          1.46899998e-01, 1.46799996e-01, 1.46899998e-01],\n",
       "         [1.79160004e+02, 1.79320007e+02, 1.79684998e+02, ...,\n",
       "          1.79649994e+02, 1.79440002e+02, 1.78919998e+02]],\n",
       "\n",
       "        [[1.34500000e+02, 1.34119995e+02, 1.34169998e+02, ...,\n",
       "          1.32970001e+02, 1.32839996e+02, 1.33029999e+02],\n",
       "         [3.95200005e+01, 3.94626999e+01, 3.94399986e+01, ...,\n",
       "          3.89700012e+01, 3.91300011e+01, 3.94300003e+01],\n",
       "         [1.10349998e+01, 1.11650000e+01, 1.12440996e+01, ...,\n",
       "          1.11324997e+01, 1.11250000e+01, 1.11300001e+01],\n",
       "         ...,\n",
       "         [5.75900002e+01, 5.75400009e+01, 5.74700012e+01, ...,\n",
       "          5.74850006e+01, 5.74049988e+01, 5.75200005e+01],\n",
       "         [1.43101007e-01, 1.44500002e-01, 1.43900007e-01, ...,\n",
       "          1.46899998e-01, 1.46799996e-01, 1.46899998e-01],\n",
       "         [1.79160004e+02, 1.79320007e+02, 1.79684998e+02, ...,\n",
       "          1.79649994e+02, 1.79440002e+02, 1.78919998e+02]],\n",
       "\n",
       "        [[1.35210007e+02, 1.34699997e+02, 1.34460007e+02, ...,\n",
       "          1.33009995e+02, 1.33009995e+02, 1.33279999e+02],\n",
       "         [3.99700012e+01, 3.97299995e+01, 3.94999008e+01, ...,\n",
       "          3.90299988e+01, 3.91300011e+01, 3.94700012e+01],\n",
       "         [1.11049995e+01, 1.11850004e+01, 1.12749996e+01, ...,\n",
       "          1.11599998e+01, 1.11400003e+01, 1.11300001e+01],\n",
       "         ...,\n",
       "         [5.79500008e+01, 5.76899986e+01, 5.76699982e+01, ...,\n",
       "          5.75449982e+01, 5.74900017e+01, 5.77000008e+01],\n",
       "         [1.44999996e-01, 1.44500002e-01, 1.44999996e-01, ...,\n",
       "          1.46899998e-01, 1.46899998e-01, 1.46899998e-01],\n",
       "         [1.82009995e+02, 1.80279999e+02, 1.80490005e+02, ...,\n",
       "          1.79899994e+02, 1.79910004e+02, 1.79520004e+02]],\n",
       "\n",
       "        [[1.33490005e+02, 1.34119995e+02, 1.34059998e+02, ...,\n",
       "          1.32880005e+02, 1.32759995e+02, 1.32830002e+02],\n",
       "         [3.94099998e+01, 3.93450012e+01, 3.93450012e+01, ...,\n",
       "          3.89199982e+01, 3.89300003e+01, 3.90822983e+01],\n",
       "         [1.09600000e+01, 1.09899998e+01, 1.11450005e+01, ...,\n",
       "          1.11300001e+01, 1.11000004e+01, 1.10699997e+01],\n",
       "         ...,\n",
       "         [5.75649986e+01, 5.74700012e+01, 5.74599991e+01, ...,\n",
       "          5.74700012e+01, 5.73650017e+01, 5.73600006e+01],\n",
       "         [1.41800001e-01, 1.43000007e-01, 1.43500000e-01, ...,\n",
       "          1.46799996e-01, 1.46799996e-01, 1.46799996e-01],\n",
       "         [1.77720001e+02, 1.79300003e+02, 1.79000000e+02, ...,\n",
       "          1.79479996e+02, 1.79360001e+02, 1.78839996e+02]],\n",
       "\n",
       "        [[1.33990005e+02, 1.34539993e+02, 1.34160004e+02, ...,\n",
       "          1.32990005e+02, 1.32960007e+02, 1.32830002e+02],\n",
       "         [3.98199997e+01, 3.95349998e+01, 3.94900017e+01, ...,\n",
       "          3.89399986e+01, 3.89700012e+01, 3.91250000e+01],\n",
       "         [1.10500002e+01, 1.10349998e+01, 1.11650000e+01, ...,\n",
       "          1.11549997e+01, 1.11353998e+01, 1.11250000e+01],\n",
       "         ...,\n",
       "         [5.77900009e+01, 5.75750008e+01, 5.75200005e+01, ...,\n",
       "          5.75099983e+01, 5.74850006e+01, 5.74099998e+01],\n",
       "         [1.41800001e-01, 1.43199995e-01, 1.44500002e-01, ...,\n",
       "          1.46850005e-01, 1.46799996e-01, 1.46799996e-01],\n",
       "         [1.82000000e+02, 1.79300003e+02, 1.79244995e+02, ...,\n",
       "          1.79630005e+02, 1.79649994e+02, 1.79419998e+02]],\n",
       "\n",
       "        [[5.43630000e+04, 3.05810000e+04, 4.49500000e+04, ...,\n",
       "          6.24040000e+04, 1.07889000e+05, 2.93503000e+05],\n",
       "         [1.69366000e+05, 9.43410000e+04, 6.50980000e+04, ...,\n",
       "          1.27786000e+05, 2.14998000e+05, 4.34309000e+05],\n",
       "         [4.55088800e+06, 2.67510100e+06, 3.88109200e+06, ...,\n",
       "          5.18047000e+05, 1.38863000e+06, 4.84846000e+06],\n",
       "         ...,\n",
       "         [1.14671000e+05, 6.07600000e+04, 7.20400000e+04, ...,\n",
       "          6.73590000e+04, 1.39779000e+05, 4.88282000e+05],\n",
       "         [2.64574000e+05, 1.79512000e+05, 9.61180000e+04, ...,\n",
       "          1.76930000e+04, 7.56950000e+04, 1.30356000e+05],\n",
       "         [2.19211000e+05, 7.97570000e+04, 7.09260000e+04, ...,\n",
       "          3.61270000e+04, 7.78060000e+04, 2.33296000e+05]]],\n",
       "\n",
       "\n",
       "       [[[1.32914993e+02, 1.32529999e+02, 1.32220001e+02, ...,\n",
       "          1.30800003e+02, 1.31065002e+02, 1.30800003e+02],\n",
       "         [3.94039993e+01, 3.93699989e+01, 3.93499985e+01, ...,\n",
       "          3.87400017e+01, 3.86100006e+01, 3.88300018e+01],\n",
       "         [1.10900002e+01, 1.10699997e+01, 1.10649996e+01, ...,\n",
       "          1.12250004e+01, 1.12749996e+01, 1.12749996e+01],\n",
       "         ...,\n",
       "         [5.75200005e+01, 5.74550018e+01, 5.74399986e+01, ...,\n",
       "          5.81300011e+01, 5.83400002e+01, 5.84500008e+01],\n",
       "         [1.45799994e-01, 1.46799996e-01, 1.46850005e-01, ...,\n",
       "          1.49900004e-01, 1.50399998e-01, 1.52899995e-01],\n",
       "         [1.82199997e+02, 1.83925003e+02, 1.85585007e+02, ...,\n",
       "          1.88100006e+02, 1.88395004e+02, 1.89190002e+02]],\n",
       "\n",
       "        [[1.32914993e+02, 1.32529999e+02, 1.32220001e+02, ...,\n",
       "          1.30800003e+02, 1.31065002e+02, 1.30800003e+02],\n",
       "         [3.94039993e+01, 3.93699989e+01, 3.93499985e+01, ...,\n",
       "          3.87400017e+01, 3.86100006e+01, 3.88300018e+01],\n",
       "         [1.10900002e+01, 1.10699997e+01, 1.10649996e+01, ...,\n",
       "          1.12250004e+01, 1.12749996e+01, 1.12749996e+01],\n",
       "         ...,\n",
       "         [5.75200005e+01, 5.74550018e+01, 5.74399986e+01, ...,\n",
       "          5.81300011e+01, 5.83400002e+01, 5.84500008e+01],\n",
       "         [1.45799994e-01, 1.46799996e-01, 1.46850005e-01, ...,\n",
       "          1.49900004e-01, 1.50399998e-01, 1.52899995e-01],\n",
       "         [1.82199997e+02, 1.83925003e+02, 1.85585007e+02, ...,\n",
       "          1.88100006e+02, 1.88395004e+02, 1.89190002e+02]],\n",
       "\n",
       "        [[1.32990005e+02, 1.32914993e+02, 1.32610001e+02, ...,\n",
       "          1.30809998e+02, 1.31110001e+02, 1.31089996e+02],\n",
       "         [3.94572983e+01, 3.93899994e+01, 3.94599991e+01, ...,\n",
       "          3.88100014e+01, 3.87500000e+01, 3.88400002e+01],\n",
       "         [1.11049995e+01, 1.11099997e+01, 1.11000004e+01, ...,\n",
       "          1.12299995e+01, 1.12799997e+01, 1.13199997e+01],\n",
       "         ...,\n",
       "         [5.75200005e+01, 5.75525017e+01, 5.75875015e+01, ...,\n",
       "          5.81399994e+01, 5.83400002e+01, 5.85050011e+01],\n",
       "         [1.46699995e-01, 1.46799996e-01, 1.46999002e-01, ...,\n",
       "          1.50000006e-01, 1.50399998e-01, 1.52899995e-01],\n",
       "         [1.82529999e+02, 1.84399994e+02, 1.85600006e+02, ...,\n",
       "          1.88630005e+02, 1.88667603e+02, 1.89300003e+02]],\n",
       "\n",
       "        [[1.31880005e+02, 1.31940002e+02, 1.32000000e+02, ...,\n",
       "          1.30630005e+02, 1.30684998e+02, 1.30729996e+02],\n",
       "         [3.90099983e+01, 3.91500015e+01, 3.92700005e+01, ...,\n",
       "          3.87000008e+01, 3.85800018e+01, 3.85299988e+01],\n",
       "         [1.10200005e+01, 1.10200005e+01, 1.10500002e+01, ...,\n",
       "          1.12147999e+01, 1.12100000e+01, 1.12600002e+01],\n",
       "         ...,\n",
       "         [5.69500008e+01, 5.73199997e+01, 5.73400002e+01, ...,\n",
       "          5.79900017e+01, 5.81300011e+01, 5.83600006e+01],\n",
       "         [1.44500002e-01, 1.46300003e-01, 1.46599993e-01, ...,\n",
       "          1.49900004e-01, 1.49900004e-01, 1.50099993e-01],\n",
       "         [1.79710007e+02, 1.82255005e+02, 1.83880005e+02, ...,\n",
       "          1.87919998e+02, 1.88050003e+02, 1.88220001e+02]],\n",
       "\n",
       "        [[1.32199997e+02, 1.32914993e+02, 1.32485001e+02, ...,\n",
       "          1.30740005e+02, 1.30785004e+02, 1.31065002e+02],\n",
       "         [3.93400002e+01, 3.93800011e+01, 3.93899994e+01, ...,\n",
       "          3.87500000e+01, 3.87500000e+01, 3.86100006e+01],\n",
       "         [1.10799999e+01, 1.10900002e+01, 1.10649996e+01, ...,\n",
       "          1.12299995e+01, 1.12250004e+01, 1.12749996e+01],\n",
       "         ...,\n",
       "         [5.74350014e+01, 5.75099983e+01, 5.74599991e+01, ...,\n",
       "          5.80499992e+01, 5.81352005e+01, 5.83650017e+01],\n",
       "         [1.44999996e-01, 1.46400005e-01, 1.46699995e-01, ...,\n",
       "          1.50000006e-01, 1.50000006e-01, 1.50099993e-01],\n",
       "         [1.79899994e+02, 1.82255005e+02, 1.83880005e+02, ...,\n",
       "          1.88389999e+02, 1.88089996e+02, 1.88429993e+02]],\n",
       "\n",
       "        [[4.31490000e+04, 3.33070000e+04, 4.49680000e+04, ...,\n",
       "          9.21810000e+04, 1.53955000e+05, 2.98543000e+05],\n",
       "         [1.16925000e+05, 6.76640000e+04, 7.11080000e+04, ...,\n",
       "          1.54694000e+05, 2.55614000e+05, 8.41731000e+05],\n",
       "         [2.18434900e+06, 1.19274800e+06, 1.23736100e+06, ...,\n",
       "          5.30978000e+05, 1.04732500e+06, 3.98242700e+06],\n",
       "         ...,\n",
       "         [1.52207000e+05, 1.53563000e+05, 1.93305000e+05, ...,\n",
       "          1.39599000e+05, 1.46451000e+05, 5.29322000e+05],\n",
       "         [2.82295000e+05, 3.95360000e+04, 9.12650000e+04, ...,\n",
       "          7.06620000e+04, 3.96180000e+04, 1.21794000e+05],\n",
       "         [7.78730000e+04, 1.33308000e+05, 1.61912000e+05, ...,\n",
       "          1.00278000e+05, 1.13335000e+05, 2.79041000e+05]]],\n",
       "\n",
       "\n",
       "       [[[1.32030106e+02, 1.32005005e+02, 1.32020004e+02, ...,\n",
       "          1.28970001e+02, 1.28759995e+02, 1.29669998e+02],\n",
       "         [3.98335991e+01, 3.98199997e+01, 3.99700012e+01, ...,\n",
       "          3.97599983e+01, 3.95699997e+01, 3.97750015e+01],\n",
       "         [1.12150002e+01, 1.12657003e+01, 1.13100996e+01, ...,\n",
       "          1.12349997e+01, 1.12900000e+01, 1.13249998e+01],\n",
       "         ...,\n",
       "         [5.90900002e+01, 5.88400002e+01, 5.89350014e+01, ...,\n",
       "          5.91399994e+01, 5.91500015e+01, 5.91899986e+01],\n",
       "         [1.52999997e-01, 1.51700005e-01, 1.51800007e-01, ...,\n",
       "          1.45550996e-01, 1.46200001e-01, 1.48100004e-01],\n",
       "         [1.93300003e+02, 1.92449997e+02, 1.93000000e+02, ...,\n",
       "          1.92300003e+02, 1.92320007e+02, 1.92190002e+02]],\n",
       "\n",
       "        [[1.32030106e+02, 1.32005005e+02, 1.32020004e+02, ...,\n",
       "          1.28970001e+02, 1.28759995e+02, 1.29669998e+02],\n",
       "         [3.98335991e+01, 3.98199997e+01, 3.99700012e+01, ...,\n",
       "          3.97599983e+01, 3.95699997e+01, 3.97750015e+01],\n",
       "         [1.12150002e+01, 1.12657003e+01, 1.13100996e+01, ...,\n",
       "          1.12349997e+01, 1.12900000e+01, 1.13249998e+01],\n",
       "         ...,\n",
       "         [5.90900002e+01, 5.88400002e+01, 5.89350014e+01, ...,\n",
       "          5.91399994e+01, 5.91500015e+01, 5.91899986e+01],\n",
       "         [1.52999997e-01, 1.51700005e-01, 1.51800007e-01, ...,\n",
       "          1.45550996e-01, 1.46200001e-01, 1.48100004e-01],\n",
       "         [1.93300003e+02, 1.92449997e+02, 1.93000000e+02, ...,\n",
       "          1.92300003e+02, 1.92320007e+02, 1.92190002e+02]],\n",
       "\n",
       "        [[1.33039001e+02, 1.32289993e+02, 1.32389999e+02, ...,\n",
       "          1.29130005e+02, 1.29179993e+02, 1.29669998e+02],\n",
       "         [4.00999985e+01, 3.98600006e+01, 4.01199989e+01, ...,\n",
       "          3.98300018e+01, 3.97750015e+01, 3.98199997e+01],\n",
       "         [1.13050003e+01, 1.12900000e+01, 1.13299999e+01, ...,\n",
       "          1.12500000e+01, 1.12900000e+01, 1.13450003e+01],\n",
       "         ...,\n",
       "         [5.96599998e+01, 5.91899986e+01, 5.90000000e+01, ...,\n",
       "          5.91399994e+01, 5.91990013e+01, 5.92550011e+01],\n",
       "         [1.53099999e-01, 1.53099999e-01, 1.53099999e-01, ...,\n",
       "          1.46500006e-01, 1.47799999e-01, 1.48599997e-01],\n",
       "         [1.93490005e+02, 1.93940002e+02, 1.93410004e+02, ...,\n",
       "          1.92336594e+02, 1.92750000e+02, 1.92994995e+02]],\n",
       "\n",
       "        [[1.31250000e+02, 1.31850006e+02, 1.31960007e+02, ...,\n",
       "          1.28889999e+02, 1.28669998e+02, 1.28389999e+02],\n",
       "         [3.95800018e+01, 3.95800018e+01, 3.97799988e+01, ...,\n",
       "          3.97200012e+01, 3.95499992e+01, 3.94799995e+01],\n",
       "         [1.11999998e+01, 1.12100000e+01, 1.12700005e+01, ...,\n",
       "          1.12200003e+01, 1.12200003e+01, 1.12399998e+01],\n",
       "         ...,\n",
       "         [5.85499992e+01, 5.87519989e+01, 5.88400002e+01, ...,\n",
       "          5.89788017e+01, 5.90900002e+01, 5.90000000e+01],\n",
       "         [1.52300000e-01, 1.51700005e-01, 1.50099993e-01, ...,\n",
       "          1.45550996e-01, 1.45500004e-01, 1.46200001e-01],\n",
       "         [1.89000000e+02, 1.91809998e+02, 1.92429993e+02, ...,\n",
       "          1.91649994e+02, 1.91779999e+02, 1.92089996e+02]],\n",
       "\n",
       "        [[1.31660004e+02, 1.32059998e+02, 1.32070007e+02, ...,\n",
       "          1.29080002e+02, 1.29009995e+02, 1.28729996e+02],\n",
       "         [3.98400002e+01, 3.98474007e+01, 3.98250008e+01, ...,\n",
       "          3.97700005e+01, 3.97700005e+01, 3.95600014e+01],\n",
       "         [1.12299995e+01, 1.12150002e+01, 1.12700005e+01, ...,\n",
       "          1.12250004e+01, 1.12349997e+01, 1.12799997e+01],\n",
       "         ...,\n",
       "         [5.86699982e+01, 5.91199989e+01, 5.88499985e+01, ...,\n",
       "          5.90050011e+01, 5.91399994e+01, 5.91399994e+01],\n",
       "         [1.52700007e-01, 1.52999997e-01, 1.51700005e-01, ...,\n",
       "          1.46400005e-01, 1.45600006e-01, 1.46500006e-01],\n",
       "         [1.90000000e+02, 1.93329895e+02, 1.92570007e+02, ...,\n",
       "          1.91690002e+02, 1.92300003e+02, 1.92369995e+02]],\n",
       "\n",
       "        [[1.36588000e+05, 5.52350000e+04, 5.31440000e+04, ...,\n",
       "          1.83906000e+05, 4.53347000e+05, 9.22861000e+05],\n",
       "         [3.43277000e+05, 1.68164000e+05, 2.39621000e+05, ...,\n",
       "          1.03454000e+05, 1.53494000e+05, 6.74460000e+05],\n",
       "         [1.27479600e+06, 7.49291000e+05, 7.96507000e+05, ...,\n",
       "          3.81753000e+05, 1.29775800e+06, 3.79783500e+06],\n",
       "         ...,\n",
       "         [2.48356000e+05, 6.60340000e+04, 5.44760000e+04, ...,\n",
       "          8.87900000e+04, 1.24573000e+05, 3.82885000e+05],\n",
       "         [4.91133000e+05, 5.36654000e+05, 3.84964000e+05, ...,\n",
       "          1.11454000e+05, 1.20351000e+05, 2.99814000e+05],\n",
       "         [2.12365000e+05, 1.30785000e+05, 1.20855000e+05, ...,\n",
       "          6.42050000e+04, 9.99730000e+04, 2.96374000e+05]]]])"
      ]
     },
     "execution_count": 33,
     "metadata": {},
     "output_type": "execute_result"
    }
   ],
   "source": [
    "raw_data"
   ]
  },
  {
   "cell_type": "code",
   "execution_count": 34,
   "id": "18d3f378",
   "metadata": {},
   "outputs": [
    {
     "data": {
      "text/plain": [
       "(31, 6, 1695, 26)"
      ]
     },
     "execution_count": 34,
     "metadata": {},
     "output_type": "execute_result"
    }
   ],
   "source": [
    "raw_data.shape"
   ]
  },
  {
   "cell_type": "code",
   "execution_count": 35,
   "id": "4c640a8e",
   "metadata": {},
   "outputs": [
    {
     "data": {
      "text/plain": [
       "(31, 1695, 26, 6)"
      ]
     },
     "execution_count": 35,
     "metadata": {},
     "output_type": "execute_result"
    }
   ],
   "source": [
    "raw_data = np.swapaxes(raw_data, 1, 2)\n",
    "raw_data = np.swapaxes(raw_data, 2, 3)\n",
    "raw_data.shape"
   ]
  },
  {
   "cell_type": "code",
   "execution_count": 36,
   "id": "c0b0134d",
   "metadata": {},
   "outputs": [
    {
     "data": {
      "text/plain": [
       "array(['Adj Close', 'Close', 'High', 'Low', 'Open', 'Volume'], dtype='<U9')"
      ]
     },
     "execution_count": 36,
     "metadata": {},
     "output_type": "execute_result"
    }
   ],
   "source": [
    "features"
   ]
  },
  {
   "cell_type": "code",
   "execution_count": 37,
   "id": "b313ba72",
   "metadata": {},
   "outputs": [
    {
     "data": {
      "text/plain": [
       "<matplotlib.legend.Legend at 0x156914bb0>"
      ]
     },
     "execution_count": 37,
     "metadata": {},
     "output_type": "execute_result"
    },
    {
     "data": {
      "image/png": "[encoded data removed]",
      "text/plain": [
       "<Figure size 432x288 with 1 Axes>"
      ]
     },
     "metadata": {
      "needs_background": "light"
     },
     "output_type": "display_data"
    }
   ],
   "source": [
    "fig, ax = plt.subplots()\n",
    "for count, feature in enumerate(features[1:-1]):\n",
    "    ax.plot(np.arange(26), raw_data[3, 0, :, count+1], label=f'{feature}')\n",
    "ax.legend()"
   ]
  },
  {
   "cell_type": "code",
   "execution_count": 38,
   "id": "af26da1c",
   "metadata": {},
   "outputs": [
    {
     "data": {
      "text/plain": [
       "<matplotlib.legend.Legend at 0x155e6b790>"
      ]
     },
     "execution_count": 38,
     "metadata": {},
     "output_type": "execute_result"
    },
    {
     "data": {
      "image/png": "[encoded data removed]",
      "text/plain": [
       "<Figure size 432x288 with 1 Axes>"
      ]
     },
     "metadata": {
      "needs_background": "light"
     },
     "output_type": "display_data"
    }
   ],
   "source": [
    "fig, ax = plt.subplots()\n",
    "ax.plot(np.arange(26), raw_data[3, 0, :, 2] - raw_data[3, 0, :, 3], label=f'{feature}')\n",
    "ax.plot(np.arange(26), raw_data[3, 0, :, 1] - raw_data[3, 0, :, 4], label=f'{feature}')\n",
    "ax.legend()"
   ]
  },
  {
   "cell_type": "code",
   "execution_count": 39,
   "id": "61ca707a",
   "metadata": {},
   "outputs": [
    {
     "data": {
      "text/plain": [
       "(31, 1695, 26, 4)"
      ]
     },
     "execution_count": 39,
     "metadata": {},
     "output_type": "execute_result"
    }
   ],
   "source": [
    "raw_data = raw_data[:, :, :, 1:5]\n",
    "raw_data.shape"
   ]
  },
  {
   "cell_type": "code",
   "execution_count": 40,
   "id": "f12e2f8e",
   "metadata": {},
   "outputs": [
    {
     "data": {
      "text/plain": [
       "array(['Close', 'High', 'Low', 'Open'], dtype='<U9')"
      ]
     },
     "execution_count": 40,
     "metadata": {},
     "output_type": "execute_result"
    }
   ],
   "source": [
    "features = features[1:5]\n",
    "features"
   ]
  },
  {
   "cell_type": "code",
   "execution_count": 41,
   "id": "be05d902",
   "metadata": {},
   "outputs": [],
   "source": [
    "raw_data = np.concatenate((raw_data, \n",
    "                           np.array(raw_data[:, :, :, 0] - raw_data[:, :, :, 3]).reshape(raw_data.shape[0], raw_data.shape[1], raw_data.shape[2], 1)), axis=3)"
   ]
  },
  {
   "cell_type": "code",
   "execution_count": 42,
   "id": "bbefc3dc",
   "metadata": {},
   "outputs": [],
   "source": [
    "raw_data = np.concatenate((raw_data, \n",
    "                           np.array(raw_data[:, :, :, 1] - raw_data[:, :, :, 2]).reshape(raw_data.shape[0], raw_data.shape[1], raw_data.shape[2], 1)), axis=3)"
   ]
  },
  {
   "cell_type": "code",
   "execution_count": 43,
   "id": "6e3792bf",
   "metadata": {},
   "outputs": [
    {
     "data": {
      "text/plain": [
       "(31, 1695, 26, 6)"
      ]
     },
     "execution_count": 43,
     "metadata": {},
     "output_type": "execute_result"
    }
   ],
   "source": [
    "raw_data.shape"
   ]
  },
  {
   "cell_type": "code",
   "execution_count": 44,
   "id": "1ff281b9",
   "metadata": {},
   "outputs": [],
   "source": [
    "# opens = raw_data[:, :, 0]"
   ]
  },
  {
   "cell_type": "code",
   "execution_count": 45,
   "id": "0e67f7c9",
   "metadata": {},
   "outputs": [],
   "source": [
    "opens0 = raw_data[:, :, 0, 3]\n",
    "opens1 = raw_data[:, :, 1, 3]\n",
    "opens2 = raw_data[:, :, 2, 3]\n",
    "opens3 = raw_data[:, :, 3, 3]\n",
    "close0 = raw_data[:, :, 0, 3]\n",
    "close1 = raw_data[:, :, 1, 3]\n",
    "close2 = raw_data[:, :, 2, 3]\n",
    "close3 = raw_data[:, :, 3, 3]\n",
    "highs0 = raw_data[:, :, 0, 3]\n",
    "highs1 = raw_data[:, :, 1, 3]\n",
    "highs2 = raw_data[:, :, 2, 3]\n",
    "highs3 = raw_data[:, :, 3, 3]\n",
    "lows0 = raw_data[:, :, 0, 3]\n",
    "lows1 = raw_data[:, :, 1, 3]\n",
    "lows2 = raw_data[:, :, 2, 3]\n",
    "lows3 = raw_data[:, :, 3, 3]"
   ]
  },
  {
   "cell_type": "code",
   "execution_count": 46,
   "id": "863350c3",
   "metadata": {},
   "outputs": [
    {
     "data": {
      "text/plain": [
       "(806, 10170)"
      ]
     },
     "execution_count": 46,
     "metadata": {},
     "output_type": "execute_result"
    }
   ],
   "source": [
    "data.shape"
   ]
  },
  {
   "cell_type": "code",
   "execution_count": 47,
   "id": "928c6c6e",
   "metadata": {},
   "outputs": [],
   "source": [
    "# opens = raw_data[2:, :, 0] - raw_data[1:-1, :, 0]"
   ]
  },
  {
   "cell_type": "code",
   "execution_count": 48,
   "id": "80d531a5",
   "metadata": {},
   "outputs": [],
   "source": [
    "# # Define the data type for the structured array\n",
    "# dtype = [('date', 'O'), ('name', 'U10'), ('data', 'O')]\n",
    "\n",
    "# # Create the structured array\n",
    "# date_data = np.array([[(dates[i], name, np.array(data[name][dates_mask[i]].values)) for name in data.columns] for i in range(len(dates))], dtype=dtype)\n",
    "# # date_data = np.array(list(zip(dates, data.columns, raw_data)), dtype=dtype)"
   ]
  },
  {
   "cell_type": "code",
   "execution_count": 49,
   "id": "96fb9b29",
   "metadata": {},
   "outputs": [],
   "source": [
    "# date_data.shape"
   ]
  },
  {
   "cell_type": "code",
   "execution_count": 50,
   "id": "19087032",
   "metadata": {},
   "outputs": [],
   "source": [
    "# date_data['date']"
   ]
  },
  {
   "cell_type": "code",
   "execution_count": 51,
   "id": "eff26989",
   "metadata": {},
   "outputs": [],
   "source": [
    "# pred_targets = np.divide((opens[2:] - opens[1:-1]), opens[1:-1])\n",
    "# pred_targets.shape"
   ]
  },
  {
   "cell_type": "code",
   "execution_count": 52,
   "id": "fa07e20e",
   "metadata": {},
   "outputs": [
    {
     "data": {
      "text/plain": [
       "(29, 1695)"
      ]
     },
     "execution_count": 52,
     "metadata": {},
     "output_type": "execute_result"
    }
   ],
   "source": [
    "pred_targets = np.divide((opens0[2:] - opens0[1:-1]), opens0[1:-1])\n",
    "pred_targets.shape"
   ]
  },
  {
   "cell_type": "code",
   "execution_count": 53,
   "id": "2df27a3e",
   "metadata": {},
   "outputs": [
    {
     "data": {
      "text/plain": [
       "array([[ 0.01271539,  0.01850004, -0.00999997, ..., -0.00031432,\n",
       "         0.12958579,  0.00088996],\n",
       "       [-0.00349488,  0.01816391, -0.00740745, ...,  0.00754592,\n",
       "        -0.08852804, -0.00594671],\n",
       "       [ 0.00246804,  0.01904535, -0.02103117, ..., -0.02075204,\n",
       "         0.04252877, -0.00452867],\n",
       "       ...,\n",
       "       [-0.00748144, -0.00698251, -0.01162792, ...,  0.00138627,\n",
       "        -0.06340818,  0.00469228],\n",
       "       [-0.01335927, -0.01205423,  0.00271491, ..., -0.00614292,\n",
       "         0.02256696, -0.0115385 ],\n",
       "       [-0.00408467,  0.01270971,  0.01353787, ...,  0.02150251,\n",
       "         0.05310353,  0.05614234]])"
      ]
     },
     "execution_count": 53,
     "metadata": {},
     "output_type": "execute_result"
    }
   ],
   "source": [
    "pred_targets"
   ]
  },
  {
   "cell_type": "code",
   "execution_count": 54,
   "id": "d1578be2",
   "metadata": {},
   "outputs": [],
   "source": [
    "pred_targets = pred_targets.reshape(pred_targets.shape[0]*pred_targets.shape[1])"
   ]
  },
  {
   "cell_type": "code",
   "execution_count": 55,
   "id": "12933279",
   "metadata": {},
   "outputs": [
    {
     "data": {
      "text/plain": [
       "array([ 0.01271539,  0.01850004, -0.00999997, ...,  0.02150251,\n",
       "        0.05310353,  0.05614234])"
      ]
     },
     "execution_count": 55,
     "metadata": {},
     "output_type": "execute_result"
    }
   ],
   "source": [
    "pred_targets"
   ]
  },
  {
   "cell_type": "code",
   "execution_count": 56,
   "id": "6b35dab6",
   "metadata": {},
   "outputs": [],
   "source": [
    "## Come up with a better classification for final states, maybe something with stability, increase across multiple data types, increase at open and after, no rapid decreases"
   ]
  },
  {
   "cell_type": "code",
   "execution_count": 57,
   "id": "ebc9a681",
   "metadata": {},
   "outputs": [
    {
     "data": {
      "image/png": "[encoded data removed]",
      "text/plain": [
       "<Figure size 432x288 with 2 Axes>"
      ]
     },
     "metadata": {
      "needs_background": "light"
     },
     "output_type": "display_data"
    }
   ],
   "source": [
    "fig, ax = plt.subplots()\n",
    "# im = ax.hist2d(pred_targets, raw_data[:-2, :, :, 5], bins=np.linspace(-70, 70, 141), cmap='viridis', norm=mpl.colors.LogNorm())\n",
    "im = ax.hist2d(pred_targets, raw_data[:-2, :, 4, 4].flatten(), bins=[np.linspace(-0.25, 0.25, 141), np.linspace(-5, 5, 141)], cmap='viridis', norm=mpl.colors.LogNorm())\n",
    "cbar = fig.colorbar(im[3], ax=ax)\n",
    "cbar.set_label('Counts')"
   ]
  },
  {
   "cell_type": "code",
   "execution_count": 58,
   "id": "3edbffb2",
   "metadata": {},
   "outputs": [
    {
     "data": {
      "text/plain": [
       "array(['Close', 'High', 'Low', 'Open'], dtype='<U9')"
      ]
     },
     "execution_count": 58,
     "metadata": {},
     "output_type": "execute_result"
    }
   ],
   "source": [
    "features"
   ]
  },
  {
   "cell_type": "code",
   "execution_count": 59,
   "id": "5d500f63",
   "metadata": {},
   "outputs": [
    {
     "data": {
      "text/plain": [
       "(31, 1695, 26, 6)"
      ]
     },
     "execution_count": 59,
     "metadata": {},
     "output_type": "execute_result"
    }
   ],
   "source": [
    "raw_data.shape"
   ]
  },
  {
   "cell_type": "code",
   "execution_count": 60,
   "id": "a0a9be1f",
   "metadata": {},
   "outputs": [
    {
     "data": {
      "text/plain": [
       "(array([0.000e+00, 3.000e+00, 1.000e+00, 2.000e+00, 1.000e+00, 1.000e+00,\n",
       "        0.000e+00, 1.000e+00, 0.000e+00, 2.000e+00, 3.000e+00, 3.000e+00,\n",
       "        2.000e+00, 2.000e+00, 5.000e+00, 5.000e+00, 4.000e+00, 3.000e+00,\n",
       "        6.000e+00, 6.000e+00, 3.000e+00, 1.000e+00, 5.000e+00, 5.000e+00,\n",
       "        4.000e+00, 7.000e+00, 9.000e+00, 8.000e+00, 4.000e+00, 8.000e+00,\n",
       "        1.000e+01, 5.000e+00, 1.100e+01, 1.000e+01, 1.500e+01, 1.600e+01,\n",
       "        1.700e+01, 1.700e+01, 1.200e+01, 2.400e+01, 3.200e+01, 3.200e+01,\n",
       "        3.300e+01, 3.400e+01, 6.000e+01, 5.900e+01, 6.200e+01, 8.400e+01,\n",
       "        9.400e+01, 1.070e+02, 1.060e+02, 1.330e+02, 1.300e+02, 2.040e+02,\n",
       "        2.580e+02, 2.380e+02, 3.600e+02, 4.320e+02, 5.000e+02, 6.050e+02,\n",
       "        7.160e+02, 9.420e+02, 1.139e+03, 1.451e+03, 1.856e+03, 2.324e+03,\n",
       "        2.768e+03, 3.287e+03, 3.761e+03, 3.889e+03, 4.279e+03, 3.608e+03,\n",
       "        3.104e+03, 2.461e+03, 1.912e+03, 1.428e+03, 1.115e+03, 8.440e+02,\n",
       "        6.990e+02, 5.340e+02, 4.660e+02, 3.360e+02, 3.240e+02, 2.290e+02,\n",
       "        2.190e+02, 1.660e+02, 1.510e+02, 1.480e+02, 1.130e+02, 9.700e+01,\n",
       "        9.500e+01, 8.000e+01, 5.400e+01, 7.300e+01, 5.000e+01, 5.000e+01,\n",
       "        4.500e+01, 4.000e+01, 3.000e+01, 3.900e+01, 3.700e+01, 1.900e+01,\n",
       "        2.100e+01, 2.400e+01, 1.900e+01, 1.500e+01, 2.100e+01, 2.000e+01,\n",
       "        1.600e+01, 1.100e+01, 1.200e+01, 6.000e+00, 8.000e+00, 1.300e+01,\n",
       "        6.000e+00, 3.000e+00, 8.000e+00, 3.000e+00, 7.000e+00, 6.000e+00,\n",
       "        5.000e+00, 4.000e+00, 7.000e+00, 4.000e+00, 5.000e+00, 3.000e+00,\n",
       "        4.000e+00, 3.000e+00, 2.000e+00, 3.000e+00, 2.000e+00, 5.000e+00,\n",
       "        3.000e+00, 0.000e+00, 4.000e+00, 0.000e+00, 3.000e+00, 1.000e+00,\n",
       "        0.000e+00, 0.000e+00]),\n",
       " array([-0.25      , -0.24642857, -0.24285714, -0.23928571, -0.23571429,\n",
       "        -0.23214286, -0.22857143, -0.225     , -0.22142857, -0.21785714,\n",
       "        -0.21428571, -0.21071429, -0.20714286, -0.20357143, -0.2       ,\n",
       "        -0.19642857, -0.19285714, -0.18928571, -0.18571429, -0.18214286,\n",
       "        -0.17857143, -0.175     , -0.17142857, -0.16785714, -0.16428571,\n",
       "        -0.16071429, -0.15714286, -0.15357143, -0.15      , -0.14642857,\n",
       "        -0.14285714, -0.13928571, -0.13571429, -0.13214286, -0.12857143,\n",
       "        -0.125     , -0.12142857, -0.11785714, -0.11428571, -0.11071429,\n",
       "        -0.10714286, -0.10357143, -0.1       , -0.09642857, -0.09285714,\n",
       "        -0.08928571, -0.08571429, -0.08214286, -0.07857143, -0.075     ,\n",
       "        -0.07142857, -0.06785714, -0.06428571, -0.06071429, -0.05714286,\n",
       "        -0.05357143, -0.05      , -0.04642857, -0.04285714, -0.03928571,\n",
       "        -0.03571429, -0.03214286, -0.02857143, -0.025     , -0.02142857,\n",
       "        -0.01785714, -0.01428571, -0.01071429, -0.00714286, -0.00357143,\n",
       "         0.        ,  0.00357143,  0.00714286,  0.01071429,  0.01428571,\n",
       "         0.01785714,  0.02142857,  0.025     ,  0.02857143,  0.03214286,\n",
       "         0.03571429,  0.03928571,  0.04285714,  0.04642857,  0.05      ,\n",
       "         0.05357143,  0.05714286,  0.06071429,  0.06428571,  0.06785714,\n",
       "         0.07142857,  0.075     ,  0.07857143,  0.08214286,  0.08571429,\n",
       "         0.08928571,  0.09285714,  0.09642857,  0.1       ,  0.10357143,\n",
       "         0.10714286,  0.11071429,  0.11428571,  0.11785714,  0.12142857,\n",
       "         0.125     ,  0.12857143,  0.13214286,  0.13571429,  0.13928571,\n",
       "         0.14285714,  0.14642857,  0.15      ,  0.15357143,  0.15714286,\n",
       "         0.16071429,  0.16428571,  0.16785714,  0.17142857,  0.175     ,\n",
       "         0.17857143,  0.18214286,  0.18571429,  0.18928571,  0.19285714,\n",
       "         0.19642857,  0.2       ,  0.20357143,  0.20714286,  0.21071429,\n",
       "         0.21428571,  0.21785714,  0.22142857,  0.225     ,  0.22857143,\n",
       "         0.23214286,  0.23571429,  0.23928571,  0.24285714,  0.24642857,\n",
       "         0.25      ]),\n",
       " [<matplotlib.patches.Polygon at 0x1a650e190>])"
      ]
     },
     "execution_count": 60,
     "metadata": {},
     "output_type": "execute_result"
    },
    {
     "data": {
      "image/png": "[encoded data removed]",
      "text/plain": [
       "<Figure size 432x288 with 1 Axes>"
      ]
     },
     "metadata": {
      "needs_background": "light"
     },
     "output_type": "display_data"
    }
   ],
   "source": [
    "fig, ax = plt.subplots()\n",
    "ax.hist(pred_targets, bins=np.linspace(-0.25, 0.25, 141), histtype='step')\n",
    "ax.hist(np.divide((raw_data[2:, :, 1, 3] - raw_data[1:-1, :, 1, 3]), raw_data[1:-1, :, 1, 3]).flatten(), bins=np.linspace(-0.25, 0.25, 141), histtype='step')\n",
    "ax.hist(np.divide((raw_data[2:, :, 2, 3] - raw_data[1:-1, :, 2, 3]), raw_data[1:-1, :, 2, 3]).flatten(), bins=np.linspace(-0.25, 0.25, 141), histtype='step')\n",
    "ax.hist(np.divide((raw_data[2:, :, 3, 3] - raw_data[1:-1, :, 3, 3]), raw_data[1:-1, :, 3, 3]).flatten(), bins=np.linspace(-0.25, 0.25, 141), histtype='step')"
   ]
  },
  {
   "cell_type": "code",
   "execution_count": null,
   "id": "9eacc60f",
   "metadata": {},
   "outputs": [],
   "source": []
  },
  {
   "cell_type": "code",
   "execution_count": 61,
   "id": "6994d143",
   "metadata": {},
   "outputs": [
    {
     "name": "stdout",
     "output_type": "stream",
     "text": [
      "0.24441053809378496\n"
     ]
    },
    {
     "data": {
      "image/png": "[encoded data removed]",
      "text/plain": [
       "<Figure size 432x288 with 1 Axes>"
      ]
     },
     "metadata": {
      "needs_background": "light"
     },
     "output_type": "display_data"
    }
   ],
   "source": [
    "size = []\n",
    "cond = np.full(raw_data[2:].shape[:2], True, dtype=bool)\n",
    "# percent_gains = np.logspace(-5, 1, 100)\n",
    "percent_gains = np.linspace(-0.1, 0.1, 100)\n",
    "for percent in percent_gains:\n",
    "    for i in range(4):\n",
    "        for j in range(4):\n",
    "            cond &= np.divide((raw_data[2:, :, i, j] - raw_data[1:-1, :, i, j]), raw_data[1:-1, :, i, j]) > percent\n",
    "    size.append(cond[cond].size/cond.size)\n",
    "fig, ax = plt.subplots()\n",
    "ax.plot(percent_gains, size)\n",
    "ax.plot(percent_gains, np.full(len(percent_gains), size[np.argmin((percent_gains-0)**2)]), linestyle='--')\n",
    "print(size[np.argmin((percent_gains-0)**2)])\n",
    "# ax.set_xscale('log')"
   ]
  },
  {
   "cell_type": "code",
   "execution_count": 62,
   "id": "4626454f",
   "metadata": {},
   "outputs": [
    {
     "name": "stdout",
     "output_type": "stream",
     "text": [
      "0.26086868070389585\n"
     ]
    },
    {
     "data": {
      "image/png": "[encoded data removed]",
      "text/plain": [
       "<Figure size 432x288 with 1 Axes>"
      ]
     },
     "metadata": {
      "needs_background": "light"
     },
     "output_type": "display_data"
    }
   ],
   "source": [
    "size = []\n",
    "cond = np.full(raw_data[2:].shape[:2], True, dtype=bool)\n",
    "percent_gains = np.logspace(-5, 1, 100)\n",
    "# percent_gains = np.linspace(-0.1, 0.1, 100)\n",
    "for percent in percent_gains:\n",
    "    for i in range(4):\n",
    "        for j in range(4):\n",
    "            cond &= np.divide((raw_data[2:, :, i, j] - raw_data[1:-1, :, i, j]), raw_data[1:-1, :, i, j]) > percent\n",
    "    size.append(cond[cond].size/cond.size)\n",
    "fig, ax = plt.subplots()\n",
    "ax.plot(percent_gains, size)\n",
    "ax.plot(percent_gains, np.full(len(percent_gains), size[np.argmin((percent_gains-0)**2)]), linestyle='--')\n",
    "print(size[np.argmin((percent_gains-0)**2)])\n",
    "ax.set_xscale('log')"
   ]
  },
  {
   "cell_type": "code",
   "execution_count": 63,
   "id": "baf78e65",
   "metadata": {},
   "outputs": [
    {
     "name": "stdout",
     "output_type": "stream",
     "text": [
      "0.11888922795239548\n"
     ]
    },
    {
     "data": {
      "image/png": "[encoded data removed]",
      "text/plain": [
       "<Figure size 432x288 with 1 Axes>"
      ]
     },
     "metadata": {
      "needs_background": "light"
     },
     "output_type": "display_data"
    }
   ],
   "source": [
    "size = []\n",
    "cond = np.full(raw_data[2:].shape[:2], True, dtype=bool)\n",
    "# percent_gains = np.logspace(-5, 1, 100)\n",
    "percent_gains = np.linspace(0.01, 0.1, 100)\n",
    "for percent in percent_gains:\n",
    "    for i in range(4):\n",
    "        for j in range(4):\n",
    "            cond &= np.divide((raw_data[2:, :, i, j] - raw_data[1:-1, :, i, j]), raw_data[1:-1, :, i, j]) > percent\n",
    "    size.append(cond[cond].size/cond.size)\n",
    "fig, ax = plt.subplots()\n",
    "ax.plot(percent_gains, size)\n",
    "ax.plot(percent_gains, np.full(len(percent_gains), size[np.argmin((percent_gains-0)**2)]), linestyle='--')\n",
    "print(size[np.argmin((percent_gains-0)**2)])\n",
    "# ax.set_xscale('log')"
   ]
  },
  {
   "cell_type": "code",
   "execution_count": 64,
   "id": "726ba728",
   "metadata": {},
   "outputs": [
    {
     "data": {
      "text/plain": [
       "(31, 1695, 26, 6)"
      ]
     },
     "execution_count": 64,
     "metadata": {},
     "output_type": "execute_result"
    }
   ],
   "source": [
    "raw_data.shape"
   ]
  },
  {
   "cell_type": "code",
   "execution_count": 65,
   "id": "c8a09879",
   "metadata": {},
   "outputs": [
    {
     "data": {
      "text/plain": [
       "array(['Close', 'High', 'Low', 'Open'], dtype='<U9')"
      ]
     },
     "execution_count": 65,
     "metadata": {},
     "output_type": "execute_result"
    }
   ],
   "source": [
    "features"
   ]
  },
  {
   "cell_type": "code",
   "execution_count": 66,
   "id": "98a26987",
   "metadata": {},
   "outputs": [],
   "source": [
    "cond_good = np.full(raw_data[2:].shape[:2], True, dtype=bool)\n",
    "for i in range(4):\n",
    "    # for j in range(4):\n",
    "    for j in range(1, 4):\n",
    "        # cond &= np.divide((raw_data[2:, :, i, j] - raw_data[1:-1, :, i, j]), raw_data[1:-1, :, i, j]) > 0.01\n",
    "        cond_good &= np.divide((raw_data[2:, :, i, j] - raw_data[1:-1, :, i, j]), raw_data[1:-1, :, i, j]) > 0.04"
   ]
  },
  {
   "cell_type": "code",
   "execution_count": 67,
   "id": "4ae2326c",
   "metadata": {},
   "outputs": [
    {
     "data": {
      "text/plain": [
       "0.02105584375953616"
      ]
     },
     "execution_count": 67,
     "metadata": {},
     "output_type": "execute_result"
    }
   ],
   "source": [
    "raw_data[2:][cond_good].size/raw_data[2:].size"
   ]
  },
  {
   "cell_type": "code",
   "execution_count": 68,
   "id": "04513d8c",
   "metadata": {},
   "outputs": [
    {
     "data": {
      "text/plain": [
       "((29, 1695), (49155,))"
      ]
     },
     "execution_count": 68,
     "metadata": {},
     "output_type": "execute_result"
    }
   ],
   "source": [
    "cond_good.shape, pred_targets.shape"
   ]
  },
  {
   "cell_type": "code",
   "execution_count": 69,
   "id": "28671eb1",
   "metadata": {},
   "outputs": [],
   "source": [
    "cond_good = cond_good.reshape(cond_good.shape[0]*cond_good.shape[1])"
   ]
  },
  {
   "cell_type": "code",
   "execution_count": 70,
   "id": "b28c3df1",
   "metadata": {},
   "outputs": [],
   "source": [
    "# binary_targets = np.array([1 if i > 0 else 0 for i in pred_targets])\n",
    "binary_targets = np.array([1 if i == True else 0 for i in cond_good])"
   ]
  },
  {
   "cell_type": "code",
   "execution_count": 71,
   "id": "7c4a63a9-51dc-46fb-9cad-aceecdb30836",
   "metadata": {},
   "outputs": [
    {
     "data": {
      "text/plain": [
       "(49155,)"
      ]
     },
     "execution_count": 71,
     "metadata": {},
     "output_type": "execute_result"
    }
   ],
   "source": [
    "binary_targets.shape"
   ]
  },
  {
   "cell_type": "code",
   "execution_count": 72,
   "id": "85a98edd",
   "metadata": {},
   "outputs": [
    {
     "name": "stdout",
     "output_type": "stream",
     "text": [
      "0.26855864103346555\n"
     ]
    }
   ],
   "source": [
    "cond_okay = np.full(raw_data[2:].shape[:2], True, dtype=bool)\n",
    "for i in range(4):\n",
    "    # for j in range(4):\n",
    "    for j in range(1, 4):\n",
    "        # cond &= np.divide((raw_data[2:, :, i, j] - raw_data[1:-1, :, i, j]), raw_data[1:-1, :, i, j]) > 0.01\n",
    "        cond_okay &= np.divide((raw_data[2:, :, i, j] - raw_data[1:-1, :, i, j]), raw_data[1:-1, :, i, j]) > 0\n",
    "print(raw_data[2:][cond_okay].size/raw_data[2:].size)\n",
    "cond_okay = cond_okay.reshape(cond_okay.shape[0]*cond_okay.shape[1])"
   ]
  },
  {
   "cell_type": "code",
   "execution_count": 73,
   "id": "fff5f307",
   "metadata": {},
   "outputs": [
    {
     "name": "stdout",
     "output_type": "stream",
     "text": [
      "0.15955650493337403\n"
     ]
    }
   ],
   "source": [
    "cond_bad = np.full(raw_data[2:].shape[:2], True, dtype=bool)\n",
    "for i in range(4):\n",
    "    # for j in range(4):\n",
    "    for j in range(1, 4):\n",
    "        # cond &= np.divide((raw_data[2:, :, i, j] - raw_data[1:-1, :, i, j]), raw_data[1:-1, :, i, j]) > 0.01\n",
    "        cond_bad &= np.divide((raw_data[2:, :, i, j] - raw_data[1:-1, :, i, j]), raw_data[1:-1, :, i, j]) < -0.01\n",
    "print(raw_data[2:][cond_bad].size/raw_data[2:].size)\n",
    "cond_bad = cond_bad.reshape(cond_bad.shape[0]*cond_bad.shape[1])"
   ]
  },
  {
   "cell_type": "code",
   "execution_count": 74,
   "id": "7f320d55",
   "metadata": {},
   "outputs": [],
   "source": [
    "# binary_targets = np.array([1 if i > 0 else 0 for i in pred_targets])\n",
    "binary_targets_okay = np.array([1 if i == True else 0 for i in cond_okay])"
   ]
  },
  {
   "cell_type": "code",
   "execution_count": 75,
   "id": "f2820d01",
   "metadata": {},
   "outputs": [
    {
     "data": {
      "text/plain": [
       "(31, 1695, 26, 6)"
      ]
     },
     "execution_count": 75,
     "metadata": {},
     "output_type": "execute_result"
    }
   ],
   "source": [
    "raw_data.shape"
   ]
  },
  {
   "cell_type": "code",
   "execution_count": 92,
   "id": "a2c59630",
   "metadata": {},
   "outputs": [],
   "source": [
    "counts = np.full(raw_data[2:].shape[0]*raw_data.shape[1], 0, dtype=int)\n",
    "for i in range(4):\n",
    "    # counts = np.add(counts, np.divide((raw_data[2:, :, -1, i] - raw_data[1:-1, :, 0, i]), raw_data[1:-1, :, 0, i]).flatten())\n",
    "    counts = np.add(counts, np.divide((raw_data[:-2, :, -1, i] - raw_data[:-2, :, 0, i]), raw_data[:-2, :, 0, i]).flatten())"
   ]
  },
  {
   "cell_type": "code",
   "execution_count": 93,
   "id": "43ba65e0",
   "metadata": {},
   "outputs": [
    {
     "data": {
      "text/plain": [
       "<matplotlib.legend.Legend at 0x1550a36d0>"
      ]
     },
     "execution_count": 93,
     "metadata": {},
     "output_type": "execute_result"
    },
    {
     "data": {
      "image/png": "[encoded data removed]",
      "text/plain": [
       "<Figure size 432x288 with 1 Axes>"
      ]
     },
     "metadata": {
      "needs_background": "light"
     },
     "output_type": "display_data"
    }
   ],
   "source": [
    "fig, ax = plt.subplots()\n",
    "ax.hist(counts[cond_good], bins=np.linspace(-0.3, 0.3, 141), histtype='step', density=True, label='Good')\n",
    "ax.hist(counts[cond_okay], bins=np.linspace(-0.3, 0.3, 141), histtype='step', density=True, label='Okay')\n",
    "ax.hist(counts[~cond_okay], bins=np.linspace(-0.3, 0.3, 141), histtype='step', density=True, label='Bad')\n",
    "ax.legend()"
   ]
  },
  {
   "cell_type": "code",
   "execution_count": 94,
   "id": "ac92e9dc",
   "metadata": {},
   "outputs": [],
   "source": [
    "counts = np.full(raw_data[2:].shape[0]*raw_data.shape[1], 0, dtype=int)\n",
    "for i in range(4):\n",
    "    for j in range(4):\n",
    "        # counts = np.add(counts, np.divide((raw_data[2:, :, -(i+1), j] - raw_data[1:-1, :, i, j]), raw_data[1:-1, :, i, j]).flatten())\n",
    "        counts = np.add(counts, np.divide((raw_data[:-2, :, -(i+1), j] - raw_data[:-2, :, i, j]), raw_data[:-2, :, i, j]).flatten())"
   ]
  },
  {
   "cell_type": "code",
   "execution_count": 95,
   "id": "29966ae7",
   "metadata": {},
   "outputs": [
    {
     "data": {
      "text/plain": [
       "<matplotlib.legend.Legend at 0x154d58dc0>"
      ]
     },
     "execution_count": 95,
     "metadata": {},
     "output_type": "execute_result"
    },
    {
     "data": {
      "image/png": "[encoded data removed]",
      "text/plain": [
       "<Figure size 432x288 with 1 Axes>"
      ]
     },
     "metadata": {
      "needs_background": "light"
     },
     "output_type": "display_data"
    }
   ],
   "source": [
    "fig, ax = plt.subplots()\n",
    "ax.hist(counts[cond_good], bins=np.linspace(-1.5, 1.5, 141), histtype='step', density=True, label='Good')\n",
    "ax.hist(counts[cond_okay], bins=np.linspace(-1.5, 1.5, 141), histtype='step', density=True, label='Okay')\n",
    "ax.hist(counts[~cond_okay], bins=np.linspace(-1.5, 1.5, 141), histtype='step', density=True, label='Bad')\n",
    "ax.legend()"
   ]
  },
  {
   "cell_type": "code",
   "execution_count": 87,
   "id": "b5ffb808",
   "metadata": {},
   "outputs": [],
   "source": [
    "counts = np.full(raw_data[2:].shape[0]*raw_data.shape[1], 0, dtype=int)\n",
    "for i in range(4):\n",
    "    for j in range(4):\n",
    "        counts = np.add(counts, np.divide((raw_data[2:, :, -(i+1), j] - raw_data[1:-1, :, i, j]), raw_data[1:-1, :, i, j]).flatten())\n",
    "        # counts = np.add(counts, np.divide((raw_data[2:, :, -(i+1), j] - raw_data[2:, :, i, j]), raw_data[2:, :, i, j]).flatten())"
   ]
  },
  {
   "cell_type": "code",
   "execution_count": 89,
   "id": "2cd73d06",
   "metadata": {},
   "outputs": [
    {
     "data": {
      "text/plain": [
       "<matplotlib.legend.Legend at 0x1551d2af0>"
      ]
     },
     "execution_count": 89,
     "metadata": {},
     "output_type": "execute_result"
    },
    {
     "data": {
      "image/png": "[encoded data removed]",
      "text/plain": [
       "<Figure size 432x288 with 1 Axes>"
      ]
     },
     "metadata": {
      "needs_background": "light"
     },
     "output_type": "display_data"
    }
   ],
   "source": [
    "fig, ax = plt.subplots()\n",
    "ax.hist(counts[cond_good], bins=np.linspace(-1.5, 1.5, 141), histtype='step', density=True, label='Good')\n",
    "ax.hist(counts[cond_okay], bins=np.linspace(-1.5, 1.5, 141), histtype='step', density=True, label='Okay')\n",
    "ax.hist(counts[~cond_okay], bins=np.linspace(-1.5, 1.5, 141), histtype='step', density=True, label='Bad')\n",
    "ax.legend()"
   ]
  },
  {
   "cell_type": "code",
   "execution_count": 90,
   "id": "4819db25",
   "metadata": {},
   "outputs": [],
   "source": [
    "counts = np.full(raw_data[2:].shape[0]*raw_data.shape[1], 0, dtype=int)\n",
    "for i in range(4):\n",
    "    for j in range(4):\n",
    "        counts = np.add(counts, np.divide((raw_data[2:, :, -(i+1), j] - raw_data[:-2, :, i, j]), raw_data[:-2, :, i, j]).flatten())\n",
    "        # counts = np.add(counts, np.divide((raw_data[2:, :, -(i+1), j] - raw_data[2:, :, i, j]), raw_data[2:, :, i, j]).flatten())"
   ]
  },
  {
   "cell_type": "code",
   "execution_count": 91,
   "id": "06ee888d",
   "metadata": {},
   "outputs": [
    {
     "data": {
      "text/plain": [
       "<matplotlib.legend.Legend at 0x1562541c0>"
      ]
     },
     "execution_count": 91,
     "metadata": {},
     "output_type": "execute_result"
    },
    {
     "data": {
      "image/png": "[encoded data removed]",
      "text/plain": [
       "<Figure size 432x288 with 1 Axes>"
      ]
     },
     "metadata": {
      "needs_background": "light"
     },
     "output_type": "display_data"
    }
   ],
   "source": [
    "fig, ax = plt.subplots()\n",
    "ax.hist(counts[cond_good], bins=np.linspace(-1.5, 1.5, 141), histtype='step', density=True, label='Good')\n",
    "ax.hist(counts[cond_okay], bins=np.linspace(-1.5, 1.5, 141), histtype='step', density=True, label='Okay')\n",
    "ax.hist(counts[~cond_okay], bins=np.linspace(-1.5, 1.5, 141), histtype='step', density=True, label='Bad')\n",
    "ax.legend()"
   ]
  },
  {
   "cell_type": "code",
   "execution_count": 79,
   "id": "7c60c673",
   "metadata": {},
   "outputs": [
    {
     "data": {
      "text/plain": [
       "(31, 1695, 26, 6)"
      ]
     },
     "execution_count": 79,
     "metadata": {},
     "output_type": "execute_result"
    }
   ],
   "source": [
    "raw_data.shape"
   ]
  },
  {
   "cell_type": "code",
   "execution_count": 80,
   "id": "a02ed915",
   "metadata": {},
   "outputs": [],
   "source": [
    "raw_data = raw_data[:-2]"
   ]
  },
  {
   "cell_type": "code",
   "execution_count": 81,
   "id": "a7c8c3cd",
   "metadata": {},
   "outputs": [
    {
     "data": {
      "text/plain": [
       "(29, 1695, 26, 6)"
      ]
     },
     "execution_count": 81,
     "metadata": {},
     "output_type": "execute_result"
    }
   ],
   "source": [
    "raw_data.shape"
   ]
  },
  {
   "cell_type": "code",
   "execution_count": 82,
   "id": "1cace0ce",
   "metadata": {},
   "outputs": [],
   "source": [
    "# raw_data = raw_data.reshape(raw_data.shape[0]*raw_data.shape[1], raw_data.shape[2])"
   ]
  },
  {
   "cell_type": "code",
   "execution_count": 83,
   "id": "5a2ee364",
   "metadata": {},
   "outputs": [],
   "source": [
    "raw_data = raw_data.reshape(raw_data.shape[0]*raw_data.shape[1], raw_data.shape[2], raw_data.shape[3])"
   ]
  },
  {
   "cell_type": "code",
   "execution_count": 84,
   "id": "74a82a2e",
   "metadata": {},
   "outputs": [
    {
     "data": {
      "text/plain": [
       "(49155, 26, 6)"
      ]
     },
     "execution_count": 84,
     "metadata": {},
     "output_type": "execute_result"
    }
   ],
   "source": [
    "raw_data.shape"
   ]
  },
  {
   "cell_type": "code",
   "execution_count": 85,
   "id": "3b4905d2-8e39-4719-8137-71ae2f3234da",
   "metadata": {},
   "outputs": [
    {
     "data": {
      "text/plain": [
       "((49155,), (49155,))"
      ]
     },
     "execution_count": 85,
     "metadata": {},
     "output_type": "execute_result"
    }
   ],
   "source": [
    "pred_targets.shape, binary_targets.shape"
   ]
  },
  {
   "cell_type": "code",
   "execution_count": 86,
   "id": "c500d22f",
   "metadata": {},
   "outputs": [
    {
     "data": {
      "text/plain": [
       "((1033,), (48122,))"
      ]
     },
     "execution_count": 86,
     "metadata": {},
     "output_type": "execute_result"
    }
   ],
   "source": [
    "binary_targets[binary_targets == 1].shape, binary_targets[binary_targets == 0].shape"
   ]
  },
  {
   "cell_type": "code",
   "execution_count": 87,
   "id": "9ba31704",
   "metadata": {},
   "outputs": [
    {
     "data": {
      "text/plain": [
       "47089"
      ]
     },
     "execution_count": 87,
     "metadata": {},
     "output_type": "execute_result"
    }
   ],
   "source": [
    "binary_targets[binary_targets == 0].shape[0] - binary_targets[binary_targets == 1].shape[0]"
   ]
  },
  {
   "cell_type": "code",
   "execution_count": 88,
   "id": "0ad277fe",
   "metadata": {},
   "outputs": [
    {
     "data": {
      "text/plain": [
       "array([    0,     1,     2, ..., 49152, 49153, 49154])"
      ]
     },
     "execution_count": 88,
     "metadata": {},
     "output_type": "execute_result"
    }
   ],
   "source": [
    "np.where(binary_targets == 0)[0]"
   ]
  },
  {
   "cell_type": "code",
   "execution_count": 89,
   "id": "ff1bebeb",
   "metadata": {},
   "outputs": [],
   "source": [
    "balance_mask = random.sample(list(np.where(binary_targets == 0)[0]), binary_targets[binary_targets == 0].shape[0] - binary_targets[binary_targets == 1].shape[0])"
   ]
  },
  {
   "cell_type": "code",
   "execution_count": 90,
   "id": "fc284bfc",
   "metadata": {},
   "outputs": [],
   "source": [
    "balance_mask = [False if i in balance_mask else True for i in range(binary_targets.shape[0])]"
   ]
  },
  {
   "cell_type": "code",
   "execution_count": 91,
   "id": "3e3cf67b",
   "metadata": {},
   "outputs": [],
   "source": [
    "raw_data_balance = raw_data[balance_mask]\n",
    "binary_targets_balance = binary_targets[balance_mask]\n",
    "pred_targets_balance = pred_targets[balance_mask]"
   ]
  },
  {
   "cell_type": "code",
   "execution_count": 92,
   "id": "76a63e0a-fac3-48ef-a840-950a8cb8de99",
   "metadata": {},
   "outputs": [],
   "source": [
    "# binary_targets = binary_targets.ravel()\n",
    "binary_targets_balance = binary_targets_balance.reshape(-1, 1)\n",
    "\n",
    "# pred_targets = pred_targets.ravel()\n",
    "pred_targets_balance = pred_targets_balance.reshape(-1, 1)"
   ]
  },
  {
   "cell_type": "code",
   "execution_count": 93,
   "id": "d6262336",
   "metadata": {},
   "outputs": [
    {
     "data": {
      "text/plain": [
       "((49155, 26, 6), (49155,), (49155,))"
      ]
     },
     "execution_count": 93,
     "metadata": {},
     "output_type": "execute_result"
    }
   ],
   "source": [
    "raw_data.shape, binary_targets.shape, pred_targets.shape"
   ]
  },
  {
   "cell_type": "code",
   "execution_count": 94,
   "id": "0b1110c2",
   "metadata": {},
   "outputs": [
    {
     "data": {
      "text/plain": [
       "((2066, 26, 6), (2066, 1), (2066, 1))"
      ]
     },
     "execution_count": 94,
     "metadata": {},
     "output_type": "execute_result"
    }
   ],
   "source": [
    "raw_data_balance.shape, binary_targets_balance.shape, pred_targets_balance.shape"
   ]
  },
  {
   "cell_type": "code",
   "execution_count": 95,
   "id": "38",
   "metadata": {},
   "outputs": [],
   "source": [
    "# from sklearn.model_selection import train_test_split\n",
    "\n",
    "# # Assuming 'data' is your input feature matrix and 'targets' is your output values\n",
    "# X_train, X_test, y_train_pred, y_test_pred = train_test_split(raw_data, pred_targets, test_size=0.2, random_state=42)\n",
    "# X_train, X_test, y_train_binary, y_test_binary = train_test_split(raw_data, binary_targets, test_size=0.2, random_state=42)\n",
    "# # X_train_2, X_test_2, y_train_binary, y_test_binary = train_test_split(raw_data[:, :-2, -2], binary_targets, test_size=0.2, random_state=42)"
   ]
  },
  {
   "cell_type": "code",
   "execution_count": 96,
   "id": "58640e7f",
   "metadata": {},
   "outputs": [],
   "source": [
    "from sklearn.model_selection import train_test_split\n",
    "\n",
    "# Assuming 'data' is your input feature matrix and 'targets' is your output values\n",
    "X_train, X_test, y_train_pred, y_test_pred = train_test_split(raw_data_balance, pred_targets_balance, test_size=0.2, random_state=42)\n",
    "X_train, X_test, y_train_binary, y_test_binary = train_test_split(raw_data_balance, binary_targets_balance, test_size=0.2, random_state=42)\n",
    "# X_train_2, X_test_2, y_train_binary, y_test_binary = train_test_split(raw_data[:, :-2, -2], binary_targets, test_size=0.2, random_state=42)"
   ]
  },
  {
   "cell_type": "code",
   "execution_count": 97,
   "id": "39",
   "metadata": {},
   "outputs": [
    {
     "data": {
      "text/plain": [
       "(1652, 26, 6)"
      ]
     },
     "execution_count": 97,
     "metadata": {},
     "output_type": "execute_result"
    }
   ],
   "source": [
    "X_train.shape"
   ]
  },
  {
   "cell_type": "code",
   "execution_count": 98,
   "id": "507ee4c2",
   "metadata": {},
   "outputs": [
    {
     "data": {
      "text/plain": [
       "(1, 1652)"
      ]
     },
     "execution_count": 98,
     "metadata": {},
     "output_type": "execute_result"
    }
   ],
   "source": [
    "y_train_binary.T.shape"
   ]
  },
  {
   "cell_type": "code",
   "execution_count": 99,
   "id": "e8d15f33",
   "metadata": {},
   "outputs": [],
   "source": [
    "from sklearn.utils.class_weight import compute_class_weight\n",
    "\n",
    "class_weights = compute_class_weight(class_weight='balanced', classes=np.unique(y_train_binary), y=y_train_binary.T[0])\n",
    "class_weights = dict(enumerate(class_weights))"
   ]
  },
  {
   "cell_type": "code",
   "execution_count": 100,
   "id": "e8bab679",
   "metadata": {},
   "outputs": [
    {
     "data": {
      "text/plain": [
       "{0: 1.0024271844660195, 1: 0.9975845410628019}"
      ]
     },
     "execution_count": 100,
     "metadata": {},
     "output_type": "execute_result"
    }
   ],
   "source": [
    "class_weights"
   ]
  },
  {
   "cell_type": "code",
   "execution_count": 118,
   "id": "40",
   "metadata": {
    "tags": []
   },
   "outputs": [
    {
     "name": "stdout",
     "output_type": "stream",
     "text": [
      "Epoch 1/50\n",
      "1831/1831 - 12s - loss: 0.0469 - 12s/epoch - 6ms/step\n",
      "Epoch 2/50\n",
      "1831/1831 - 9s - loss: 0.0459 - 9s/epoch - 5ms/step\n",
      "Epoch 3/50\n",
      "1831/1831 - 9s - loss: 0.0457 - 9s/epoch - 5ms/step\n",
      "Epoch 4/50\n",
      "1831/1831 - 10s - loss: 0.0455 - 10s/epoch - 5ms/step\n",
      "Epoch 5/50\n",
      "1831/1831 - 8s - loss: 0.0455 - 8s/epoch - 4ms/step\n",
      "Epoch 6/50\n",
      "1831/1831 - 8s - loss: 0.0457 - 8s/epoch - 4ms/step\n",
      "Epoch 7/50\n",
      "1831/1831 - 8s - loss: 0.0456 - 8s/epoch - 4ms/step\n",
      "Epoch 8/50\n",
      "1831/1831 - 9s - loss: 0.0457 - 9s/epoch - 5ms/step\n",
      "Epoch 9/50\n",
      "1831/1831 - 10s - loss: 0.0456 - 10s/epoch - 5ms/step\n",
      "Epoch 10/50\n",
      "1831/1831 - 9s - loss: 0.0456 - 9s/epoch - 5ms/step\n",
      "Epoch 11/50\n",
      "1831/1831 - 8s - loss: 0.0455 - 8s/epoch - 4ms/step\n",
      "Epoch 12/50\n",
      "1831/1831 - 8s - loss: 0.0454 - 8s/epoch - 4ms/step\n",
      "Epoch 13/50\n",
      "1831/1831 - 8s - loss: 0.0457 - 8s/epoch - 4ms/step\n",
      "Epoch 14/50\n",
      "1831/1831 - 9s - loss: 0.0456 - 9s/epoch - 5ms/step\n",
      "Epoch 15/50\n",
      "1831/1831 - 9s - loss: 0.0455 - 9s/epoch - 5ms/step\n",
      "Epoch 16/50\n",
      "1831/1831 - 9s - loss: 0.0455 - 9s/epoch - 5ms/step\n",
      "Epoch 17/50\n",
      "1831/1831 - 8s - loss: 0.0454 - 8s/epoch - 5ms/step\n",
      "Epoch 18/50\n",
      "1831/1831 - 9s - loss: 0.0456 - 9s/epoch - 5ms/step\n",
      "Epoch 19/50\n",
      "1831/1831 - 9s - loss: 0.0456 - 9s/epoch - 5ms/step\n",
      "Epoch 20/50\n",
      "1831/1831 - 11s - loss: 0.0456 - 11s/epoch - 6ms/step\n",
      "Epoch 21/50\n",
      "1831/1831 - 11s - loss: 0.0456 - 11s/epoch - 6ms/step\n",
      "Epoch 22/50\n",
      "1831/1831 - 10s - loss: 0.0455 - 10s/epoch - 5ms/step\n",
      "Epoch 23/50\n",
      "1831/1831 - 10s - loss: 0.0455 - 10s/epoch - 6ms/step\n",
      "Epoch 24/50\n",
      "1831/1831 - 8s - loss: 0.0456 - 8s/epoch - 5ms/step\n",
      "Epoch 25/50\n",
      "1831/1831 - 8s - loss: 0.0456 - 8s/epoch - 4ms/step\n",
      "Epoch 26/50\n",
      "1831/1831 - 8s - loss: 0.0455 - 8s/epoch - 5ms/step\n",
      "Epoch 27/50\n",
      "1831/1831 - 7s - loss: 0.0455 - 7s/epoch - 4ms/step\n",
      "Epoch 28/50\n",
      "1831/1831 - 7s - loss: 0.0454 - 7s/epoch - 4ms/step\n",
      "Epoch 29/50\n",
      "1831/1831 - 7s - loss: 0.0456 - 7s/epoch - 4ms/step\n",
      "Epoch 30/50\n",
      "1831/1831 - 7s - loss: 0.0455 - 7s/epoch - 4ms/step\n",
      "Epoch 31/50\n",
      "1831/1831 - 7s - loss: 0.0456 - 7s/epoch - 4ms/step\n",
      "Epoch 32/50\n",
      "1831/1831 - 8s - loss: 0.0456 - 8s/epoch - 4ms/step\n",
      "Epoch 33/50\n",
      "1831/1831 - 8s - loss: 0.0456 - 8s/epoch - 5ms/step\n",
      "Epoch 34/50\n",
      "1831/1831 - 9s - loss: 0.0454 - 9s/epoch - 5ms/step\n",
      "Epoch 35/50\n",
      "1831/1831 - 8s - loss: 0.0456 - 8s/epoch - 5ms/step\n",
      "Epoch 36/50\n",
      "1831/1831 - 8s - loss: 0.0457 - 8s/epoch - 4ms/step\n",
      "Epoch 37/50\n",
      "1831/1831 - 8s - loss: 0.0455 - 8s/epoch - 5ms/step\n",
      "Epoch 38/50\n",
      "1831/1831 - 8s - loss: 0.0457 - 8s/epoch - 4ms/step\n",
      "Epoch 39/50\n",
      "1831/1831 - 8s - loss: 0.0456 - 8s/epoch - 4ms/step\n",
      "Epoch 40/50\n",
      "1831/1831 - 8s - loss: 0.0457 - 8s/epoch - 4ms/step\n",
      "Epoch 41/50\n",
      "1831/1831 - 8s - loss: 0.0457 - 8s/epoch - 4ms/step\n",
      "Epoch 42/50\n",
      "1831/1831 - 8s - loss: 0.0457 - 8s/epoch - 4ms/step\n",
      "Epoch 43/50\n",
      "1831/1831 - 8s - loss: 0.0457 - 8s/epoch - 4ms/step\n",
      "Epoch 44/50\n",
      "1831/1831 - 8s - loss: 0.0455 - 8s/epoch - 4ms/step\n",
      "Epoch 45/50\n",
      "1831/1831 - 8s - loss: 0.0456 - 8s/epoch - 5ms/step\n",
      "Epoch 46/50\n",
      "1831/1831 - 8s - loss: 0.0454 - 8s/epoch - 4ms/step\n",
      "Epoch 47/50\n",
      "1831/1831 - 8s - loss: 0.0456 - 8s/epoch - 5ms/step\n",
      "Epoch 48/50\n",
      "1831/1831 - 8s - loss: 0.0456 - 8s/epoch - 5ms/step\n",
      "Epoch 49/50\n",
      "1831/1831 - 8s - loss: 0.0456 - 8s/epoch - 4ms/step\n",
      "Epoch 50/50\n",
      "1831/1831 - 8s - loss: 0.0456 - 8s/epoch - 5ms/step\n"
     ]
    },
    {
     "data": {
      "text/plain": [
       "<keras.src.callbacks.History at 0x1938debe0>"
      ]
     },
     "execution_count": 118,
     "metadata": {},
     "output_type": "execute_result"
    }
   ],
   "source": [
    "# Train the model\n",
    "pred_model.fit(X_train, y_train_pred, epochs=50, batch_size=20, verbose=2)"
   ]
  },
  {
   "cell_type": "code",
   "execution_count": 105,
   "id": "41",
   "metadata": {
    "tags": []
   },
   "outputs": [
    {
     "name": "stdout",
     "output_type": "stream",
     "text": [
      "Epoch 1/50\n"
     ]
    },
    {
     "name": "stdout",
     "output_type": "stream",
     "text": [
      "83/83 - 0s - loss: 0.5627 - accuracy: 0.7185 - 344ms/epoch - 4ms/step\n",
      "Epoch 2/50\n",
      "83/83 - 0s - loss: 0.5627 - accuracy: 0.7252 - 353ms/epoch - 4ms/step\n",
      "Epoch 3/50\n",
      "83/83 - 0s - loss: 0.5593 - accuracy: 0.7276 - 445ms/epoch - 5ms/step\n",
      "Epoch 4/50\n",
      "83/83 - 0s - loss: 0.5583 - accuracy: 0.7288 - 366ms/epoch - 4ms/step\n",
      "Epoch 5/50\n",
      "83/83 - 0s - loss: 0.5589 - accuracy: 0.7203 - 314ms/epoch - 4ms/step\n",
      "Epoch 6/50\n",
      "83/83 - 0s - loss: 0.5654 - accuracy: 0.7161 - 328ms/epoch - 4ms/step\n",
      "Epoch 7/50\n",
      "83/83 - 0s - loss: 0.5612 - accuracy: 0.7228 - 308ms/epoch - 4ms/step\n",
      "Epoch 8/50\n",
      "83/83 - 0s - loss: 0.5562 - accuracy: 0.7343 - 307ms/epoch - 4ms/step\n",
      "Epoch 9/50\n",
      "83/83 - 0s - loss: 0.5613 - accuracy: 0.7149 - 308ms/epoch - 4ms/step\n",
      "Epoch 10/50\n",
      "83/83 - 0s - loss: 0.5575 - accuracy: 0.7282 - 308ms/epoch - 4ms/step\n",
      "Epoch 11/50\n",
      "83/83 - 0s - loss: 0.5531 - accuracy: 0.7246 - 300ms/epoch - 4ms/step\n",
      "Epoch 12/50\n",
      "83/83 - 0s - loss: 0.5543 - accuracy: 0.7264 - 303ms/epoch - 4ms/step\n",
      "Epoch 13/50\n",
      "83/83 - 0s - loss: 0.5578 - accuracy: 0.7209 - 301ms/epoch - 4ms/step\n",
      "Epoch 14/50\n",
      "83/83 - 0s - loss: 0.5514 - accuracy: 0.7337 - 304ms/epoch - 4ms/step\n",
      "Epoch 15/50\n",
      "83/83 - 0s - loss: 0.5539 - accuracy: 0.7367 - 364ms/epoch - 4ms/step\n",
      "Epoch 16/50\n",
      "83/83 - 0s - loss: 0.5663 - accuracy: 0.7173 - 380ms/epoch - 5ms/step\n",
      "Epoch 17/50\n",
      "83/83 - 0s - loss: 0.5581 - accuracy: 0.7252 - 365ms/epoch - 4ms/step\n",
      "Epoch 18/50\n",
      "83/83 - 0s - loss: 0.5493 - accuracy: 0.7337 - 370ms/epoch - 4ms/step\n",
      "Epoch 19/50\n",
      "83/83 - 0s - loss: 0.5451 - accuracy: 0.7373 - 316ms/epoch - 4ms/step\n",
      "Epoch 20/50\n",
      "83/83 - 0s - loss: 0.5486 - accuracy: 0.7282 - 307ms/epoch - 4ms/step\n",
      "Epoch 21/50\n",
      "83/83 - 0s - loss: 0.5544 - accuracy: 0.7282 - 301ms/epoch - 4ms/step\n",
      "Epoch 22/50\n",
      "83/83 - 0s - loss: 0.5502 - accuracy: 0.7312 - 298ms/epoch - 4ms/step\n",
      "Epoch 23/50\n",
      "83/83 - 0s - loss: 0.5446 - accuracy: 0.7361 - 300ms/epoch - 4ms/step\n",
      "Epoch 24/50\n",
      "83/83 - 0s - loss: 0.5444 - accuracy: 0.7300 - 298ms/epoch - 4ms/step\n",
      "Epoch 25/50\n",
      "83/83 - 0s - loss: 0.5287 - accuracy: 0.7427 - 297ms/epoch - 4ms/step\n",
      "Epoch 26/50\n",
      "83/83 - 0s - loss: 0.5399 - accuracy: 0.7343 - 296ms/epoch - 4ms/step\n",
      "Epoch 27/50\n",
      "83/83 - 0s - loss: 0.5595 - accuracy: 0.7143 - 299ms/epoch - 4ms/step\n",
      "Epoch 28/50\n",
      "83/83 - 0s - loss: 0.5647 - accuracy: 0.7167 - 294ms/epoch - 4ms/step\n",
      "Epoch 29/50\n",
      "83/83 - 0s - loss: 0.5546 - accuracy: 0.7252 - 293ms/epoch - 4ms/step\n",
      "Epoch 30/50\n",
      "83/83 - 0s - loss: 0.5614 - accuracy: 0.7258 - 297ms/epoch - 4ms/step\n",
      "Epoch 31/50\n",
      "83/83 - 0s - loss: 0.5606 - accuracy: 0.7203 - 295ms/epoch - 4ms/step\n",
      "Epoch 32/50\n",
      "83/83 - 0s - loss: 0.5587 - accuracy: 0.7228 - 299ms/epoch - 4ms/step\n",
      "Epoch 33/50\n",
      "83/83 - 0s - loss: 0.5440 - accuracy: 0.7306 - 298ms/epoch - 4ms/step\n",
      "Epoch 34/50\n",
      "83/83 - 0s - loss: 0.5478 - accuracy: 0.7191 - 300ms/epoch - 4ms/step\n",
      "Epoch 35/50\n",
      "83/83 - 0s - loss: 0.5500 - accuracy: 0.7300 - 297ms/epoch - 4ms/step\n",
      "Epoch 36/50\n",
      "83/83 - 0s - loss: 0.5519 - accuracy: 0.7300 - 294ms/epoch - 4ms/step\n",
      "Epoch 37/50\n",
      "83/83 - 0s - loss: 0.5614 - accuracy: 0.7149 - 297ms/epoch - 4ms/step\n",
      "Epoch 38/50\n",
      "83/83 - 0s - loss: 0.5508 - accuracy: 0.7288 - 309ms/epoch - 4ms/step\n",
      "Epoch 39/50\n",
      "83/83 - 0s - loss: 0.5430 - accuracy: 0.7318 - 293ms/epoch - 4ms/step\n",
      "Epoch 40/50\n",
      "83/83 - 0s - loss: 0.5439 - accuracy: 0.7331 - 296ms/epoch - 4ms/step\n",
      "Epoch 41/50\n",
      "83/83 - 0s - loss: 0.5418 - accuracy: 0.7300 - 294ms/epoch - 4ms/step\n",
      "Epoch 42/50\n",
      "83/83 - 0s - loss: 0.5362 - accuracy: 0.7300 - 295ms/epoch - 4ms/step\n",
      "Epoch 43/50\n",
      "83/83 - 0s - loss: 0.5410 - accuracy: 0.7343 - 294ms/epoch - 4ms/step\n",
      "Epoch 44/50\n",
      "83/83 - 0s - loss: 0.5341 - accuracy: 0.7403 - 294ms/epoch - 4ms/step\n",
      "Epoch 45/50\n",
      "83/83 - 0s - loss: 0.5442 - accuracy: 0.7300 - 296ms/epoch - 4ms/step\n",
      "Epoch 46/50\n",
      "83/83 - 0s - loss: 0.5466 - accuracy: 0.7276 - 328ms/epoch - 4ms/step\n",
      "Epoch 47/50\n",
      "83/83 - 0s - loss: 0.5431 - accuracy: 0.7367 - 299ms/epoch - 4ms/step\n",
      "Epoch 48/50\n",
      "83/83 - 0s - loss: 0.5377 - accuracy: 0.7397 - 294ms/epoch - 4ms/step\n",
      "Epoch 49/50\n",
      "83/83 - 0s - loss: 0.5359 - accuracy: 0.7355 - 292ms/epoch - 4ms/step\n",
      "Epoch 50/50\n",
      "83/83 - 0s - loss: 0.5355 - accuracy: 0.7421 - 335ms/epoch - 4ms/step\n"
     ]
    },
    {
     "data": {
      "text/plain": [
       "<keras.src.callbacks.History at 0x152022610>"
      ]
     },
     "execution_count": 105,
     "metadata": {},
     "output_type": "execute_result"
    }
   ],
   "source": [
    "# Train the model\n",
    "binary_model.fit(X_train, y_train_binary, epochs=50, batch_size=20, verbose=2)\n",
    "# binary_model.fit(X_train, y_train_binary, epochs=50, batch_size=20, verbose=2, class_weight=class_weights)"
   ]
  },
  {
   "cell_type": "code",
   "execution_count": 504,
   "id": "c3f3d936",
   "metadata": {},
   "outputs": [],
   "source": [
    "binary_model.save('models/binary_model_1695stocks_31days_4percent_2024_07_05.keras')"
   ]
  },
  {
   "cell_type": "code",
   "execution_count": 119,
   "id": "43",
   "metadata": {},
   "outputs": [
    {
     "name": "stdout",
     "output_type": "stream",
     "text": [
      "287/287 [==============================] - 2s 4ms/step\n"
     ]
    }
   ],
   "source": [
    "# Get predictions for the test data\n",
    "y_pred = pred_model.predict(X_test)"
   ]
  },
  {
   "cell_type": "code",
   "execution_count": 107,
   "id": "44",
   "metadata": {},
   "outputs": [
    {
     "name": "stdout",
     "output_type": "stream",
     "text": [
      "13/13 [==============================] - 0s 4ms/step\n"
     ]
    }
   ],
   "source": [
    "# Get predictions for the test data\n",
    "y_binary = binary_model.predict(X_test)"
   ]
  },
  {
   "cell_type": "code",
   "execution_count": 103,
   "id": "653fa172",
   "metadata": {},
   "outputs": [],
   "source": [
    "from sklearn.metrics import mean_absolute_error\n",
    "from sklearn.metrics import roc_auc_score"
   ]
  },
  {
   "cell_type": "code",
   "execution_count": 87,
   "id": "59878c46-9ef6-41b1-b368-057407d08091",
   "metadata": {},
   "outputs": [
    {
     "data": {
      "text/plain": [
       "0.022534755795168636"
      ]
     },
     "execution_count": 87,
     "metadata": {},
     "output_type": "execute_result"
    }
   ],
   "source": [
    "## Even balance -- 2D CNN to 1D LSTM -- Remove stocks with any Nans -- May 15 - June 30, 2024\n",
    "mae = mean_absolute_error(y_test_pred, y_pred)\n",
    "mae"
   ]
  },
  {
   "cell_type": "code",
   "execution_count": 120,
   "id": "69e9705d",
   "metadata": {},
   "outputs": [
    {
     "data": {
      "text/plain": [
       "0.03672027807127693"
      ]
     },
     "execution_count": 120,
     "metadata": {},
     "output_type": "execute_result"
    }
   ],
   "source": [
    "## Even balance -- 2D CNN to 1D LSTM -- 6 Features (Open, Close, High, Low, High-Low, Open-Close) -- Remove stocks with any Nans -- May 15 - June 30, 2024\n",
    "mae = mean_absolute_error(y_test_pred, y_pred)\n",
    "mae"
   ]
  },
  {
   "cell_type": "code",
   "execution_count": 66,
   "id": "b433b3fb-c3e9-43ce-8ecd-03d8477da167",
   "metadata": {},
   "outputs": [
    {
     "data": {
      "text/plain": [
       "0.5282800233317312"
      ]
     },
     "execution_count": 66,
     "metadata": {},
     "output_type": "execute_result"
    }
   ],
   "source": [
    "## Even balance -- 2D CNN to 1D LSTM -- Remove stocks with any Nans -- May 15 - June 30, 2024\n",
    "auc_score = roc_auc_score(y_test_binary, y_binary)\n",
    "auc_score"
   ]
  },
  {
   "cell_type": "code",
   "execution_count": 117,
   "id": "051f148a",
   "metadata": {},
   "outputs": [
    {
     "data": {
      "text/plain": [
       "0.5237086738494151"
      ]
     },
     "execution_count": 117,
     "metadata": {},
     "output_type": "execute_result"
    }
   ],
   "source": [
    "## Even balance -- 2D CNN to 1D LSTM -- 6 Features (Open, Close, High, Low, High-Low, Open-Close) -- Remove stocks with any Nans -- May 15 - June 30, 2024\n",
    "auc_score = roc_auc_score(y_test_binary, y_binary)\n",
    "auc_score"
   ]
  },
  {
   "cell_type": "code",
   "execution_count": 426,
   "id": "fbfdc674",
   "metadata": {},
   "outputs": [
    {
     "data": {
      "text/plain": [
       "0.5573656401850008"
      ]
     },
     "execution_count": 426,
     "metadata": {},
     "output_type": "execute_result"
    }
   ],
   "source": [
    "## Strict binary classifier, first four features > 1 percent gain over first hour -- 2D CNN to 1D LSTM -- 6 Features (Open, Close, High, Low, High-Low, Open-Close) -- Remove stocks with any Nans -- May 15 - June 30, 2024\n",
    "auc_score = roc_auc_score(y_test_binary, y_binary)\n",
    "auc_score"
   ]
  },
  {
   "cell_type": "code",
   "execution_count": 501,
   "id": "80cb74f1",
   "metadata": {},
   "outputs": [
    {
     "data": {
      "text/plain": [
       "0.6491329299967339"
      ]
     },
     "execution_count": 501,
     "metadata": {},
     "output_type": "execute_result"
    }
   ],
   "source": [
    "## Strict binary classifier, first four features > 2 percent gain over first hour -- 2D CNN to 1D LSTM -- 6 Features (Open, Close, High, Low, High-Low, Open-Close) -- Remove stocks with any Nans -- May 15 - June 30, 2024\n",
    "auc_score = roc_auc_score(y_test_binary, y_binary)\n",
    "auc_score"
   ]
  },
  {
   "cell_type": "code",
   "execution_count": 572,
   "id": "0396a584",
   "metadata": {},
   "outputs": [
    {
     "data": {
      "text/plain": [
       "0.6860775845067645"
      ]
     },
     "execution_count": 572,
     "metadata": {},
     "output_type": "execute_result"
    }
   ],
   "source": [
    "## Strict binary classifier, first four features > 3 percent gain over first hour -- 2D CNN to 1D LSTM -- 6 Features (Open, Close, High, Low, High-Low, Open-Close) -- Remove stocks with any Nans -- May 15 - June 30, 2024\n",
    "auc_score = roc_auc_score(y_test_binary, y_binary)\n",
    "auc_score"
   ]
  },
  {
   "cell_type": "code",
   "execution_count": 251,
   "id": "87423e0f",
   "metadata": {},
   "outputs": [
    {
     "data": {
      "text/plain": [
       "0.8357117584620828"
      ]
     },
     "execution_count": 251,
     "metadata": {},
     "output_type": "execute_result"
    }
   ],
   "source": [
    "## Strict binary classifier, first four features > 5 percent gain over first hour -- 2D CNN to 1D LSTM -- 6 Features (Open, Close, High, Low, High-Low, Open-Close) -- Remove stocks with any Nans -- May 15 - June 30, 2024\n",
    "auc_score = roc_auc_score(y_test_binary, y_binary)\n",
    "auc_score"
   ]
  },
  {
   "cell_type": "code",
   "execution_count": 498,
   "id": "a9933455",
   "metadata": {},
   "outputs": [
    {
     "data": {
      "text/plain": [
       "0.8383753501400562"
      ]
     },
     "execution_count": 498,
     "metadata": {},
     "output_type": "execute_result"
    }
   ],
   "source": [
    "## Strict binary classifier, first four features > 4 percent gain over first hour -- 2D CNN to 1D LSTM -- 6 Features (Open, Close, High, Low, High-Low, Open-Close) -- Remove stocks with any Nans -- May 15 - June 30, 2024\n",
    "auc_score = roc_auc_score(y_test_binary, y_binary)\n",
    "auc_score"
   ]
  },
  {
   "cell_type": "code",
   "execution_count": 108,
   "id": "fc5eb40a",
   "metadata": {},
   "outputs": [
    {
     "data": {
      "text/plain": [
       "0.7759131753996966"
      ]
     },
     "execution_count": 108,
     "metadata": {},
     "output_type": "execute_result"
    }
   ],
   "source": [
    "## Strict binary classifier, first four features > 4 percent gain over first hour -- 2D CNN to 1D LSTM -- 6 Features (Open, Close, High, Low, High-Low, Open-Close) -- Remove stocks with any Nans -- May 15 - June 30, 2024\n",
    "auc_score = roc_auc_score(y_test_binary, y_binary)\n",
    "auc_score"
   ]
  },
  {
   "cell_type": "code",
   "execution_count": 109,
   "id": "0055065f",
   "metadata": {},
   "outputs": [
    {
     "name": "stdout",
     "output_type": "stream",
     "text": [
      "1537/1537 [==============================] - 3s 2ms/step\n"
     ]
    },
    {
     "data": {
      "text/plain": [
       "0.8057986732897706"
      ]
     },
     "execution_count": 109,
     "metadata": {},
     "output_type": "execute_result"
    }
   ],
   "source": [
    "## Strict binary classifier, first four features > 4 percent gain over first hour -- 2D CNN to 1D LSTM -- 6 Features (Open, Close, High, Low, High-Low, Open-Close) -- Remove stocks with any Nans -- May 15 - June 30, 2024\n",
    "# Get predictions for the test data\n",
    "y_binary_all = binary_model.predict(raw_data)\n",
    "auc_score = roc_auc_score(binary_targets, y_binary_all)\n",
    "auc_score"
   ]
  },
  {
   "cell_type": "code",
   "execution_count": 110,
   "id": "57",
   "metadata": {},
   "outputs": [
    {
     "data": {
      "image/png": "[encoded data removed]",
      "text/plain": [
       "<Figure size 576x432 with 1 Axes>"
      ]
     },
     "metadata": {
      "needs_background": "light"
     },
     "output_type": "display_data"
    }
   ],
   "source": [
    "from sklearn.metrics import roc_curve, auc\n",
    "\n",
    "# Assuming y_true and y_pred are the true binary labels and predicted probabilities, respectively\n",
    "\n",
    "# Compute ROC curve\n",
    "fpr, tpr, thresholds = roc_curve(y_test_binary, y_binary)\n",
    "\n",
    "# Compute AUC score\n",
    "auc_score = auc(fpr, tpr)\n",
    "\n",
    "# Plot ROC curve\n",
    "plt.figure(figsize=(8, 6))\n",
    "plt.plot(fpr, tpr, color='blue', lw=2, label='ROC curve (AUC = %0.2f)' % auc_score)\n",
    "plt.plot([0, 1], [0, 1], color='red', linestyle='--', lw=2, label='Random guess')\n",
    "\n",
    "fpr, tpr, thresholds = roc_curve(binary_targets, y_binary_all)\n",
    "auc_score = auc(fpr, tpr)\n",
    "plt.plot(fpr, tpr, color='blue', lw=2, label='ROC curve (AUC = %0.2f)' % auc_score)\n",
    "plt.plot([0, 1], [0, 1], color='red', linestyle='--', lw=2, label='Random guess')\n",
    "plt.xlim([0.0, 1.0])\n",
    "plt.ylim([0.0, 1.05])\n",
    "plt.xlabel('False Positive Rate (FPR)')\n",
    "plt.ylabel('True Positive Rate (TPR)')\n",
    "plt.title('Receiver Operating Characteristic (ROC) Curve')\n",
    "plt.legend(loc='lower right')\n",
    "plt.show()\n"
   ]
  },
  {
   "cell_type": "code",
   "execution_count": 573,
   "id": "98167b43",
   "metadata": {},
   "outputs": [
    {
     "data": {
      "image/png": "[encoded data removed]",
      "text/plain": [
       "<Figure size 576x432 with 1 Axes>"
      ]
     },
     "metadata": {
      "needs_background": "light"
     },
     "output_type": "display_data"
    }
   ],
   "source": [
    "from sklearn.metrics import roc_curve, auc\n",
    "\n",
    "# Assuming y_true and y_pred are the true binary labels and predicted probabilities, respectively\n",
    "\n",
    "# Compute ROC curve\n",
    "fpr, tpr, thresholds = roc_curve(y_test_binary, y_binary)\n",
    "\n",
    "# Compute AUC score\n",
    "auc_score = auc(fpr, tpr)\n",
    "\n",
    "# Plot ROC curve\n",
    "plt.figure(figsize=(8, 6))\n",
    "plt.plot(fpr, tpr, color='blue', lw=2, label='ROC curve (AUC = %0.2f)' % auc_score)\n",
    "plt.plot([0, 1], [0, 1], color='red', linestyle='--', lw=2, label='Random guess')\n",
    "plt.xlim([0.0, 1.0])\n",
    "plt.ylim([0.0, 1.05])\n",
    "plt.xlabel('False Positive Rate (FPR)')\n",
    "plt.ylabel('True Positive Rate (TPR)')\n",
    "plt.title('Receiver Operating Characteristic (ROC) Curve')\n",
    "plt.legend(loc='lower right')\n",
    "plt.show()\n"
   ]
  },
  {
   "cell_type": "code",
   "execution_count": 111,
   "id": "63192c00",
   "metadata": {},
   "outputs": [
    {
     "data": {
      "text/plain": [
       "(array([ 1.,  0.,  1.,  0.,  0.,  0.,  1.,  0.,  0.,  0.,  1.,  1.,  2.,\n",
       "         1.,  1.,  0.,  0.,  1.,  2.,  0.,  0.,  1.,  0.,  0.,  0.,  1.,\n",
       "         2.,  1.,  0.,  1.,  2.,  2.,  1.,  2.,  0.,  4.,  0.,  0.,  0.,\n",
       "         1.,  0.,  0.,  1.,  0.,  1.,  1.,  2.,  2.,  0.,  1.,  2.,  1.,\n",
       "         0.,  1.,  2.,  1.,  3.,  1.,  1.,  4.,  3.,  1.,  0.,  4.,  0.,\n",
       "         2.,  1.,  4.,  2.,  5.,  5.,  4.,  4.,  6.,  2., 11., 11., 10.,\n",
       "        16., 15., 38.,  0.,  0.,  1.,  0.,  0.,  0.,  0.,  0.,  1.,  0.,\n",
       "         0.,  0.,  2.,  0.,  0.,  1.,  0.,  0.,  2.]),\n",
       " array([0.14074272, 0.14922073, 0.15769875, 0.16617677, 0.17465478,\n",
       "        0.1831328 , 0.19161081, 0.20008883, 0.20856684, 0.21704486,\n",
       "        0.22552288, 0.23400089, 0.2424789 , 0.25095692, 0.25943494,\n",
       "        0.26791295, 0.27639097, 0.284869  , 0.293347  , 0.30182502,\n",
       "        0.31030303, 0.31878105, 0.32725906, 0.33573708, 0.3442151 ,\n",
       "        0.3526931 , 0.36117113, 0.36964914, 0.37812716, 0.38660517,\n",
       "        0.3950832 , 0.4035612 , 0.41203922, 0.42051724, 0.42899525,\n",
       "        0.43747327, 0.44595128, 0.4544293 , 0.4629073 , 0.47138533,\n",
       "        0.47986335, 0.48834136, 0.49681938, 0.5052974 , 0.5137754 ,\n",
       "        0.5222534 , 0.53073144, 0.5392095 , 0.5476875 , 0.55616546,\n",
       "        0.5646435 , 0.57312155, 0.58159953, 0.5900775 , 0.59855556,\n",
       "        0.6070336 , 0.6155116 , 0.6239896 , 0.6324676 , 0.6409457 ,\n",
       "        0.64942366, 0.65790164, 0.6663797 , 0.67485774, 0.6833357 ,\n",
       "        0.6918137 , 0.70029175, 0.7087698 , 0.7172478 , 0.72572577,\n",
       "        0.7342038 , 0.74268186, 0.75115985, 0.75963783, 0.7681159 ,\n",
       "        0.7765939 , 0.7850719 , 0.7935499 , 0.80202794, 0.810506  ,\n",
       "        0.818984  , 0.82746196, 0.83594   , 0.84441805, 0.85289603,\n",
       "        0.861374  , 0.86985207, 0.8783301 , 0.8868081 , 0.8952861 ,\n",
       "        0.9037641 , 0.9122422 , 0.92072016, 0.92919815, 0.9376762 ,\n",
       "        0.94615424, 0.9546322 , 0.9631102 , 0.97158825, 0.9800663 ,\n",
       "        0.9885443 ], dtype=float32),\n",
       " [<matplotlib.patches.Polygon at 0x152db3070>])"
      ]
     },
     "execution_count": 111,
     "metadata": {},
     "output_type": "execute_result"
    },
    {
     "data": {
      "image/png": "[encoded data removed]",
      "text/plain": [
       "<Figure size 432x288 with 1 Axes>"
      ]
     },
     "metadata": {
      "needs_background": "light"
     },
     "output_type": "display_data"
    }
   ],
   "source": [
    "fig, ax = plt.subplots()\n",
    "ax.hist(y_binary, bins=100, histtype='step')\n",
    "ax.hist(y_binary[y_test_binary == 0], bins=100, histtype='step')\n",
    "ax.hist(y_binary[y_test_binary == 1], bins=100, histtype='step')"
   ]
  },
  {
   "cell_type": "code",
   "execution_count": 112,
   "id": "c501c6b7",
   "metadata": {},
   "outputs": [
    {
     "data": {
      "text/plain": [
       "(0.0, 500.0)"
      ]
     },
     "execution_count": 112,
     "metadata": {},
     "output_type": "execute_result"
    },
    {
     "data": {
      "image/png": "[encoded data removed]",
      "text/plain": [
       "<Figure size 432x288 with 1 Axes>"
      ]
     },
     "metadata": {
      "needs_background": "light"
     },
     "output_type": "display_data"
    }
   ],
   "source": [
    "fig, ax = plt.subplots()\n",
    "total = ax.hist(y_binary_all, bins=np.linspace(0, 1, 100), histtype='step')\n",
    "bad = ax.hist(y_binary_all[binary_targets == 0], bins=np.linspace(0, 1, 100), histtype='step')\n",
    "good = ax.hist(y_binary_all[binary_targets == 1], bins=np.linspace(0, 1, 100), histtype='step')\n",
    "# ax.set_yscale('log')\n",
    "ax.set_ylim(0, 500)"
   ]
  },
  {
   "cell_type": "code",
   "execution_count": 234,
   "id": "0353d891",
   "metadata": {},
   "outputs": [
    {
     "data": {
      "text/plain": [
       "<matplotlib.legend.Legend at 0x155725970>"
      ]
     },
     "execution_count": 234,
     "metadata": {},
     "output_type": "execute_result"
    },
    {
     "data": {
      "image/png": "[encoded data removed]",
      "text/plain": [
       "<Figure size 432x288 with 1 Axes>"
      ]
     },
     "metadata": {
      "needs_background": "light"
     },
     "output_type": "display_data"
    }
   ],
   "source": [
    "fig, ax = plt.subplots()\n",
    "total = ax.hist(y_binary_all, bins=np.linspace(0, 1, 100), histtype='step', label='Total')\n",
    "bad = ax.hist(y_binary_all[binary_targets_okay == 0], bins=np.linspace(0, 1, 100), histtype='step', label='Bad')\n",
    "okay = ax.hist(y_binary_all[binary_targets_okay == 1], bins=np.linspace(0, 1, 100), histtype='step', label='Okay')\n",
    "good = ax.hist(y_binary_all[binary_targets == 1], bins=np.linspace(0, 1, 100), histtype='step', label='Good')\n",
    "# ax.set_yscale('log')\n",
    "ax.set_ylim(0, 500)\n",
    "ax.legend()"
   ]
  },
  {
   "cell_type": "code",
   "execution_count": 235,
   "id": "e417cbd0",
   "metadata": {},
   "outputs": [
    {
     "data": {
      "text/plain": [
       "[<matplotlib.lines.Line2D at 0x155994fd0>]"
      ]
     },
     "execution_count": 235,
     "metadata": {},
     "output_type": "execute_result"
    },
    {
     "data": {
      "image/png": "[encoded data removed]",
      "text/plain": [
       "<Figure size 432x288 with 1 Axes>"
      ]
     },
     "metadata": {
      "needs_background": "light"
     },
     "output_type": "display_data"
    }
   ],
   "source": [
    "fig, ax = plt.subplots()\n",
    "bins = np.linspace(0, 1, 100)\n",
    "ax.plot(bins, [np.sum(np.array(good[0])[bins[:-1]>i])/np.sum(np.array(total[0])[bins[:-1]>i]) if np.sum(np.array(total[0])[bins[:-1]>i])!=0 else 0 for i in bins], '.')\n",
    "ax.plot(bins, [np.sum(np.array(okay[0])[bins[:-1]>i])/np.sum(np.array(total[0])[bins[:-1]>i]) if np.sum(np.array(total[0])[bins[:-1]>i])!=0 else 0 for i in bins], '.')"
   ]
  },
  {
   "cell_type": "code",
   "execution_count": 231,
   "id": "1613dd12",
   "metadata": {},
   "outputs": [
    {
     "data": {
      "text/plain": [
       "<matplotlib.legend.Legend at 0x156efaa30>"
      ]
     },
     "execution_count": 231,
     "metadata": {},
     "output_type": "execute_result"
    },
    {
     "data": {
      "image/png": "[encoded data removed]",
      "text/plain": [
       "<Figure size 432x288 with 1 Axes>"
      ]
     },
     "metadata": {
      "needs_background": "light"
     },
     "output_type": "display_data"
    }
   ],
   "source": [
    "fig, ax = plt.subplots()\n",
    "total = ax.hist(y_binary_all[counts>0], bins=np.linspace(0, 1, 100), histtype='step', label='Total')\n",
    "bad = ax.hist(y_binary_all[(binary_targets_okay == 0) & (counts>0)], bins=np.linspace(0, 1, 100), histtype='step', label='Bad')\n",
    "okay = ax.hist(y_binary_all[(binary_targets_okay == 1) & (counts>0)], bins=np.linspace(0, 1, 100), histtype='step', label='Okay')\n",
    "good = ax.hist(y_binary_all[(binary_targets == 1) & (counts>0)], bins=np.linspace(0, 1, 100), histtype='step', label='Good')\n",
    "# ax.set_yscale('log')\n",
    "ax.set_ylim(0, 500)\n",
    "ax.legend()"
   ]
  },
  {
   "cell_type": "code",
   "execution_count": 233,
   "id": "3a6370a4",
   "metadata": {},
   "outputs": [
    {
     "data": {
      "text/plain": [
       "[<matplotlib.lines.Line2D at 0x1552e9c40>]"
      ]
     },
     "execution_count": 233,
     "metadata": {},
     "output_type": "execute_result"
    },
    {
     "data": {
      "image/png": "[encoded data removed]",
      "text/plain": [
       "<Figure size 432x288 with 1 Axes>"
      ]
     },
     "metadata": {
      "needs_background": "light"
     },
     "output_type": "display_data"
    }
   ],
   "source": [
    "fig, ax = plt.subplots()\n",
    "bins = np.linspace(0, 1, 100)\n",
    "ax.plot(bins, [np.sum(np.array(good[0])[bins[:-1]>i])/np.sum(np.array(total[0])[bins[:-1]>i]) if np.sum(np.array(total[0])[bins[:-1]>i])!=0 else 0 for i in bins], '.')\n",
    "ax.plot(bins, [np.sum(np.array(okay[0])[bins[:-1]>i])/np.sum(np.array(total[0])[bins[:-1]>i]) if np.sum(np.array(total[0])[bins[:-1]>i])!=0 else 0 for i in bins], '.')"
   ]
  },
  {
   "cell_type": "code",
   "execution_count": 503,
   "id": "357221a7",
   "metadata": {},
   "outputs": [
    {
     "data": {
      "text/plain": [
       "[<matplotlib.lines.Line2D at 0x14b410670>]"
      ]
     },
     "execution_count": 503,
     "metadata": {},
     "output_type": "execute_result"
    },
    {
     "data": {
      "image/png": "[encoded data removed]",
      "text/plain": [
       "<Figure size 432x288 with 1 Axes>"
      ]
     },
     "metadata": {
      "needs_background": "light"
     },
     "output_type": "display_data"
    }
   ],
   "source": [
    "fig, ax = plt.subplots()\n",
    "bins = np.linspace(0, 1, 100)\n",
    "ax.plot(bins, [np.sum(np.array(good[0])[bins[:-1]>i])/np.sum(np.array(total[0])[bins[:-1]>i]) if np.sum(np.array(total[0])[bins[:-1]>i])!=0 else 0 for i in bins], '.')"
   ]
  },
  {
   "cell_type": "code",
   "execution_count": 575,
   "id": "9c077403",
   "metadata": {},
   "outputs": [
    {
     "data": {
      "text/plain": [
       "<matplotlib.legend.Legend at 0x150f83e50>"
      ]
     },
     "execution_count": 575,
     "metadata": {},
     "output_type": "execute_result"
    },
    {
     "data": {
      "image/png": "[encoded data removed]",
      "text/plain": [
       "<Figure size 432x288 with 1 Axes>"
      ]
     },
     "metadata": {
      "needs_background": "light"
     },
     "output_type": "display_data"
    }
   ],
   "source": [
    "fig, ax = plt.subplots()\n",
    "ax.hist(y_binary, bins=np.linspace(0.35, .8, 100), histtype='step', label='All')\n",
    "ax.hist(y_binary[y_test_binary == 0], bins=np.linspace(0.35, .8, 100), histtype='step', label='Bad')\n",
    "ax.hist(y_binary[y_test_binary == 1], bins=np.linspace(0.35, .8, 100), histtype='step', label='Good')\n",
    "ax.legend()"
   ]
  },
  {
   "cell_type": "code",
   "execution_count": 576,
   "id": "7a5cbf82",
   "metadata": {},
   "outputs": [
    {
     "data": {
      "text/plain": [
       "(array([35.,  4., 12.,  9., 12.,  4.,  4.,  1.,  0.,  1.,  0.,  0.,  0.,\n",
       "         0.,  0.,  0.,  1.,  0.,  0.,  0.,  0.,  2.,  2.,  9.,  2.,  5.,\n",
       "         4.,  3.,  7.,  1.,  3.,  2.,  3.,  1.,  3.,  1.,  4.,  2.,  1.,\n",
       "         2., 10.,  6.,  0.,  0.,  0.,  0.,  2.,  1.,  0.,  0.,  0.,  0.,\n",
       "         0.,  0.,  0.,  0.,  1.,  0.,  0.,  0.,  0.,  1.,  0.,  0.,  1.,\n",
       "         1.,  0.,  0.,  1.,  0.,  3., 27.,  9.,  8.,  4.,  5.,  4.,  3.,\n",
       "         1.,  1.,  1.,  1.,  1.,  1.,  0.,  1.,  4.,  6.,  7.,  2., 11.,\n",
       "         4.,  6.,  0.,  0.,  3.,  3.,  8.,  6., 19.]),\n",
       " array([0.3277847 , 0.33194378, 0.33610287, 0.34026197, 0.34442106,\n",
       "        0.34858018, 0.35273927, 0.35689837, 0.36105746, 0.36521655,\n",
       "        0.36937565, 0.37353474, 0.37769383, 0.38185292, 0.38601205,\n",
       "        0.39017114, 0.39433023, 0.39848933, 0.40264842, 0.4068075 ,\n",
       "        0.4109666 , 0.4151257 , 0.4192848 , 0.4234439 , 0.427603  ,\n",
       "        0.4317621 , 0.4359212 , 0.44008029, 0.44423938, 0.44839847,\n",
       "        0.45255756, 0.45671666, 0.46087578, 0.46503487, 0.46919397,\n",
       "        0.47335306, 0.47751215, 0.48167124, 0.48583034, 0.48998943,\n",
       "        0.49414852, 0.49830765, 0.50246674, 0.50662583, 0.5107849 ,\n",
       "        0.514944  , 0.5191031 , 0.5232622 , 0.5274213 , 0.5315804 ,\n",
       "        0.5357395 , 0.5398986 , 0.54405767, 0.54821676, 0.55237585,\n",
       "        0.556535  , 0.5606941 , 0.5648532 , 0.5690123 , 0.5731714 ,\n",
       "        0.57733047, 0.58148956, 0.58564866, 0.58980775, 0.59396684,\n",
       "        0.59812593, 0.602285  , 0.6064441 , 0.6106032 , 0.6147623 ,\n",
       "        0.6189214 , 0.6230805 , 0.6272396 , 0.63139874, 0.63555783,\n",
       "        0.6397169 , 0.643876  , 0.6480351 , 0.6521942 , 0.6563533 ,\n",
       "        0.6605124 , 0.6646715 , 0.6688306 , 0.67298967, 0.67714876,\n",
       "        0.68130785, 0.68546695, 0.68962604, 0.69378513, 0.6979442 ,\n",
       "        0.7021033 , 0.70626247, 0.71042156, 0.71458066, 0.71873975,\n",
       "        0.72289884, 0.72705793, 0.731217  , 0.7353761 , 0.7395352 ,\n",
       "        0.7436943 ], dtype=float32),\n",
       " [<matplotlib.patches.Polygon at 0x19af523d0>])"
      ]
     },
     "execution_count": 576,
     "metadata": {},
     "output_type": "execute_result"
    },
    {
     "data": {
      "image/png": "[encoded data removed]",
      "text/plain": [
       "<Figure size 432x288 with 1 Axes>"
      ]
     },
     "metadata": {
      "needs_background": "light"
     },
     "output_type": "display_data"
    }
   ],
   "source": [
    "fig, ax = plt.subplots()\n",
    "# ax.hist(y_binary, bins=100, histtype='step')\n",
    "# ax.hist(y_binary[y_test_binary == 0], bins=100, histtype='step')\n",
    "ax.hist(y_binary[y_test_binary == 1], bins=100, histtype='step')"
   ]
  },
  {
   "cell_type": "code",
   "execution_count": null,
   "id": "c44b961a",
   "metadata": {},
   "outputs": [
    {
     "data": {
      "image/png": "[encoded data removed]",
      "text/plain": [
       "<Figure size 576x432 with 1 Axes>"
      ]
     },
     "metadata": {},
     "output_type": "display_data"
    }
   ],
   "source": [
    "from sklearn.metrics import roc_curve, auc\n",
    "\n",
    "# Assuming y_true and y_pred are the true binary labels and predicted probabilities, respectively\n",
    "\n",
    "# Compute ROC curve\n",
    "fpr, tpr, thresholds = roc_curve(y_test_binary, y_binary)\n",
    "\n",
    "# Compute AUC score\n",
    "auc_score = auc(fpr, tpr)\n",
    "\n",
    "# Plot ROC curve\n",
    "plt.figure(figsize=(8, 6))\n",
    "plt.plot(fpr, tpr, color='blue', lw=2, label='ROC curve (AUC = %0.2f)' % auc_score)\n",
    "plt.plot([0, 1], [0, 1], color='red', linestyle='--', lw=2, label='Random guess')\n",
    "plt.xlim([0.0, 1.0])\n",
    "plt.ylim([0.0, 1.05])\n",
    "plt.xlabel('False Positive Rate (FPR)')\n",
    "plt.ylabel('True Positive Rate (TPR)')\n",
    "plt.title('Receiver Operating Characteristic (ROC) Curve')\n",
    "plt.legend(loc='lower right')\n",
    "plt.show()\n"
   ]
  },
  {
   "cell_type": "code",
   "execution_count": 41,
   "id": "edb75d4d-4118-4982-8838-f96f93b4a5fc",
   "metadata": {},
   "outputs": [
    {
     "data": {
      "image/png": "[encoded data removed]",
      "text/plain": [
       "<Figure size 576x432 with 1 Axes>"
      ]
     },
     "metadata": {
      "needs_background": "light"
     },
     "output_type": "display_data"
    }
   ],
   "source": [
    "from sklearn.metrics import roc_curve, auc\n",
    "\n",
    "# Assuming y_true and y_pred are the true binary labels and predicted probabilities, respectively\n",
    "\n",
    "# Compute ROC curve\n",
    "fpr, tpr, thresholds = roc_curve(y_test_binary, y_binary)\n",
    "\n",
    "# Compute AUC score\n",
    "auc_score = auc(fpr, tpr)\n",
    "\n",
    "# Plot ROC curve\n",
    "plt.figure(figsize=(8, 6))\n",
    "plt.plot(fpr, tpr, color='blue', lw=2, label='ROC curve (AUC = %0.2f)' % auc_score)\n",
    "plt.plot([0, 1], [0, 1], color='red', linestyle='--', lw=2, label='Random guess')\n",
    "plt.xlim([0.0, 1.0])\n",
    "plt.ylim([0.0, 1.05])\n",
    "plt.xlabel('False Positive Rate (FPR)')\n",
    "plt.ylabel('True Positive Rate (TPR)')\n",
    "plt.title('Receiver Operating Characteristic (ROC) Curve')\n",
    "plt.legend(loc='lower right')\n",
    "plt.show()\n"
   ]
  },
  {
   "cell_type": "code",
   "execution_count": 77,
   "id": "59",
   "metadata": {},
   "outputs": [
    {
     "data": {
      "text/plain": [
       "(array([0.000e+00, 0.000e+00, 0.000e+00, 0.000e+00, 0.000e+00, 0.000e+00,\n",
       "        0.000e+00, 0.000e+00, 0.000e+00, 0.000e+00, 0.000e+00, 0.000e+00,\n",
       "        0.000e+00, 0.000e+00, 1.000e+00, 0.000e+00, 0.000e+00, 0.000e+00,\n",
       "        0.000e+00, 0.000e+00, 0.000e+00, 0.000e+00, 0.000e+00, 0.000e+00,\n",
       "        0.000e+00, 0.000e+00, 0.000e+00, 0.000e+00, 0.000e+00, 0.000e+00,\n",
       "        1.000e+00, 0.000e+00, 0.000e+00, 0.000e+00, 0.000e+00, 2.000e+00,\n",
       "        1.000e+00, 1.000e+00, 2.000e+00, 2.000e+00, 5.000e+00, 6.000e+00,\n",
       "        6.000e+00, 1.800e+01, 4.400e+01, 7.500e+01, 1.430e+02, 4.560e+02,\n",
       "        1.589e+03, 3.774e+03, 2.028e+03, 5.780e+02, 2.240e+02, 7.800e+01,\n",
       "        3.500e+01, 1.500e+01, 1.200e+01, 9.000e+00, 4.000e+00, 1.000e+00,\n",
       "        0.000e+00, 1.000e+00, 0.000e+00, 0.000e+00, 0.000e+00, 1.000e+00,\n",
       "        0.000e+00, 0.000e+00, 0.000e+00, 0.000e+00, 0.000e+00, 1.000e+00,\n",
       "        0.000e+00, 0.000e+00, 2.000e+00, 0.000e+00, 0.000e+00, 0.000e+00,\n",
       "        0.000e+00, 0.000e+00, 0.000e+00, 0.000e+00, 1.000e+00, 0.000e+00,\n",
       "        0.000e+00, 0.000e+00, 0.000e+00, 0.000e+00, 0.000e+00, 0.000e+00,\n",
       "        0.000e+00, 0.000e+00, 0.000e+00, 0.000e+00, 1.000e+00, 0.000e+00,\n",
       "        0.000e+00, 0.000e+00, 0.000e+00]),\n",
       " array([-1.        , -0.97979798, -0.95959596, -0.93939394, -0.91919192,\n",
       "        -0.8989899 , -0.87878788, -0.85858586, -0.83838384, -0.81818182,\n",
       "        -0.7979798 , -0.77777778, -0.75757576, -0.73737374, -0.71717172,\n",
       "        -0.6969697 , -0.67676768, -0.65656566, -0.63636364, -0.61616162,\n",
       "        -0.5959596 , -0.57575758, -0.55555556, -0.53535354, -0.51515152,\n",
       "        -0.49494949, -0.47474747, -0.45454545, -0.43434343, -0.41414141,\n",
       "        -0.39393939, -0.37373737, -0.35353535, -0.33333333, -0.31313131,\n",
       "        -0.29292929, -0.27272727, -0.25252525, -0.23232323, -0.21212121,\n",
       "        -0.19191919, -0.17171717, -0.15151515, -0.13131313, -0.11111111,\n",
       "        -0.09090909, -0.07070707, -0.05050505, -0.03030303, -0.01010101,\n",
       "         0.01010101,  0.03030303,  0.05050505,  0.07070707,  0.09090909,\n",
       "         0.11111111,  0.13131313,  0.15151515,  0.17171717,  0.19191919,\n",
       "         0.21212121,  0.23232323,  0.25252525,  0.27272727,  0.29292929,\n",
       "         0.31313131,  0.33333333,  0.35353535,  0.37373737,  0.39393939,\n",
       "         0.41414141,  0.43434343,  0.45454545,  0.47474747,  0.49494949,\n",
       "         0.51515152,  0.53535354,  0.55555556,  0.57575758,  0.5959596 ,\n",
       "         0.61616162,  0.63636364,  0.65656566,  0.67676768,  0.6969697 ,\n",
       "         0.71717172,  0.73737374,  0.75757576,  0.77777778,  0.7979798 ,\n",
       "         0.81818182,  0.83838384,  0.85858586,  0.87878788,  0.8989899 ,\n",
       "         0.91919192,  0.93939394,  0.95959596,  0.97979798,  1.        ]),\n",
       " <BarContainer object of 99 artists>)"
      ]
     },
     "execution_count": 77,
     "metadata": {},
     "output_type": "execute_result"
    },
    {
     "data": {
      "image/png": "[encoded data removed]",
      "text/plain": [
       "<Figure size 432x288 with 1 Axes>"
      ]
     },
     "metadata": {
      "needs_background": "light"
     },
     "output_type": "display_data"
    }
   ],
   "source": [
    "fig, ax = plt.subplots()\n",
    "ax.hist(y_pred-y_test_pred, bins=np.linspace(-1, 1, 100))"
   ]
  },
  {
   "cell_type": "code",
   "execution_count": 78,
   "id": "61",
   "metadata": {},
   "outputs": [],
   "source": [
    "threshold = 0.5"
   ]
  },
  {
   "cell_type": "code",
   "execution_count": 79,
   "id": "62",
   "metadata": {},
   "outputs": [
    {
     "name": "stdout",
     "output_type": "stream",
     "text": [
      "[3310, 1136, 3310, 1362]\n"
     ]
    }
   ],
   "source": [
    "sizes = np.array([((y_test_binary == 1) & (y_binary >= threshold)), ((y_test_binary == 1) & (y_binary < threshold)), ((y_test_binary == 0) & (y_binary >= threshold)), ((y_test_binary == 0) & (y_binary < threshold))])\n",
    "# print(sizes[0, 0, 0])\n",
    "sizes = sizes[:, :, 0]\n",
    "sizes = [i[i==True].size for i in sizes]\n",
    "print(sizes)\n",
    "labels = ['made money', 'could have made money', 'lost money', \"didn't lose money\"]"
   ]
  },
  {
   "cell_type": "code",
   "execution_count": 80,
   "id": "63",
   "metadata": {},
   "outputs": [
    {
     "name": "stdout",
     "output_type": "stream",
     "text": [
      "[4569, 0, 4549, 0]\n"
     ]
    }
   ],
   "source": [
    "sizes = np.array([((y_test_pred >= 0) & (y_pred >= 0)), ((y_test_pred >= 0) & (y_pred < 0)), ((y_test_pred < 0) & (y_pred >= 0)), ((y_test_pred < 0) & (y_pred < 0))])\n",
    "# print(sizes[0, 0, 0])\n",
    "sizes = sizes[:, :, 0]\n",
    "sizes = [i[i==True].size for i in sizes]\n",
    "print(sizes)\n",
    "labels = ['made money', 'could have made money', 'lost money', \"didn't lose money\"]"
   ]
  },
  {
   "cell_type": "code",
   "execution_count": 81,
   "id": "64",
   "metadata": {},
   "outputs": [],
   "source": [
    "both = (y_binary >= threshold) & (y_pred >= 0)"
   ]
  },
  {
   "cell_type": "code",
   "execution_count": 82,
   "id": "65",
   "metadata": {},
   "outputs": [
    {
     "name": "stdout",
     "output_type": "stream",
     "text": [
      "[3310, 1136, 3310, 1362]\n"
     ]
    }
   ],
   "source": [
    "sizes = np.array([((y_test_binary == 1) & (both)), ((y_test_binary == 1) & (~both)), ((y_test_binary == 0) & (both)), ((y_test_binary == 0) & (~both))])\n",
    "# print(sizes[0, 0, 0])\n",
    "sizes = sizes[:, :, 0]\n",
    "sizes = [i[i==True].size for i in sizes]\n",
    "print(sizes)\n",
    "labels = ['made money', 'could have made money', 'lost money', \"didn't lose money\"]"
   ]
  },
  {
   "cell_type": "code",
   "execution_count": 83,
   "id": "66",
   "metadata": {},
   "outputs": [
    {
     "data": {
      "text/plain": [
       "([<matplotlib.patches.Wedge at 0x14c9c1760>,\n",
       "  <matplotlib.patches.Wedge at 0x14c9c1c40>,\n",
       "  <matplotlib.patches.Wedge at 0x14c9d1160>,\n",
       "  <matplotlib.patches.Wedge at 0x14c9d1670>],\n",
       " [Text(0.45889877943206486, 0.9997059118739676, 'made money'),\n",
       "  Text(-0.981086081676027, 0.4974636673583111, 'could have made money'),\n",
       "  Text(-0.5352745694789051, -0.9609792585010215, 'lost money'),\n",
       "  Text(0.981086104963981, -0.49746362143035616, \"didn't lose money\")])"
      ]
     },
     "execution_count": 83,
     "metadata": {},
     "output_type": "execute_result"
    },
    {
     "data": {
      "image/png": "[encoded data removed]",
      "text/plain": [
       "<Figure size 432x288 with 1 Axes>"
      ]
     },
     "metadata": {},
     "output_type": "display_data"
    }
   ],
   "source": [
    "plt.pie(sizes, labels=labels)"
   ]
  },
  {
   "cell_type": "code",
   "execution_count": 85,
   "id": "72",
   "metadata": {},
   "outputs": [
    {
     "data": {
      "text/plain": [
       "[<matplotlib.lines.Line2D at 0x14ca8f7c0>]"
      ]
     },
     "execution_count": 85,
     "metadata": {},
     "output_type": "execute_result"
    },
    {
     "data": {
      "image/png": "[encoded data removed]",
      "text/plain": [
       "<Figure size 432x288 with 1 Axes>"
      ]
     },
     "metadata": {
      "needs_background": "light"
     },
     "output_type": "display_data"
    }
   ],
   "source": [
    "plt.plot(y_pred[y_test_binary>0.5], y_binary[y_test_binary>0.5], '.g')\n",
    "plt.plot(y_pred[y_test_binary<0.5], y_binary[y_test_binary<0.5], '.r')\n",
    "plt.plot([0.1]*2, [0, 1], 'k--')\n",
    "plt.plot([-0.2, 0.5], [0.97]*2, 'k--')"
   ]
  },
  {
   "cell_type": "code",
   "execution_count": 49,
   "id": "73",
   "metadata": {},
   "outputs": [
    {
     "ename": "NameError",
     "evalue": "name 'factor' is not defined",
     "output_type": "error",
     "traceback": [
      "\u001b[0;31m---------------------------------------------------------------------------\u001b[0m",
      "\u001b[0;31mNameError\u001b[0m                                 Traceback (most recent call last)",
      "\u001b[0;32m/var/folders/yp/hdrzs3jx2r56kpjjjdk69p2r0000gq/T/ipykernel_1440/183314370.py\u001b[0m in \u001b[0;36m<module>\u001b[0;34m\u001b[0m\n\u001b[0;32m----> 1\u001b[0;31m \u001b[0;34m(\u001b[0m\u001b[0mnp\u001b[0m\u001b[0;34m.\u001b[0m\u001b[0mpower\u001b[0m\u001b[0;34m(\u001b[0m\u001b[0;36m10\u001b[0m\u001b[0;34m,\u001b[0m \u001b[0my_binary\u001b[0m\u001b[0;34m)\u001b[0m\u001b[0;34m+\u001b[0m\u001b[0mnp\u001b[0m\u001b[0;34m.\u001b[0m\u001b[0mpower\u001b[0m\u001b[0;34m(\u001b[0m\u001b[0;36m10\u001b[0m\u001b[0;34m,\u001b[0m \u001b[0my_pred\u001b[0m\u001b[0;34m/\u001b[0m\u001b[0mfactor\u001b[0m\u001b[0;34m)\u001b[0m\u001b[0;34m)\u001b[0m\u001b[0;34m[\u001b[0m\u001b[0mboth_top_10\u001b[0m\u001b[0;34m]\u001b[0m\u001b[0;34m\u001b[0m\u001b[0;34m\u001b[0m\u001b[0m\n\u001b[0m",
      "\u001b[0;31mNameError\u001b[0m: name 'factor' is not defined"
     ]
    }
   ],
   "source": [
    "(np.power(10, y_binary)+np.power(10, y_pred/factor))[both_top_10]"
   ]
  },
  {
   "cell_type": "code",
   "execution_count": 50,
   "id": "74",
   "metadata": {},
   "outputs": [
    {
     "name": "stdout",
     "output_type": "stream",
     "text": [
      "5\n"
     ]
    },
    {
     "data": {
      "image/png": "[encoded data removed]",
      "text/plain": [
       "<Figure size 432x288 with 1 Axes>"
      ]
     },
     "metadata": {
      "needs_background": "light"
     },
     "output_type": "display_data"
    }
   ],
   "source": [
    "factor = 0.1\n",
    "plt.plot(y_pred[y_test_binary==1], np.power(10, y_binary[y_test_binary==1]/0.97)+np.power(10, y_pred[y_test_binary==1]/factor), '.g')\n",
    "plt.plot(y_pred[y_test_binary==0], np.power(10, y_binary[y_test_binary==0]/0.97)+np.power(10, y_pred[y_test_binary==0]/factor), '.r')\n",
    "plt.yscale('log')\n",
    "both_top_10 = np.argsort([i[0] for i in np.power(10, y_binary)+np.power(10, y_pred/factor)])[::-1][:10]\n",
    "print(y_test_binary[both_top_10][y_test_binary[both_top_10]==1].size)"
   ]
  },
  {
   "cell_type": "code",
   "execution_count": null,
   "id": "75",
   "metadata": {},
   "outputs": [],
   "source": [
    "factor = 0.1\n",
    "plt.plot(y_binary[y_test_binary==1], np.power(10, y_binary[y_test_binary==1]/0.97)+np.power(10, y_pred[y_test_binary==1]/factor), '.g')\n",
    "plt.plot(y_binary[y_test_binary==0], np.power(10, y_binary[y_test_binary==0]/0.97)+np.power(10, y_pred[y_test_binary==0]/factor), '.r')\n",
    "plt.yscale('log')\n",
    "both_top_10 = np.argsort([i[0] for i in np.power(10, y_binary)+np.power(10, y_pred/factor)])[::-1][:10]\n",
    "print(y_test_binary[both_top_10][y_test_binary[both_top_10]==1].size)"
   ]
  },
  {
   "cell_type": "code",
   "execution_count": null,
   "id": "76",
   "metadata": {},
   "outputs": [],
   "source": [
    "pred_model.save('models/pred_model_7000stocks_40by5days_2024_03_02.keras')"
   ]
  },
  {
   "cell_type": "code",
   "execution_count": null,
   "id": "77",
   "metadata": {},
   "outputs": [],
   "source": [
    "binary_model.save('models/binary_model_7000stocks_40by5days_2024_03_02.keras')"
   ]
  },
  {
   "cell_type": "code",
   "execution_count": null,
   "id": "78",
   "metadata": {},
   "outputs": [],
   "source": [
    "future[y_fut>0]"
   ]
  },
  {
   "cell_type": "code",
   "execution_count": null,
   "id": "79",
   "metadata": {},
   "outputs": [],
   "source": [
    "future[y_fut>0].size, future[(y_fut>0) & (future==0)].size "
   ]
  },
  {
   "cell_type": "code",
   "execution_count": null,
   "id": "80",
   "metadata": {},
   "outputs": [],
   "source": [
    "future[future==0].size"
   ]
  },
  {
   "cell_type": "code",
   "execution_count": null,
   "id": "81",
   "metadata": {},
   "outputs": [],
   "source": [
    "targets[targets==0].size"
   ]
  },
  {
   "cell_type": "code",
   "execution_count": null,
   "id": "82",
   "metadata": {},
   "outputs": [],
   "source": [
    "future[(future == 0) & (targets==0)].size"
   ]
  },
  {
   "cell_type": "code",
   "execution_count": null,
   "id": "83",
   "metadata": {},
   "outputs": [],
   "source": [
    "mask = [i[0] for i in future == 0]"
   ]
  },
  {
   "cell_type": "code",
   "execution_count": null,
   "id": "84",
   "metadata": {},
   "outputs": [],
   "source": [
    "fig, ax = plt.subplots()\n",
    "for i in range(len(data)):\n",
    "    if mask[i]:\n",
    "        ax.plot(np.arange(20), (data[i]['Close']-data[i]['Open'])/data[i]['Open'])\n",
    "        # \"print(data[i]['Close'].iloc[-1], data[i]['Open'].iloc[-1])"
   ]
  },
  {
   "cell_type": "code",
   "execution_count": null,
   "id": "85",
   "metadata": {},
   "outputs": [],
   "source": [
    "net = np.sum(future[y_fut>0])"
   ]
  },
  {
   "cell_type": "code",
   "execution_count": null,
   "id": "86",
   "metadata": {},
   "outputs": [],
   "source": [
    "net"
   ]
  },
  {
   "cell_type": "code",
   "execution_count": null,
   "id": "87",
   "metadata": {},
   "outputs": [],
   "source": [
    "net = np.sum(future[y_fut>0])"
   ]
  },
  {
   "cell_type": "code",
   "execution_count": null,
   "id": "88",
   "metadata": {},
   "outputs": [],
   "source": [
    "net"
   ]
  },
  {
   "cell_type": "code",
   "execution_count": null,
   "id": "89",
   "metadata": {},
   "outputs": [],
   "source": [
    "(1+net)**200"
   ]
  },
  {
   "cell_type": "code",
   "execution_count": null,
   "id": "90",
   "metadata": {},
   "outputs": [],
   "source": [
    "net = np.sum(future[(y_fut>0) & (future < .5)])"
   ]
  },
  {
   "cell_type": "code",
   "execution_count": null,
   "id": "91",
   "metadata": {},
   "outputs": [],
   "source": [
    "net"
   ]
  },
  {
   "cell_type": "code",
   "execution_count": null,
   "id": "92",
   "metadata": {},
   "outputs": [],
   "source": [
    "(1+net)**200"
   ]
  },
  {
   "cell_type": "code",
   "execution_count": null,
   "id": "93",
   "metadata": {},
   "outputs": [],
   "source": [
    "y_pred"
   ]
  },
  {
   "cell_type": "code",
   "execution_count": null,
   "id": "94",
   "metadata": {},
   "outputs": [],
   "source": []
  }
 ],
 "metadata": {
  "kernelspec": {
   "display_name": "Python 3 (ipykernel)",
   "language": "python",
   "name": "python3"
  },
  "language_info": {
   "codemirror_mode": {
    "name": "ipython",
    "version": 3
   },
   "file_extension": ".py",
   "mimetype": "text/x-python",
   "name": "python",
   "nbconvert_exporter": "python",
   "pygments_lexer": "ipython3",
   "version": "3.9.16"
  }
 },
 "nbformat": 4,
 "nbformat_minor": 5
}
