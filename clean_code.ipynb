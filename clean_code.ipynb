{
 "cells": [
  {
   "cell_type": "code",
   "execution_count": 1,
   "id": "0",
   "metadata": {},
   "outputs": [
    {
     "name": "stderr",
     "output_type": "stream",
     "text": [
      "2024-07-22 07:25:03.506657: I tensorflow/core/platform/cpu_feature_guard.cc:182] This TensorFlow binary is optimized to use available CPU instructions in performance-critical operations.\n",
      "To enable the following instructions: AVX2 FMA, in other operations, rebuild TensorFlow with the appropriate compiler flags.\n"
     ]
    }
   ],
   "source": [
    "from tqdm import tqdm\n",
    "import tensorflow as tf\n",
    "from tensorflow.keras.models import Sequential\n",
    "from tensorflow.keras.layers import LSTM, Flatten, Dense, Dropout, Conv1D, MaxPooling1D\n",
    "from sklearn.utils.class_weight import compute_class_weight\n",
    "import numpy as np\n",
    "import pandas as pd\n",
    "import yfinance as yf\n",
    "from datetime import datetime, timedelta\n",
    "import random\n",
    "from matplotlib import pyplot as plt\n",
    "import matplotlib as mpl"
   ]
  },
  {
   "cell_type": "code",
   "execution_count": 3,
   "id": "1",
   "metadata": {},
   "outputs": [
    {
     "name": "stdout",
     "output_type": "stream",
     "text": [
      "     Symbol                                               Name Last Sale  \\\n",
      "0         A             Agilent Technologies Inc. Common Stock   $131.16   \n",
      "1        AA                    Alcoa Corporation Common Stock     $31.49   \n",
      "2      AACG   ATA Creativity Global American Depositary Shares     $1.04   \n",
      "3      AACI            Armada Acquisition Corp. I Common Stock    $10.83   \n",
      "4     AACIW                 Armada Acquisition Corp. I Warrant    $0.025   \n",
      "...     ...                                                ...       ...   \n",
      "7259   ZVRA               Zevra Therapeutics Inc. Common Stock     $6.42   \n",
      "7260   ZVSA             ZyVersa Therapeutics Inc. Common Stock   $0.9181   \n",
      "7261    ZWS  Zurn Elkay Water Solutions Corporation Common ...    $28.18   \n",
      "7262   ZYME                        Zymeworks Inc. Common Stock    $10.67   \n",
      "7263   ZYXI                            Zynex Inc. Common Stock    $10.61   \n",
      "\n",
      "      Net Change % Change    Market Cap        Country  IPO Year   Volume  \\\n",
      "0        -7.5900   -5.47%  3.843042e+10  United States    1999.0  2074460   \n",
      "1        -1.8200  -5.464%  5.620080e+09  United States    2016.0  8244681   \n",
      "2         0.0659   6.765%  3.288706e+07          China    2008.0     2460   \n",
      "3         0.0100   0.092%  0.000000e+00  United States    2021.0    13059   \n",
      "4         0.0070  38.889%  0.000000e+00  United States    2021.0     3968   \n",
      "...          ...      ...           ...            ...       ...      ...   \n",
      "7259     -0.4100  -6.003%  2.325206e+08  United States       NaN   439083   \n",
      "7260      0.0381    4.33%  1.141471e+06  United States    2022.0   452493   \n",
      "7261     -0.9300  -3.195%  4.869801e+09  United States    2012.0   960091   \n",
      "7262      0.2900   2.794%  7.469212e+08  United States       NaN   764717   \n",
      "7263     -0.2800  -2.571%  3.597191e+08  United States       NaN   439243   \n",
      "\n",
      "           Sector                                           Industry  \n",
      "0     Industrials                                Electrical Products  \n",
      "1     Industrials                                           Aluminum  \n",
      "2     Real Estate                            Other Consumer Services  \n",
      "3         Finance                                       Blank Checks  \n",
      "4         Finance                                       Blank Checks  \n",
      "...           ...                                                ...  \n",
      "7259  Health Care         Biotechnology: Pharmaceutical Preparations  \n",
      "7260  Health Care         Biotechnology: Pharmaceutical Preparations  \n",
      "7261  Industrials                    Industrial Machinery/Components  \n",
      "7262  Health Care         Biotechnology: Pharmaceutical Preparations  \n",
      "7263  Health Care  Biotechnology: Electromedical & Electrotherape...  \n",
      "\n",
      "[7264 rows x 11 columns]\n"
     ]
    }
   ],
   "source": [
    "# Replace 'your_file.csv' with the actual filename\n",
    "filename = 'nasdaq_screener_1704330957680.csv'\n",
    "\n",
    "# Load the CSV file using pandas\n",
    "stocks = pd.read_csv(filename)\n",
    "\n",
    "# Print the loaded data\n",
    "print(stocks)\n"
   ]
  },
  {
   "cell_type": "code",
   "execution_count": 5,
   "id": "3",
   "metadata": {},
   "outputs": [],
   "source": [
    "def get_weekday_dates(start_date, end_date):\n",
    "    weekdays = []\n",
    "    current_date = start_date\n",
    "    while current_date <= end_date:\n",
    "        if current_date.weekday() < 5:  # Monday to Friday (0 to 4)\n",
    "            weekdays.append(current_date.strftime(\"%Y-%m-%d\"))\n",
    "        current_date += timedelta(days=1)\n",
    "    return weekdays"
   ]
  },
  {
   "cell_type": "code",
   "execution_count": 6,
   "id": "4",
   "metadata": {},
   "outputs": [],
   "source": [
    "def get_weekday_dates_after(start_date, end_date):\n",
    "    weekdays = []\n",
    "    current_date = start_date\n",
    "    while current_date <= end_date:\n",
    "        if current_date.weekday() < 5:  # Monday to Friday (0 to 4)\n",
    "            weekdays.append((current_date+timedelta(days=1)).strftime(\"%Y-%m-%d\"))\n",
    "        current_date += timedelta(days=1)\n",
    "    return weekdays"
   ]
  },
  {
   "cell_type": "code",
   "execution_count": 7,
   "id": "5",
   "metadata": {},
   "outputs": [],
   "source": [
    "start_date = datetime(2024, 5, 15)  # Start date\n",
    "end_date = datetime(2024, 6, 30)    # End date\n",
    "weekday_dates = get_weekday_dates(start_date, end_date)\n",
    "weekday_dates_after = get_weekday_dates_after(start_date, end_date)\n"
   ]
  },
  {
   "cell_type": "code",
   "execution_count": 9,
   "id": "8",
   "metadata": {},
   "outputs": [
    {
     "name": "stdout",
     "output_type": "stream",
     "text": [
      "[*********************100%%**********************]  1 of 1 completed"
     ]
    },
    {
     "name": "stderr",
     "output_type": "stream",
     "text": [
      "\n",
      "1 Failed download:\n",
      "['AACG']: Exception('%ticker%: 15m data not available for startTime=1715832000 and endTime=1715918400. The requested range must be within the last 60 days.')\n"
     ]
    },
    {
     "name": "stdout",
     "output_type": "stream",
     "text": [
      "\n"
     ]
    },
    {
     "data": {
      "text/plain": [
       "(Empty DataFrame\n",
       " Columns: [Open, High, Low, Close, Adj Close, Volume]\n",
       " Index: [],\n",
       " ['Open', 'High', 'Low', 'Close', 'Adj Close', 'Volume'])"
      ]
     },
     "execution_count": 9,
     "metadata": {},
     "output_type": "execute_result"
    }
   ],
   "source": [
    "test = yf.download(stocks['Symbol'].iloc[2], start=weekday_dates[1], end=weekday_dates[2], interval='15m')\n",
    "dtypes = [name for name in test]\n",
    "test, dtypes"
   ]
  },
  {
   "cell_type": "code",
   "execution_count": 10,
   "id": "734b0d96-f455-4cc3-b418-27786c37d658",
   "metadata": {},
   "outputs": [
    {
     "name": "stderr",
     "output_type": "stream",
     "text": [
      "  0%|          | 0/3 [00:00<?, ?it/s]"
     ]
    },
    {
     "name": "stdout",
     "output_type": "stream",
     "text": [
      "[****                   9%%                      ]  166 of 1871 completed"
     ]
    },
    {
     "name": "stderr",
     "output_type": "stream",
     "text": [
      "Failed to get ticker 'BRK/B' reason: Expecting value: line 1 column 1 (char 0)\n"
     ]
    },
    {
     "name": "stdout",
     "output_type": "stream",
     "text": [
      "[***********           23%%                      ]  433 of 1871 completed"
     ]
    },
    {
     "name": "stderr",
     "output_type": "stream",
     "text": [
      "Failed to get ticker 'BRK/A' reason: Expecting value: line 1 column 1 (char 0)\n"
     ]
    },
    {
     "name": "stdout",
     "output_type": "stream",
     "text": [
      "[*************         27%%                      ]  499 of 1871 completed"
     ]
    },
    {
     "name": "stderr",
     "output_type": "stream",
     "text": [
      "Failed to get ticker 'CRD/B' reason: Expecting value: line 1 column 1 (char 0)\n"
     ]
    },
    {
     "name": "stdout",
     "output_type": "stream",
     "text": [
      "[**********************54%%                      ]  1006 of 1871 completed"
     ]
    },
    {
     "name": "stderr",
     "output_type": "stream",
     "text": [
      "Failed to get ticker 'CRD/A' reason: Expecting value: line 1 column 1 (char 0)\n"
     ]
    },
    {
     "name": "stdout",
     "output_type": "stream",
     "text": [
      "[**********************59%%**                    ]  1097 of 1871 completed"
     ]
    },
    {
     "name": "stderr",
     "output_type": "stream",
     "text": [
      "Failed to get ticker 'BF/A' reason: Expecting value: line 1 column 1 (char 0)\n"
     ]
    },
    {
     "name": "stdout",
     "output_type": "stream",
     "text": [
      "[**********************69%%*******               ]  1283 of 1871 completed"
     ]
    },
    {
     "name": "stderr",
     "output_type": "stream",
     "text": [
      "Failed to get ticker 'BF/B' reason: Expecting value: line 1 column 1 (char 0)\n"
     ]
    },
    {
     "name": "stdout",
     "output_type": "stream",
     "text": [
      "[**********************81%%*************         ]  1509 of 1871 completed"
     ]
    },
    {
     "name": "stderr",
     "output_type": "stream",
     "text": [
      "Failed to get ticker 'BIO/B' reason: Expecting value: line 1 column 1 (char 0)\n"
     ]
    },
    {
     "name": "stdout",
     "output_type": "stream",
     "text": [
      "[*********************100%%**********************]  1871 of 1871 completed"
     ]
    },
    {
     "name": "stderr",
     "output_type": "stream",
     "text": [
      "\n",
      "1871 Failed downloads:\n",
      "['AGYS', 'CHCO', 'ERNA', 'CRIS', 'BKYI', 'AVXL', 'APPS', 'EW', 'CWST', 'AVNW', 'ATNFW', 'AAOI', 'ARMP', 'AEP', 'ECCV', 'CSL', 'BRACR', 'ATLX', 'ANSCU', 'BTA', 'BEEM', 'CRMD', 'AWRE', 'CNFRZ', 'CTRE', 'ACI', 'AWI', 'AMBA', 'ENS', 'BDJ', 'CHX', 'ACTG', 'BPOPM', 'DDT', 'CETXP', 'ENSV', 'CONXU', 'AOGO', 'EXPE', 'AZO', 'CFBK', 'BHFAO', 'BURL', 'CAT', 'AONCW', 'EVA', 'ARE', 'CRDF', 'CRVS', 'ADUS', 'ELYM', 'ALT', 'CHCI', 'COUR', 'ADBE', 'BFZ', 'EMO', 'ATMV', 'BR', 'DZSI', 'CDZI', 'ADT', 'DXYN', 'CBU', 'CR', 'BHFAL', 'BACK', 'EMCG', 'ACR', 'EME', 'ETON', 'BAFN', 'EVGOW', 'ATLCP', 'BKT', 'CABA', 'BHAC', 'AMRK', 'ESCA', 'ETY', 'EAST', 'CASI', 'AMCX', 'AL', 'AVNT', 'CWT', 'ARRW', 'EB', 'AIN', 'ADTHW', 'BELFA', 'DC', 'CARA', 'EQT', 'BIOR', 'EDR', 'DSGN', 'BHK', 'ESLA', 'CDXS', 'ARC', 'CNK', 'ANGO', 'BAERW', 'COFS', 'CTCX', 'BOCN', 'AE', 'AIZN', 'CXH', 'AMR', 'ANIX', 'DDS', 'BKU', 'DAKT', 'ENVX', 'DEA', 'BOF', 'CDW', 'AIRC', 'A', 'BX', 'COLM', 'DNLI', 'ACXP', 'CNDT', 'CXDO', 'ENPH', 'BRTX', 'ASUR', 'BOWL', 'EQR', 'AVB', 'DIOD', 'ALLR', 'DNB', 'AITRU', 'EHTH', 'AVIR', 'CNOBP', 'EDBLW', 'AFRM', 'AMS', 'CSSEN', 'BCLI', 'CSSEP', 'ASIX', 'BLEU', 'AVTX', 'EIX', 'ARES', 'DBGIW', 'ARTNA', 'CSLMW', 'CALB', 'BDN', 'ATEX', 'ALOT', 'AMP', 'ATRI', 'ARKR', 'CW', 'CKX', 'CMCSA', 'DCPH', 'COMSP', 'CVNA', 'AAMC', 'ASNS', 'AMH', 'BIO', 'ATRC', 'DVA', 'FAT', 'BYFC', 'CYCC', 'DMO', 'CEADW', 'BME', 'ALB', 'AQNB', 'EHC', 'CINF', 'DYNT', 'ANDE', 'ETG', 'ASPI', 'CMA', 'CHWY', 'CMPX', 'AYI', 'DBRG', 'CLH', 'DFLI', 'AQU', 'AEF', 'ASTC', 'CAF', 'CVGW', 'CTRN', 'BCO', 'ASTR', 'CARM', 'DNP', 'DJCO', 'ADSK', 'CBRE', 'AINC', 'ALX', 'EBF', 'EP', 'BFC', 'CHSCP', 'BATL', 'APYX', 'BBY', 'ALG', 'ADP', 'AZPN', 'ELVN', 'CHH', 'CAMP', 'ESSA', 'AWH', 'CBH', 'BCV', 'AEFC', 'CEAD', 'AFCG', 'ETW', 'CPS', 'ARHS', 'BHB', 'CBRL', 'BREZR', 'AKBA', 'EHI', 'DGX', 'AWX', 'BERY', 'ACLX', 'ALSN', 'ECDAW', 'CMP', 'BLEUR', 'AIV', 'BSM', 'DBL', 'CEV', 'ABLLL', 'CDIO', 'APLMW', 'CLDT', 'BYD', 'BREZ', 'CHSCO', 'DRMA', 'AEYE', 'EGRX', 'AVK', 'BTCS', 'EOI', 'BTZ', 'ETRN', 'EVR', 'AGNCP', 'CENTA', 'CATX', 'AIM', 'BCDAW', 'AFIB', 'ACONW', 'BALY', 'ACVA', 'CMSA', 'EU', 'BAYAU', 'BRC', 'DYN', 'AHCO', 'ACAD', 'ENVA', 'BSX', 'DMF', 'ANET', 'BRX', 'CDNS', 'BH', 'AES', 'BARK', 'BKSY', 'ADPT', 'EVF', 'DTM', 'ATOM', 'BSVN', 'EXC', 'ECDA', 'CMAXW', 'AFGD', 'BTM', 'EQS', 'FBNC', 'DHACW', 'BSGM', 'COOL', 'ARCB', 'ENJ', 'ADEA', 'DINO', 'AVGO', 'CAPL', 'DCI', 'CMPOW', 'EBC', 'CRCT', 'DRI', 'CNSL', 'EBAY', 'ASBA', 'CNXN', 'EXAS', 'DENN', 'DPG', 'AVY', 'BFRGW', 'COIN', 'AMTX', 'ACNT', 'APLM', 'AMKR', 'DFLIW', 'AUMN', 'EMCGR', 'ACT', 'CFFSW', 'CRK', 'CNS', 'CUBA', 'AACI', 'AJX', 'CISO', 'CWEN', 'CSCO', 'AULT', 'CEM', 'AHH', 'EFC', 'CHEF', 'DELL', 'COSM', 'CIK', 'DMAC', 'EA', 'ACET', 'BOWN', 'BIGC', 'CSGP', 'ASB', 'ACP', 'ASTS', 'CHSCM', 'ARMK', 'CARV', 'BSL', 'CSWCZ', 'AXGN', 'ATOS', 'CBAN', 'DLY', 'CHK', 'AVGR', 'EBS', 'CSQ', 'CVLY', 'EIM', 'COMS', 'CERS', 'APDN', 'CLAR', 'CMSC', 'AMED', 'AB', 'ENFN', 'CNXC', 'EXPI', 'ATLO', 'ESPR', 'DCOM', 'BATRK', 'ELC', 'ABM', 'BEPC', 'ALEC', 'ASRT', 'CUTR', 'BHVN', 'COST', 'CDMO', 'CMI', 'AMSF', 'BWA', 'AX', 'AOS', 'CFFI', 'CNFR', 'BKR', 'BNZI', 'BNGO', 'ELAN', 'CASS', 'CIA', 'COHU', 'BGSF', 'ARLO', 'AHT', 'CGBDL', 'CLMT', 'BLK', 'CPHC', 'BWAQ', 'EVOK', 'AFGE', 'CRNX', 'AVAH', 'ASO', 'AIR', 'CEE', 'ACMR', 'ELAB', 'AMAL', 'BCAL', 'BFK', 'BOXL', 'ABLLW', 'BILL', 'DECAW', 'AN', 'AISP', 'AAGR', 'ATXS', 'BKN', 'CRC', 'DX', 'EXFY', 'CAH', 'BXMT', 'CFFN', 'CRSR', 'ABIO', 'DHCNI', 'DYAI', 'ALGS', 'EWBC', 'AMWL', 'ALTG', 'DRRX', 'BC', 'APOG', 'ELSE', 'CTSH', 'COOLW', 'DHF', 'AIB', 'ESE', 'CPTN', 'CCK', 'AYRO', 'AWR', 'CUBB', 'CRDO', 'AFJKU', 'APCXW', 'COCH', 'ACON', 'AXNX', 'CI', 'ENSG', 'ATEC', 'EGAN', 'AGEN', 'BYSI', 'ECPG', 'AMC', 'DHI', 'CCB', 'COLB', 'CWD', 'BHFAN', 'AENTW', 'AIRG', 'DECA', 'AVRO', 'AUUD', 'ASTE', 'EPD', 'ACHV', 'BBCP', 'COMSW', 'ENO', 'EMR', 'CRUS', 'BTAI', 'ALBT', 'AXTI', 'DV', 'AMK', 'ADVM', 'CERE', 'EIG', 'ALKT', 'BCOW', 'CFB', 'BXP', 'EVV', 'ASG', 'AON', 'CEVA', 'BRAC', 'CLX', 'DAWN', 'FATBW', 'AMLX', 'BGFV', 'DKS', 'ANGI', 'EEFT', 'DG', 'DM', 'CXM', 'AGCO', 'BXMX', 'ARKO', 'AJG', 'EIGR', 'BFS', 'BAX', 'CMT', 'ERAS', 'CBL', 'ERIE', 'CXAIW', 'ALEX', 'BUSE', 'FBRX', 'ACAC', 'ACRE', 'EPSN', 'BBN', 'ANVS', 'CZFS', 'BDC', 'BAND', 'DGLY', 'EFTR', 'AEHR', 'DNMR', 'EMD', 'CACC', 'AEMD', 'CTO', 'BNIX', 'APOS', 'DY', 'CTS', 'CRBG', 'FA', 'DUOT', 'DMK', 'EXG', 'BRLT', 'ASTSW', 'AMZN', 'ELA', 'CET', 'BOX', 'ACM', 'AIT', 'AREN', 'ABNB', 'CSGS', 'EML', 'AISPW', 'CMU', 'EOT', 'FATBP', 'ALSAR', 'CSX', 'CFLT', 'CVR', 'CHGG', 'DRH', 'DFS', 'DOCS', 'DAN', 'COHR', 'CNX', 'DATSW', 'ANAB', 'CMG', 'BMY', 'ALXO', 'AMPY', 'ALCY', 'BWMN', 'CGBD', 'ANSCW', 'CTXR', 'ELME', 'EOSEW', 'CARG', 'ASH', 'BHR', 'DUKB', 'AWP', 'AMN', 'BCPC', 'EARN', 'AUBN', 'BWXT', 'BOC', 'EPC', 'COOP', 'CSSE', 'DMLP', 'BFST', 'APLD', 'ATRA', 'BBLGW', 'BST', 'AOD', 'AQNU', 'EXTR', 'BKTI', 'EOD', 'FBRT', 'CCD', 'EMBC', 'CHKEL', 'CZWI', 'DXLG', 'BAYA', 'BAH', 'DDOG', 'CPZ', 'FARM', 'CREX', 'AMPE', 'FATBB', 'ESI', 'ALSA', 'EFX', 'CTKB', 'BOLT', 'BANX', 'ALGT', 'ETSY', 'AURA', 'CLRB', 'BSBK', 'EMF', 'CTBB', 'ADC', 'EYEN', 'DAL', 'DTSTW', 'CNNE', 'DOW', 'BCEL', 'AUROW', 'BLZE', 'BV', 'CCAP', 'CAL', 'ELF', 'BANC', 'DOV', 'AAT', 'ETJ', 'CUK', 'BCBP', 'ATGE', 'ANSS', 'BKE', 'CUBI', 'EL', 'EVM', 'CPSS', 'ANNX', 'COR', 'EPAM', 'CCS', 'CARE', 'EFT', 'CROX', 'CETY', 'CAR', 'CBT', 'ECCX', 'CRAI', 'AMSC', 'COYA', 'ABVC', 'AVO', 'ANIK', 'BA', 'CTVA', 'CLOV', 'AEIS', 'DPCS', 'ES', 'CRVO', 'ELV', 'AEVA', 'ESAB', 'ARR', 'CYN', 'ACHR', 'AXTA', 'BENFW', 'BRKHW', 'DT', 'EQH', 'ADTN', 'ARIZR', 'AREC', 'DGII', 'BHLB', 'BYM', 'DORM', 'BOE', 'CIVB', 'APGE', 'ASXC', 'BPTH', 'AROW', 'CLIR', 'FAF', 'BJ', 'ANIP', 'EMKR', 'AOMR', 'DTIL', 'AAME', 'CATY', 'AAL', 'COEP', 'FBIOP', 'AGL', 'BCAT', 'CTAS', 'AIRI', 'DSU', 'DLB', 'ATO', 'CMSD', 'BRKL', 'ETV', 'EGHT', 'CPNG', 'BSY', 'ALIT', 'DPZ', 'AXR', 'AXDX', 'CDE', 'FAM', 'DHC', 'CXT', 'CPIX', 'ADX', 'CCRN', 'CABO', 'ADIL', 'ATKR', 'AFGC', 'ETNB', 'BYON', 'CMCA', 'CATC', 'CALC', 'CHPT', 'BCML', 'AMPL', 'DAVE', 'BOOM', 'BLE', 'AIRT', 'BRW', 'BMBL', 'AUID', 'CMAX', 'CSLMR', 'BALL', 'ECCC', 'BWFG', 'CENT', 'BEAT', 'BSRR', 'BTBD', 'ESOA', 'BKDT', 'CDT', 'ATEN', 'DRCT', 'AYTU', 'EVLVW', 'EKSO', 'CART', 'CLOE', 'DVAX', 'AACIW', 'AGX', 'ARTW', 'AGNC', 'AEE', 'CPTNW', 'CHD', 'AMBC', 'DAR', 'DCTH', 'ACEL', 'CIFR', 'AR', 'BIAF', 'FBIO', 'EVT', 'CBZ', 'AFL', 'CYCN', 'ACLS', 'BBWI', 'ATHA', 'DERM', 'CLM', 'APRE', 'DHIL', 'CNMD', 'AM', 'BFAM', 'FAX', 'CFR', 'DMTK', 'AMPX', 'ETD', 'BLEUW', 'BUI', 'CTNT', 'AFGB', 'ALCE', 'AMPH', 'BHACW', 'CHW', 'BK', 'DEI', 'AAPL', 'BRKH', 'FAST', 'CSSEL', 'ALK', 'ATRO', 'EWCZ', 'ARKOW', 'CENX', 'CADE', 'AGFY', 'CDTTW', 'BRCC', 'ARDC', 'ATXI', 'EDBL', 'DWSN', 'BZFD', 'COEPW', 'DDD', 'EE', 'ESP', 'DIBS', 'DLA', 'ECBK', 'DXC', 'AXON', 'APPN', 'EXLS', 'BAER', 'CGO', 'EPM', 'BATRA', 'ELUT', 'BLNK', 'EBTC', 'BLBX', 'BFRI', 'AIMBU', 'EQBK', 'AZTA', 'AMPG', 'AMST', 'DRVN', 'EPAC', 'DVN', 'ABT', 'EGF', 'BANR', 'CVV', 'AIMAW', 'BTMWW', 'CULP', 'CYTH', 'FBK', 'APAM', 'DCO', 'CIX', 'CIVI', 'ALLY', 'ADTX', 'DNA', 'BOH', 'COCHW', 'ALLK', 'BBGI', 'FARO', 'ALRN', 'ABCB', 'CHSCN', 'AMWD', 'CRWS', 'CTDD', 'BLDR', 'EZFL', 'BLD', 'CELUW', 'ARAY', 'CCI', 'CORT', 'EQIX', 'APCX', 'DOCU', 'DOC', 'ACABW', 'ALL', 'BIOL', 'BLUE', 'CPRT', 'AFG', 'APD', 'CIEN', 'BGS', 'BEAM', 'DKL', 'ARI', 'CGEM', 'DAIO', 'ECL', 'DHCNL', 'CE', 'ALE', 'ESHAR', 'BDTX', 'BGY', 'ATMU', 'ARDX', 'AVPTW', 'ALRM', 'AKAM', 'CPSH', 'CHI', 'DXCM', 'ALRS', 'BMI', 'ACIC', 'ED', 'BZFDW', 'DPCSW', 'F', 'BKD', 'COLL', 'AKLI', 'EYE', 'APEI', 'CULL', 'CLST', 'BIIB', 'BLMN', 'AORT', 'EVRG', 'BPRN', 'CIFRW', 'EVC', 'CCOI', 'CARS', 'ECF', 'CCSI', 'DE', 'B', 'APH', 'DOUG', 'BGC', 'BWB', 'ERC', 'ACV', 'CLSD', 'BIG', 'CTGO', 'COKE', 'EVI', 'CODX', 'CSWI', 'ALNT', 'CIF', 'CVS', 'BMRA', 'ADVWW', 'CDAQ', 'BRSP', 'ADM', 'DIT', 'CRBU', 'DLTR', 'ALCYW', 'EVGO', 'CAKE', 'CACI', 'EFOI', 'DGICA', 'DFH', 'CTRA', 'BOKF', 'CGTX', 'EFSC', 'DHAC', 'BFLY', 'BAYAR', 'CNM', 'CZR', 'CWH', 'BGXX', 'CVLG', 'AMPS', 'ARWR', 'BCC', 'CLDX', 'CNTX', 'ARCH', 'BRO', 'COHN', 'CELC', 'BBAI', 'ACHC', 'EYPT', 'CNTY', 'CNA', 'CMPO', 'BFIN', 'ASRV', 'ADTH', 'BMEA', 'AITR', 'DSGR', 'BNIXW', 'DARE', 'CCRD', 'CASY', 'ALPP', 'ARTL', 'BLIN', 'BDX', 'CMC', 'ALGN', 'CHTR', 'DTG', 'ASPN', 'BKH', 'CHRS', 'CMTL', 'CURI', 'CDP', 'CF', 'CUZ', 'DSP', 'BRBR', 'ADNWW', 'BLFS', 'EDSA', 'BGH', 'EAT', 'BLND', 'CSTL', 'CHN', 'ASAN', 'DAVEW', 'DLTH', 'CELH', 'AZZ', 'AAP', 'BHIL', 'CLSK', 'DXPE', 'ACNB', 'CGABL', 'CSBR', 'EAF', 'DHX', 'ENG', 'ENR', 'BWG', 'AP', 'ASTI', 'ETB', 'CSLM', 'CLF', 'CHDN', 'CKPT', 'EMN', 'BYND', 'CTR', 'BHF', 'ENSC', 'EMLD', 'CRNC', 'ECCW', 'CAPR', 'ALHC', 'CEI', 'CGNX', 'EEA', 'CXW', 'BCAB', 'FATE', 'AEO', 'AIRTP', 'BANFP', 'BEATW', 'CONN', 'DBX', 'AIMAU', 'FAZEW', 'ATUS', 'COO', 'CADL', 'CVKD', 'DBI', 'DUK', 'CEG', 'BVS', 'AQB', 'CCNE', 'CME', 'CPT', 'ERII', 'EOSE', 'DLR', 'ETWO', 'ALGM', 'CURIW', 'DO', 'CRWD', 'DHY', 'DASH', 'BLKB', 'DSM', 'CATO', 'AA', 'BROS', 'CMLS', 'CITE', 'ATNF', 'ATMVR', 'ALVR', 'CRT', 'CTBI', 'CYH', 'FBIZ', 'ADMA', 'CRVL', 'ASST', 'CDZIP', 'CUE', 'AGNCN', 'CAVA', 'BRID', 'D', 'ECVT', 'BBW', 'BCDA', 'CETX', 'ADNT', 'ADN', 'ACRV', 'CNVS', 'DLHC', 'BJDX', 'CMCO', 'AI', 'CRMT', 'BNOX', 'AAN', 'ATER', 'CVCO', 'BW', 'ET', 'CBNK', 'APLT', 'CWBC', 'DBD', 'CYRX', 'CRBP', 'AGR', 'EDF', 'ATI', 'BNY', 'BTBT', 'CLW', 'CRL', 'AGIO', 'BENF', 'BEN', 'AIMDW', 'BRKR', 'COTY', 'ENVB', 'EXP', 'BPMC', 'ALTI', 'CRF', 'APO', 'ASYS', 'CMS', 'EGBN', 'BRY', 'CHCT', 'CYTHW', 'AIRE', 'BLTE', 'BWEN', 'CING', 'ANF', 'CDRE', 'ELS', 'CVLT', 'ELEV', 'BFRIW', 'CL', 'EFR', 'DALN', 'CCLDP', 'CASH', 'ELTX', 'ENTG', 'DECK', 'EAD', 'DOMA', 'ENX', 'BZH', 'CAG', 'CVGI', 'CXE', 'ARYD', 'ELDN', 'DNUT', 'BPT', 'CION', 'AREBW', 'EGY', 'ARQT', 'AVAV', 'BXC', 'CNOB', 'CBFV', 'EXEL', 'BCSF', 'EVH', 'AKTS', 'AGNCL', 'ACRS', 'ASA', 'AVTR', 'BCX', 'COF', 'CVM', 'EDIT', 'EGP', 'BL', 'AMRX', 'AVPT', 'APG', 'AENT', 'BNL', 'DFIN', 'BIVI', 'AREB', 'ACIW', 'ATR', 'APPF', 'APVO', 'EPRT', 'EVER', 'CLPR', 'EHAB', 'ADI', 'CSV', 'CECO', 'DGICB', 'AESI', 'COCO', 'DATS', 'DOCN', 'BNTC', 'DLPN', 'BANF', 'EFSCP', 'COLD', 'BDL', 'AUVIP', 'CWAN', 'BKKT', 'BRZE', 'CIM', 'DTC', 'BHRB', 'AMTB', 'BHFAM', 'CNSP', 'ARCC', 'CVX', 'CLFD', 'AMRC', 'BMRN', 'CEIX', 'CCLD', 'COMM', 'ARW', 'AKR', 'AGRX', 'ABEO', 'BRN', 'AGD', 'AUB', 'BSFC', 'AOUT', 'CHE', 'ATSG', 'ANSC', 'BWSN', 'ALZN', 'ESRT', 'BRDG', 'AME', 'BDSX', 'ADV', 'AMD', 'BCRX', 'EMP', 'DRMAW', 'ATLCL', 'AFBI', 'AKYA', 'CVRX', 'ACU', 'CII', 'ANTX', 'EVBN', 'CPBI', 'CZNC', 'ASGN', 'BRBS', 'DTST', 'AMAT', 'CYTK', 'EEX', 'EOLS', 'ATNI', 'DTB', 'BPOP', 'ALIM', 'AMG', 'CPRX', 'ETR', 'DIN', 'CARR', 'EVCM', 'CHSCL', 'BECN', 'AUR', 'DSS', 'ACCO', 'DHR', 'AVT', 'AMT', 'CLNNW', 'AVDX', 'CLRO', 'AAGRW', 'CELU', 'AEAE', 'BNED', 'CLNE', 'CELZ', 'ATMC', 'BMRC', 'CSPI', 'EVRI', 'APA', 'CFFS', 'CRGX', 'BBLG', 'AGNCO', 'EVBG', 'CSLR', 'ABG', 'BSET', 'CHKEZ', 'AQST', 'CDIOW', 'DCOMP', 'CLNN', 'BWNB', 'COOK', 'CC', 'EVLV', 'AZEK', 'CVU', 'BTU', 'BREZW', 'AMPGW', 'DXR', 'CYAN', 'DNOW', 'ARIS', 'CCCS', 'CPF', 'CNP', 'ELMD', 'CUBE', 'BLFY', 'AIMD', 'CCO', 'ESTC', 'ETO', 'EXPD', 'AXL', 'CBUS', 'BIRD', 'AWK', 'AITRR', 'AXSM', 'COGT', 'CCCC', 'CCBG', 'ALCYU', 'CLMB', 'EZPW', 'CFSB', 'DH', 'ENV', 'BCOV', 'CLBK', 'BFH', 'ECOR', 'ALTR', 'BAC', 'ACCD', 'BURU', 'CVBF', 'CMRX', 'CCZ', 'CBRG', 'ALCO', 'ALLO', 'BTOG', 'CRI', 'ALDX', 'CPK', 'CHY', 'AFB', 'AQMS', 'AIRS', 'DBGI', 'CODA', 'CDNA', 'APLE', 'DTI', 'AKRO', 'EXPO', 'AUGX', 'DTF', 'BOTJ', 'BBSI', 'DRQ', 'CMTG', 'AEI', 'AWF', 'AVD', 'AGS', 'CCLDO', 'CHRD', 'EGIO', 'CCNEP', 'ABL', 'BOOT', 'CTSO', 'COMP', 'CALM', 'EVN', 'CG', 'BOWNR', 'ENTA', 'C', 'EOG', 'BHFAP', 'CRGY', 'ENLC', 'CRS', 'BVFL', 'BNZIW', 'ACAHW', 'AIZ', 'BBIO', 'CFG', 'BKNG', 'CTCXW', 'FBMS', 'CQP', 'AUUDW', 'BTCY', 'BBDC', 'ACAB', 'AADI', 'ARL', 'CRM', 'BWAQW', 'CTHR', 'DKNG', 'CLOER', 'BELFB', 'DTE', 'ATNM', 'DOMH', 'BLDE', 'DLX', 'BTTX', 'BLAC', 'BYRN', 'ESS', 'CCL', 'COP', 'AAON', 'CCEL', 'BGR', 'CINGW', 'EAI', 'EVTV', 'EWTX', 'ARTLW', 'AC', 'AEON', 'CSR', 'DK', 'ANEB', 'DIS', 'BHE', 'CXAI', 'BGT', 'CODI', 'CSWC', 'APP', 'BHV', 'EQC', 'BY', 'AGAE', 'AMGN', 'CHRW', 'BRFH', 'CERT', 'CNGL', 'FANG', 'CDXC', 'CALX', 'EBMT', 'BFRG', 'ADD', 'BG', 'AERT', 'ESHA', 'CTLT', 'CMCT', 'DD', 'CAC', 'ASLE', 'DSL', 'ALNY', 'CYCCP', 'CPB', 'AXP', 'CTLP', 'BASE', 'AGM', 'CLPT', 'APLS', 'ASMB', 'AROC', 'CBSH', 'BLW', 'ESQ', 'BJRI', 'AQN', 'EQ', 'AIG', 'COCP', 'BTO', 'EMLDW', 'BWBBP', 'ABBV', 'DOMO', 'EPR', 'EDUC', 'DUOL', 'CDLX', 'ACA', 'DTW', 'ALTO', 'CNC', 'ENOV', 'ABOS', 'EDD', 'ARRY', 'FBIN', 'CRKN', 'AVNS', 'DMRC', 'BTT', 'AMSWA', 'AVA', 'DCGO', 'EEIQ', 'ACDC', 'CTMX', 'ABR', 'EVG', 'ENZ', 'EFTRW', 'ATLC', 'AGNCM', 'BLBD', 'ABSI', 'EXR', 'CHUY', 'CVI', 'ABAT', 'ARLP', 'BLDEW', 'CNO', 'BE', 'BRT', 'CAUD', 'AVTE', 'DNTH', 'BGB', 'AUVI', 'AIP', 'CDTX', 'ALLE', 'BTMD', 'ARVN', 'CHMG']: Exception('%ticker%: 15m data not available for startTime=1715745600 and endTime=1719720000. The requested range must be within the last 60 days.')\n",
      "['ATAKR', 'CCLP', 'DWAC', 'AMEH', 'ACAHU', 'BEEMW', 'APTMW', 'ETAO', 'BFX', 'CURO', 'ESMT', 'BKCC', 'ARRWW', 'CHS', 'ADES', 'APACU', 'CPE', 'BHG', 'ARIZ', 'DMAQR', 'AESC', 'ACRX', 'DWACW', 'AMAM', 'CASA', 'DMAQ', 'DSKE', 'CYT', 'ACAXR', 'CONX', 'AEY', 'APAC', 'BODY', 'CONXW', 'EACPW', 'FAZE', 'EXPR', 'AYX', 'AAIN', 'CDAY', 'AEL', 'AJXA', 'AMNB', 'ALPN', 'ARAV', 'AIC', 'CRGE', 'DWACU', 'CVCY', 'EGLE', 'ACAH', 'CSTR', 'ALTU', 'ESAC', 'ATAK', 'ADOCW', 'EAC', 'ADOCR', 'ADOC', 'CNXA', 'CPSI', 'CBAY', 'APTM', 'DHCAU', 'CANO', 'AGTI', 'ACOR', 'APACW', 'ALTUW', 'BRP', 'DHCA', 'BVH', 'ARIZW', 'ACAX', 'EAR']: Exception('%ticker%: No data found, symbol may be delisted')\n",
      "['C^J', 'BAC^P', 'BML^H', 'ET^C', 'CNO^A', 'BAC^L', 'BFS^D', 'CTO^A', 'AGM^C', 'AL^A', 'BAC^M', 'BRK/B', 'F^B', 'ET^E', 'CTA^B', 'CDR^B', 'ACP^A', 'ABR^F', 'AIG^A', 'EQH^C', 'CMS^C', 'BML^G', 'ECC^D', 'CIM^B', 'ARR^C', 'ETI^', 'DBRG^H', 'C^N', 'BOH^A', 'ABR^E', 'F^C', 'AGM^G', 'BRK/A', 'EFC^E', 'DLR^L', 'BC^C', 'CRD/B', 'BAC^Q', 'AHH^A', 'CFG^E', 'EPR^C', 'ASB^F', 'BHR^D', 'ACR^C', 'ALL^H', 'AGM^E', 'CADE^A', 'AEL^A', 'BFS^E', 'CUBI^E', 'EPR^E', 'AUB^A', 'CSR^C', 'CODI^B', 'AMH^G', 'CUBI^F', 'BML^J', 'BCV^A', 'ALTG^A', 'CFG^D', 'AGM^F', 'AEL^B', 'BANC^F', 'ASB^E', 'CRD/A', 'BAC^K', 'ALL^B', 'EP^C', 'CMS^B', 'DLR^K', 'COF^J', 'DBRG^J', 'EFC^A', 'BF/A', 'ADC^A', 'ET^D', 'BHR^B', 'CODI^A', 'COF^N', 'CIM^A', 'BAC^B', 'ALL^J', 'AHT^H', 'BC^B', 'AGM^D', 'CIM^C', 'BAC^O', 'CLDT^A', 'AHT^I', 'BF/B', 'COF^K', 'ABR^D', 'FBRT^E', 'AHT^G', 'EFC^D', 'CTA^A', 'CDR^C', 'AMH^H', 'AHT^D', 'EQC^D', 'ECC           ', 'APO^A', 'EFC^C', 'COF^I', 'BAC^N', 'ECF^A', 'ET^I', 'BAC^S', 'BW^A', 'BC^A', 'CODI^C', 'BIO/B', 'DLR^J', 'BAC^E', 'ACR^D', 'ALL^I', 'COF^L', 'EFC^B', 'AHT^F', 'DBRG^I', 'CIM^D', 'CFR^B', 'EPR^G', 'EQH^A', 'DUK^A', 'F^D', 'DRH^A', 'AULT^D', 'BML^L', 'DX^C']: Exception('%ticker%: No timezone found, symbol may be delisted')\n",
      "['AONC']: Exception(\"%ticker%: Data doesn't exist for startDate = 1715745600, endDate = 1719720000\")\n"
     ]
    },
    {
     "name": "stdout",
     "output_type": "stream",
     "text": [
      "\n"
     ]
    },
    {
     "name": "stderr",
     "output_type": "stream",
     "text": [
      " 33%|███▎      | 1/3 [04:08<08:17, 248.59s/it]"
     ]
    },
    {
     "name": "stdout",
     "output_type": "stream",
     "text": [
      "[******                13%%                      ]  238 of 1871 completed"
     ]
    },
    {
     "name": "stderr",
     "output_type": "stream",
     "text": [
      "Failed to get ticker 'HEI/A' reason: Expecting value: line 1 column 1 (char 0)\n"
     ]
    },
    {
     "name": "stdout",
     "output_type": "stream",
     "text": [
      "[**********************61%%***                   ]  1147 of 1871 completed"
     ]
    },
    {
     "name": "stderr",
     "output_type": "stream",
     "text": [
      "Failed to get ticker 'HVT/A' reason: Expecting value: line 1 column 1 (char 0)\n"
     ]
    },
    {
     "name": "stdout",
     "output_type": "stream",
     "text": [
      "[*********************100%%**********************]  1871 of 1871 completed"
     ]
    },
    {
     "name": "stderr",
     "output_type": "stream",
     "text": [
      "\n",
      "1870 Failed downloads:\n",
      "['GOOG', 'GECC', 'MEG', 'FGB', 'GSHD', 'LEU', 'KAI', 'MTZ', 'MSBI', 'HESM', 'LCID', 'OGN', 'MEI', 'FR', 'FPAY', 'FLUX', 'FSCO', 'IOT', 'GDO', 'LWLG', 'IDT', 'NTRA', 'JSPRW', 'OLPX', 'HIW', 'IONS', 'LIFWZ', 'LPSN', 'KKRS', 'LBBBR', 'HBNC', 'GNRC', 'GHIXU', 'GFS', 'KTH', 'IROQ', 'LUCY', 'HWKN', 'OLB', 'MRTN', 'IGC', 'GNT', 'FDMT', 'GLV', 'HTIBP', 'GLSTW', 'ISSC', 'GNW', 'HGTY', 'GBAB', 'KRC', 'NRBO', 'LVWR', 'MYN', 'LTRN', 'LGL', 'LEO', 'MMLP', 'LRCX', 'FMBH', 'NPK', 'GERN', 'LANDM', 'LIFWW', 'MCACR', 'FTV', 'ODFL', 'HTLD', 'MTTR', 'NCPLW', 'FMNB', 'NUW', 'HNNA', 'OFLX', 'IBOC', 'IP', 'HYMC', 'HSPOW', 'HUMA', 'LNTH', 'HOWL', 'MBINO', 'LVO', 'IPX', 'HPP', 'MAQC', 'GRF', 'HZO', 'KITTW', 'LGMK', 'GIII', 'HFRO', 'NUV', 'IVAC', 'KMPB', 'INFU', 'HXL', 'MBCN', 'HEPA', 'MPC', 'HUBB', 'FULC', 'NDSN', 'NUTX', 'MEDP', 'GCO', 'FVCB', 'GWRE', 'HURN', 'MYRG', 'IDA', 'NYMT', 'MMU', 'ODP', 'LKQ', 'NZF', 'JNPR', 'MSGS', 'ISRG', 'IIM', 'MLR', 'FHTX', 'LFVN', 'GATO', 'IIIV', 'LEN', 'MINM', 'GCV', 'MDLZ', 'GENK', 'NXT', 'NTIC', 'LCUT', 'FEXD', 'HPK', 'MYD', 'HOPE', 'NINE', 'HOUR', 'FMAO', 'GLP', 'GDYN', 'NRO', 'MU', 'MCFT', 'O', 'NMFCZ', 'ISPOW', 'NOM', 'GPRO', 'NRK', 'KIDS', 'GDEN', 'NDP', 'HMN', 'HSPO', 'NBIX', 'INTZ', 'IESC', 'KEY', 'LBAI', 'ISPC', 'JAGX', 'GOLF', 'GDOT', 'OBT', 'MWA', 'NBTB', 'FEMY', 'FI', 'HOLX', 'NUZE', 'ODC', 'LIND', 'NSS', 'NBBK', 'JSPR', 'KTCC', 'OLP', 'GM', 'INGR', 'ICAD', 'LNC', 'HUDA', 'IR', 'LABP', 'NYT', 'HRB', 'LIPO', 'FWRG', 'MAIN', 'HOG', 'HHH', 'MNKD', 'OESX', 'GAM', 'GMS', 'GCBC', 'MOD', 'LPTV', 'MP', 'KF', 'NATR', 'FISI', 'HY', 'KIRK', 'FOX', 'HUYA', 'MCAAW', 'NWPX', 'LEVI', 'NYMTM', 'NOV', 'GOSS', 'GJR', 'HOFVW', 'NGS', 'IRM', 'GRTS', 'INKT', 'ICMB', 'MAX', 'HEI', 'NAD', 'MKTX', 'NCZ', 'GLBZ', 'NEOVW', 'HTD', 'IIPR', 'MMS', 'FSBW', 'HBANL', 'OII', 'IBTX', 'HAYN', 'NXU', 'LUNG', 'INCY', 'MFD', 'MAQCW', 'MGR', 'HAIN', 'IH', 'LOAN', 'LLYVK', 'GAINN', 'FSFG', 'MAMA', 'MYGN', 'LECO', 'JRI', 'HTBI', 'MIN', 'FCNCP', 'MED', 'FULTP', 'MGY', 'OC', 'HLLY', 'HWC', 'OABIW', 'IPW', 'HUMAW', 'KOP', 'NARI', 'MBNKP', 'NEP', 'GBX', 'IDE', 'NMRK', 'NOTE', 'NTCT', 'NAPA', 'MTN', 'KPRX', 'INFA', 'IONQ', 'ISD', 'GNPX', 'KYCH', 'MSS', 'MXC', 'FTHY', 'IPXXW', 'M', 'LLY', 'HUN', 'MCBS', 'MXF', 'KLAC', 'NRDS', 'MLKN', 'INTA', 'MQT', 'ICCH', 'HON', 'FOUR', 'GTIM', 'GPACU', 'HTLF', 'NRC', 'JQC', 'GSAT', 'NXGLW', 'FLIC', 'GIFI', 'GOOD', 'LADR', 'FTAIN', 'NXP', 'FCNCO', 'HPF', 'MBIN', 'GPMT', 'IT', 'FFWM', 'HR', 'OIA', 'HOFV', 'OCFCP', 'NVEE', 'NVAC', 'HCVIW', 'OIS', 'NAOV', 'NNAGU', 'HRT', 'GBIO', 'IHD', 'HBANM', 'OLO', 'MQ', 'IVR', 'GMFIW', 'NSA', 'LOB', 'HDSN', 'NERV', 'NTRS', 'FSBC', 'FOF', 'MNTK', 'HGAS', 'MASS', 'NNVC', 'HTH', 'MHK', 'FNCH', 'OLLI', 'JBL', 'MSM', 'INFN', 'FFIN', 'IRWD', 'HAE', 'MRIN', 'NVTS', 'MLYS', 'HD', 'OBIO', 'NAZ', 'NTAP', 'HRI', 'FHI', 'KTF', 'MS', 'MCB', 'MMD', 'MCN', 'LUMN', 'GOEVW', 'MAPS', 'HQH', 'OCUL', 'LUXHP', 'KIND', 'MXCT', 'JOF', 'ICCC', 'KMT', 'MTSI', 'KAVL', 'HYLN', 'HSCSW', 'GLW', 'MPW', 'JBT', 'HBT', 'LMAT', 'MQY', 'KBH', 'KDP', 'FRST', 'FCUV', 'FDX', 'HAFC', 'MEDS', 'MODD', 'IIIN', 'NXC', 'FROG', 'LAND', 'NSTS', 'LTRY', 'MAT', 'GIPR', 'MPV', 'HWBK', 'GETY', 'HP', 'HOTH', 'III', 'NHI', 'NECB', 'FDUS', 'MHO', 'HRMY', 'INSW', 'MIRA', 'OKE', 'NCLH', 'HAS', 'GOODN', 'LIDRW', 'FTAIM', 'LBPH', 'OGE', 'HIFS', 'HIMS', 'FRAF', 'LTH', 'NEU', 'MODG', 'FGFPP', 'NVEC', 'KVAC', 'FT', 'MYMD', 'GES', 'MESA', 'FE', 'KOD', 'LDTC', 'MAYS', 'FINW', 'NETDW', 'HTFB', 'FFIE', 'ITIC', 'JBSS', 'MVIS', 'IHT', 'LEE', 'J', 'MCI', 'LFCR', 'FYBR', 'GOVXW', 'LPTH', 'MCHX', 'INAQW', 'L', 'OCEA', 'NHC', 'MGAM', 'HCSG', 'NVACW', 'HE', 'HCVI', 'OLMA', 'INDI', 'LFLYW', 'LSXMK', 'NBB', 'GJP', 'MCW', 'GTBP', 'GNLX', 'FICO', 'GHIX', 'LNN', 'FSEA', 'MLSS', 'KGEI', 'FG', 'HEQ', 'HOOD', 'GECCO', 'NVFY', 'MKTW', 'HRZN', 'MTH', 'IPGP', 'HURC', 'NCNO', 'FLNC', 'NGVT', 'JANX', 'KVHI', 'LAUR', 'METCL', 'OFSSH', 'ISPR', 'MTCH', 'MLNK', 'FC', 'MUR', 'MANH', 'FL', 'MCY', 'INTT', 'KURA', 'HPKEW', 'NWSA', 'MMSI', 'KFRC', 'GSBC', 'MDB', 'NETDU', 'MTDR', 'FCEL', 'MKSI', 'MACA', 'LINK', 'ICFI', 'MPAA', 'GTHX', 'IKNA', 'K', 'MIR', 'HYPR', 'GYRE', 'JFR', 'FNLC', 'MNPR', 'MRCC', 'KO', 'MBINM', 'GO', 'OI', 'NFG', 'NXPLW', 'KPLTW', 'ICUCW', 'GDST', 'JSM', 'MVT', 'FXNC', 'GRX', 'FCRX', 'JHS', 'FBYD', 'MTRX', 'NAII', 'GLO', 'IRDM', 'HQL', 'NEXT', 'NYCB', 'OCN', 'IPXXU', 'MOBXW', 'GPS', 'HCP', 'GAIN', 'FHN', 'NMT', 'NEA', 'LSEA', 'GATE', 'MARA', 'MNTX', 'IPDN', 'LGVN', 'HUDAR', 'LIXT', 'LSBK', 'GTAC', 'LOGI', 'IAS', 'KPTI', 'NB', 'HHS', 'OLN', 'FCX', 'GANX', 'HLVX', 'GBBK', 'MDRX', 'HSPOR', 'NET', 'IVT', 'LSEAW', 'FCF', 'MGYR', 'MSAI', 'JAMF', 'LFMD', 'LVLU', 'HCMAW', 'FEXDR', 'LASE', 'KRP', 'GRNT', 'MVF', 'OFS', 'LUNR', 'GLSTR', 'LFLY', 'FICVW', 'LIXTW', 'MAS', 'IROHU', 'MCO', 'METC', 'NLY', 'MC', 'FRPT', 'LRN', 'HCXY', 'FOXA', 'ITI', 'ISTR', 'NOW', 'MRNA', 'MTEM', 'LUCD', 'MCVT', 'LYEL', 'LBRT', 'IRT', 'NVG', 'LITE', 'MUSA', 'NHTC', 'FORL', 'FCT', 'GRWG', 'LIAN', 'NUE', 'KRT', 'MG', 'MTNB', 'LCII', 'MGPI', 'KRRO', 'LAZR', 'NATL', 'MORN', 'FGBI', 'HNI', 'HSTM', 'MTR', 'INSE', 'NXST', 'FORR', 'FKWL', 'IDYA', 'GRC', 'GL', 'IMKTA', 'MVST', 'IOVA', 'FTNT', 'LIBYW', 'LKFN', 'NWFL', 'IDEX', 'LYV', 'MYO', 'HBCP', 'HLNE', 'HIE', 'GVA', 'GGN', 'FITBO', 'HWM', 'GKOS', 'KTB', 'GTN', 'HTFC', 'FF', 'NMRA', 'NURO', 'INOD', 'IBRX', 'FNWD', 'FWRD', 'NPV', 'HPS', 'FGF', 'NXLIW', 'LNKB', 'LAMR', 'HONE', 'NWBI', 'LTC', 'HCKT', 'FLS', 'IMNN', 'FPF', 'INTEW', 'MFICL', 'LMFA', 'NRT', 'LEGN', 'FLYW', 'IDCC', 'HQI', 'LUV', 'LGIH', 'IEP', 'KZR', 'IGMS', 'LMNR', 'GLSI', 'GGT', 'LHX', 'FUNC', 'NVNO', 'MGNI', 'NRXP', 'HCAT', 'HCTI', 'FRGT', 'OABI', 'HPI', 'OHI', 'GATEW', 'IRTC', 'GPACW', 'MFIN', 'NCV', 'GEG', 'IVP', 'GDDY', 'MICS', 'LDTCW', 'MNST', 'MIND', 'FORM', 'INVO', 'FBYDW', 'KNSA', 'GUG', 'IPG', 'OCFC', 'FGI', 'FSS', 'GLT', 'KTTA', 'IBP', 'JMSB', 'LYTS', 'NWLI', 'OBK', 'NEWTL', 'NCSM', 'IOSP', 'GNTY', 'ITW', 'HCA', 'IRAA', 'LAD', 'GJO', 'INSG', 'NEWTI', 'LYRA', 'MEGI', 'GBNY', 'NXDT', 'MLGO', 'IDAI', 'FDBC', 'FORLW', 'KWR', 'HBI', 'LINC', 'FIX', 'NXL', 'JKHY', 'LAW', 'FUV', 'NMFC', 'KA', 'JEQ', 'NCA', 'INUV', 'INBS', 'MDXG', 'FREEW', 'INTE', 'MAN', 'IMAQ', 'MTW', 'NVR', 'MBC', 'IMRX', 'NMTC', 'MNSBP', 'HEES', 'MSB', 'HOMB', 'IMAQR', 'MKFG', 'NYMTN', 'MOS', 'HMST', 'LPCN', 'IMVT', 'NAUT', 'HFFG', 'NUVB', 'GWRS', 'NN', 'NNI', 'HUBG', 'MMT', 'MHH', 'MMM', 'INHD', 'KMB', 'KEX', 'MRAI', 'MSBIP', 'MLAB', 'MCRI', 'GDRX', 'HROWM', 'KVUE', 'ISRLW', 'MAV', 'KREF', 'HYZN', 'IMXI', 'NIC', 'LIFE', 'LZB', 'HALO', 'KNSL', 'IQI', 'JAKK', 'HSIC', 'KRUS', 'GBCI', 'FTLF', 'LVS', 'LFT', 'IAC', 'GPAK', 'KAR', 'FET', 'LANDP', 'NSP', 'HROWL', 'HOV', 'MPLN', 'JNJ', 'FCBC', 'GILD', 'LOW', 'LQDT', 'HBAN', 'HCWB', 'LDI', 'MUI', 'HTLFP', 'FITBI', 'GE', 'GBTG', 'ML', 'MEC', 'MMAT', 'FLNT', 'LYFT', 'NXJ', 'LANDO', 'MBUU', 'NUVL', 'FNB', 'MVLA', 'HSON', 'GOEV', 'INBKZ', 'HNRG', 'KW', 'MYPSW', 'HOUS', 'FITBP', 'INVH', 'LIFW', 'HNVR', 'MRKR', 'FEXDU', 'OCAXW', 'KRNLW', 'JACK', 'LTRYW', 'JILL', 'NVRI', 'NKTX', 'HLIO', 'FELE', 'INSM', 'MUE', 'LRMR', 'INSI', 'MIRM', 'IPI', 'GPN', 'FTAI', 'GECCZ', 'LSXMB', 'FEIM', 'HI', 'LTRX', 'HST', 'MFIC', 'KOSS', 'INTU', 'NRGV', 'KE', 'JBGS', 'IGTAU', 'MPB', 'LL', 'HNW', 'MUA', 'KVACU', 'GATX', 'MRVI', 'HII', 'ICE', 'HUT', 'FFBC', 'OCTO', 'LH', 'LBBBW', 'IRBT', 'GEO', 'JXN', 'NTIP', 'HOFT', 'NEOV', 'HSY', 'GHSI', 'MCBC', 'JOBY', 'FUND', 'INDB', 'LNG', 'KRMD', 'GAMCU', 'HNST', 'INNV', 'HYB', 'FTS', 'HTIA', 'GMGI', 'KMX', 'HSII', 'OCSL', 'NWL', 'MUJ', 'KTRA', 'ICUI', 'NFBK', 'HOLOW', 'FNF', 'HOOK', 'HCVIU', 'MNSB', 'MA', 'FFA', 'IAE', 'ITRI', 'GODN', 'FITB', 'GUT', 'NEO', 'GHC', 'NTWK', 'IGD', 'FLXS', 'HLTH', 'NTGR', 'NMS', 'NL', 'LZ', 'INDP', 'FTEK', 'HYMCL', 'NAVI', 'FLO', 'MDU', 'LEA', 'MITK', 'FRGE', 'FFC', 'GNL', 'JGH', 'NMZ', 'JBI', 'MYPS', 'FOXF', 'KFY', 'FLC', 'NTLA', 'NODK', 'HIG', 'FDS', 'IBCP', 'LFUS', 'FNKO', 'NEPH', 'LASR', 'MRK', 'FEAM', 'MRDB', 'MLM', 'GVP', 'GNLN', 'FUSB', 'LDWY', 'MRO', 'GLPI', 'NNAG', 'FREE', 'HIPO', 'HSDT', 'MSFT', 'IBKR', 'JWN', 'MXE', 'FCNCA', 'META', 'METCB', 'IRAAU', 'LILAK', 'HFBL', 'MRC', 'HVT', 'NWE', 'MDT', 'GMED', 'NNBR', 'FLL', 'IPAR', 'GHY', 'NOC', 'MGRC', 'OM', 'MDRR', 'MYFW', 'NMI', 'KRG', 'LRHC', 'KTN', 'INAQ', 'MINDP', 'NNAVW', 'IGA', 'GDV', 'HA', 'HYT', 'FRPH', 'LMT', 'IRMD', 'NDLS', 'MSD', 'LODE', 'JELD', 'NCMI', 'MITQ', 'GTLS', 'GLDD', 'KORE', 'IPSC', 'MRBK', 'FCFS', 'LTBR', 'MCAGR', 'MLP', 'GWW', 'KALA', 'NJR', 'MVO', 'NPCE', 'IVDAW', 'FIZZ', 'IONM', 'IMUX', 'HCC', 'MSEX', 'MSGM', 'NSIT', 'HAL', 'JPM', 'NNN', 'OGS', 'MNTS', 'MULN', 'LOPE', 'LLAP', 'JRS', 'GEGGL', 'KERNW', 'NKGN', 'MCRB', 'FRBA', 'OCCIO', 'LAB', 'KRO', 'GREE', 'ITCI', 'FFIC', 'NNAGR', 'ISDR', 'FMC', 'HLMN', 'INVE', 'MSSAR', 'NE', 'HL', 'NOG', 'NSTG', 'FOLD', 'MOND', 'GPK', 'IFN', 'HUBS', 'JOUT', 'NUS', 'JCTCF', 'INVA', 'HALL', 'KR', 'HYFM', 'OGEN', 'FTCI', 'IQV', 'FNCB', 'HWCPZ', 'FSP', 'NXGL', 'MUC', 'GAMC', 'KELYB', 'FIACW', 'INTC', 'JEF', 'NFJ', 'MSCI', 'LDP', 'MGEE', 'GORO', 'MAR', 'KBR', 'LEGH', 'IHRT', 'GLADZ', 'MOVE', 'FGEN', 'MSI', 'FSTR', 'MHF', 'MVBF', 'NFLX', 'GJT', 'JOE', 'LII', 'KITT', 'MHI', 'NRDY', 'FIGS', 'MARX', 'FLGT', 'HBANP', 'IMNM', 'IMMX', 'FGBIP', 'MGF', 'FMN', 'NRUC', 'MACAW', 'NVRO', 'NRP', 'JLL', 'GT', 'H', 'MITT', 'MAQCU', 'MCR', 'MSA', 'JBLU', 'GCI', 'LPX', 'ICHR', 'JVA', 'KNX', 'GROM', 'MGRM', 'FWONA', 'IART', 'GWAV', 'NVOS', 'HLT', 'FRZA', 'GPCR', 'FRSH', 'KNF', 'LXU', 'ILMN', 'GRI', 'INN', 'FCPT', 'IGI', 'FUN', 'KRNL', 'LC', 'FRMEP', 'GPRE', 'NOVA', 'HGBL', 'GTY', 'NWS', 'MASI', 'FHLT', 'NLOP', 'MCS', 'FIAC', 'MPWR', 'OLED', 'MXL', 'FRLA', 'MMI', 'OCAX', 'MEIP', 'GOCO', 'MNOV', 'FIS', 'GJH', 'IDN', 'KSM', 'NRG', 'INO', 'ISRL', 'NTRB', 'LWAY', 'LXP', 'IPXX', 'FLWS', 'FGIWW', 'MTG', 'FIP', 'FLFV', 'MARXR', 'IVDA', 'JHI', 'NGVC', 'NSSC', 'GOGO', 'HPCO', 'NRIM', 'NR', 'GAINZ', 'GPI', 'HROW', 'KPLT', 'NRIX', 'NATH', 'LBRDK', 'LCNB', 'LNZA', 'FIBK', 'IEX', 'HLI', 'FTAIP', 'HTZ', 'FCO', 'NGL', 'GBBKR', 'IVZ', 'MRNS', 'GHIXW', 'KLXE', 'ISPO', 'GJS', 'IBM', 'GXO', 'FTHM', 'HQY', 'MSGE', 'OBLG', 'MKC', 'GEN', 'MHN', 'MFA', 'KHC', 'KTOS', 'HPQ', 'NNAGW', 'HOVNP', 'MODV', 'IKT', 'LILA', 'IMMR', 'INBK', 'JRSH', 'HIBB', 'ILPT', 'GBR', 'JBHT', 'MBWM', 'GABC', 'NHS', 'INGN', 'LBRDP', 'KELYA', 'KALU', 'FFIEW', 'NC', 'KKR', 'GSIT', 'IIF', 'OCX', 'NX', 'NI', 'MNTSW', 'HRL', 'NSYS', 'FTII', 'GALT', 'NTST', 'MRSN', 'FRD', 'LGND', 'KMI', 'ITT', 'INAB', 'MOBX', 'NIE', 'MDRRP', 'JPC', 'NXRT', 'MDBH', 'FPH', 'GCMG', 'GD', 'HTBK', 'MNRO', 'JLS', 'NICK', 'LFMDP', 'MCD', 'NBY', 'MCAA', 'MRAM', 'FWONK', 'LFST', 'KEYS', 'HES', 'OKTA', 'LMB', 'KRNY', 'INTS', 'LSTA', 'LBRDA', 'MODN', 'FCCO', 'MOFG', 'MGRX', 'FOSLL', 'MOV', 'HSCS', 'LSCC', 'GAINL', 'MKL', 'FHB', 'FOSL', 'MDAIW', 'NTNX', 'KEQU', 'NXPL', 'FOA', 'MARK', 'IAF', 'FOR', 'MPA', 'GHI', 'MFM', 'IVVD', 'OCCIN', 'GLOB', 'GNTX', 'NBHC', 'NMIH', 'JNVR', 'LXEO', 'FUBO', 'FIACU', 'LSXMA', 'NOVT', 'MO', 'NYMTZ', 'KROS', 'HGV', 'NIO', 'GPOR', 'MATX', 'GPC', 'MOH', 'HUM', 'MAC', 'MTEX', 'JCE', 'MGOL', 'LXRX', 'ME', 'MGNX', 'GTLB', 'NAC', 'JYNT', 'FTF', 'KLTR', 'JMM', 'OCGN', 'NEN', 'MMC', 'HUSA', 'FGN', 'GRBK', 'NCPL', 'MGRD', 'GAIA', 'LIN', 'MPX', 'LIVE', 'FTDR', 'MCK', 'HTZWW', 'OB', 'NDAQ', 'GAMCW', 'GNSS', 'KYMR', 'NQP', 'LPG', 'GOVX', 'LUXH', 'GOF', 'LLYVA', 'LPLA', 'MGRB', 'NBH', 'FSLR', 'NREF', 'HBIO', 'INMB', 'FIVN', 'MITAW', 'MPLX', 'NOTV', 'KSS', 'KODK', 'FENC', 'GOOGL', 'MLI', 'GREEL', 'NEWT', 'JAN', 'NVDA', 'KINS', 'GIC', 'JOB', 'NYMTL', 'NVAX', 'MHD', 'IDXX', 'FSK', 'KFFB', 'GEOS', 'GEVO', 'LRFC', 'FTK', 'IFF', 'NIM', 'MSAIW', 'IGTA', 'HTGC', 'FSLY', 'MDAI', 'NAN', 'GLU', 'GLQ', 'NEWTZ', 'NKGNW', 'FORA', 'KSCP', 'FCN', 'GNE', 'LQR', 'MATV', 'LSTR', 'LIDR', 'FINV', 'HOLO', 'GEL', 'OCC', 'MIDD', 'HNNAZ', 'HYZNW', 'NDRA', 'LNT', 'MIY', 'LQDA', 'KULR', 'GEHC', 'LIBY', 'LNW', 'GLAD', 'LAKE', 'FNA', 'HPE', 'GPJA', 'NNY', 'NKX', 'NABL', 'FIVE', 'NXN', 'MVSTW', 'NTRSO', 'KRON', 'FCAP', 'MBRX', 'MACAU', 'KMPR', 'IOR', 'ITOS', 'NTRBW', 'LOCO', 'HIX', 'MRVL', 'GNK', 'INZY', 'FUL', 'MBIO', 'MGTX', 'MDIA', 'GLUE', 'HLIT', 'INAQU', 'JEWL', 'OCCI', 'GEF', 'MD', 'KIM', 'GLYC', 'NEE', 'HGASW', 'GAB', 'GSBD', 'IPWR', 'HFWA', 'MET', 'FMY', 'LNSR', 'LUCYW', 'GHM', 'NEM', 'NVACR', 'GLLI', 'IRIX', 'IGT', 'OMC', 'MARPS', 'ICCT', 'GYRO', 'INSP', 'KNTK', 'MPU', 'MORF', 'FRA', 'HRTX', 'KN', 'INTG', 'LARK', 'ITGR', 'KD', 'GOODO', 'LCTX', 'FTRE', 'GBDC', 'LMND', 'NBN', 'GRPN', 'NUWE', 'OCEAW', 'GH', 'NKSH', 'FRT', 'LPTX', 'MYI', 'GMRE', 'ISUN', 'LEG', 'HMNF', 'NPO', 'KLG', 'FFNW', 'MDGL', 'GFF', 'HCI', 'HIO', 'MAPSW', 'HLX', 'LW', 'MNMD', 'NVST', 'LPRO', 'GLST', 'LANC', 'NEOG', 'MCHP', 'FNWB', 'MTRN', 'NVCT', 'NBSTW', 'HASI', 'LUNA', 'GF', 'IZEA', 'IRON', 'FORD', 'GODNR', 'NRXPW', 'NXTP', 'OCUP', 'GECCM', 'MATW', 'GPAC', 'MGM', 'MSN', 'HEAR', 'FNGR', 'NKLA', 'LE', 'IGR', 'GENC', 'MAA', 'LDOS', 'FONR', 'FTAIO', 'MTX', 'MTB', 'MRCY', 'IBIO', 'NFE', 'MBINN', 'FND', 'GGG', 'KVACW', 'NWN', 'KYN', 'LGI', 'MBI', 'MLTX', 'MSTR', 'FFIV', 'GME', 'GDL', 'FLR', 'GWH', 'GCMGW', 'KOPN', 'NSC', 'NIOBW', 'HAYW', 'ICU', 'LUNRW', 'LOVE', 'FRME', 'LAZY', 'NKTR', 'LUMO', 'JJSF', 'LESL', 'FPI', 'NKE', 'NEXI', 'LNZAW', 'KRYS', 'MYE', 'GIS', 'NBST', 'NXTC', 'FULT', 'NETD', 'HYMCW', 'GROW', 'GRTX', 'GS']: Exception('%ticker%: 15m data not available for startTime=1715745600 and endTime=1719720000. The requested range must be within the last 60 days.')\n",
      "['NGM', 'NRACU', 'KYCHR', 'MDVL', 'LCAHW', 'NBSE', 'GRPH', 'IMGN', 'FWBI', 'IMACW', 'NRAC', 'MBTCR', 'LTHM', 'LBBB', 'INPX', 'KAMN', 'FSR', 'NRACW', 'FICV', 'FEN', 'LGVC', 'MCAF', 'ICVX', 'NUBIU', 'FLT', 'GSD', 'MRTX', 'FICVU', 'NVIV', 'JOAN', 'NUBI', 'FGH', 'HCMA', 'HTY', 'HARP', 'MCAFR', 'KERN', 'MIMO', 'LGVCW', 'FIF', 'MDC', 'MBTCU', 'NCAC', 'GPP', 'NS', 'KRTX', 'MVLAW', 'MACK', 'NCACW', 'LBC', 'NHWK', 'LGSTW', 'FIXX', 'NFTG', 'MBINP', 'GSDWW', 'MCAFU', 'MFV', 'NCACU', 'KNTE', 'MBTC', 'GIA', 'LGST', 'NVTA']: Exception('%ticker%: No data found, symbol may be delisted')\n",
      "['MS^F', 'GGT^G', 'LNC^D', 'NS^C', 'GDL^C', 'GAB^G', 'MFA^B', 'NCV^A', 'FHN^F', 'MS^L', 'NYCB^U', 'GAM^B', 'NS^B', 'HEI/A', 'KEY^I', 'NGL^B', 'GAB^K', 'GRBK^A', 'FHN^D', 'JPM^J', 'MET^E', 'IIPR^A', 'MER^K', 'GMRE^A', 'NLY^G', 'GAB^H', 'GUT^C', 'MS^O', 'FHN^C', 'NXDT^A', 'GNL^D', 'MS^I', 'NCZ^A', 'IVR^C', 'NEE^N', 'GGT^E', 'GGN^B', 'KEY^K', 'KIM^L', 'FNB^E', 'HPP^C', 'KEY^J', 'GS^C', 'HFRO^A', 'NS^A', 'GDV^K', 'KIM^M', 'GLP^A', 'GNL^E', 'NREF^A', 'GS^D', 'JPM^C', 'GNL^A', 'NI^B', 'OAK^A', 'MET^A', 'IVR^B', 'FRT^C', 'MS^K', 'KEY^L', 'MS^A', 'NLY^I', 'JPM^K', 'GNT^A', 'HVT/A', 'GLP^B', 'NEE^R', 'GS^A', 'MITT^C', 'LXP^C', 'GTLS^B', 'MFA^C', 'JPM^L', 'FHN^E', 'KREF^A', 'GLU^A', 'JPM^D', 'MTB^H', 'NSA^A', 'GNL^B', 'MITT^B', 'JXN^A', 'NYCB^A', 'FHN^B', 'NGL^C', 'GDV^H', 'HL^B', 'GPMT^A', 'HWM^', 'INN^F', 'INN^E', 'MS^P', 'GS^K', 'MET^F', 'LFT^A', 'HIG^G', 'MS^E', 'OAK^B', 'GL^D', 'JPM^M', 'MAA^I', 'NLY^F', 'MITT^A']: Exception('%ticker%: No timezone found, symbol may be delisted')\n"
     ]
    },
    {
     "name": "stdout",
     "output_type": "stream",
     "text": [
      "\n"
     ]
    },
    {
     "name": "stderr",
     "output_type": "stream",
     "text": [
      " 67%|██████▋   | 2/3 [08:19<04:09, 249.98s/it]"
     ]
    },
    {
     "name": "stdout",
     "output_type": "stream",
     "text": [
      "[**********************62%%****                  ]  1153 of 1870 completed"
     ]
    },
    {
     "name": "stderr",
     "output_type": "stream",
     "text": [
      "Failed to get ticker 'WSO/B' reason: Expecting value: line 1 column 1 (char 0)\n"
     ]
    },
    {
     "name": "stdout",
     "output_type": "stream",
     "text": [
      "[*********************100%%**********************]  1870 of 1870 completed"
     ]
    },
    {
     "name": "stderr",
     "output_type": "stream",
     "text": [
      "\n",
      "1870 Failed downloads:\n",
      "['WINVR', 'SBUX', 'PAYO', 'SKIN', 'SCOR', 'XPRO', 'PFC', 'WGO', 'TCI', 'PD', 'SRM', 'PUMP', 'UBX', 'RILYP', 'OTLK', 'XLO', 'XMTR', 'PAY', 'SM', 'PINE', 'VTR', 'ZTS', 'RDZN', 'PTGX', 'VCSA', 'SNPO', 'TLYS', 'SRZNW', 'PLPC', 'VLT', 'PIK', 'TNGX', 'PWUPU', 'PFD', 'ZIMV', 'TGI', 'RGTI', 'SNES', 'SUPN', 'STE', 'VSACW', 'SFM', 'PKST', 'WMS', 'RWAY', 'SEER', 'WHG', 'YUM', 'PBH', 'QVCC', 'PINC', 'VECO', 'TRI', 'QOMO', 'RENB', 'TDG', 'SHPWW', 'PTWO', 'PNNT', 'TBBK', 'TRONU', 'YOTAW', 'WTRG', 'RNA', 'SRRK', 'VRCA', 'PDM', 'WRBY', 'TGNA', 'SMHI', 'OXLCM', 'RVMDW', 'UMBF', 'SPRY', 'PSMT', 'RDZNW', 'VLY', 'PCYO', 'SEB', 'SEEL', 'OMIC', 'ORIC', 'SCI', 'UHG', 'SFNC', 'SOFI', 'WELL', 'OPY', 'VERY', 'PEBO', 'SWN', 'SSIC', 'VEEE', 'STRT', 'PHT', 'OUT', 'PRPO', 'RUSHA', 'UNFI', 'STIXW', 'POST', 'TURN', 'POLA', 'TUP', 'TWN', 'PTWOU', 'VLD', 'SCLXW', 'TMTCR', 'TRDA', 'WSBF', 'VRPX', 'VGZ', 'VSTS', 'PLAY', 'RILY', 'USGO', 'SEMR', 'RNXT', 'TPST', 'PANW', 'W', 'SHBI', 'VVOS', 'VRNT', 'RXT', 'SWKS', 'SLCA', 'PNFPP', 'RPRX', 'PRST', 'UWMC', 'THR', 'ON', 'RDW', 'PARAA', 'PRDO', 'QLYS', 'TCBI', 'WAFD', 'TRS', 'STEW', 'PFH', 'ZCARW', 'TNXP', 'TWOU', 'SPKL', 'SWTX', 'WHLRD', 'QTRX', 'PALT', 'PFTA', 'WFC', 'TCPC', 'TBLD', 'VRRM', 'TRMB', 'SWKH', 'WORX', 'REAL', 'PSEC', 'PCRX', 'TMDX', 'TY', 'THG', 'UKOMW', 'SACC', 'QDEL', 'PBF', 'TUSK', 'UGI', 'TWST', 'OSCR', 'OSK', 'RKT', 'SJT', 'PRS', 'XPON', 'SVIIW', 'YEXT', 'TBIO', 'SAFT', 'RLJ', 'VBF', 'TRT', 'YCBD', 'QCRH', 'TTC', 'RMBL', 'SND', 'PROK', 'SEAT', 'RANI', 'SEZL', 'TPB', 'ORN', 'SIEB', 'RMBI', 'VBIV', 'PLUS', 'RMBS', 'XOSWW', 'UFI', 'TSCO', 'PL', 'SKYX', 'RCACU', 'POAI', 'TWI', 'ORRF', 'REVBW', 'SUI', 'USAC', 'SAGE', 'WTI', 'PIII', 'SSTI', 'PIPR', 'SYBT', 'VNO', 'STXS', 'TRUP', 'TWKS', 'TENB', 'PTCT', 'ZOM', 'TALK', 'S', 'WALDW', 'PEG', 'VTLE', 'WERN', 'SHEN', 'ROL', 'SGMT', 'RMCO', 'SSD', 'RARE', 'PHX', 'SST', 'SUP', 'VZIO', 'RRBI', 'OSPN', 'SIX', 'WAL', 'UZE', 'VMO', 'RH', 'UAL', 'SEIC', 'WT', 'SANA', 'UPS', 'SCVL', 'SNX', 'TGAN', 'SN', 'PFGC', 'TME', 'SOR', 'RDVT', 'PBLA', 'SXI', 'TVE', 'WHLM', 'PLYM', 'SOUNW', 'PRIM', 'THRM', 'PARA', 'SAJ', 'THO', 'SPT', 'THRY', 'RES', 'TPL', 'TRVN', 'UDMY', 'PTPI', 'PTY', 'TR', 'PYPL', 'TELL', 'SOHOB', 'VIAV', 'RFIL', 'SO', 'WWR', 'SKYW', 'SCD', 'SIGA', 'OSUR', 'TMP', 'VRTS', 'OZK', 'VIRX', 'ORA', 'RCKY', 'STAG', 'UNM', 'XPL', 'ONEW', 'UBFO', 'SPGC', 'SHCR', 'SDGR', 'USIO', 'SSKN', 'SLACW', 'OSG', 'UCTT', 'SMG', 'OXM', 'WFCF', 'SCSC', 'QTWO', 'URI', 'SLAMU', 'PEP', 'STZ', 'OOMA', 'WM', 'RLAY', 'TLF', 'SATS', 'VRTX', 'ZM', 'SWSSW', 'SPOK', 'RCEL', 'PRA', 'RVPHW', 'PAYC', 'SSSS', 'SASR', 'WHF', 'POWL', 'SGHT', 'PLTR', 'TTGT', 'UDR', 'RNP', 'WALD', 'VMI', 'RYI', 'SBH', 'RCL', 'UTZ', 'RYAN', 'OXLC', 'SIGIP', 'ONL', 'QETAR', 'XXII', 'ZTR', 'SENEB', 'OSS', 'THCP', 'QS', 'WVVI', 'WISH', 'PIXY', 'RELL', 'SMSI', 'VIA', 'TCBIO', 'PNTG', 'TTSH', 'UNTY', 'RGCO', 'PTWOW', 'RCKTW', 'SVII', 'THFF', 'SMP', 'SPE', 'WES', 'RWAYL', 'WD', 'STLD', 'TNDM', 'SHPH', 'PODC', 'RIVN', 'PCVX', 'XELA', 'VYNE', 'RZLT', 'PLUG', 'PLTN', 'PLXS', 'RGS', 'SSSSL', 'WEST', 'QOMOR', 'RICK', 'SABA', 'RIGL', 'VMEO', 'WST', 'SMBC', 'PML', 'RLGT', 'VSTM', 'SBFG', 'PBBK', 'ULBI', 'SAMG', 'WOR', 'SSNC', 'SRDX', 'WH', 'SHO', 'SRV', 'VRDN', 'WRK', 'VOC', 'PET', 'VGM', 'UUU', 'UTL', 'SRE', 'THQ', 'ORCL', 'SPCE', 'WTTR', 'SAVE', 'SEM', 'WEN', 'QNST', 'SHOT', 'QQQX', 'SSNT', 'OWL', 'WFRD', 'UBCP', 'RBC', 'OXSQZ', 'XGN', 'TSI', 'ONBPP', 'OPCH', 'SGC', 'TAYD', 'TWLV', 'PAYS', 'RNAZ', 'VERX', 'PLCE', 'WESTW', 'PCTTW', 'TCBX', 'SBI', 'PHM', 'PAXS', 'XELB', 'USAU', 'WTFC', 'VTSI', 'ROAD', 'VGAS', 'PDT', 'UVV', 'VKQ', 'STT', 'PDCO', 'TMTC', 'RVLV', 'SYPR', 'SRCE', 'SABR', 'WAVD', 'XPEL', 'PDO', 'WIW', 'SMFL', 'ONBPO', 'ZVSA', 'ONB', 'QUAD', 'SWX', 'PODD', 'OUST', 'STC', 'SHLS', 'SCYX', 'SQFTW', 'PCH', 'PSA', 'RSI', 'TWO', 'ONDS', 'SFB', 'OPK', 'VERV', 'PGP', 'PLMR', 'TOMZ', 'PCT', 'WRAP', 'VPV', 'WSBC', 'UVSP', 'SGRY', 'TMUS', 'TRML', 'OPRT', 'SPLP', 'WMT', 'SQFTP', 'VTYX', 'VTOL', 'SNAL', 'SHFSW', 'VRE', 'WIRE', 'SE', 'SCCB', 'TCBC', 'SNPS', 'VRM', 'VLTO', 'UAA', 'VISL', 'WTM', 'WSO', 'TRTX', 'SGU', 'WBS', 'VEEV', 'UONE', 'TELA', 'SPSC', 'TGL', 'PWR', 'VWEWW', 'USPH', 'SCLX', 'SGH', 'RM', 'STRS', 'TRIP', 'TXRH', 'VAXX', 'SGMO', 'ZNTL', 'SNCRL', 'VC', 'WSC', 'QVCD', 'WSBCP', 'PCTY', 'SMMT', 'SLM', 'SCPH', 'USB', 'WDFC', 'WHR', 'TRUE', 'STEP', 'OTRK', 'SVRA', 'SCCD', 'USCTW', 'QETA', 'SKLZ', 'ORI', 'TTNP', 'UNIT', 'THRD', 'TSQ', 'TVC', 'TTEK', 'YHGJ', 'PAVMZ', 'SLNH', 'PCN', 'TASK', 'WLDN', 'UPLD', 'PROV', 'OPBK', 'PBI', 'OPRX', 'SNCY', 'RILYG', 'SHYF', 'ONYX', 'SNOA', 'PAVM', 'OPTN', 'RLI', 'SPHR', 'PEN', 'PAYX', 'TOI', 'UCBIO', 'TPG', 'SIBN', 'PR', 'OPAL', 'XERS', 'UIS', 'PNI', 'SXT', 'ROST', 'OMER', 'RELIW', 'VVI', 'SPG', 'TNET', 'SR', 'OPAD', 'VOXX', 'SLNG', 'SURG', 'SNA', 'RWOD', 'TCBS', 'QRTEB', 'UHS', 'WIA', 'RSSS', 'PATK', 'WMK', 'SMCI', 'UFPI', 'SBOW', 'WLY', 'VBTX', 'WEYS', 'SCCE', 'PHD', 'SEVN', 'TFIN', 'PCQ', 'SOUN', 'PGR', 'ONYXW', 'SGRP', 'SG', 'SJW', 'STSS', 'RXST', 'VHI', 'VCV', 'PDSB', 'STOK', 'RGEN', 'PTC', 'PWOD', 'PACK', 'QSIAW', 'SMID', 'TPCS', 'SNDX', 'SWI', 'SNAX', 'PSX', 'TRINL', 'ZETA', 'SMBK', 'THC', 'ZUMZ', 'SLAM', 'RDI', 'SFBC', 'SILO', 'SLVM', 'TERN', 'SRBK', 'VTGN', 'PHIN', 'SRCL', 'WYNN', 'PH', 'RPID', 'SMLP', 'PDEX', 'SWKHL', 'SMPL', 'TEX', 'PLTNR', 'PYN', 'OPEN', 'TXMD', 'REGCO', 'WBD', 'PLMI', 'SES', 'SOTK', 'TRGP', 'UHGWW', 'SWZ', 'REYN', 'PHK', 'VITL', 'WULF', 'STTK', 'UPBD', 'PBT', 'XTNT', 'RVPH', 'RAIL', 'RGA', 'RITM', 'RWAYZ', 'TROX', 'SOND', 'PPT', 'PDI', 'PEB', 'WTBA', 'VRA', 'RWT', 'SHIM', 'XFIN', 'VSAC', 'SCM', 'PWFL', 'TER', 'TWLO', 'PYXS', 'VWE', 'PRVA', 'PG', 'VICI', 'TTP', 'SPECW', 'SLS', 'SQ', 'UHAL', 'ZS', 'TSE', 'USEG', 'OPXS', 'PKOH', 'STRR', 'OVLY', 'SMTI', 'RCKT', 'SKY', 'VLGEA', 'UTMD', 'OTECU', 'PEO', 'PNC', 'QRVO', 'PCK', 'SAR', 'WINA', 'PRT', 'VMC', 'SOHON', 'RBCAA', 'XBIT', 'PRAX', 'RRC', 'RCUS', 'TSBK', 'OXLCN', 'SYF', 'SPXC', 'TSRI', 'PPSI', 'TPC', 'XBIOW', 'QNCX', 'UGRO', 'UNH', 'SLDP', 'VOR', 'RILYL', 'PCB', 'RLMD', 'RPHM', 'TPVG', 'TACT', 'TYGO', 'RMAX', 'SIF', 'SMAR', 'PBYI', 'UGIC', 'POCI', 'XPO', 'XHR', 'PM', 'WLKP', 'PCF', 'PTON', 'PPYAW', 'XOMAP', 'TRV', 'SILK', 'OMI', 'XRAY', 'THWWW', 'OXLCP', 'YMAB', 'TOWN', 'UTHR', 'RHP', 'RILYT', 'WY', 'TPZ', 'PSTG', 'SYBX', 'PNFP', 'VRME', 'SHFS', 'PRU', 'VTVT', 'VGI', 'OTIS', 'VICR', 'REBN', 'TLSI', 'OXY', 'SLRC', 'PRFT', 'PLRX', 'SNFCA', 'SNV', 'PRLH', 'VLYPP', 'PLBC', 'WEC', 'PFN', 'RENT', 'RF', 'SPWH', 'SNAP', 'SKX', 'SRTS', 'WPC', 'OVID', 'TOL', 'QIPT', 'PFX', 'SAY', 'TECH', 'OTECW', 'PCOR', 'WEX', 'VIASP', 'WAB', 'SIRI', 'WSM', 'SAM', 'STRO', 'SLMBP', 'SWAV', 'RUM', 'XPOF', 'RNST', 'SPEC', 'RKDA', 'WNEB', 'VFL', 'SANW', 'VTS', 'PPIH', 'TG', 'TRMK', 'SSYS', 'RMD', 'PNF', 'SCCC', 'RBLX', 'TRNR', 'PNBK', 'TDS', 'RGTIW', 'SPWR', 'SBSI', 'SQSP', 'WYY', 'PHAT', 'TCON', 'TBMCR', 'RILYM', 'RLYB', 'REG', 'RUN', 'V', 'PLSE', 'SSB', 'PNW', 'OXLCZ', 'TFINP', 'REVG', 'WGSWW', 'USAP', 'VVV', 'PARR', 'SPB', 'SBT', 'RUSHB', 'TLGYW', 'STRM', 'OPTX', 'TALO', 'PWUP', 'SAIC', 'PRGO', 'SERA', 'SPH', 'PAYOW', 'PW', 'PXLW', 'VERB', 'TZOO', 'PTMN', 'TDY', 'ULY', 'VERI', 'TW', 'VZ', 'RKLB', 'VVX', 'RDUS', 'STKS', 'ZEUS', 'WAT', 'WOOF', 'USFD', 'RGF', 'WW', 'QRTEP', 'SMTC', 'PLAB', 'PZC', 'SOJE', 'SFIX', 'TENKR', 'VKI', 'VSCO', 'XOMA', 'SRG', 'SLG', 'TBMC', 'RDFN', 'TNON', 'RNGR', 'POR', 'UONEK', 'SURGW', 'SKWD', 'U', 'RRR', 'USNA', 'PFL', 'RSVR', 'SCCF', 'PTLO', 'SBCF', 'TENX', 'REFI', 'PWSC', 'REXR', 'SYRA', 'SKIL', 'TBLT', 'PFXNZ', 'SCCO', 'WMPN', 'SMLR', 'WU', 'YORW', 'SPR', 'PROP', 'PMD', 'PI', 'PKG', 'VHC', 'WAVSW', 'UG', 'SREA', 'OPTXW', 'TRN', 'RUMBW', 'UTF', 'TGT', 'SONDW', 'RCMT', 'SONO', 'UNCY', 'PMX', 'SSTK', 'SEATW', 'RELY', 'PSTX', 'XEL', 'PFG', 'VRSN', 'SON', 'TNC', 'TCS', 'UAN', 'XAIR', 'ZVRA', 'UAVS', 'XRX', 'ONCO', 'RCS', 'VIRC', 'TCRT', 'STAA', 'SNDA', 'SALM', 'VIRI', 'TVTX', 'VSEC', 'VVR', 'X', 'RQI', 'RVYL', 'STAF', 'TREX', 'WMG', 'QLGN', 'PLMIW', 'PEGR', 'SD', 'RMCOW', 'RWODR', 'OMF', 'PDLB', 'SLDPW', 'VCTR', 'PMTU', 'UFCS', 'TSLA', 'WISA', 'OSIS', 'SGMA', 'RS', 'RVTY', 'SMR', 'SVT', 'USM', 'SLRX', 'PRTA', 'PMTS', 'XNCR', 'VFC', 'TBNK', 'SGLY', 'OPGN', 'VRT', 'SLE', 'OSBC', 'WLYB', 'PZG', 'PGNY', 'UNF', 'XBIO', 'ZVIA', 'REGN', 'TREE', 'WTFCM', 'TPH', 'THS', 'TISI', 'SFST', 'PETV', 'TIL', 'PVBC', 'RJF', 'PULM', 'TDUP', 'UFPT', 'STCN', 'TMCI', 'YOTA', 'ZUO', 'PRLD', 'OPHC', 'SLNO', 'SFBS', 'SBRA', 'OMEX', 'VTN', 'SPRU', 'STBA', 'SCKT', 'TSN', 'SLGCW', 'XOS', 'SDOT', 'USCB', 'UZF', 'SITC', 'VANI', 'QETAU', 'SUM', 'SCWO', 'ROK', 'VIVK', 'VSTO', 'TLS', 'SAZ', 'SNBR', 'TIPT', 'PBFS', 'WHLR', 'TYG', 'SYRE', 'UBSI', 'XFOR', 'SCS', 'VCEL', 'PSTV', 'SYY', 'WCC', 'TWIN', 'UNP', 'SAH', 'PZZA', 'REX', 'TTOO', 'SDIG', 'PETQ', 'TRAK', 'SLAB', 'STEM', 'REPX', 'SLP', 'PEV', 'SPIR', 'UK', 'RZB', 'TYRA', 'TEI', 'SENEA', 'QRTEA', 'ULCC', 'VLYPO', 'OSA', 'QUBT', 'PTVE', 'PMT', 'PLBY', 'TENK', 'PFMT', 'WDC', 'SABSW', 'RMTI', 'OTTR', 'RYAM', 'OPOF', 'PMCB', 'WDAY', 'ONCT', 'UA', 'UCBI', 'RAVE', 'PFIE', 'POWI', 'ZIONO', 'TFFP', 'SXTP', 'OXSQG', 'REGCP', 'TTD', 'VCYT', 'RMT', 'SYK', 'PPL', 'QDROW', 'SLND', 'PLOW', 'PAR', 'OPTT', 'UNB', 'TDC', 'SGA', 'PAI', 'VATE', 'SRI', 'SITM', 'SNTI', 'PMVP', 'RVP', 'VAL', 'SBGI', 'TRU', 'TLRY', 'WTFCP', 'ZBH', 'UI', 'SLAMW', 'ROKU', 'WLK', 'TITN', 'PKE', 'PENN', 'ONTF', 'VMCA', 'SONN', 'REKR', 'ROCL', 'SUN', 'RNG', 'ULH', 'PAHC', 'PRSO', 'RBB', 'TTEC', 'PK', 'VNOM', 'PGEN', 'YETI', 'PRME', 'RSG', 'TOVX', 'QMCO', 'VBFC', 'SCWX', 'WHD', 'SJM', 'SHC', 'WAFDP', 'SVIIR', 'PEGY', 'RXRX', 'TNONW', 'SENS', 'PLD', 'PTIXW', 'VXRT', 'RZC', 'TYL', 'USCT', 'RFI', 'ONTO', 'ZION', 'VIR', 'VPG', 'SCX', 'ROP', 'TAIT', 'PESI', 'RBBN', 'RCG', 'PTEN', 'TELZ', 'PWUPW', 'PFE', 'RCRTW', 'SHCRW', 'WEAV', 'TKNO', 'SOI', 'TROW', 'WRB', 'YUMC', 'PACB', 'STRL', 'VSH', 'PVL', 'SNGX', 'VSAT', 'PECO', 'VNT', 'VLO', 'RAND', 'SPXX', 'WVVIP', 'RAMP', 'UVE', 'ORGN', 'TALKW', 'THCPW', 'WHFCL', 'UHT', 'THW', 'STSSW', 'OXSQ', 'XELAP', 'TXT', 'POWWP', 'TILE', 'TRNO', 'VAC', 'TNYA', 'WEA', 'PMO', 'UPWK', 'VEL', 'ZBRA', 'TXN', 'TGTX', 'RCC', 'VGASW', 'ROCK', 'RTO', 'TPR', 'XPER', 'XBP', 'PPG', 'UPXI', 'TDW', 'TRC', 'R', 'RPM', 'XCUR', 'VIEW', 'TWLVW', 'POWW', 'VUZI', 'TARS', 'ZG', 'SLNHP', 'RGP', 'VRSK', 'SCCG', 'ORGNW', 'RDIB', 'PLNT', 'PIM', 'SSY', 'UMH', 'STRRP', 'TBI', 'PBPB', 'PEPG', 'SHPW', 'TCRX', 'UBER', 'PMF', 'PRGS', 'RMNI', 'TLSIW', 'TBC', 'SPKLW', 'SLRN', 'PFBC', 'PRTS', 'PFSI', 'PFTAU', 'XOM', 'WTS', 'SANM', 'PFLT', 'PRK', 'RILYN', 'PLL', 'SMRT', 'VYX', 'XBPEW', 'TFSL', 'VGR', 'WSR', 'SNCR', 'VERU', 'PGRE', 'WLFC', 'RC', 'UZD', 'ROIC', 'PRCT', 'SSBK', 'ZIP', 'XFLT', 'SGD', 'YOU', 'YOTAR', 'WAVS', 'RGLS', 'PCM', 'ZIONP', 'PRPL', 'PETWW', 'SSBI', 'REPL', 'PHR', 'REZI', 'SAVA', 'SXTPW', 'UTG', 'SWK', 'VTNR', 'VTRS', 'SHAK', 'THAR', 'PRAA', 'POOL', 'WINT', 'RENE', 'SKGRW', 'SABS', 'SLQT', 'SHOO', 'RCM', 'VIRT', 'PMGM', 'TRIN', 'RTX', 'TOON', 'PVH', 'RMR', 'SOPA', 'SBAC', 'PYT', 'SIDU', 'VOYA', 'RCB', 'TRON', 'PCG', 'ZCAR', 'ORGO', 'USLM', 'SIGI', 'Z', 'UNMA', 'PHIO', 'XWEL', 'ZI', 'PPYA', 'UTI', 'PKBK', 'TMO', 'WRLD', 'PXMD', 'VINO', 'REI', 'SPKLU', 'WWD', 'TTWO', 'ZWS', 'STRA', 'PRTH', 'WBA', 'URBN', 'VREX', 'WING', 'TMHC', 'RGR', 'UPST', 'SACH', 'RVMD', 'ONVO', 'RMCF', 'SKGR', 'QUIK', 'ROOT', 'STHO', 'PTA', 'PUBM', 'PANL', 'PUCKW', 'SWAG', 'SELF', 'TXG', 'PAGP', 'STK', 'ROG', 'RR', 'STR', 'THCPU', 'RDNT', 'VMD', 'ROCLW', 'TDF', 'RILYO', 'SNSE', 'PFO', 'SEPA', 'TDOC', 'RSLS', 'RPD', 'ORLY', 'TIVC', 'SCHL', 'VYGR', 'PEBK', 'PRTC', 'SWBI', 'RCRT', 'OPINL', 'TECTP', 'SOBR', 'YOSH', 'RDN', 'RNAC', 'RVT', 'PRPH', 'PRI', 'RGNX', 'SOHO', 'OZKAP', 'SBR', 'TBB', 'RAPT', 'PCAR', 'SEE', 'PMM', 'RILYZ', 'OPP', 'PETVW', 'VINC', 'YTEN', 'ONFO', 'PRSTW', 'TFC', 'PNRG', 'TLIS', 'RYN', 'PGC', 'RFL', 'WOLF', 'SQFT', 'THMO', 'RVNC', 'SHW', 'PATH', 'WKC', 'PTHRU', 'UAMY', 'PRO', 'OMQS', 'REVB', 'QSI', 'SOJC', 'PRCH', 'SGBX', 'WGS', 'XOMAO', 'SXC', 'PEGA', 'TCMD', 'TPX', 'STER', 'PFIS', 'PJT', 'WNC', 'QRHC', 'RIOT', 'ORC', 'RRX', 'USA', 'PPBI', 'OVBC', 'PTIX', 'SWIM', 'WS', 'TPIC', 'SOHOO', 'PYCR', 'SKYT', 'PEPLW', 'WATT', 'SWAGW', 'RXO', 'SPGI', 'WASH', 'RVSB', 'SYM', 'OXLCL', 'TNL', 'PCSA', 'VCNX', 'VLCN', 'PSTL', 'TSHA', 'PSN', 'VERO', 'WTMAR', 'RELI', 'OPI', 'RRGB', 'SPTN', 'WKHS', 'WWW', 'SAIA', 'PX', 'PFS', 'PETS', 'WMB', 'TOST', 'PNM', 'TRNS', 'TRVI', 'TARA', 'SF', 'TSBX', 'RL', 'SPRO', 'WABC', 'PB', 'USGOW', 'XYL', 'PPYAU', 'PALI', 'VRAR', 'TH', 'SSP', 'PRH', 'SNOW', 'RGLD', 'SNPX', 'PRLB', 'SOJD', 'SVC', 'WOW', 'SHOTW', 'ORGS', 'OMGA', 'UE', 'RYTM', 'WK', 'SPFI', 'SPRB', 'RPAY', 'TCBK', 'SCL', 'RBCP', 'TRST', 'SNAXW', 'PDFS', 'QCOM', 'PIIIW', 'PCTTU', 'RBKB', 'ZIONL', 'PASG', 'ZD', 'SCHW', 'PBHC', 'YELP', 'RHI', 'WTER', 'VALU', 'RILYK', 'PED', 'STIM', 'VNDA', 'RCAT', 'VIGL', 'TFX', 'VERA', 'STEL', 'WHLRP', 'SNDR', 'SYNA', 'TTI', 'SONM', 'SKT', 'PAG', 'ULTA', 'VERBW', 'VABK', 'TTMI', 'VKTX', 'REFR', 'PRG', 'SAT', 'RSVRW', 'TKR', 'PTSI', 'SYRS', 'TSVT', 'SRZN', 'STWD', 'SITE', 'ZLS', 'PIRS', 'OXLCO', 'SNEX', 'PII', 'PWP', 'PSNL', 'PPC', 'PTN', 'SINT', 'PAA', 'WDI', 'PLTNW', 'SLGN', 'TJX', 'PINS', 'SRPT', 'PFTAW', 'UEIC', 'SAFE', 'WSFS', 'VRNS', 'SLDB']: Exception('%ticker%: 15m data not available for startTime=1715745600 and endTime=1719720000. The requested range must be within the last 60 days.')\n",
      "['WBS^G', 'WBS^F', 'RITM^B', 'TDS^U', 'TRTN^A', 'VNO^L', 'RC^E', 'SF^B', 'SR^A', 'RWT^A', 'PSA^O', 'SCE^K', 'WFC^Y', 'WRB^E', 'WAL^A', 'TWO^C', 'VOYA^B', 'USB^Q', 'TRTN^B', 'USB^P', 'USB^A', 'PCG^G', 'WCC^A', 'TRTN^E', 'SACH^A', 'PEB^E', 'SF^C', 'PEB^F', 'SCE^H', 'SPLP^A', 'TWO^B', 'PCG^D', 'SCHW^D', 'SITC^A', 'PCG^A', 'WRB^G', 'PSA^M', 'TFC^O', 'TFC^R', 'SNV^D', 'STT^G', 'T^A', 'PSA^R', 'UMH^D', 'TDS^V', 'XFLT^A', 'SYF^A', 'PSA^H', 'SPG^J', 'STT^D', 'WRB^H', 'PSA^S', 'WFC^R', 'VNO^N', 'YCBD^A', 'SCE^J', 'USB^S', 'SHO^H', 'RJF^B', 'PCG^B', 'SCE^M', 'WFC^D', 'RITM^C', 'SCE^G', 'SPE^C', 'VNO^M', 'RF^E', 'SF^D', 'PSA^P', 'PSA^G', 'SRC^A', 'SLG^I', 'USB^R', 'SCE^L', 'PSA^N', 'RC^C', 'RITM^A', 'SRG^A', 'PMT^B', 'T^C', 'RLJ^A', 'SCHW^J', 'WSO/B', 'PCG^C', 'REXR^B', 'PSA^Q', 'WFC^A', 'PSA^F', 'WFC^Z', 'TRTN^C', 'PCG^I', 'PMT^A', 'SNV^E', 'PW^A', 'PMT^C', 'WFC^L', 'PSEC^A', 'WFC^C', 'PSA^K', 'TRTN^D', 'SHO^I', 'TFC^I', 'PBI^B', 'PCG^E', 'PSA^I', 'PSA^J', 'PEB^G', 'RF^B', 'WRB^F', 'PSA^L', 'TWO^A', 'TY^', 'REXR^C', 'RF^C', 'TRTX^C', 'OPP^A', 'PCG^H', 'USB^H', 'OPP^B', 'PEB^H', 'VNO^O', 'RITM^D']: Exception('%ticker%: No timezone found, symbol may be delisted')\n",
      "['RMGCU', 'SRT', 'SLGC', 'XPDB', 'SZZLW', 'ZFOX', 'TMST', 'PGTI', 'SUNW', 'ZFOXW', 'RCAC', 'SCTL', 'RMGC', 'SZZL', 'RAIN', 'SNCE', 'PBAX', 'PBAXU', 'ROI', 'SPLK', 'PXD', 'SCRMW', 'PARAP', 'SAGAR', 'TAST', 'PEAK', 'RYZB', 'RCACW', 'SP', 'ROVR', 'PBAXW', 'SFE', 'ONTX', 'SIEN', 'PTHRW', 'OSAAW', 'PTHR', 'SLACU', 'SLAC', 'SOVO', 'SAGA', 'SRC', 'STRC', 'TSP', 'SEAS', 'STRCW', 'XPDBW', 'STIX', 'OTEC', 'POL', 'SCRMU', 'SMMF', 'SASI', 'SCRM', 'VIEWW', 'THRX']: Exception('%ticker%: No data found, symbol may be delisted')\n",
      "['T']: Exception('%ticker%: 15m data not available for start%ticker%ime=1715745600 and end%ticker%ime=1719720000. %ticker%he requested range must be within the last 60 days.')\n"
     ]
    },
    {
     "name": "stdout",
     "output_type": "stream",
     "text": [
      "\n"
     ]
    },
    {
     "name": "stderr",
     "output_type": "stream",
     "text": [
      "100%|██████████| 3/3 [12:36<00:00, 252.13s/it]\n"
     ]
    }
   ],
   "source": [
    "# symbols = list(stocks[stocks['Country'] == 'United States']['Symbol'].values[:500])\n",
    "symbols = list(stocks[stocks['Country'] == 'United States']['Symbol'].values)\n",
    "intervals = 3\n",
    "for i in tqdm(range(intervals)):\n",
    "    if i == 0:\n",
    "        data = yf.download(symbols[:(i+1)*(len(symbols)//intervals)], start_date, end_date, interval='15m')        \n",
    "    elif (i+1)*(len(symbols)//intervals) < len(symbols):\n",
    "        data = pd.concat([data, yf.download(symbols[i*len(symbols)//intervals:(i+1)*(len(symbols)//intervals)], start_date, end_date, interval='15m')], axis=1).sort_index(axis=1)\n",
    "    else:\n",
    "        data = pd.concat([data, yf.download(symbols[i*len(symbols)//intervals:], start_date, end_date, interval='15m')], axis=1).sort_index(axis=1)"
   ]
  },
  {
   "cell_type": "code",
   "execution_count": 13,
   "id": "40023458",
   "metadata": {},
   "outputs": [],
   "source": [
    "dates = np.unique([i.date() for i in data['Open'].index])"
   ]
  },
  {
   "cell_type": "code",
   "execution_count": 17,
   "id": "b5ed0584",
   "metadata": {},
   "outputs": [],
   "source": [
    "full_dataset = [True if np.isnan(data[name]).sum() == 0 else False for name in data.columns]"
   ]
  },
  {
   "cell_type": "code",
   "execution_count": 19,
   "id": "58e16cfb",
   "metadata": {},
   "outputs": [],
   "source": [
    "data = data[data.columns[full_dataset]]"
   ]
  },
  {
   "cell_type": "code",
   "execution_count": 23,
   "id": "25",
   "metadata": {},
   "outputs": [
    {
     "name": "stdout",
     "output_type": "stream",
     "text": [
      "Model: \"sequential_1\"\n",
      "_________________________________________________________________\n",
      " Layer (type)                Output Shape              Param #   \n",
      "=================================================================\n",
      " conv1d_3 (Conv1D)           (None, 24, 64)            1216      \n",
      "                                                                 \n",
      " max_pooling1d_3 (MaxPoolin  (None, 12, 64)            0         \n",
      " g1D)                                                            \n",
      "                                                                 \n",
      " dropout (Dropout)           (None, 12, 64)            0         \n",
      "                                                                 \n",
      " conv1d_4 (Conv1D)           (None, 10, 128)           24704     \n",
      "                                                                 \n",
      " max_pooling1d_4 (MaxPoolin  (None, 5, 128)            0         \n",
      " g1D)                                                            \n",
      "                                                                 \n",
      " dropout_1 (Dropout)         (None, 5, 128)            0         \n",
      "                                                                 \n",
      " flatten_1 (Flatten)         (None, 640)               0         \n",
      "                                                                 \n",
      " reshape (Reshape)           (None, 5, 128)            0         \n",
      "                                                                 \n",
      " lstm (LSTM)                 (None, 50)                35800     \n",
      "                                                                 \n",
      " dense_1 (Dense)             (None, 1)                 51        \n",
      "                                                                 \n",
      "=================================================================\n",
      "Total params: 61771 (241.29 KB)\n",
      "Trainable params: 61771 (241.29 KB)\n",
      "Non-trainable params: 0 (0.00 Byte)\n",
      "_________________________________________________________________\n"
     ]
    }
   ],
   "source": [
    "binary_model = Sequential()\n",
    "\n",
    "# binary_model.add(Conv1D(filters=64, kernel_size=3, activation='relu', input_shape=(int(data.shape[0]/dates.size), n_features)))\n",
    "binary_model.add(Conv1D(filters=64, kernel_size=3, activation='relu', input_shape=(int(data.shape[0]/dates.size), n_features)))\n",
    "binary_model.add(MaxPooling1D(pool_size=2))\n",
    "binary_model.add(Dropout(0.2))\n",
    "\n",
    "# You can add more CNN layers if needed\n",
    "binary_model.add(Conv1D(filters=128, kernel_size=3, activation='relu'))\n",
    "binary_model.add(MaxPooling1D(pool_size=2))\n",
    "binary_model.add(Dropout(0.2))\n",
    "\n",
    "# Flatten the output of the CNN\n",
    "binary_model.add(Flatten())\n",
    "\n",
    "# Add the LSTM layer\n",
    "binary_model.add(tf.keras.layers.Reshape((-1, 128)))\n",
    "\n",
    "\n",
    "# binary_model.add(LSTM(50, input_shape=(int(data.shape[0]/dates.size), n_features)))\n",
    "binary_model.add(LSTM(50))\n",
    "# model.add(Dropout(rate=0.2))\n",
    "# model.add(Dense(units=64, activation='relu'))\n",
    "# model.add(Dropout(rate=0.2))\n",
    "# model.add(Dense(units=32, activation='relu'))\n",
    "# model.add(Dropout(rate=0.2))\n",
    "# model.add(Dense(units=16, activation='relu'))\n",
    "# model.add(Dropout(rate=0.2))\n",
    "\n",
    "# Output layer with a single unit (assuming a regression problem)\n",
    "binary_model.add(Dense(1, activation='sigmoid'))\n",
    "# binary_model.add(Dense(1, activation='softmax'))\n",
    "\n",
    "# lr_schedule = tf.keras.optimizers.schedules.ExponentialDecay(\n",
    "#     initial_learning_rate=1e-1,\n",
    "#     decay_steps=10000,\n",
    "#     decay_rate=0.9)\n",
    "# optimizer = tf.keras.optimizers.Adam(learning_rate=lr_schedule)\n",
    "# # Compile the model with an appropriate loss function and optimizer\n",
    "# binary_model.compile(optimizer=optimizer, loss='binary_crossentropy', metrics=['accuracy'])\n",
    "binary_model.compile(optimizer='adam', loss='binary_crossentropy', metrics=['accuracy'])\n",
    "# binary_model.compile(optimizer='adam', loss='categorical_crossentropy', metrics=['accuracy'])\n",
    "\n",
    "# Print a summary of the model's architecture\n",
    "binary_model.summary()"
   ]
  },
  {
   "cell_type": "code",
   "execution_count": 24,
   "id": "27",
   "metadata": {},
   "outputs": [
    {
     "name": "stdout",
     "output_type": "stream",
     "text": [
      "Model: \"sequential_2\"\n",
      "_________________________________________________________________\n",
      " Layer (type)                Output Shape              Param #   \n",
      "=================================================================\n",
      " conv1d_5 (Conv1D)           (None, 24, 64)            1216      \n",
      "                                                                 \n",
      " max_pooling1d_5 (MaxPoolin  (None, 12, 64)            0         \n",
      " g1D)                                                            \n",
      "                                                                 \n",
      " dropout_2 (Dropout)         (None, 12, 64)            0         \n",
      "                                                                 \n",
      " conv1d_6 (Conv1D)           (None, 10, 128)           24704     \n",
      "                                                                 \n",
      " max_pooling1d_6 (MaxPoolin  (None, 5, 128)            0         \n",
      " g1D)                                                            \n",
      "                                                                 \n",
      " dropout_3 (Dropout)         (None, 5, 128)            0         \n",
      "                                                                 \n",
      " reshape_1 (Reshape)         (None, 5, 128)            0         \n",
      "                                                                 \n",
      " lstm_1 (LSTM)               (None, 50)                35800     \n",
      "                                                                 \n",
      " dense_2 (Dense)             (None, 1)                 51        \n",
      "                                                                 \n",
      "=================================================================\n",
      "Total params: 61771 (241.29 KB)\n",
      "Trainable params: 61771 (241.29 KB)\n",
      "Non-trainable params: 0 (0.00 Byte)\n",
      "_________________________________________________________________\n"
     ]
    }
   ],
   "source": [
    "pred_model = Sequential()\n",
    "\n",
    "pred_model.add(Conv1D(filters=64, kernel_size=3, activation='relu', input_shape=(int(data.shape[0]/dates.size), n_features)))\n",
    "pred_model.add(MaxPooling1D(pool_size=2))\n",
    "pred_model.add(Dropout(0.2))\n",
    "\n",
    "# You can add more CNN layers if needed\n",
    "pred_model.add(Conv1D(filters=128, kernel_size=3, activation='relu'))\n",
    "pred_model.add(MaxPooling1D(pool_size=2))\n",
    "pred_model.add(Dropout(0.2))\n",
    "\n",
    "# Flatten the output of the CNN\n",
    "pred_model.add(tf.keras.layers.Reshape((-1, 128)))\n",
    "\n",
    "# pred_model.add(LSTM(50, input_shape=(int(data.shape[0]/dates.size), n_features)))\n",
    "pred_model.add(LSTM(50))\n",
    "\n",
    "# Output layer with a single unit (assuming a regression problem)\n",
    "pred_model.add(Dense(1))\n",
    "\n",
    "# lr_schedule = tf.keras.optimizers.schedules.ExponentialDecay(\n",
    "#     initial_learning_rate=1e-1,\n",
    "#     decay_steps=10000,\n",
    "#     decay_rate=0.9)\n",
    "# optimizer = tf.keras.optimizers.Adam(learning_rate=lr_schedule)\n",
    "# # Compile the model with an appropriate loss function and optimizer\n",
    "# pred_model.compile(optimizer=optimizer, loss='mean_squared_error')\n",
    "pred_model.compile(optimizer='adam', loss='mean_squared_error')\n",
    "\n",
    "# Print a summary of the model's architecture\n",
    "pred_model.summary()"
   ]
  },
  {
   "cell_type": "code",
   "execution_count": 25,
   "id": "2eea16b9",
   "metadata": {},
   "outputs": [],
   "source": [
    "dates_mask = [[True if i.date() == date else False for i in data.index] for date in dates]"
   ]
  },
  {
   "cell_type": "code",
   "execution_count": 28,
   "id": "7903d7a1",
   "metadata": {},
   "outputs": [
    {
     "data": {
      "text/plain": [
       "array(['Adj Close', 'Close', 'High', 'Low', 'Open', 'Volume'], dtype='<U9')"
      ]
     },
     "execution_count": 28,
     "metadata": {},
     "output_type": "execute_result"
    }
   ],
   "source": [
    "features = np.unique([i[0] for i in data.columns])\n",
    "features"
   ]
  },
  {
   "cell_type": "code",
   "execution_count": 29,
   "id": "d6aa2522",
   "metadata": {},
   "outputs": [
    {
     "data": {
      "text/plain": [
       "array(['A', 'AA', 'AAL', ..., 'ZM', 'ZOM', 'ZS'], dtype='<U5')"
      ]
     },
     "execution_count": 29,
     "metadata": {},
     "output_type": "execute_result"
    }
   ],
   "source": [
    "symbols = np.unique([i[1] for i in data.columns])\n",
    "symbols"
   ]
  },
  {
   "cell_type": "code",
   "execution_count": 31,
   "id": "71af1871",
   "metadata": {},
   "outputs": [],
   "source": [
    "raw_data = [[[data[(feature, symbol)][dates_mask[i]].values for symbol in symbols] for feature in features] for i in range(len(dates))]"
   ]
  },
  {
   "cell_type": "code",
   "execution_count": 32,
   "id": "3ea35a73",
   "metadata": {},
   "outputs": [],
   "source": [
    "raw_data = np.array(raw_data)"
   ]
  },
  {
   "cell_type": "code",
   "execution_count": 35,
   "id": "4c640a8e",
   "metadata": {},
   "outputs": [
    {
     "data": {
      "text/plain": [
       "(31, 1695, 26, 6)"
      ]
     },
     "execution_count": 35,
     "metadata": {},
     "output_type": "execute_result"
    }
   ],
   "source": [
    "raw_data = np.swapaxes(raw_data, 1, 2)\n",
    "raw_data = np.swapaxes(raw_data, 2, 3)\n",
    "raw_data.shape"
   ]
  },
  {
   "cell_type": "code",
   "execution_count": 39,
   "id": "61ca707a",
   "metadata": {},
   "outputs": [
    {
     "data": {
      "text/plain": [
       "(31, 1695, 26, 4)"
      ]
     },
     "execution_count": 39,
     "metadata": {},
     "output_type": "execute_result"
    }
   ],
   "source": [
    "raw_data = raw_data[:, :, :, 1:5]\n",
    "raw_data.shape"
   ]
  },
  {
   "cell_type": "code",
   "execution_count": 40,
   "id": "f12e2f8e",
   "metadata": {},
   "outputs": [
    {
     "data": {
      "text/plain": [
       "array(['Close', 'High', 'Low', 'Open'], dtype='<U9')"
      ]
     },
     "execution_count": 40,
     "metadata": {},
     "output_type": "execute_result"
    }
   ],
   "source": [
    "features = features[1:5]\n",
    "features"
   ]
  },
  {
   "cell_type": "code",
   "execution_count": 41,
   "id": "be05d902",
   "metadata": {},
   "outputs": [],
   "source": [
    "raw_data = np.concatenate((raw_data, \n",
    "                           np.array(raw_data[:, :, :, 0] - raw_data[:, :, :, 3]).reshape(raw_data.shape[0], raw_data.shape[1], raw_data.shape[2], 1)), axis=3)"
   ]
  },
  {
   "cell_type": "code",
   "execution_count": 42,
   "id": "bbefc3dc",
   "metadata": {},
   "outputs": [],
   "source": [
    "raw_data = np.concatenate((raw_data, \n",
    "                           np.array(raw_data[:, :, :, 1] - raw_data[:, :, :, 2]).reshape(raw_data.shape[0], raw_data.shape[1], raw_data.shape[2], 1)), axis=3)"
   ]
  },
  {
   "cell_type": "code",
   "execution_count": 43,
   "id": "6e3792bf",
   "metadata": {},
   "outputs": [
    {
     "data": {
      "text/plain": [
       "(31, 1695, 26, 6)"
      ]
     },
     "execution_count": 43,
     "metadata": {},
     "output_type": "execute_result"
    }
   ],
   "source": [
    "raw_data.shape"
   ]
  },
  {
   "cell_type": "code",
   "execution_count": 45,
   "id": "0e67f7c9",
   "metadata": {},
   "outputs": [],
   "source": [
    "opens0 = raw_data[:, :, 0, 3]\n",
    "opens1 = raw_data[:, :, 1, 3]\n",
    "opens2 = raw_data[:, :, 2, 3]\n",
    "opens3 = raw_data[:, :, 3, 3]\n",
    "close0 = raw_data[:, :, 0, 3]\n",
    "close1 = raw_data[:, :, 1, 3]\n",
    "close2 = raw_data[:, :, 2, 3]\n",
    "close3 = raw_data[:, :, 3, 3]\n",
    "highs0 = raw_data[:, :, 0, 3]\n",
    "highs1 = raw_data[:, :, 1, 3]\n",
    "highs2 = raw_data[:, :, 2, 3]\n",
    "highs3 = raw_data[:, :, 3, 3]\n",
    "lows0 = raw_data[:, :, 0, 3]\n",
    "lows1 = raw_data[:, :, 1, 3]\n",
    "lows2 = raw_data[:, :, 2, 3]\n",
    "lows3 = raw_data[:, :, 3, 3]"
   ]
  },
  {
   "cell_type": "code",
   "execution_count": 46,
   "id": "863350c3",
   "metadata": {},
   "outputs": [
    {
     "data": {
      "text/plain": [
       "(806, 10170)"
      ]
     },
     "execution_count": 46,
     "metadata": {},
     "output_type": "execute_result"
    }
   ],
   "source": [
    "data.shape"
   ]
  },
  {
   "cell_type": "code",
   "execution_count": 52,
   "id": "fa07e20e",
   "metadata": {},
   "outputs": [
    {
     "data": {
      "text/plain": [
       "(29, 1695)"
      ]
     },
     "execution_count": 52,
     "metadata": {},
     "output_type": "execute_result"
    }
   ],
   "source": [
    "pred_targets = np.divide((opens0[2:] - opens0[1:-1]), opens0[1:-1])\n",
    "pred_targets.shape"
   ]
  },
  {
   "cell_type": "code",
   "execution_count": 54,
   "id": "d1578be2",
   "metadata": {},
   "outputs": [],
   "source": [
    "pred_targets = pred_targets.reshape(pred_targets.shape[0]*pred_targets.shape[1])"
   ]
  },
  {
   "cell_type": "code",
   "execution_count": 57,
   "id": "ebc9a681",
   "metadata": {},
   "outputs": [
    {
     "data": {
      "image/png": "[encoded data removed]",
      "text/plain": [
       "<Figure size 432x288 with 2 Axes>"
      ]
     },
     "metadata": {
      "needs_background": "light"
     },
     "output_type": "display_data"
    }
   ],
   "source": [
    "fig, ax = plt.subplots()\n",
    "# im = ax.hist2d(pred_targets, raw_data[:-2, :, :, 5], bins=np.linspace(-70, 70, 141), cmap='viridis', norm=mpl.colors.LogNorm())\n",
    "im = ax.hist2d(pred_targets, raw_data[:-2, :, 4, 4].flatten(), bins=[np.linspace(-0.25, 0.25, 141), np.linspace(-5, 5, 141)], cmap='viridis', norm=mpl.colors.LogNorm())\n",
    "cbar = fig.colorbar(im[3], ax=ax)\n",
    "cbar.set_label('Counts')"
   ]
  },
  {
   "cell_type": "code",
   "execution_count": 66,
   "id": "98a26987",
   "metadata": {},
   "outputs": [],
   "source": [
    "cond_good = np.full(raw_data[2:].shape[:2], True, dtype=bool)\n",
    "for i in range(4):\n",
    "    # for j in range(4):\n",
    "    for j in range(1, 4):\n",
    "        # cond &= np.divide((raw_data[2:, :, i, j] - raw_data[1:-1, :, i, j]), raw_data[1:-1, :, i, j]) > 0.01\n",
    "        cond_good &= np.divide((raw_data[2:, :, i, j] - raw_data[1:-1, :, i, j]), raw_data[1:-1, :, i, j]) > 0.04"
   ]
  },
  {
   "cell_type": "code",
   "execution_count": 69,
   "id": "28671eb1",
   "metadata": {},
   "outputs": [],
   "source": [
    "cond_good = cond_good.reshape(cond_good.shape[0]*cond_good.shape[1])"
   ]
  },
  {
   "cell_type": "code",
   "execution_count": 70,
   "id": "b28c3df1",
   "metadata": {},
   "outputs": [],
   "source": [
    "# binary_targets = np.array([1 if i > 0 else 0 for i in pred_targets])\n",
    "binary_targets = np.array([1 if i == True else 0 for i in cond_good])"
   ]
  },
  {
   "cell_type": "code",
   "execution_count": 71,
   "id": "7c4a63a9-51dc-46fb-9cad-aceecdb30836",
   "metadata": {},
   "outputs": [
    {
     "data": {
      "text/plain": [
       "(49155,)"
      ]
     },
     "execution_count": 71,
     "metadata": {},
     "output_type": "execute_result"
    }
   ],
   "source": [
    "binary_targets.shape"
   ]
  },
  {
   "cell_type": "code",
   "execution_count": 72,
   "id": "85a98edd",
   "metadata": {},
   "outputs": [
    {
     "name": "stdout",
     "output_type": "stream",
     "text": [
      "0.26855864103346555\n"
     ]
    }
   ],
   "source": [
    "cond_okay = np.full(raw_data[2:].shape[:2], True, dtype=bool)\n",
    "for i in range(4):\n",
    "    # for j in range(4):\n",
    "    for j in range(1, 4):\n",
    "        # cond &= np.divide((raw_data[2:, :, i, j] - raw_data[1:-1, :, i, j]), raw_data[1:-1, :, i, j]) > 0.01\n",
    "        cond_okay &= np.divide((raw_data[2:, :, i, j] - raw_data[1:-1, :, i, j]), raw_data[1:-1, :, i, j]) > 0\n",
    "print(raw_data[2:][cond_okay].size/raw_data[2:].size)\n",
    "cond_okay = cond_okay.reshape(cond_okay.shape[0]*cond_okay.shape[1])"
   ]
  },
  {
   "cell_type": "code",
   "execution_count": 73,
   "id": "fff5f307",
   "metadata": {},
   "outputs": [
    {
     "name": "stdout",
     "output_type": "stream",
     "text": [
      "0.15955650493337403\n"
     ]
    }
   ],
   "source": [
    "cond_bad = np.full(raw_data[2:].shape[:2], True, dtype=bool)\n",
    "for i in range(4):\n",
    "    # for j in range(4):\n",
    "    for j in range(1, 4):\n",
    "        # cond &= np.divide((raw_data[2:, :, i, j] - raw_data[1:-1, :, i, j]), raw_data[1:-1, :, i, j]) > 0.01\n",
    "        cond_bad &= np.divide((raw_data[2:, :, i, j] - raw_data[1:-1, :, i, j]), raw_data[1:-1, :, i, j]) < -0.01\n",
    "print(raw_data[2:][cond_bad].size/raw_data[2:].size)\n",
    "cond_bad = cond_bad.reshape(cond_bad.shape[0]*cond_bad.shape[1])"
   ]
  },
  {
   "cell_type": "code",
   "execution_count": 74,
   "id": "7f320d55",
   "metadata": {},
   "outputs": [],
   "source": [
    "# binary_targets = np.array([1 if i > 0 else 0 for i in pred_targets])\n",
    "binary_targets_okay = np.array([1 if i == True else 0 for i in cond_okay])"
   ]
  },
  {
   "cell_type": "code",
   "execution_count": 92,
   "id": "a2c59630",
   "metadata": {},
   "outputs": [],
   "source": [
    "counts = np.full(raw_data[2:].shape[0]*raw_data.shape[1], 0, dtype=int)\n",
    "for i in range(4):\n",
    "    # counts = np.add(counts, np.divide((raw_data[2:, :, -1, i] - raw_data[1:-1, :, 0, i]), raw_data[1:-1, :, 0, i]).flatten())\n",
    "    counts = np.add(counts, np.divide((raw_data[:-2, :, -1, i] - raw_data[:-2, :, 0, i]), raw_data[:-2, :, 0, i]).flatten())"
   ]
  },
  {
   "cell_type": "code",
   "execution_count": 93,
   "id": "43ba65e0",
   "metadata": {},
   "outputs": [
    {
     "data": {
      "text/plain": [
       "<matplotlib.legend.Legend at 0x1550a36d0>"
      ]
     },
     "execution_count": 93,
     "metadata": {},
     "output_type": "execute_result"
    },
    {
     "data": {
      "image/png": "[encoded data removed]",
      "text/plain": [
       "<Figure size 432x288 with 1 Axes>"
      ]
     },
     "metadata": {
      "needs_background": "light"
     },
     "output_type": "display_data"
    }
   ],
   "source": [
    "fig, ax = plt.subplots()\n",
    "ax.hist(counts[cond_good], bins=np.linspace(-0.3, 0.3, 141), histtype='step', density=True, label='Good')\n",
    "ax.hist(counts[cond_okay], bins=np.linspace(-0.3, 0.3, 141), histtype='step', density=True, label='Okay')\n",
    "ax.hist(counts[~cond_okay], bins=np.linspace(-0.3, 0.3, 141), histtype='step', density=True, label='Bad')\n",
    "ax.legend()"
   ]
  },
  {
   "cell_type": "code",
   "execution_count": 94,
   "id": "ac92e9dc",
   "metadata": {},
   "outputs": [],
   "source": [
    "counts = np.full(raw_data[2:].shape[0]*raw_data.shape[1], 0, dtype=int)\n",
    "for i in range(4):\n",
    "    for j in range(4):\n",
    "        # counts = np.add(counts, np.divide((raw_data[2:, :, -(i+1), j] - raw_data[1:-1, :, i, j]), raw_data[1:-1, :, i, j]).flatten())\n",
    "        counts = np.add(counts, np.divide((raw_data[:-2, :, -(i+1), j] - raw_data[:-2, :, i, j]), raw_data[:-2, :, i, j]).flatten())"
   ]
  },
  {
   "cell_type": "code",
   "execution_count": 95,
   "id": "29966ae7",
   "metadata": {},
   "outputs": [
    {
     "data": {
      "text/plain": [
       "<matplotlib.legend.Legend at 0x154d58dc0>"
      ]
     },
     "execution_count": 95,
     "metadata": {},
     "output_type": "execute_result"
    },
    {
     "data": {
      "image/png": "[encoded data removed]",
      "text/plain": [
       "<Figure size 432x288 with 1 Axes>"
      ]
     },
     "metadata": {
      "needs_background": "light"
     },
     "output_type": "display_data"
    }
   ],
   "source": [
    "fig, ax = plt.subplots()\n",
    "ax.hist(counts[cond_good], bins=np.linspace(-1.5, 1.5, 141), histtype='step', density=True, label='Good')\n",
    "ax.hist(counts[cond_okay], bins=np.linspace(-1.5, 1.5, 141), histtype='step', density=True, label='Okay')\n",
    "ax.hist(counts[~cond_okay], bins=np.linspace(-1.5, 1.5, 141), histtype='step', density=True, label='Bad')\n",
    "ax.legend()"
   ]
  },
  {
   "cell_type": "code",
   "execution_count": 87,
   "id": "b5ffb808",
   "metadata": {},
   "outputs": [],
   "source": [
    "counts = np.full(raw_data[2:].shape[0]*raw_data.shape[1], 0, dtype=int)\n",
    "for i in range(4):\n",
    "    for j in range(4):\n",
    "        counts = np.add(counts, np.divide((raw_data[2:, :, -(i+1), j] - raw_data[1:-1, :, i, j]), raw_data[1:-1, :, i, j]).flatten())\n",
    "        # counts = np.add(counts, np.divide((raw_data[2:, :, -(i+1), j] - raw_data[2:, :, i, j]), raw_data[2:, :, i, j]).flatten())"
   ]
  },
  {
   "cell_type": "code",
   "execution_count": 89,
   "id": "2cd73d06",
   "metadata": {},
   "outputs": [
    {
     "data": {
      "text/plain": [
       "<matplotlib.legend.Legend at 0x1551d2af0>"
      ]
     },
     "execution_count": 89,
     "metadata": {},
     "output_type": "execute_result"
    },
    {
     "data": {
      "image/png": "[encoded data removed]",
      "text/plain": [
       "<Figure size 432x288 with 1 Axes>"
      ]
     },
     "metadata": {
      "needs_background": "light"
     },
     "output_type": "display_data"
    }
   ],
   "source": [
    "fig, ax = plt.subplots()\n",
    "ax.hist(counts[cond_good], bins=np.linspace(-1.5, 1.5, 141), histtype='step', density=True, label='Good')\n",
    "ax.hist(counts[cond_okay], bins=np.linspace(-1.5, 1.5, 141), histtype='step', density=True, label='Okay')\n",
    "ax.hist(counts[~cond_okay], bins=np.linspace(-1.5, 1.5, 141), histtype='step', density=True, label='Bad')\n",
    "ax.legend()"
   ]
  },
  {
   "cell_type": "code",
   "execution_count": 90,
   "id": "4819db25",
   "metadata": {},
   "outputs": [],
   "source": [
    "counts = np.full(raw_data[2:].shape[0]*raw_data.shape[1], 0, dtype=int)\n",
    "for i in range(4):\n",
    "    for j in range(4):\n",
    "        counts = np.add(counts, np.divide((raw_data[2:, :, -(i+1), j] - raw_data[:-2, :, i, j]), raw_data[:-2, :, i, j]).flatten())\n",
    "        # counts = np.add(counts, np.divide((raw_data[2:, :, -(i+1), j] - raw_data[2:, :, i, j]), raw_data[2:, :, i, j]).flatten())"
   ]
  },
  {
   "cell_type": "code",
   "execution_count": 91,
   "id": "06ee888d",
   "metadata": {},
   "outputs": [
    {
     "data": {
      "text/plain": [
       "<matplotlib.legend.Legend at 0x1562541c0>"
      ]
     },
     "execution_count": 91,
     "metadata": {},
     "output_type": "execute_result"
    },
    {
     "data": {
      "image/png": "[encoded data removed]",
      "text/plain": [
       "<Figure size 432x288 with 1 Axes>"
      ]
     },
     "metadata": {
      "needs_background": "light"
     },
     "output_type": "display_data"
    }
   ],
   "source": [
    "fig, ax = plt.subplots()\n",
    "ax.hist(counts[cond_good], bins=np.linspace(-1.5, 1.5, 141), histtype='step', density=True, label='Good')\n",
    "ax.hist(counts[cond_okay], bins=np.linspace(-1.5, 1.5, 141), histtype='step', density=True, label='Okay')\n",
    "ax.hist(counts[~cond_okay], bins=np.linspace(-1.5, 1.5, 141), histtype='step', density=True, label='Bad')\n",
    "ax.legend()"
   ]
  },
  {
   "cell_type": "code",
   "execution_count": 80,
   "id": "a02ed915",
   "metadata": {},
   "outputs": [],
   "source": [
    "raw_data = raw_data[:-2]"
   ]
  },
  {
   "cell_type": "code",
   "execution_count": 83,
   "id": "5a2ee364",
   "metadata": {},
   "outputs": [],
   "source": [
    "raw_data = raw_data.reshape(raw_data.shape[0]*raw_data.shape[1], raw_data.shape[2], raw_data.shape[3])"
   ]
  },
  {
   "cell_type": "code",
   "execution_count": 89,
   "id": "ff1bebeb",
   "metadata": {},
   "outputs": [],
   "source": [
    "balance_mask = random.sample(list(np.where(binary_targets == 0)[0]), binary_targets[binary_targets == 0].shape[0] - binary_targets[binary_targets == 1].shape[0])"
   ]
  },
  {
   "cell_type": "code",
   "execution_count": 90,
   "id": "fc284bfc",
   "metadata": {},
   "outputs": [],
   "source": [
    "balance_mask = [False if i in balance_mask else True for i in range(binary_targets.shape[0])]"
   ]
  },
  {
   "cell_type": "code",
   "execution_count": 91,
   "id": "3e3cf67b",
   "metadata": {},
   "outputs": [],
   "source": [
    "raw_data_balance = raw_data[balance_mask]\n",
    "binary_targets_balance = binary_targets[balance_mask]\n",
    "pred_targets_balance = pred_targets[balance_mask]"
   ]
  },
  {
   "cell_type": "code",
   "execution_count": 92,
   "id": "76a63e0a-fac3-48ef-a840-950a8cb8de99",
   "metadata": {},
   "outputs": [],
   "source": [
    "# binary_targets = binary_targets.ravel()\n",
    "binary_targets_balance = binary_targets_balance.reshape(-1, 1)\n",
    "\n",
    "# pred_targets = pred_targets.ravel()\n",
    "pred_targets_balance = pred_targets_balance.reshape(-1, 1)"
   ]
  },
  {
   "cell_type": "code",
   "execution_count": 96,
   "id": "58640e7f",
   "metadata": {},
   "outputs": [],
   "source": [
    "from sklearn.model_selection import train_test_split\n",
    "\n",
    "# Assuming 'data' is your input feature matrix and 'targets' is your output values\n",
    "X_train, X_test, y_train_pred, y_test_pred = train_test_split(raw_data_balance, pred_targets_balance, test_size=0.2, random_state=42)\n",
    "X_train, X_test, y_train_binary, y_test_binary = train_test_split(raw_data_balance, binary_targets_balance, test_size=0.2, random_state=42)\n",
    "# X_train_2, X_test_2, y_train_binary, y_test_binary = train_test_split(raw_data[:, :-2, -2], binary_targets, test_size=0.2, random_state=42)"
   ]
  },
  {
   "cell_type": "code",
   "execution_count": 99,
   "id": "e8d15f33",
   "metadata": {},
   "outputs": [],
   "source": [
    "from sklearn.utils.class_weight import compute_class_weight\n",
    "\n",
    "class_weights = compute_class_weight(class_weight='balanced', classes=np.unique(y_train_binary), y=y_train_binary.T[0])\n",
    "class_weights = dict(enumerate(class_weights))"
   ]
  },
  {
   "cell_type": "code",
   "execution_count": 100,
   "id": "e8bab679",
   "metadata": {},
   "outputs": [
    {
     "data": {
      "text/plain": [
       "{0: 1.0024271844660195, 1: 0.9975845410628019}"
      ]
     },
     "execution_count": 100,
     "metadata": {},
     "output_type": "execute_result"
    }
   ],
   "source": [
    "class_weights"
   ]
  },
  {
   "cell_type": "code",
   "execution_count": 118,
   "id": "40",
   "metadata": {
    "tags": []
   },
   "outputs": [
    {
     "name": "stdout",
     "output_type": "stream",
     "text": [
      "Epoch 1/50\n",
      "1831/1831 - 12s - loss: 0.0469 - 12s/epoch - 6ms/step\n",
      "Epoch 2/50\n",
      "1831/1831 - 9s - loss: 0.0459 - 9s/epoch - 5ms/step\n",
      "Epoch 3/50\n",
      "1831/1831 - 9s - loss: 0.0457 - 9s/epoch - 5ms/step\n",
      "Epoch 4/50\n",
      "1831/1831 - 10s - loss: 0.0455 - 10s/epoch - 5ms/step\n",
      "Epoch 5/50\n",
      "1831/1831 - 8s - loss: 0.0455 - 8s/epoch - 4ms/step\n",
      "Epoch 6/50\n",
      "1831/1831 - 8s - loss: 0.0457 - 8s/epoch - 4ms/step\n",
      "Epoch 7/50\n",
      "1831/1831 - 8s - loss: 0.0456 - 8s/epoch - 4ms/step\n",
      "Epoch 8/50\n",
      "1831/1831 - 9s - loss: 0.0457 - 9s/epoch - 5ms/step\n",
      "Epoch 9/50\n",
      "1831/1831 - 10s - loss: 0.0456 - 10s/epoch - 5ms/step\n",
      "Epoch 10/50\n",
      "1831/1831 - 9s - loss: 0.0456 - 9s/epoch - 5ms/step\n",
      "Epoch 11/50\n",
      "1831/1831 - 8s - loss: 0.0455 - 8s/epoch - 4ms/step\n",
      "Epoch 12/50\n",
      "1831/1831 - 8s - loss: 0.0454 - 8s/epoch - 4ms/step\n",
      "Epoch 13/50\n",
      "1831/1831 - 8s - loss: 0.0457 - 8s/epoch - 4ms/step\n",
      "Epoch 14/50\n",
      "1831/1831 - 9s - loss: 0.0456 - 9s/epoch - 5ms/step\n",
      "Epoch 15/50\n",
      "1831/1831 - 9s - loss: 0.0455 - 9s/epoch - 5ms/step\n",
      "Epoch 16/50\n",
      "1831/1831 - 9s - loss: 0.0455 - 9s/epoch - 5ms/step\n",
      "Epoch 17/50\n",
      "1831/1831 - 8s - loss: 0.0454 - 8s/epoch - 5ms/step\n",
      "Epoch 18/50\n",
      "1831/1831 - 9s - loss: 0.0456 - 9s/epoch - 5ms/step\n",
      "Epoch 19/50\n",
      "1831/1831 - 9s - loss: 0.0456 - 9s/epoch - 5ms/step\n",
      "Epoch 20/50\n",
      "1831/1831 - 11s - loss: 0.0456 - 11s/epoch - 6ms/step\n",
      "Epoch 21/50\n",
      "1831/1831 - 11s - loss: 0.0456 - 11s/epoch - 6ms/step\n",
      "Epoch 22/50\n",
      "1831/1831 - 10s - loss: 0.0455 - 10s/epoch - 5ms/step\n",
      "Epoch 23/50\n",
      "1831/1831 - 10s - loss: 0.0455 - 10s/epoch - 6ms/step\n",
      "Epoch 24/50\n",
      "1831/1831 - 8s - loss: 0.0456 - 8s/epoch - 5ms/step\n",
      "Epoch 25/50\n",
      "1831/1831 - 8s - loss: 0.0456 - 8s/epoch - 4ms/step\n",
      "Epoch 26/50\n",
      "1831/1831 - 8s - loss: 0.0455 - 8s/epoch - 5ms/step\n",
      "Epoch 27/50\n",
      "1831/1831 - 7s - loss: 0.0455 - 7s/epoch - 4ms/step\n",
      "Epoch 28/50\n",
      "1831/1831 - 7s - loss: 0.0454 - 7s/epoch - 4ms/step\n",
      "Epoch 29/50\n",
      "1831/1831 - 7s - loss: 0.0456 - 7s/epoch - 4ms/step\n",
      "Epoch 30/50\n",
      "1831/1831 - 7s - loss: 0.0455 - 7s/epoch - 4ms/step\n",
      "Epoch 31/50\n",
      "1831/1831 - 7s - loss: 0.0456 - 7s/epoch - 4ms/step\n",
      "Epoch 32/50\n",
      "1831/1831 - 8s - loss: 0.0456 - 8s/epoch - 4ms/step\n",
      "Epoch 33/50\n",
      "1831/1831 - 8s - loss: 0.0456 - 8s/epoch - 5ms/step\n",
      "Epoch 34/50\n",
      "1831/1831 - 9s - loss: 0.0454 - 9s/epoch - 5ms/step\n",
      "Epoch 35/50\n",
      "1831/1831 - 8s - loss: 0.0456 - 8s/epoch - 5ms/step\n",
      "Epoch 36/50\n",
      "1831/1831 - 8s - loss: 0.0457 - 8s/epoch - 4ms/step\n",
      "Epoch 37/50\n",
      "1831/1831 - 8s - loss: 0.0455 - 8s/epoch - 5ms/step\n",
      "Epoch 38/50\n",
      "1831/1831 - 8s - loss: 0.0457 - 8s/epoch - 4ms/step\n",
      "Epoch 39/50\n",
      "1831/1831 - 8s - loss: 0.0456 - 8s/epoch - 4ms/step\n",
      "Epoch 40/50\n",
      "1831/1831 - 8s - loss: 0.0457 - 8s/epoch - 4ms/step\n",
      "Epoch 41/50\n",
      "1831/1831 - 8s - loss: 0.0457 - 8s/epoch - 4ms/step\n",
      "Epoch 42/50\n",
      "1831/1831 - 8s - loss: 0.0457 - 8s/epoch - 4ms/step\n",
      "Epoch 43/50\n",
      "1831/1831 - 8s - loss: 0.0457 - 8s/epoch - 4ms/step\n",
      "Epoch 44/50\n",
      "1831/1831 - 8s - loss: 0.0455 - 8s/epoch - 4ms/step\n",
      "Epoch 45/50\n",
      "1831/1831 - 8s - loss: 0.0456 - 8s/epoch - 5ms/step\n",
      "Epoch 46/50\n",
      "1831/1831 - 8s - loss: 0.0454 - 8s/epoch - 4ms/step\n",
      "Epoch 47/50\n",
      "1831/1831 - 8s - loss: 0.0456 - 8s/epoch - 5ms/step\n",
      "Epoch 48/50\n",
      "1831/1831 - 8s - loss: 0.0456 - 8s/epoch - 5ms/step\n",
      "Epoch 49/50\n",
      "1831/1831 - 8s - loss: 0.0456 - 8s/epoch - 4ms/step\n",
      "Epoch 50/50\n",
      "1831/1831 - 8s - loss: 0.0456 - 8s/epoch - 5ms/step\n"
     ]
    },
    {
     "data": {
      "text/plain": [
       "<keras.src.callbacks.History at 0x1938debe0>"
      ]
     },
     "execution_count": 118,
     "metadata": {},
     "output_type": "execute_result"
    }
   ],
   "source": [
    "# Train the model\n",
    "pred_model.fit(X_train, y_train_pred, epochs=50, batch_size=20, verbose=2)"
   ]
  },
  {
   "cell_type": "code",
   "execution_count": 105,
   "id": "41",
   "metadata": {
    "tags": []
   },
   "outputs": [
    {
     "name": "stdout",
     "output_type": "stream",
     "text": [
      "Epoch 1/50\n"
     ]
    },
    {
     "name": "stdout",
     "output_type": "stream",
     "text": [
      "83/83 - 0s - loss: 0.5627 - accuracy: 0.7185 - 344ms/epoch - 4ms/step\n",
      "Epoch 2/50\n",
      "83/83 - 0s - loss: 0.5627 - accuracy: 0.7252 - 353ms/epoch - 4ms/step\n",
      "Epoch 3/50\n",
      "83/83 - 0s - loss: 0.5593 - accuracy: 0.7276 - 445ms/epoch - 5ms/step\n",
      "Epoch 4/50\n",
      "83/83 - 0s - loss: 0.5583 - accuracy: 0.7288 - 366ms/epoch - 4ms/step\n",
      "Epoch 5/50\n",
      "83/83 - 0s - loss: 0.5589 - accuracy: 0.7203 - 314ms/epoch - 4ms/step\n",
      "Epoch 6/50\n",
      "83/83 - 0s - loss: 0.5654 - accuracy: 0.7161 - 328ms/epoch - 4ms/step\n",
      "Epoch 7/50\n",
      "83/83 - 0s - loss: 0.5612 - accuracy: 0.7228 - 308ms/epoch - 4ms/step\n",
      "Epoch 8/50\n",
      "83/83 - 0s - loss: 0.5562 - accuracy: 0.7343 - 307ms/epoch - 4ms/step\n",
      "Epoch 9/50\n",
      "83/83 - 0s - loss: 0.5613 - accuracy: 0.7149 - 308ms/epoch - 4ms/step\n",
      "Epoch 10/50\n",
      "83/83 - 0s - loss: 0.5575 - accuracy: 0.7282 - 308ms/epoch - 4ms/step\n",
      "Epoch 11/50\n",
      "83/83 - 0s - loss: 0.5531 - accuracy: 0.7246 - 300ms/epoch - 4ms/step\n",
      "Epoch 12/50\n",
      "83/83 - 0s - loss: 0.5543 - accuracy: 0.7264 - 303ms/epoch - 4ms/step\n",
      "Epoch 13/50\n",
      "83/83 - 0s - loss: 0.5578 - accuracy: 0.7209 - 301ms/epoch - 4ms/step\n",
      "Epoch 14/50\n",
      "83/83 - 0s - loss: 0.5514 - accuracy: 0.7337 - 304ms/epoch - 4ms/step\n",
      "Epoch 15/50\n",
      "83/83 - 0s - loss: 0.5539 - accuracy: 0.7367 - 364ms/epoch - 4ms/step\n",
      "Epoch 16/50\n",
      "83/83 - 0s - loss: 0.5663 - accuracy: 0.7173 - 380ms/epoch - 5ms/step\n",
      "Epoch 17/50\n",
      "83/83 - 0s - loss: 0.5581 - accuracy: 0.7252 - 365ms/epoch - 4ms/step\n",
      "Epoch 18/50\n",
      "83/83 - 0s - loss: 0.5493 - accuracy: 0.7337 - 370ms/epoch - 4ms/step\n",
      "Epoch 19/50\n",
      "83/83 - 0s - loss: 0.5451 - accuracy: 0.7373 - 316ms/epoch - 4ms/step\n",
      "Epoch 20/50\n",
      "83/83 - 0s - loss: 0.5486 - accuracy: 0.7282 - 307ms/epoch - 4ms/step\n",
      "Epoch 21/50\n",
      "83/83 - 0s - loss: 0.5544 - accuracy: 0.7282 - 301ms/epoch - 4ms/step\n",
      "Epoch 22/50\n",
      "83/83 - 0s - loss: 0.5502 - accuracy: 0.7312 - 298ms/epoch - 4ms/step\n",
      "Epoch 23/50\n",
      "83/83 - 0s - loss: 0.5446 - accuracy: 0.7361 - 300ms/epoch - 4ms/step\n",
      "Epoch 24/50\n",
      "83/83 - 0s - loss: 0.5444 - accuracy: 0.7300 - 298ms/epoch - 4ms/step\n",
      "Epoch 25/50\n",
      "83/83 - 0s - loss: 0.5287 - accuracy: 0.7427 - 297ms/epoch - 4ms/step\n",
      "Epoch 26/50\n",
      "83/83 - 0s - loss: 0.5399 - accuracy: 0.7343 - 296ms/epoch - 4ms/step\n",
      "Epoch 27/50\n",
      "83/83 - 0s - loss: 0.5595 - accuracy: 0.7143 - 299ms/epoch - 4ms/step\n",
      "Epoch 28/50\n",
      "83/83 - 0s - loss: 0.5647 - accuracy: 0.7167 - 294ms/epoch - 4ms/step\n",
      "Epoch 29/50\n",
      "83/83 - 0s - loss: 0.5546 - accuracy: 0.7252 - 293ms/epoch - 4ms/step\n",
      "Epoch 30/50\n",
      "83/83 - 0s - loss: 0.5614 - accuracy: 0.7258 - 297ms/epoch - 4ms/step\n",
      "Epoch 31/50\n",
      "83/83 - 0s - loss: 0.5606 - accuracy: 0.7203 - 295ms/epoch - 4ms/step\n",
      "Epoch 32/50\n",
      "83/83 - 0s - loss: 0.5587 - accuracy: 0.7228 - 299ms/epoch - 4ms/step\n",
      "Epoch 33/50\n",
      "83/83 - 0s - loss: 0.5440 - accuracy: 0.7306 - 298ms/epoch - 4ms/step\n",
      "Epoch 34/50\n",
      "83/83 - 0s - loss: 0.5478 - accuracy: 0.7191 - 300ms/epoch - 4ms/step\n",
      "Epoch 35/50\n",
      "83/83 - 0s - loss: 0.5500 - accuracy: 0.7300 - 297ms/epoch - 4ms/step\n",
      "Epoch 36/50\n",
      "83/83 - 0s - loss: 0.5519 - accuracy: 0.7300 - 294ms/epoch - 4ms/step\n",
      "Epoch 37/50\n",
      "83/83 - 0s - loss: 0.5614 - accuracy: 0.7149 - 297ms/epoch - 4ms/step\n",
      "Epoch 38/50\n",
      "83/83 - 0s - loss: 0.5508 - accuracy: 0.7288 - 309ms/epoch - 4ms/step\n",
      "Epoch 39/50\n",
      "83/83 - 0s - loss: 0.5430 - accuracy: 0.7318 - 293ms/epoch - 4ms/step\n",
      "Epoch 40/50\n",
      "83/83 - 0s - loss: 0.5439 - accuracy: 0.7331 - 296ms/epoch - 4ms/step\n",
      "Epoch 41/50\n",
      "83/83 - 0s - loss: 0.5418 - accuracy: 0.7300 - 294ms/epoch - 4ms/step\n",
      "Epoch 42/50\n",
      "83/83 - 0s - loss: 0.5362 - accuracy: 0.7300 - 295ms/epoch - 4ms/step\n",
      "Epoch 43/50\n",
      "83/83 - 0s - loss: 0.5410 - accuracy: 0.7343 - 294ms/epoch - 4ms/step\n",
      "Epoch 44/50\n",
      "83/83 - 0s - loss: 0.5341 - accuracy: 0.7403 - 294ms/epoch - 4ms/step\n",
      "Epoch 45/50\n",
      "83/83 - 0s - loss: 0.5442 - accuracy: 0.7300 - 296ms/epoch - 4ms/step\n",
      "Epoch 46/50\n",
      "83/83 - 0s - loss: 0.5466 - accuracy: 0.7276 - 328ms/epoch - 4ms/step\n",
      "Epoch 47/50\n",
      "83/83 - 0s - loss: 0.5431 - accuracy: 0.7367 - 299ms/epoch - 4ms/step\n",
      "Epoch 48/50\n",
      "83/83 - 0s - loss: 0.5377 - accuracy: 0.7397 - 294ms/epoch - 4ms/step\n",
      "Epoch 49/50\n",
      "83/83 - 0s - loss: 0.5359 - accuracy: 0.7355 - 292ms/epoch - 4ms/step\n",
      "Epoch 50/50\n",
      "83/83 - 0s - loss: 0.5355 - accuracy: 0.7421 - 335ms/epoch - 4ms/step\n"
     ]
    },
    {
     "data": {
      "text/plain": [
       "<keras.src.callbacks.History at 0x152022610>"
      ]
     },
     "execution_count": 105,
     "metadata": {},
     "output_type": "execute_result"
    }
   ],
   "source": [
    "# Train the model\n",
    "binary_model.fit(X_train, y_train_binary, epochs=50, batch_size=20, verbose=2)\n",
    "# binary_model.fit(X_train, y_train_binary, epochs=50, batch_size=20, verbose=2, class_weight=class_weights)"
   ]
  },
  {
   "cell_type": "code",
   "execution_count": 504,
   "id": "c3f3d936",
   "metadata": {},
   "outputs": [],
   "source": [
    "binary_model.save('models/binary_model_1695stocks_31days_4percent_2024_07_05.keras')"
   ]
  },
  {
   "cell_type": "code",
   "execution_count": 119,
   "id": "43",
   "metadata": {},
   "outputs": [
    {
     "name": "stdout",
     "output_type": "stream",
     "text": [
      "287/287 [==============================] - 2s 4ms/step\n"
     ]
    }
   ],
   "source": [
    "# Get predictions for the test data\n",
    "y_pred = pred_model.predict(X_test)"
   ]
  },
  {
   "cell_type": "code",
   "execution_count": 107,
   "id": "44",
   "metadata": {},
   "outputs": [
    {
     "name": "stdout",
     "output_type": "stream",
     "text": [
      "13/13 [==============================] - 0s 4ms/step\n"
     ]
    }
   ],
   "source": [
    "# Get predictions for the test data\n",
    "y_binary = binary_model.predict(X_test)"
   ]
  },
  {
   "cell_type": "code",
   "execution_count": 103,
   "id": "653fa172",
   "metadata": {},
   "outputs": [],
   "source": [
    "from sklearn.metrics import mean_absolute_error\n",
    "from sklearn.metrics import roc_auc_score"
   ]
  },
  {
   "cell_type": "code",
   "execution_count": 87,
   "id": "59878c46-9ef6-41b1-b368-057407d08091",
   "metadata": {},
   "outputs": [
    {
     "data": {
      "text/plain": [
       "0.022534755795168636"
      ]
     },
     "execution_count": 87,
     "metadata": {},
     "output_type": "execute_result"
    }
   ],
   "source": [
    "## Even balance -- 2D CNN to 1D LSTM -- Remove stocks with any Nans -- May 15 - June 30, 2024\n",
    "mae = mean_absolute_error(y_test_pred, y_pred)\n",
    "mae"
   ]
  },
  {
   "cell_type": "code",
   "execution_count": 120,
   "id": "69e9705d",
   "metadata": {},
   "outputs": [
    {
     "data": {
      "text/plain": [
       "0.03672027807127693"
      ]
     },
     "execution_count": 120,
     "metadata": {},
     "output_type": "execute_result"
    }
   ],
   "source": [
    "## Even balance -- 2D CNN to 1D LSTM -- 6 Features (Open, Close, High, Low, High-Low, Open-Close) -- Remove stocks with any Nans -- May 15 - June 30, 2024\n",
    "mae = mean_absolute_error(y_test_pred, y_pred)\n",
    "mae"
   ]
  },
  {
   "cell_type": "code",
   "execution_count": 66,
   "id": "b433b3fb-c3e9-43ce-8ecd-03d8477da167",
   "metadata": {},
   "outputs": [
    {
     "data": {
      "text/plain": [
       "0.5282800233317312"
      ]
     },
     "execution_count": 66,
     "metadata": {},
     "output_type": "execute_result"
    }
   ],
   "source": [
    "## Even balance -- 2D CNN to 1D LSTM -- Remove stocks with any Nans -- May 15 - June 30, 2024\n",
    "auc_score = roc_auc_score(y_test_binary, y_binary)\n",
    "auc_score"
   ]
  },
  {
   "cell_type": "code",
   "execution_count": 117,
   "id": "051f148a",
   "metadata": {},
   "outputs": [
    {
     "data": {
      "text/plain": [
       "0.5237086738494151"
      ]
     },
     "execution_count": 117,
     "metadata": {},
     "output_type": "execute_result"
    }
   ],
   "source": [
    "## Even balance -- 2D CNN to 1D LSTM -- 6 Features (Open, Close, High, Low, High-Low, Open-Close) -- Remove stocks with any Nans -- May 15 - June 30, 2024\n",
    "auc_score = roc_auc_score(y_test_binary, y_binary)\n",
    "auc_score"
   ]
  },
  {
   "cell_type": "code",
   "execution_count": 426,
   "id": "fbfdc674",
   "metadata": {},
   "outputs": [
    {
     "data": {
      "text/plain": [
       "0.5573656401850008"
      ]
     },
     "execution_count": 426,
     "metadata": {},
     "output_type": "execute_result"
    }
   ],
   "source": [
    "## Strict binary classifier, first four features > 1 percent gain over first hour -- 2D CNN to 1D LSTM -- 6 Features (Open, Close, High, Low, High-Low, Open-Close) -- Remove stocks with any Nans -- May 15 - June 30, 2024\n",
    "auc_score = roc_auc_score(y_test_binary, y_binary)\n",
    "auc_score"
   ]
  },
  {
   "cell_type": "code",
   "execution_count": 501,
   "id": "80cb74f1",
   "metadata": {},
   "outputs": [
    {
     "data": {
      "text/plain": [
       "0.6491329299967339"
      ]
     },
     "execution_count": 501,
     "metadata": {},
     "output_type": "execute_result"
    }
   ],
   "source": [
    "## Strict binary classifier, first four features > 2 percent gain over first hour -- 2D CNN to 1D LSTM -- 6 Features (Open, Close, High, Low, High-Low, Open-Close) -- Remove stocks with any Nans -- May 15 - June 30, 2024\n",
    "auc_score = roc_auc_score(y_test_binary, y_binary)\n",
    "auc_score"
   ]
  },
  {
   "cell_type": "code",
   "execution_count": 572,
   "id": "0396a584",
   "metadata": {},
   "outputs": [
    {
     "data": {
      "text/plain": [
       "0.6860775845067645"
      ]
     },
     "execution_count": 572,
     "metadata": {},
     "output_type": "execute_result"
    }
   ],
   "source": [
    "## Strict binary classifier, first four features > 3 percent gain over first hour -- 2D CNN to 1D LSTM -- 6 Features (Open, Close, High, Low, High-Low, Open-Close) -- Remove stocks with any Nans -- May 15 - June 30, 2024\n",
    "auc_score = roc_auc_score(y_test_binary, y_binary)\n",
    "auc_score"
   ]
  },
  {
   "cell_type": "code",
   "execution_count": 251,
   "id": "87423e0f",
   "metadata": {},
   "outputs": [
    {
     "data": {
      "text/plain": [
       "0.8357117584620828"
      ]
     },
     "execution_count": 251,
     "metadata": {},
     "output_type": "execute_result"
    }
   ],
   "source": [
    "## Strict binary classifier, first four features > 5 percent gain over first hour -- 2D CNN to 1D LSTM -- 6 Features (Open, Close, High, Low, High-Low, Open-Close) -- Remove stocks with any Nans -- May 15 - June 30, 2024\n",
    "auc_score = roc_auc_score(y_test_binary, y_binary)\n",
    "auc_score"
   ]
  },
  {
   "cell_type": "code",
   "execution_count": 498,
   "id": "a9933455",
   "metadata": {},
   "outputs": [
    {
     "data": {
      "text/plain": [
       "0.8383753501400562"
      ]
     },
     "execution_count": 498,
     "metadata": {},
     "output_type": "execute_result"
    }
   ],
   "source": [
    "## Strict binary classifier, first four features > 4 percent gain over first hour -- 2D CNN to 1D LSTM -- 6 Features (Open, Close, High, Low, High-Low, Open-Close) -- Remove stocks with any Nans -- May 15 - June 30, 2024\n",
    "auc_score = roc_auc_score(y_test_binary, y_binary)\n",
    "auc_score"
   ]
  },
  {
   "cell_type": "code",
   "execution_count": 108,
   "id": "fc5eb40a",
   "metadata": {},
   "outputs": [
    {
     "data": {
      "text/plain": [
       "0.7759131753996966"
      ]
     },
     "execution_count": 108,
     "metadata": {},
     "output_type": "execute_result"
    }
   ],
   "source": [
    "## Strict binary classifier, first four features > 4 percent gain over first hour -- 2D CNN to 1D LSTM -- 6 Features (Open, Close, High, Low, High-Low, Open-Close) -- Remove stocks with any Nans -- May 15 - June 30, 2024\n",
    "auc_score = roc_auc_score(y_test_binary, y_binary)\n",
    "auc_score"
   ]
  },
  {
   "cell_type": "code",
   "execution_count": 109,
   "id": "0055065f",
   "metadata": {},
   "outputs": [
    {
     "name": "stdout",
     "output_type": "stream",
     "text": [
      "1537/1537 [==============================] - 3s 2ms/step\n"
     ]
    },
    {
     "data": {
      "text/plain": [
       "0.8057986732897706"
      ]
     },
     "execution_count": 109,
     "metadata": {},
     "output_type": "execute_result"
    }
   ],
   "source": [
    "## Strict binary classifier, first four features > 4 percent gain over first hour -- 2D CNN to 1D LSTM -- 6 Features (Open, Close, High, Low, High-Low, Open-Close) -- Remove stocks with any Nans -- May 15 - June 30, 2024\n",
    "# Get predictions for the test data\n",
    "y_binary_all = binary_model.predict(raw_data)\n",
    "auc_score = roc_auc_score(binary_targets, y_binary_all)\n",
    "auc_score"
   ]
  },
  {
   "cell_type": "code",
   "execution_count": 110,
   "id": "57",
   "metadata": {},
   "outputs": [
    {
     "data": {
      "image/png": "[encoded data removed]",
      "text/plain": [
       "<Figure size 576x432 with 1 Axes>"
      ]
     },
     "metadata": {
      "needs_background": "light"
     },
     "output_type": "display_data"
    }
   ],
   "source": [
    "from sklearn.metrics import roc_curve, auc\n",
    "\n",
    "# Assuming y_true and y_pred are the true binary labels and predicted probabilities, respectively\n",
    "\n",
    "# Compute ROC curve\n",
    "fpr, tpr, thresholds = roc_curve(y_test_binary, y_binary)\n",
    "\n",
    "# Compute AUC score\n",
    "auc_score = auc(fpr, tpr)\n",
    "\n",
    "# Plot ROC curve\n",
    "plt.figure(figsize=(8, 6))\n",
    "plt.plot(fpr, tpr, color='blue', lw=2, label='ROC curve (AUC = %0.2f)' % auc_score)\n",
    "plt.plot([0, 1], [0, 1], color='red', linestyle='--', lw=2, label='Random guess')\n",
    "\n",
    "fpr, tpr, thresholds = roc_curve(binary_targets, y_binary_all)\n",
    "auc_score = auc(fpr, tpr)\n",
    "plt.plot(fpr, tpr, color='blue', lw=2, label='ROC curve (AUC = %0.2f)' % auc_score)\n",
    "plt.plot([0, 1], [0, 1], color='red', linestyle='--', lw=2, label='Random guess')\n",
    "plt.xlim([0.0, 1.0])\n",
    "plt.ylim([0.0, 1.05])\n",
    "plt.xlabel('False Positive Rate (FPR)')\n",
    "plt.ylabel('True Positive Rate (TPR)')\n",
    "plt.title('Receiver Operating Characteristic (ROC) Curve')\n",
    "plt.legend(loc='lower right')\n",
    "plt.show()\n"
   ]
  }
 ],
 "metadata": {
  "kernelspec": {
   "display_name": "Python 3 (ipykernel)",
   "language": "python",
   "name": "python3"
  },
  "language_info": {
   "codemirror_mode": {
    "name": "ipython",
    "version": 3
   },
   "file_extension": ".py",
   "mimetype": "text/x-python",
   "name": "python",
   "nbconvert_exporter": "python",
   "pygments_lexer": "ipython3",
   "version": "3.9.16"
  }
 },
 "nbformat": 4,
 "nbformat_minor": 5
}
